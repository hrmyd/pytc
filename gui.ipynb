{
 "cells": [
  {
   "cell_type": "code",
   "execution_count": 8,
   "metadata": {
    "collapsed": false
   },
   "outputs": [],
   "source": [
    "import pytc\n",
    "import plotly\n",
    "import ipywidgets as widgets\n",
    "\n",
    "from IPython.display import display\n",
    "from IPython.html.widgets import interactive\n",
    "from plotly.widgets import GraphWidget"
   ]
  },
  {
   "cell_type": "code",
   "execution_count": 13,
   "metadata": {
    "collapsed": false
   },
   "outputs": [
    {
     "name": "stdout",
     "output_type": "stream",
     "text": [
      "Uploaded `setup.py` (0.65 kB)\n"
     ]
    }
   ],
   "source": [
    "def _upload():\n",
    "\n",
    "    _upload_widget = fileupload.FileUploadWidget()\n",
    "\n",
    "    def _cb(change):\n",
    "        decoded = io.StringIO(change['owner'].data.decode('utf-8'))\n",
    "        filename = change['owner'].filename\n",
    "        print('Uploaded `{}` ({:.2f} kB)'.format(\n",
    "            filename, len(decoded.read()) / 2 **10))\n",
    "\n",
    "    _upload_widget.observe(_cb, names='data')\n",
    "    display(_upload_widget)\n",
    "\n",
    "_upload()\n",
    "\n",
    "experiments = []\n",
    "initial_exp = 1\n",
    "\n",
    "def add_exp(b):\n",
    "    initial_exp += 1\n",
    "        \n",
    "exp_text = widgets.Text()\n",
    "add_exp_b = widgets.Button(description = \"Add an Experiment\")\n",
    "#add_exp_b.on_click(add_exp)\n",
    "display(exp_text, add_exp_b)"
   ]
  },
  {
   "cell_type": "code",
   "execution_count": null,
   "metadata": {
    "collapsed": true
   },
   "outputs": [],
   "source": []
  }
 ],
 "metadata": {
  "kernelspec": {
   "display_name": "Python 3",
   "language": "python",
   "name": "python3"
  },
  "language_info": {
   "codemirror_mode": {
    "name": "ipython",
    "version": 3
   },
   "file_extension": ".py",
   "mimetype": "text/x-python",
   "name": "python",
   "nbconvert_exporter": "python",
   "pygments_lexer": "ipython3",
   "version": "3.4.5"
  },
  "widgets": {
   "state": {
    "32dee73551c841cdbd42dca48f931b69": {
     "views": [
      {
       "cell_index": 1
      }
     ]
    },
    "515fa650f9ea4782a03055b11d2cf160": {
     "views": [
      {
       "cell_index": 1
      }
     ]
    },
    "7dc2341849e146b58fdb1560350aeda0": {
     "views": [
      {
       "cell_index": 1
      }
     ]
    },
    "a46f26f268bf482ab4db01db3a9b8958": {
     "views": [
      {
       "cell_index": 1
      }
     ]
    },
    "c43e1af3a400447fb874a12eb3f6c44b": {
     "views": [
      {
       "cell_index": 1
      }
     ]
    }
   },
   "version": "1.2.0"
  }
 },
 "nbformat": 4,
 "nbformat_minor": 0
}

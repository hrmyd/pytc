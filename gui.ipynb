{
 "cells": [
  {
   "cell_type": "code",
   "execution_count": 2,
   "metadata": {
    "collapsed": false
   },
   "outputs": [],
   "source": [
    "import pytc\n",
    "import plotly.plotly as py\n",
    "import ipywidgets as widgets\n",
    "\n",
    "from IPython.display import display, clear_output\n",
    "from IPython.html.widgets import interact, interactive\n",
    "from plotly.widgets import GraphWidget\n",
    "import seaborn as sns"
   ]
  },
  {
   "cell_type": "code",
   "execution_count": 3,
   "metadata": {
    "collapsed": false
   },
   "outputs": [],
   "source": [
    "class Sliders():\n",
    "    \n",
    "    def __init__(self):\n",
    "        pass\n",
    "        \n",
    "    def linked(self):\n",
    "        pass\n",
    "    \n",
    "    def unlinked(self):\n",
    "        pass\n",
    "    \n",
    "    def fixed(self):\n",
    "        pass\n",
    "    \n",
    "    def gen_sliders(self):\n",
    "        pass\n",
    "    \n",
    "class LocalSliders(Sliders):\n",
    "    \n",
    "    def __init__(self, parameters, fitter, exp, global_param = None):\n",
    "        \n",
    "        self._fitter = fitter\n",
    "        self._exp = exp\n",
    "        self._parameters = parameters\n",
    "        self._global_param = global_param\n",
    "        self._global_link = widgets.Dropdown()\n",
    "        self._fixed_check = widgets.Checkbox(value = False)\n",
    "        self._slider = widgets.FloatSlider()\n",
    "        self._constants = {}\n",
    "        self._sliders = {}\n",
    "        \n",
    "        #display(sliders)\n",
    "        \n",
    "    def linked(self):\n",
    "        \n",
    "        self._sliders = {\"link\": self._global_link, \n",
    "                         \"fixed\": self._fixed_check}\n",
    "        \n",
    "    \n",
    "    \n",
    "    def unlinked(self):\n",
    "        \n",
    "        self._sliders = {\"slider\": self._slider, \n",
    "                         \"link\": self._global_link, \n",
    "                         \"fixed\": self._fixed_check}\n",
    "        \n",
    "    \n",
    "    def fixed(self):\n",
    "        \n",
    "        fixed_int = widgets.FloatText()\n",
    "        \n",
    "        self._sliders = {\"link\": self._global_link, \n",
    "                         \"fixed\": self._fixed_check, \n",
    "                         \"int\": fixed_int}\n",
    "        \n",
    "    \n",
    "    def create_global(self, global_var):\n",
    "        \n",
    "        new_global = GlobalExp()\n",
    "        param = new_global.parameters()\n",
    "        \n",
    "        self._constants['{}'.format(param[\"name\"])] = self._fitter.link_to_global(self._exp, self._parameters[\"name\"],\n",
    "                                                                                  param[\"name\"])\n",
    "    \n",
    "    def pop_dict(self):\n",
    "        \n",
    "        #global_param = 'X'\n",
    "        \n",
    "        #self._constants = {'unlink': self._fitter.unlink_from_global(self._exp, self._parameters[\"name\"], global_param),\n",
    "        #                   'create new': self.create_global('Q')}\n",
    "        self._constants = ['unlink', 'link']\n",
    "    \n",
    "    def slider_logic(self, **kwargs):\n",
    "        \n",
    "        #self._sliders = []\n",
    "        \n",
    "        self.pop_dict()\n",
    "        self._global_link.options = self._constants\n",
    "        \n",
    "        try:\n",
    "            if kwargs['fixed']:\n",
    "                self.fixed()\n",
    "                print(kwargs['int'])\n",
    "            elif not kwargs['fixed']:\n",
    "                self.unlinked()\n",
    "                print(kwargs['fixed'])\n",
    "            elif kwargs['link'] == 'unlink':\n",
    "                self.unlinked()\n",
    "                print(kwargs['link'])\n",
    "            else:\n",
    "                self.linked()\n",
    "                print(kwargs['link'])\n",
    "        except:\n",
    "            self.unlinked()\n",
    "            \n",
    "        #if fixed:\n",
    "        #    self.fixed()\n",
    "        #elif linked == 'unlink':\n",
    "        #    self.unlinked()\n",
    "        #else:\n",
    "        #    self.linked()\n",
    "    \n",
    "    def gen_sliders(self):\n",
    "        \n",
    "        slider_box = widgets.interactive(self.slider_logic, **self._sliders)\n",
    "        \n",
    "        #display(slider_box)\n",
    "        return self._sliders\n",
    "    \n",
    "#### update button if not wanting to use interactive?\n",
    "    \n",
    "class GlobalSliders(Sliders):\n",
    "    \n",
    "    pass"
   ]
  },
  {
   "cell_type": "code",
   "execution_count": 4,
   "metadata": {
    "collapsed": true
   },
   "outputs": [],
   "source": [
    "class ParamCollect():\n",
    "    def __init__(self, gui, container, fitter):\n",
    "        \n",
    "        self._gui = gui\n",
    "        self._exp_id = ''\n",
    "        self._exp_val = ''\n",
    "        self._widgets = []\n",
    "        self._fitter = fitter\n",
    "        self._container = container\n",
    "        self._parameters = {}\n",
    "        self._models = {\"blank\" : pytc.models.Blank,\n",
    "          \"single site\" : pytc.models.SingleSite,  \n",
    "          \"single site competitor\" : pytc.models.SingleSiteCompetitor, \n",
    "          \"binding polynomial\" : pytc.models.BindingPolynomial}\n",
    "        self._current_model = ''\n",
    "        \n",
    "    def remove_exp(self, b):\n",
    "        \"\"\"\n",
    "        remove experiment from analysis and close widgets\n",
    "        \"\"\"\n",
    "        try:\n",
    "            self._gui.remove_experiment(self._exp_id)\n",
    "        except:\n",
    "            clear_output()\n",
    "            print(\"no experiment linked\")\n",
    "        \n",
    "        self._widgets[3].close()\n",
    "        \n",
    "        for i in self._container:\n",
    "            if self._exp_id == i[0]._exp_id:\n",
    "                self._container.remove(i)\n",
    "    \n",
    "    def parameters(self):\n",
    "        \"\"\"\n",
    "        get parameters for experiment\n",
    "        \"\"\"\n",
    "        pass\n",
    "        \n",
    "    def create_exp(self):\n",
    "        \"\"\"\n",
    "        create a new pytc experiment\n",
    "        \"\"\"\n",
    "        self._exp_val = self._widgets[0].value\n",
    "        if self._exp_val:\n",
    "            self._current_model = self._widgets[1].value\n",
    "            self._exp_id = pytc.ITCExperiment(self._exp_val, self._current_model)\n",
    "            self.parameters()\n",
    "        else:\n",
    "            clear_output()\n",
    "            print(\"no exp data given\")\n",
    "        \n",
    "    @property        \n",
    "    def exp_id(self):\n",
    "        \"\"\"\n",
    "        return experiment id\n",
    "        \"\"\"\n",
    "        \n",
    "        return self._exp_id\n",
    "    \n",
    "    \n",
    "    def gen_sliders(self):\n",
    "        \"\"\"\n",
    "        generate sliders for each experiment, give option to link to global.\n",
    "        \"\"\"\n",
    "        \n",
    "        pass\n",
    "    \n",
    "    def gen_exp(self):\n",
    "        \"\"\"\n",
    "        generate widgets for experiment.\n",
    "        \"\"\"\n",
    "        pass\n",
    "    \n",
    "class Experiments(ParamCollect):\n",
    "    \"\"\"\n",
    "    create experiment object and generate widgets\n",
    "    \"\"\"\n",
    "    def __init__(self, gui, container, fitter):\n",
    "        super().__init__(gui, container, fitter)\n",
    "    \n",
    "    @property\n",
    "    def parameters(self):\n",
    "        \"\"\"\n",
    "        generate local parameters for experiment.\n",
    "        \"\"\"\n",
    "        \n",
    "        global_param, local_param = self._fitter.param_names\n",
    "        global_guesses, local_guesses = self._fitter.param_guesses\n",
    "        global_ranges, local_ranges = self._fitter.param_ranges\n",
    "        global_fixed, local_fixed = self._fitter.fixed_param \n",
    "        \n",
    "        self._parameters = {\"name\": local_param, \n",
    "                            \"value\": local_guesses, \n",
    "                            \"ranges\": local_ranges, \n",
    "                            \"fixed\": local_fixed}\n",
    "        \n",
    "        return self._parameters\n",
    "    \n",
    "    def gen_sliders(self):\n",
    "        \"\"\"\n",
    "        generate sliders for each experiment, give option to link to global.\n",
    "        \"\"\"\n",
    "        \n",
    "        pass\n",
    "    \n",
    "    def gen_exp(self):\n",
    "        \"\"\"\n",
    "        generate widgets for experiment.\n",
    "        \"\"\"\n",
    "        exp_field = widgets.Text(description = \"exp: \")\n",
    "        model_drop = widgets.Dropdown(options = self._models, value = self._models[\"blank\"])\n",
    "\n",
    "        rm_exp = widgets.Button(description = \"remove experiment\")\n",
    "        rm_exp.on_click(self.remove_exp)\n",
    "\n",
    "        exp_box = widgets.HBox(children = [exp_field, model_drop, rm_exp])\n",
    "        self._widgets.extend([exp_field, model_drop, rm_exp, exp_box])\n",
    "        \n",
    "        return exp_box\n",
    "    \n",
    "class GlobalExp(ParamCollect):\n",
    "    \"\"\"\n",
    "    create experiment object and generate widgets\n",
    "    \"\"\"\n",
    "    def __init__(self, gui, container, fitter, v_name):\n",
    "        \n",
    "        super().__init__(gui, container, fitter)\n",
    "        self._v_name = v_name\n",
    "    \n",
    "    def parameters(self):\n",
    "        \"\"\"\n",
    "        generate local parameters for experiment.\n",
    "        \"\"\"\n",
    "        \n",
    "        global_param, local_param = self._fitter.param_names\n",
    "        global_guesses, local_guesses = self._fitter.param_guesses\n",
    "        global_ranges, local_ranges = self._fitter.param_ranges\n",
    "        global_fixed, local_fixed = self._fitter.fixed_param \n",
    "        \n",
    "        self._parameters = {\"name\": self._v_name, \n",
    "                            \"value\": global_guesses, \n",
    "                            \"ranges\": global_ranges, \n",
    "                            \"fixed\": global_fixed}\n",
    "        \n",
    "        return self._parameters\n",
    "    \n",
    "    def gen_sliders(self):\n",
    "        \"\"\"\n",
    "        generate sliders for each experiment, give option to link to global.\n",
    "        \"\"\"\n",
    "        \n",
    "        sliders = GlobalSliders(self._parameters, self._fitter, self)\n",
    "        \n",
    "        return sliders.gen_sliders()\n",
    "    \n",
    "    def gen_exp(self):\n",
    "        \"\"\"\n",
    "        generate widgets for experiment.\n",
    "        \"\"\"\n",
    "        exp_field = widgets.Text(description = \"exp: \")\n",
    "        model_drop = widgets.Dropdown(options = self._models, value = self._models[\"blank\"])\n",
    "\n",
    "        rm_exp = widgets.Button(description = \"remove experiment\")\n",
    "        rm_exp.on_click(self.remove_exp)\n",
    "\n",
    "        exp_box = widgets.HBox(children = [exp_field, model_drop, rm_exp])\n",
    "        self._widgets.extend([exp_field, model_drop, rm_exp, exp_box])\n",
    "        \n",
    "        return exp_box"
   ]
  },
  {
   "cell_type": "code",
   "execution_count": 5,
   "metadata": {
    "collapsed": true
   },
   "outputs": [],
   "source": [
    "%matplotlib inline\n",
    "\n",
    "class Interface:\n",
    "    \n",
    "    def __init__(self,fitter):\n",
    "        \"\"\"\n",
    "        \"\"\"\n",
    "        \n",
    "        self._global_sliders = {}\n",
    "        self._local_sliders = []\n",
    "        self._fitter = fitter\n",
    "        self._experiments = []\n",
    "        self._param = []\n",
    "        \n",
    "    def view_exp(self):\n",
    "        \n",
    "        return self._experiments\n",
    "    \n",
    "    def fit(self):\n",
    "        \n",
    "        self._fitter.fit()\n",
    "        \n",
    "    def name(self):\n",
    "        \n",
    "        return self._fitter.param_names\n",
    "    \n",
    "    def add_experiment(self,expt):\n",
    "        \n",
    "        self._fitter.add_experiment(expt)\n",
    "        self._experiments.append(expt)\n",
    "        expt.initialize_param()\n",
    "        \n",
    "    def remove_experiment(self, expt):\n",
    "        \n",
    "        self._fitter.remove_experiment(expt)\n",
    "        self._experiments.remove(expt)\n",
    "            \n",
    "    def reset_sliders(self):\n",
    "        \n",
    "        for s in self._local_sliders:\n",
    "            for slider in s:\n",
    "                s[slider].close()\n",
    "            s.clear()\n",
    "            \n",
    "        for p in self._param:\n",
    "            p.close()\n",
    "            self._param = []\n",
    "    \n",
    "    def build_interface(self):\n",
    "        \"\"\"\n",
    "        \"\"\"\n",
    "\n",
    "        global_param, local_param = self._fitter.param_names\n",
    "        global_guesses, local_guesses = self._fitter.param_guesses\n",
    "        global_ranges, local_ranges = self._fitter.param_ranges\n",
    "        global_fixed, local_fixed = self._fitter.fixed_param \n",
    "        \n",
    "        all_widgets = {}\n",
    "        \n",
    "        for p in global_param:\n",
    "        \n",
    "            g_min = global_ranges[p][0]\n",
    "            g_max = global_ranges[p][1]\n",
    "            g_val = global_guesses[p]\n",
    "            \n",
    "            self._global_sliders[p] = widgets.FloatSlider(min=g_min,max=g_max,value=g_val)\n",
    "            \n",
    "            all_widgets[\"{}\".format(p)] = self._global_sliders[p]\n",
    "    \n",
    "        for i in range(len(self._experiments)):            \n",
    "            \n",
    "            self._local_sliders.append({})\n",
    "        \n",
    "            for p in local_param[i]:\n",
    "            \n",
    "                g_min = local_ranges[i][p][0]\n",
    "                g_max = local_ranges[i][p][1]\n",
    "                g_val = local_guesses[i][p]\n",
    "                \n",
    "                self._local_sliders[-1][p] = widgets.FloatSlider(min=g_min,max=g_max,value=g_val)\n",
    "        \n",
    "                all_widgets[\"{},{}\".format(p,i)] = self._local_sliders[-1][p]\n",
    "    \n",
    "\n",
    "        w = widgets.interactive(self._update,**all_widgets)\n",
    "                        \n",
    "        display(w)\n",
    "\n",
    "\n",
    "    def _update(self,**kwargs):\n",
    "        \"\"\"\n",
    "        \"\"\"\n",
    "        \n",
    "        for k in kwargs.keys():\n",
    "            if len(k.split(\",\")) == 1:\n",
    "                self._fitter.update_guess(k,kwargs[k])\n",
    "            else:\n",
    "                param_name = k.split(\",\")[0]\n",
    "                expt = self._experiments[int(k.split(\",\")[1])]\n",
    "                self._fitter.update_guess(param_name,kwargs[k],expt)\n",
    "       \n",
    "        self._fitter.fit()\n",
    "        self._fitter.plot()\n",
    "        \n",
    "        global_param, local_param = self._fitter.fit_param\n",
    "        #global_error, local_error = self._fitter.fit_error\n",
    "        \n",
    "        for k, v in global_param.items():\n",
    "            temp = widgets.FloatText(value = v, description = \"{}: \".format(k))\n",
    "            self._param.append(temp)\n",
    "            display(temp)\n",
    "                \n",
    "        for p in local_param:\n",
    "            for k, v in p.items():\n",
    "                temp = widgets.FloatText(value = v, description = \"{}: \".format(k))\n",
    "                self._param.append(temp)\n",
    "                display(temp)\n",
    "        \n",
    "    def get_param(self):\n",
    "        \n",
    "        return self._fitter.fit_param, self._fitter.fit_error"
   ]
  },
  {
   "cell_type": "code",
   "execution_count": 6,
   "metadata": {
    "collapsed": false,
    "scrolled": false
   },
   "outputs": [
    {
     "name": "stdout",
     "output_type": "stream",
     "text": [
      "no data added.\n"
     ]
    }
   ],
   "source": [
    "exp_w = []\n",
    "f = pytc.GlobalFit()\n",
    "gui = Interface(f)\n",
    "\n",
    "def rm_last(b):\n",
    "\n",
    "    if exp_w:\n",
    "        last_exp = exp_w[-1]\n",
    "        last_exp[1].close()\n",
    "        try:\n",
    "            gui.remove_experiment(last_exp[0].exp_id)\n",
    "        except:\n",
    "            pass\n",
    "\n",
    "        exp_w.remove(last_exp)\n",
    "\n",
    "def gen_exp(b):\n",
    "    \n",
    "    gui.reset_sliders()\n",
    "    clear_output()\n",
    "    \n",
    "    for i in exp_w:\n",
    "        try:\n",
    "            exp = i[0]\n",
    "            \n",
    "            if not exp.exp_id:\n",
    "            \n",
    "                exp.create_exp()\n",
    "                exp_add = exp.exp_id\n",
    "\n",
    "                gui.add_experiment(exp_add)\n",
    "                #exp_add.initialize_param()\n",
    "\n",
    "                param = i[0].parameters\n",
    "                name = param[\"name\"]\n",
    "                \n",
    "            else:\n",
    "                pass\n",
    "        except:\n",
    "            print(\"no data added.\")\n",
    "\n",
    "\n",
    "        #f.link_to_global(exp, \"dilution_heat\", \"global_heat\")\n",
    "        #f.link_to_global(exp, \"dilution_intercept\", \"global_intercept\")\n",
    "\n",
    "    #gui.build_interface()\n",
    "\n",
    "def clear_exp(b):\n",
    "\n",
    "    for i in exp_w:\n",
    "        try:\n",
    "            i[1].close()\n",
    "            gui.remove_experiment(i[0].exp_id)\n",
    "        except:\n",
    "            pass\n",
    "        \n",
    "        exp_w.remove(i)\n",
    "        \n",
    "    gui.reset_sliders()\n",
    "    clear_output()\n",
    "\n",
    "    \n",
    "def gen_exp_list(exp_list):\n",
    "    \n",
    "    for i in range(len(exp_w)):\n",
    "        exp = exp_w[i][0]\n",
    "        exp_list['exp {}'.format(i)] = exp.exp_id\n",
    "        \n",
    "    return exp_list\n",
    "\n",
    "\n",
    "def add_field(b):\n",
    "    \n",
    "    clear_output()\n",
    "    gui.reset_sliders()\n",
    "    exp_object = Experiments(gui, exp_w, f)\n",
    "    show = exp_object.gen_exp()\n",
    "\n",
    "    exp_w.append([exp_object, show])\n",
    "\n",
    "    display(show)\n",
    "        \n",
    "        \n",
    "ENTRY_W = '200px'\n",
    "\n",
    "add_exp_field_b = widgets.Button(description = \"Add an Experiment\")\n",
    "add_exp_field_b.layout.width = ENTRY_W\n",
    "add_exp_field_b.on_click(add_field)\n",
    "\n",
    "rmv_last_field = widgets.Button(description = \"Remove Last Experiment\")\n",
    "rmv_last_field.layout.width = ENTRY_W\n",
    "rmv_last_field.on_click(rm_last)\n",
    "\n",
    "exp_object = Experiments(gui, exp_w, f)\n",
    "show = exp_object.gen_exp()\n",
    "\n",
    "exp_w.append([exp_object, show])\n",
    "\n",
    "analyze_widget = widgets.Button(description = \"Analyze\")\n",
    "analyze_widget.on_click(gen_exp)\n",
    "\n",
    "clear_widget = widgets.Button(description = \"Clear\", value = False)\n",
    "clear_widget.on_click(clear_exp)\n",
    "\n",
    "experiments_layout = widgets.Layout(display = \"flex\", \n",
    "                      flex_flow = \"row\", \n",
    "                      align_items = \"stretch\")\n",
    "\n",
    "experiments = widgets.Box(children = [add_exp_field_b, rmv_last_field], \n",
    "                                      layout = experiments_layout)\n",
    "parent = widgets.Box(children = [analyze_widget, clear_widget, experiments, show])\n",
    "\n",
    "display(parent)"
   ]
  },
  {
   "cell_type": "markdown",
   "metadata": {},
   "source": [
    "test-data/real-blank-match.DH\n",
    "\n",
    "test-data/blank.DH\n",
    "\n",
    "test-data/CaEDTATris01.DH"
   ]
  },
  {
   "cell_type": "code",
   "execution_count": 111,
   "metadata": {
    "collapsed": true
   },
   "outputs": [],
   "source": [
    "blah = {'hey': 'widget', 'hello': 'widget2'}"
   ]
  },
  {
   "cell_type": "code",
   "execution_count": 10,
   "metadata": {
    "collapsed": false
   },
   "outputs": [
    {
     "data": {
      "text/plain": [
       "[<pytc.experiments.ITCExperiment at 0x104446080>]"
      ]
     },
     "execution_count": 10,
     "metadata": {},
     "output_type": "execute_result"
    }
   ],
   "source": [
    "f.experiments"
   ]
  },
  {
   "cell_type": "code",
   "execution_count": 94,
   "metadata": {
    "collapsed": false
   },
   "outputs": [
    {
     "data": {
      "text/plain": [
       "(1, 3)"
      ]
     },
     "execution_count": 94,
     "metadata": {},
     "output_type": "execute_result"
    }
   ],
   "source": [
    "len(exp_w), len(gui.view_exp())"
   ]
  },
  {
   "cell_type": "code",
   "execution_count": 40,
   "metadata": {
    "collapsed": false
   },
   "outputs": [
    {
     "data": {
      "text/plain": [
       "[[<__main__.Experiments at 0x110e6cfd0>,\n",
       "  <ipywidgets.widgets.widget_box.Box at 0x110f2f668>]]"
      ]
     },
     "execution_count": 40,
     "metadata": {},
     "output_type": "execute_result"
    }
   ],
   "source": [
    "exp_w"
   ]
  },
  {
   "cell_type": "code",
   "execution_count": 8,
   "metadata": {
    "collapsed": false
   },
   "outputs": [],
   "source": [
    "blah = exp_w[0][0]"
   ]
  },
  {
   "cell_type": "code",
   "execution_count": 9,
   "metadata": {
    "collapsed": false
   },
   "outputs": [],
   "source": [
    "f.add_experiment(blah.exp_id)"
   ]
  },
  {
   "cell_type": "code",
   "execution_count": 11,
   "metadata": {
    "collapsed": false
   },
   "outputs": [],
   "source": [
    "sliders = LocalSliders(blah.parameters, f, blah)"
   ]
  },
  {
   "cell_type": "code",
   "execution_count": 16,
   "metadata": {
    "collapsed": true
   },
   "outputs": [],
   "source": [
    "s = sliders.gen_sliders()"
   ]
  },
  {
   "cell_type": "code",
   "execution_count": 13,
   "metadata": {
    "collapsed": false
   },
   "outputs": [],
   "source": [
    "sliders.linked()"
   ]
  },
  {
   "cell_type": "code",
   "execution_count": 14,
   "metadata": {
    "collapsed": false
   },
   "outputs": [],
   "source": [
    "sliders.pop_dict()"
   ]
  },
  {
   "cell_type": "code",
   "execution_count": 17,
   "metadata": {
    "collapsed": false,
    "scrolled": true
   },
   "outputs": [
    {
     "data": {
      "text/plain": [
       "{'fixed': <ipywidgets.widgets.widget_bool.Checkbox at 0x10af42710>,\n",
       " 'link': <ipywidgets.widgets.widget_selection.Dropdown at 0x10af427b8>}"
      ]
     },
     "execution_count": 17,
     "metadata": {},
     "output_type": "execute_result"
    }
   ],
   "source": [
    "s"
   ]
  },
  {
   "cell_type": "code",
   "execution_count": 17,
   "metadata": {
    "collapsed": true
   },
   "outputs": [],
   "source": [
    "options = {'unlink': 1, 'link': 2}"
   ]
  },
  {
   "cell_type": "code",
   "execution_count": 18,
   "metadata": {
    "collapsed": false
   },
   "outputs": [],
   "source": [
    "s['link']"
   ]
  },
  {
   "cell_type": "code",
   "execution_count": 145,
   "metadata": {
    "collapsed": false
   },
   "outputs": [
    {
     "data": {
      "text/plain": [
       "<ipywidgets.widgets.widget_selection.Dropdown at 0x110fde588>"
      ]
     },
     "metadata": {},
     "output_type": "display_data"
    }
   ],
   "source": [
    "display(s['link'])"
   ]
  },
  {
   "cell_type": "code",
   "execution_count": 51,
   "metadata": {
    "collapsed": false
   },
   "outputs": [],
   "source": [
    "def logic(**kwargs):\n",
    "    \n",
    "    sliders.pop_dict()\n",
    "    \n",
    "    if kwargs['fixed']:\n",
    "        sliders.fixed()\n",
    "        #print(kwargs['int'])\n",
    "    elif kwargs['link'] == 'unlink':\n",
    "        sliders.unlinked()\n",
    "    elif kwargs['link'] == 'link':\n",
    "        sliders.linked()\n",
    "    elif not kwargs['fixed']:\n",
    "        sliders.unlinked()\n",
    "    else:\n",
    "        print('failed')\n",
    "    \n",
    "    #sliders.update()\n",
    "\n",
    "def update_s(b):\n",
    "    \n",
    "    clear_output()\n",
    "    \n",
    "    s = sliders.gen_sliders()\n",
    "    display(widgets.interactive(logic, **s))"
   ]
  },
  {
   "cell_type": "code",
   "execution_count": 27,
   "metadata": {
    "collapsed": false
   },
   "outputs": [],
   "source": [
    "s_test = sliders.gen_sliders()"
   ]
  },
  {
   "cell_type": "code",
   "execution_count": 28,
   "metadata": {
    "collapsed": false
   },
   "outputs": [
    {
     "data": {
      "text/plain": [
       "{'fixed': <ipywidgets.widgets.widget_bool.Checkbox at 0x10af42710>,\n",
       " 'int': <ipywidgets.widgets.widget_float.FloatText at 0x110f249e8>,\n",
       " 'link': <ipywidgets.widgets.widget_selection.Dropdown at 0x10af427b8>}"
      ]
     },
     "execution_count": 28,
     "metadata": {},
     "output_type": "execute_result"
    }
   ],
   "source": [
    "s_test"
   ]
  },
  {
   "cell_type": "code",
   "execution_count": 30,
   "metadata": {
    "collapsed": false
   },
   "outputs": [],
   "source": [
    "widgets.interactive(logic, **s_test)"
   ]
  },
  {
   "cell_type": "code",
   "execution_count": 138,
   "metadata": {
    "collapsed": false
   },
   "outputs": [],
   "source": [
    "#slider_b = widgets.Box(children = s_test.values())"
   ]
  },
  {
   "cell_type": "code",
   "execution_count": 52,
   "metadata": {
    "collapsed": false
   },
   "outputs": [],
   "source": [
    "update = widgets.Button(description = 'Update')\n",
    "update.on_click(update_s)"
   ]
  },
  {
   "cell_type": "code",
   "execution_count": 53,
   "metadata": {
    "collapsed": false
   },
   "outputs": [
    {
     "name": "stdout",
     "output_type": "stream",
     "text": [
      "False\n"
     ]
    }
   ],
   "source": [
    "display(update)"
   ]
  },
  {
   "cell_type": "code",
   "execution_count": 42,
   "metadata": {
    "collapsed": true
   },
   "outputs": [],
   "source": [
    "update.close()"
   ]
  },
  {
   "cell_type": "code",
   "execution_count": 43,
   "metadata": {
    "collapsed": false
   },
   "outputs": [
    {
     "data": {
      "text/plain": [
       "<ipywidgets.widgets.widget_button.Button at 0x110f66518>"
      ]
     },
     "metadata": {},
     "output_type": "display_data"
    }
   ],
   "source": [
    "display(update)"
   ]
  },
  {
   "cell_type": "code",
   "execution_count": null,
   "metadata": {
    "collapsed": true
   },
   "outputs": [],
   "source": []
  }
 ],
 "metadata": {
  "kernelspec": {
   "display_name": "Python 3",
   "language": "python",
   "name": "python3"
  },
  "language_info": {
   "codemirror_mode": {
    "name": "ipython",
    "version": 3
   },
   "file_extension": ".py",
   "mimetype": "text/x-python",
   "name": "python",
   "nbconvert_exporter": "python",
   "pygments_lexer": "ipython3",
   "version": "3.4.5"
  },
  "widgets": {
   "state": {
    "0b5ba4827fd4428fbb65f54cdfd4fa36": {
     "views": [
      {
       "cell_index": 24
      }
     ]
    },
    "13e380a296134ab68379ee8bcb79750d": {
     "views": [
      {
       "cell_index": 23
      }
     ]
    },
    "1af6838d7b9d4c1081ce8d1b27755e36": {
     "views": [
      {
       "cell_index": 18
      }
     ]
    },
    "6940773711b64fedb0170efe177394ec": {
     "views": [
      {
       "cell_index": 23
      }
     ]
    },
    "7c8cf1e7e0734792bddac9245d23f9b6": {
     "views": [
      {
       "cell_index": 23
      }
     ]
    },
    "8094acdf1d2140b1822b711e3f994748": {
     "views": [
      {
       "cell_index": 24
      }
     ]
    },
    "82fda259e3024628b8d5d889656a513b": {
     "views": [
      {
       "cell_index": 23
      },
      {
       "cell_index": 23
      },
      {
       "cell_index": 25
      },
      {
       "cell_index": 25
      },
      {
       "cell_index": 25
      },
      {
       "cell_index": 26
      }
     ]
    },
    "87e12c94f35348b78abf24418f9e27ed": {
     "views": [
      {
       "cell_index": 26
      }
     ]
    },
    "948d9c859b2d410583751df3b1a7c15b": {
     "views": [
      {
       "cell_index": 26
      }
     ]
    },
    "a140887306b0413baf0a88f4b0f72562": {
     "views": [
      {
       "cell_index": 26
      }
     ]
    },
    "addac826b41d4d86b58f4af95617d65a": {
     "views": [
      {
       "cell_index": 4
      }
     ]
    },
    "af057bf598a8483081f51a000c0e4fe1": {
     "views": [
      {
       "cell_index": 4
      }
     ]
    },
    "afe64bb2c460475e80f25f6b7336e10f": {
     "views": [
      {
       "cell_index": 23
      }
     ]
    },
    "c2271d937ae44033a48254050a28f738": {
     "views": [
      {
       "cell_index": 23
      }
     ]
    },
    "c6f50b2ea6564025bbbd405d037d4431": {
     "views": [
      {
       "cell_index": 26
      }
     ]
    },
    "e161f898bf6949f39d50e9c12f223224": {
     "views": [
      {
       "cell_index": 26
      }
     ]
    }
   },
   "version": "1.2.0"
  }
 },
 "nbformat": 4,
 "nbformat_minor": 0
}

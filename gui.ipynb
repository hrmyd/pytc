{
 "cells": [
  {
   "cell_type": "code",
   "execution_count": 65,
   "metadata": {
    "collapsed": false
   },
   "outputs": [],
   "source": [
    "import pytc\n",
    "import ipywidgets as widgets\n",
    "from IPython.display import display, clear_output, HTML\n",
    "import seaborn as sns\n",
    "import glob\n",
    "import pandas as pd\n",
    "\n",
    "%matplotlib inline"
   ]
  },
  {
   "cell_type": "code",
   "execution_count": 181,
   "metadata": {
    "collapsed": false
   },
   "outputs": [],
   "source": [
    "class Sliders():\n",
    "    def __init__(self, exp, fitter, gui, param_name):\n",
    "        \"\"\"\n",
    "        \"\"\"\n",
    "        self._var_opt = {'link': ['blank'], 'unlink': ['unlink']}\n",
    "        \n",
    "        self._loc_link = widgets.Dropdown(value = self._var_opt['unlink'], options = self._var_opt)\n",
    "        self._glob_link = widgets.Dropdown(value = self._loc_link.value[0], options = self._loc_link.value)\n",
    "        self._fixed_check = widgets.Checkbox(description = 'Fix? ', value = False)\n",
    "        self._slider = widgets.FloatSlider(description = 'Guess ')\n",
    "        self._fixed_int = widgets.BoundedFloatText(description = 'F', display = 'none')\n",
    "        self._s_min = widgets.FloatText(description = '∧')\n",
    "        self._s_max = widgets.FloatText(description = '∨')\n",
    "        self._all_widgets = widgets.VBox()\n",
    "        \n",
    "        self._exp = exp\n",
    "        self._fitter = fitter\n",
    "        self._gui = gui\n",
    "        self._param_name = param_name\n",
    "        \n",
    "        self._fixed_check.layout.width = '80px'\n",
    "        self._loc_link.layout.width = '200px'\n",
    "        self._glob_link.layout.width = '200px'\n",
    "        self._slider.layout.width = '300px'\n",
    "        self._s_min.layout.width = '110px'\n",
    "        self._s_max.layout.width = '110px'\n",
    "        self._fixed_int.layout.width = '120px'\n",
    "        self._fixed_int.layout.display = 'none'\n",
    "    \n",
    "    def logic(self):\n",
    "        \"\"\"\n",
    "        handle trait changes for each widget and link to the fitter.\n",
    "        \"\"\"\n",
    "    \n",
    "        self._fixed_check.observe(self.check_change, 'value')\n",
    "        self._loc_link.observe(self.link_change, 'value')\n",
    "        self._s_min.observe(self.min_change, 'value')\n",
    "        self._s_max.observe(self.max_change, 'value')\n",
    "        self._slider.observe(self.param_change, 'value')\n",
    "        \n",
    "    def update_fit(self, fixed, guess, bounds_min, bounds_max, fixed_int):\n",
    "        \"\"\"\n",
    "        \"\"\"\n",
    "        global_param, local_param = self._fitter.fit_param\n",
    "        global_error, local_error = self._fitter.fit_error\n",
    "        \n",
    "        local_var = {}\n",
    "        global_var = {}\n",
    "        \n",
    "        guess = self._exp.model.param_guesses[self._param_name]\n",
    "\n",
    "        n=0\n",
    "        for param, error in zip(local_param, local_error):\n",
    "            for p, e in zip(param, error):\n",
    "                local_var[\"{},{}\".format(p, n)] = {'param': param[p], 'error': error[e]}\n",
    "                #print(\"{},{}\".format(p, n), ': ', param[p], error[e])\n",
    "            n+=1\n",
    "\n",
    "        for param, error in zip(global_param.keys(), global_error.keys()):\n",
    "            global_var[param] = {'param': global_param[param], 'error': global_error[error]}\n",
    "            #print(param, ': ', global_param[param], global_error[error])\n",
    "            \n",
    "        df1 = pd.DataFrame.from_dict(local_var, 'index')\n",
    "        df2 = pd.DataFrame.from_dict(global_var, 'index')\n",
    "        \n",
    "        df1.append(df2)\n",
    "        \n",
    "        display(df1)\n",
    "            \n",
    "        self._fitter.fit()\n",
    "        self._fitter.plot()\n",
    "        \n",
    "    def close_sliders(self):\n",
    "        \"\"\"\n",
    "        \"\"\"\n",
    "        self._all_widgets.close()\n",
    "\n",
    "    def min_change(self, min_val):\n",
    "        \"\"\"\n",
    "        change minimum for fixed integer and slider widgets, update bounds and range for parameter.\n",
    "        \"\"\"\n",
    "        self._slider.min = min_val['new']\n",
    "        #self._fixed_int.min = min_val['new']\n",
    "        self.update_bounds(self._slider.min, self._slider.max)\n",
    "\n",
    "    def max_change(self, max_val):\n",
    "        \"\"\"\n",
    "        change maximum for fixed integer and slider widgets, update bounds and range for parameter.\n",
    "        \"\"\"\n",
    "        self._slider.max = max_val['new']\n",
    "        #self._fixed_int.max = max_val['new']\n",
    "        self.update_bounds(self._slider.min, self._slider.max)\n",
    "        \n",
    "    def update_bounds(self, s_min, s_max):\n",
    "        \"\"\"\n",
    "        \"\"\"\n",
    "        pass\n",
    "\n",
    "    def check_change(self, val):\n",
    "        \"\"\"\n",
    "        update if parameter is fixed and change widget view\n",
    "        \"\"\"\n",
    "        if val['new']:\n",
    "            self._slider.layout.display = 'none'\n",
    "            self._fixed_int.layout.display = ''\n",
    "            self._fitter.fix(self._exp, **{self._param_name: self._fixed_int.value})\n",
    "        elif val['new'] == False and self._loc_link.value == ['link']:\n",
    "            self._slider.layout.display = 'none'\n",
    "            self._fixed_int.layout.display = 'none'\n",
    "            self._min_max.layout.display = 'none'\n",
    "            self._bounds.layout.display = 'none'\n",
    "            self._fitter.unfix(*[self._param_name], expt = self._exp)\n",
    "        elif val['new'] == False and self._loc_link.value == ['unlink']: \n",
    "            self._slider.layout.display = ''\n",
    "            self._fixed_int.layout.display = 'none'\n",
    "            self._min_max.layout.display = ''\n",
    "            self._bounds.layout.display = ''\n",
    "            self._fitter.unfix(*[self._param_name], expt = self._exp)\n",
    "\n",
    "        #fixed and update fixed\n",
    "\n",
    "    def link_change(self, select):\n",
    "        \"\"\"\n",
    "        update if parameter is linked or unlinked from a global parameter and update widget view\n",
    "        \"\"\"\n",
    "        if select['new'] == ['unlink'] and self._fixed_check.value == False:\n",
    "            self._slider.layout.display = ''\n",
    "            self._fixed_int.layout.display = 'none'\n",
    "            self._s_min.layout.display = ''\n",
    "            self._s_max.layout.display = ''\n",
    "            self._fixed_check.layout.display = ''\n",
    "        elif select['new'] == ['unlink'] and self._fixed_check.value:\n",
    "            self._slider.layout.display = 'none'\n",
    "            self._fixed_int.layout.display = ''\n",
    "            self._s_min.layout.display = ''\n",
    "            self._s_max.layout.display = ''\n",
    "            self._fixed_check.layout.display = ''\n",
    "        else:\n",
    "            self._slider.layout.display = 'none'\n",
    "            self._fixed_int.layout.display = 'none'\n",
    "            self._s_min.layout.display = 'none'\n",
    "            self._s_max.layout.display = 'none'\n",
    "            self._fixed_check.layout.display = 'none'\n",
    "                \n",
    "    def param_change(self, param_val):\n",
    "        \"\"\"\n",
    "        update parameter value guess based on slider value\n",
    "        \"\"\"\n",
    "        guess = param_val['new']\n",
    "        \n",
    "        self._fitter.update_guess(self._param_name, guess, self._exp)\n",
    "    \n",
    "    def build_sliders(self):\n",
    "        \"\"\"\n",
    "        build sliders!\n",
    "        \"\"\"\n",
    "        pass\n",
    "        \n",
    "class LocalSliders(Sliders):\n",
    "    def __init__(self, exp, fitter, gui, param_name, global_vars, global_exp):\n",
    "        super().__init__(exp, fitter, gui, param_name)\n",
    "        \n",
    "        self._global_vars = global_vars\n",
    "        self._global_exp = global_exp\n",
    "        \n",
    "    def update_bounds(self, s_min, s_max):\n",
    "        \"\"\"\n",
    "        update bound and range for the parameter\n",
    "        \"\"\"\n",
    "        bounds = [s_min, s_max]\n",
    "        self._fitter.update_bounds(self._param_name, bounds, self._exp)\n",
    "        \n",
    "        # check if bounds are smaller than range, then update.\n",
    "        curr_range = self._exp.model.param_guess_ranges[self._param_name]\n",
    "        curr_bounds = self._exp.model.bounds[self._param_name]\n",
    "        \n",
    "        if curr_range[0] < curr_bounds[0] or curr_range[1] > curr_bounds[1]:\n",
    "            self._fitter.update_range(self._param_name, bounds, self._exp)\n",
    "            \n",
    "    def create_global(self, g):\n",
    "        \"\"\"\n",
    "        link local parameter to global parameter, create new global experiment object, and generate new sliders.\n",
    "        \"\"\"\n",
    "        if g != 'unlink' and g != 'blank':\n",
    "            try:\n",
    "                self._fitter.link_to_global(self._exp, self._param_name, g)\n",
    "                if g not in self._global_exp:\n",
    "                    new_global = GlobalExp(self._gui, self._global_exp, self._fitter, g)\n",
    "                    self._global_exp[g] = new_global\n",
    "                    new_global.gen_exp()\n",
    "            except:\n",
    "                pass\n",
    "            \n",
    "            self._fitter.fit()\n",
    "            self._fitter.plot()\n",
    "            \n",
    "\n",
    "    def create_local(self, l):\n",
    "        \"\"\"\n",
    "        update list of global variables and choose to link or unlink local parameter\n",
    "        \"\"\"\n",
    "\n",
    "        self._var_opt['link'] = self._global_vars\n",
    "        self._loc_link.options = self._var_opt\n",
    "        \n",
    "        if l[0] == 'unlink':\n",
    "            try:\n",
    "                self._fitter.unlink_from_global(self._exp, self._param_name)\n",
    "            except: \n",
    "                pass\n",
    "        else:\n",
    "             self._glob_link.options = l\n",
    "        \n",
    "                \n",
    "    def build_sliders(self):\n",
    "        \"\"\"\n",
    "        \"\"\"\n",
    "        self.logic()\n",
    "        \n",
    "        exp_range = self._exp.model.param_guess_ranges[self._param_name]\n",
    "        self._slider.min = exp_range[0]\n",
    "        self._slider.max = exp_range[1]\n",
    "        self._slider.value = self._exp.model.param_guesses[self._param_name]\n",
    "        \n",
    "        #self._fixed_int = exp_range[0]\n",
    "        #self._fixed_int = exp_range[1]\n",
    "        \n",
    "        loc_inter = widgets.interactive(self.create_local, l = self._loc_link)\n",
    "        glob_inter = widgets.interactive(self.create_global, g =  self._glob_link)\n",
    "        \n",
    "        main_interactive = widgets.interactive(self.update_fit,\n",
    "                                               fixed = self._fixed_check,\n",
    "                                               guess = self._slider,\n",
    "                                               bounds_min = self._s_min,\n",
    "                                               bounds_max = self._s_max,\n",
    "                                               fixed_int = self._fixed_int,)\n",
    "        \n",
    "        children = main_interactive.children + (loc_inter, glob_inter)\n",
    "        main = widgets.HBox(children = children)\n",
    "        \n",
    "        name_label = widgets.Label(value = \"{}: \".format(self._param_name))\n",
    "        \n",
    "        self._all_widgets.children = [name_label, main]\n",
    "        #self._all_widgets.layout.width = '90%'\n",
    "        self._all_widgets.layout.margin = '0px 0px 20px 0px'\n",
    "\n",
    "        display(self._all_widgets)\n",
    "        \n",
    "class GlobalSliders(Sliders):\n",
    "    def __init__(self, exp, fitter, gui, param_name):\n",
    "        super().__init__(exp, fitter, gui, param_name)\n",
    "        \n",
    "    def update_bounds(self, s_min, s_max):\n",
    "        \"\"\"\n",
    "        update bound and range for global parameter\n",
    "        \"\"\"\n",
    "        bounds = [s_min, s_max]\n",
    "        self._fitter.update_bounds(self._param_name, bounds, self._exp)\n",
    "        \n",
    "        # check if bounds are smaller than range, then update.\n",
    "        curr_range = self._fitter.param_ranges[0][self._param_name]\n",
    "        curr_bounds = self._fitter.param_bounds[0][self._param_name]\n",
    "        \n",
    "        if curr_range[0] < curr_bounds[0] or curr_range[1] > curr_bounds[1]:\n",
    "            self._fitter.update_range(self._param_name, bounds, self._exp)\n",
    "               \n",
    "    def build_sliders(self):\n",
    "        \"\"\"\n",
    "        \"\"\"\n",
    "        self.logic()\n",
    "\n",
    "        exp_range = self._fitter.param_ranges[0][self._param_name]\n",
    "        self._slider.min = exp_range[0]\n",
    "        self._slider.max = exp_range[1]\n",
    "        self._slider.value = self._fitter.param_guesses[0][self._param_name]\n",
    "        \n",
    "        #self._fixed_int = exp_range[0]\n",
    "        #self._fixed_int = exp_range[1]\n",
    "        \n",
    "        name_label = widgets.Label(value = \"{}: \".format(self._param_name))\n",
    "        \n",
    "        main_interactive = widgets.interactive(self.update_fit,\n",
    "                                               fixed = self._fixed_check,\n",
    "                                               guess = self._slider,\n",
    "                                               bounds_min = self._s_min,\n",
    "                                               bounds_max = self._s_max,\n",
    "                                               fixed_int = self._fixed_int,)\n",
    "        \n",
    "        main = widgets.HBox(children = main_interactive.children)\n",
    "        \n",
    "        self._all_widgets.children = [main]\n",
    "        #self._all_widgets.layout.width = '90%'\n",
    "        self._all_widgets.layout.margin = '0px 0px 20px 0px'\n",
    "\n",
    "        display(self._all_widgets)"
   ]
  },
  {
   "cell_type": "code",
   "execution_count": 193,
   "metadata": {
    "collapsed": false
   },
   "outputs": [],
   "source": [
    "class ParamCollect():\n",
    "    def __init__(self, gui, container, fitter):\n",
    "        \"\"\"\n",
    "        \"\"\"\n",
    "        self._gui = gui\n",
    "        self._exp_id = ''\n",
    "        self._exp_val = ''\n",
    "        self._widgets = []\n",
    "        self._fitter = fitter\n",
    "        self._container = container\n",
    "        self._parameters = {}\n",
    "        self._models = {\"blank\" : pytc.models.Blank,\n",
    "          \"single site\" : pytc.models.SingleSite,  \n",
    "          \"single site competitor\" : pytc.models.SingleSiteCompetitor, \n",
    "          \"binding polynomial\" : pytc.models.BindingPolynomial}\n",
    "        self._current_model = ''\n",
    "        \n",
    "        self._exp_box = widgets.HBox()\n",
    "        \n",
    "        self._sliders = []\n",
    "        \n",
    "    def remove_button(self, b):\n",
    "        \"\"\"\n",
    "        remove exp from fitter and lists\n",
    "        \"\"\"\n",
    "        pass\n",
    "    \n",
    "    def parameters(self):\n",
    "        \"\"\"\n",
    "        get parameters for experiment\n",
    "        \"\"\"\n",
    "        pass\n",
    "        \n",
    "    def create_exp(self):\n",
    "        \"\"\"\n",
    "        create a new pytc experiment\n",
    "        \"\"\"\n",
    "        pass\n",
    "        \n",
    "    @property        \n",
    "    def exp_id(self):\n",
    "        \"\"\"\n",
    "        return experiment id\n",
    "        \"\"\"\n",
    "        \n",
    "        return self._exp_id\n",
    "    \n",
    "    \n",
    "    def gen_sliders(self):\n",
    "        \"\"\"\n",
    "        generate sliders for each experiment, give option to link to global.\n",
    "        \"\"\"\n",
    "        \n",
    "        pass\n",
    "    \n",
    "    def gen_exp(self):\n",
    "        \"\"\"\n",
    "        generate widgets for experiment.\n",
    "        \"\"\"\n",
    "        pass\n",
    "    \n",
    "class LocalExp(ParamCollect):\n",
    "    \"\"\"\n",
    "    create experiment object and generate widgets\n",
    "    \"\"\"\n",
    "    def __init__(self, gui, container, fitter, global_vars, global_exp):\n",
    "        super().__init__(gui, container, fitter)\n",
    "\n",
    "        self._global_vars = global_vars\n",
    "        self._global_exp = global_exp\n",
    "        \n",
    "        self._exp_field = widgets.Text(description = \"exp: \")\n",
    "        self._model_drop = widgets.Dropdown(options = self._models, value = self._models[\"blank\"])\n",
    "        self._rm_exp = widgets.Button(description = \"remove experiment\")\n",
    "        \n",
    "    def remove_button(self, b):\n",
    "        \"\"\"\n",
    "        remove experiment from analysis and close widgets. for use with button widget.\n",
    "        \"\"\"\n",
    "        try:\n",
    "            self._gui.remove_experiment(self._exp_id)\n",
    "        except:\n",
    "            clear_output()\n",
    "            print(\"no experiment linked\")\n",
    "            \n",
    "        for i in self._container:\n",
    "            if self._exp_id == i._exp_id:\n",
    "                self._container.remove(i)\n",
    "        \n",
    "        self._exp_box.close()\n",
    "                \n",
    "        if self._sliders:\n",
    "            for s in self._sliders:\n",
    "                s.close_sliders()\n",
    "                \n",
    "    def remove_exp(self):\n",
    "        \"\"\"\n",
    "        remove experiment and sliders, for use without button widget.\n",
    "        \"\"\"\n",
    "        self.remove_button(None)\n",
    "        \n",
    "    def create_exp(self):\n",
    "        \"\"\"\n",
    "        create new pytc exp\n",
    "        \"\"\"\n",
    "        \n",
    "        self._exp_val = self._exp_field.value\n",
    "        if self._exp_val != 'none':\n",
    "            self._current_model = self._model_drop.value\n",
    "            self._exp_id = pytc.ITCExperiment(self._exp_val, self._current_model)\n",
    "        else:\n",
    "            clear_output()\n",
    "            print(\"no exp data given\")\n",
    "    \n",
    "    @property\n",
    "    def parameters(self):\n",
    "        \"\"\"\n",
    "        generate local parameters for experiment.\n",
    "        \"\"\"\n",
    "        \n",
    "        param = self._exp_id.model.param_values\n",
    "        \n",
    "        return param\n",
    "    \n",
    "    def gen_sliders(self):\n",
    "        \"\"\"\n",
    "        generate sliders for each experiment, give option to link to global.\n",
    "        \"\"\"\n",
    "        parameters = self.exp_id.param_values\n",
    "        \n",
    "        for p in parameters.keys():\n",
    "            s = LocalSliders(self._exp_id, self._fitter, self._gui, p, self._global_vars, self._global_exp)\n",
    "            self._sliders.append(s)\n",
    "            \n",
    "     \n",
    "    def add_exp(self, sender):\n",
    "        \"\"\"\n",
    "        generate sliders for experiment based on added data.\n",
    "        \"\"\"\n",
    "        #self._exp_val = sender['new']\n",
    "        self.create_exp()\n",
    "        \n",
    "        self._gui.add_experiment(self._exp_id)\n",
    "        self.gen_sliders()\n",
    "        \n",
    "        self._exp_field.disabled = True\n",
    "        self._model_drop.disabled = True\n",
    "        \n",
    "        for s in self._sliders:\n",
    "            s.build_sliders()\n",
    "            \n",
    "    \n",
    "    def gen_exp(self):\n",
    "        \"\"\"\n",
    "        generate widgets for experiment.\n",
    "        \"\"\"\n",
    "        \n",
    "        self._exp_field.on_submit(self.add_exp)\n",
    "        \n",
    "        file_list = glob.glob(\"./**/*.DH\")\n",
    "        file_dict = {fname.split('/')[-1]: fname for fname in file_list}\n",
    "        \n",
    "        #exp_drop = widgets.Dropdown(options = file_dict, value = 'none')\n",
    "        #exp_drop.observe(add_exp, 'value')\n",
    "\n",
    "        self._rm_exp.on_click(self.remove_button)\n",
    "\n",
    "        self._exp_box.children = [self._exp_field, self._model_drop, self._rm_exp]\n",
    "        self._widgets.extend([self._exp_field, self._model_drop, self._rm_exp, self._exp_box])\n",
    "        \n",
    "        return self._exp_box\n",
    "    \n",
    "class GlobalExp(ParamCollect):\n",
    "    \"\"\"\n",
    "    create experiment object and generate widgets\n",
    "    \"\"\"\n",
    "    def __init__(self, gui, container, fitter, v_name):\n",
    "        \n",
    "        super().__init__(gui, container, fitter)\n",
    "        self._exp_id = v_name\n",
    "        \n",
    "        self._rm_exp = widgets.Button(description = \"remove experiment\")\n",
    "        self._name_label = widgets.Label(value = \"{}:  \".format(self._exp_id))\n",
    "    \n",
    "    @property\n",
    "    def parameters(self):\n",
    "        \"\"\"\n",
    "        generate local parameters for experiment.\n",
    "        \"\"\"\n",
    "        \n",
    "        param = self._fitter.fit_param[0][self._exp_id]\n",
    "        \n",
    "        return param\n",
    "    \n",
    "    def remove_button(self, b):\n",
    "        \"\"\"\n",
    "        remove global parameter and unlink from all linked local parameters, for use with button widget\n",
    "        \"\"\"\n",
    "        try:\n",
    "            self._fitter.remove_global(self._exp_id)\n",
    "        except:\n",
    "            pass\n",
    "        \n",
    "        self._exp_box.close()\n",
    "        self._container.pop(self._exp_id, None)\n",
    "        self._sliders.close_sliders()\n",
    "    \n",
    "    def remove_exp(self):\n",
    "        \"\"\"\n",
    "        remove and unlink global parameter\n",
    "        \"\"\"\n",
    "        self.remove_button(None)\n",
    "    \n",
    "    def gen_sliders(self):\n",
    "        \"\"\"\n",
    "        generate sliders for each experiment, give option to link to global.\n",
    "        \"\"\"\n",
    "        s = GlobalSliders(None, self._fitter, self._gui, self._exp_id)\n",
    "        self._sliders.append(s)\n",
    "        \n",
    "        s.build_sliders()\n",
    "    \n",
    "    def gen_exp(self):\n",
    "        \"\"\"\n",
    "        generate widgets for experiment.\n",
    "        \"\"\"\n",
    "\n",
    "        self._rm_exp.on_click(self.remove_button)\n",
    "\n",
    "        self._exp_box.children = [self._name_label, self._rm_exp]\n",
    "        \n",
    "        s = GlobalSliders(None, self._fitter, self._gui, self._exp_id)\n",
    "        self._sliders = s\n",
    "\n",
    "        display(self._exp_box)\n",
    "        s.build_sliders()"
   ]
  },
  {
   "cell_type": "code",
   "execution_count": 194,
   "metadata": {
    "collapsed": false
   },
   "outputs": [],
   "source": [
    "class Interface:\n",
    "    \n",
    "    def __init__(self, fitter, global_exp):\n",
    "        \"\"\"\n",
    "        \"\"\"\n",
    "        \n",
    "        self._fitter = fitter\n",
    "        self._experiments = []\n",
    "        self._global_exp = global_exp\n",
    "        self._param = []\n",
    "        \n",
    "    def view_exp(self):\n",
    "        \n",
    "        return self._experiments\n",
    "    \n",
    "    def add_experiment(self,expt):\n",
    "        \"\"\"\n",
    "        add experiment to fitter\n",
    "        \"\"\"\n",
    "        self._fitter.add_experiment(expt)\n",
    "        self._experiments.append(expt)\n",
    "        expt.initialize_param()\n",
    "        \n",
    "    def remove_experiment(self, expt):\n",
    "        \"\"\"\n",
    "        remove experiment from fitter\n",
    "        \"\"\"\n",
    "        self._fitter.remove_experiment(expt)\n",
    "        self._experiments.remove(expt)"
   ]
  },
  {
   "cell_type": "code",
   "execution_count": 195,
   "metadata": {
    "collapsed": true
   },
   "outputs": [],
   "source": [
    "class FitGUI:\n",
    "    \n",
    "    def __init__(self, fitter):\n",
    "        self._loc_exp = []\n",
    "        self._glob_exp = {}\n",
    "        self._global_var = ['blank']\n",
    "        self._fitter = fitter\n",
    "        self._gui = Interface(self._fitter, self._glob_exp)\n",
    "        \n",
    "        ENTRY_W = '200px'\n",
    "\n",
    "        self._global_field = widgets.Text()\n",
    "        self._global_add = widgets.Button(description = \"Add Global Variable\")\n",
    "        self._global_remove = widgets.Button(description = \"Remove Global Variable\")\n",
    "        self._add_exp_field = widgets.Button(description = \"Add an Experiment\")\n",
    "        self._rmv_last_field = widgets.Button(description = \"Remove Last Experiment\")\n",
    "        self._clear_widget = widgets.Button(description = \"Clear\")\n",
    "        \n",
    "        self._global_field.layout.width = '100px'\n",
    "        self._global_add.layout.width = '160px'\n",
    "        self._global_remove.layout.width = '160px'\n",
    "        self._add_exp_field.layout.width = ENTRY_W\n",
    "        self._rmv_last_field.layout.width = ENTRY_W\n",
    "        \n",
    "    def rm_last(self, b):\n",
    "\n",
    "        if self._loc_exp:\n",
    "            last_exp = self._loc_exp[-1]\n",
    "            last_exp.remove_exp()\n",
    "\n",
    "    def clear_exp(self, b):\n",
    "\n",
    "        clear_output()\n",
    "        for i in self._loc_exp:\n",
    "            i.remove_exp()\n",
    "\n",
    "        for i in self._glob_exp.values():\n",
    "            i.remove_exp()\n",
    "\n",
    "    def add_field(self, b):\n",
    "\n",
    "        clear_output()\n",
    "        exp = LocalExp(self._gui, self._loc_exp, self._fitter, self._global_var, self._glob_exp)\n",
    "        show = exp.gen_exp()\n",
    "        show.layout.margin = '30px 10px 0px 0px'\n",
    "\n",
    "        self._loc_exp.append(exp)\n",
    "\n",
    "        display(show)\n",
    "\n",
    "    def create_global(self, b):\n",
    "\n",
    "        glob_var = self._global_field.value\n",
    "\n",
    "        if glob_var not in self._global_var and glob_var:\n",
    "            self._global_var.append(glob_var)\n",
    "            self._global_field.value = ''\n",
    "        else:\n",
    "            pass\n",
    "\n",
    "    def remove_global(self, b):\n",
    "\n",
    "        self._fitter.remove_global(self._global_field.value)\n",
    "        global_var.remove(self._global_field.value)\n",
    "    \n",
    "    def build_gui(self):\n",
    "        \"\"\"\n",
    "        \"\"\"\n",
    "        self._global_add.on_click(self.create_global)\n",
    "        self._global_remove.on_click(self.remove_global)\n",
    "        self._add_exp_field.on_click(self.add_field)\n",
    "        self._rmv_last_field.on_click(self.rm_last)\n",
    "        self._clear_widget.on_click(self.clear_exp)\n",
    "\n",
    "        experiments_layout = widgets.Layout(display = \"flex\", \n",
    "                              flex_flow = \"row\", \n",
    "                              align_items = \"stretch\",\n",
    "                              margin = \"0px 0px 30px 0px\")\n",
    "\n",
    "        glob_box = widgets.Box(children = [self._global_field, self._global_add, self._global_remove],\n",
    "                               layout = experiments_layout)\n",
    "        #glob_box.layout.margin = \"0px 0px 30px 0px\"\n",
    "\n",
    "        experiments = widgets.Box(children = [self._add_exp_field, self._rmv_last_field, self._clear_widget], \n",
    "                                              layout = experiments_layout)\n",
    "        parent = widgets.Box(children = [experiments, glob_box])\n",
    "\n",
    "        display(parent)\n",
    "        self.add_field(None)"
   ]
  },
  {
   "cell_type": "code",
   "execution_count": 196,
   "metadata": {
    "collapsed": false,
    "scrolled": false
   },
   "outputs": [],
   "source": [
    "f = pytc.GlobalFit()\n",
    "gui_test = FitGUI(f)\n",
    "\n",
    "# inspect.argspec for experiment class and widgets generated"
   ]
  },
  {
   "cell_type": "code",
   "execution_count": 197,
   "metadata": {
    "collapsed": false,
    "scrolled": false
   },
   "outputs": [],
   "source": [
    "gui_test.build_gui()"
   ]
  },
  {
   "cell_type": "code",
   "execution_count": 199,
   "metadata": {
    "collapsed": false
   },
   "outputs": [
    {
     "data": {
      "text/plain": [
       "[]"
      ]
     },
     "execution_count": 199,
     "metadata": {},
     "output_type": "execute_result"
    }
   ],
   "source": [
    "f.experiments"
   ]
  },
  {
   "cell_type": "markdown",
   "metadata": {},
   "source": [
    "test-data/real-blank-match.DH\n",
    "\n",
    "test-data/blank.DH\n",
    "\n",
    "test-data/Tris/CaEDTATris01.DH"
   ]
  },
  {
   "cell_type": "code",
   "execution_count": 36,
   "metadata": {
    "collapsed": false
   },
   "outputs": [],
   "source": [
    "global_param, local_param = f.fit_param\n",
    "global_error, local_error = f.fit_error\n",
    "\n",
    "local_var = {}\n",
    "global_var = {}\n",
    "\n",
    "n=0\n",
    "for param, error in zip(local_param, local_error):\n",
    "    for p, e in zip(param, error):\n",
    "        local_var[\"{},{}\".format(p, n)] = {'param': param[p], 'error': error[e]}\n",
    "        #print(\"{},{}\".format(p, n), ': ', param[p], error[e])\n",
    "    n+=1\n",
    "\n",
    "for param, error in zip(global_param.keys(), global_error.keys()):\n",
    "    global_var[param] = {'param': global_param[param], 'error': global_error[error]}\n",
    "    #print(param, ': ', global_param[param], global_error[error])"
   ]
  },
  {
   "cell_type": "code",
   "execution_count": 37,
   "metadata": {
    "collapsed": false
   },
   "outputs": [
    {
     "data": {
      "text/plain": [
       "({'K,1': {'error': 3.6811591260470323e-05, 'param': 31485667.31434162},\n",
       "  'dH,1': {'error': 0.10011387594320861, 'param': -11877.703176517987},\n",
       "  'dilution_heat,0': {'error': 0.0, 'param': 8689.0890959121061},\n",
       "  'dilution_heat,1': {'error': 0.005454909203550541,\n",
       "   'param': -62629.747948427444},\n",
       "  'dilution_intercept,0': {'error': 0.0, 'param': -1.428495941704728},\n",
       "  'dilution_intercept,1': {'error': 1.4241087984883185,\n",
       "   'param': 7.6742085353536948},\n",
       "  'fx_competent,1': {'error': 0.27283800068369263,\n",
       "   'param': 1.0165034367661814}},\n",
       " {'G': {'error': 1.424108798475211, 'param': 7.6742085353536948}})"
      ]
     },
     "execution_count": 37,
     "metadata": {},
     "output_type": "execute_result"
    }
   ],
   "source": [
    "local_var, global_var"
   ]
  },
  {
   "cell_type": "code",
   "execution_count": 66,
   "metadata": {
    "collapsed": false
   },
   "outputs": [],
   "source": [
    "df1 = pd.DataFrame.from_dict(local_var, 'index')\n",
    "df2 = pd.DataFrame.from_dict(global_var, 'index')"
   ]
  },
  {
   "cell_type": "code",
   "execution_count": 75,
   "metadata": {
    "collapsed": false
   },
   "outputs": [
    {
     "data": {
      "text/html": [
       "<div>\n",
       "<table border=\"1\" class=\"dataframe\">\n",
       "  <thead>\n",
       "    <tr style=\"text-align: right;\">\n",
       "      <th></th>\n",
       "      <th>param</th>\n",
       "      <th>error</th>\n",
       "    </tr>\n",
       "  </thead>\n",
       "  <tbody>\n",
       "    <tr>\n",
       "      <th>K,1</th>\n",
       "      <td>3.1485667e+07</td>\n",
       "      <td>0.0000368</td>\n",
       "    </tr>\n",
       "    <tr>\n",
       "      <th>dH,1</th>\n",
       "      <td>-1.1877703e+04</td>\n",
       "      <td>0.1001139</td>\n",
       "    </tr>\n",
       "    <tr>\n",
       "      <th>dilution_heat,0</th>\n",
       "      <td>8.6890891e+03</td>\n",
       "      <td>0.0000000</td>\n",
       "    </tr>\n",
       "    <tr>\n",
       "      <th>dilution_heat,1</th>\n",
       "      <td>-6.2629748e+04</td>\n",
       "      <td>0.0054549</td>\n",
       "    </tr>\n",
       "    <tr>\n",
       "      <th>dilution_intercept,0</th>\n",
       "      <td>-1.4284959e+00</td>\n",
       "      <td>0.0000000</td>\n",
       "    </tr>\n",
       "    <tr>\n",
       "      <th>dilution_intercept,1</th>\n",
       "      <td>7.6742085e+00</td>\n",
       "      <td>1.4241088</td>\n",
       "    </tr>\n",
       "    <tr>\n",
       "      <th>fx_competent,1</th>\n",
       "      <td>1.0165034e+00</td>\n",
       "      <td>0.2728380</td>\n",
       "    </tr>\n",
       "    <tr>\n",
       "      <th>G</th>\n",
       "      <td>7.6742085e+00</td>\n",
       "      <td>1.4241088</td>\n",
       "    </tr>\n",
       "  </tbody>\n",
       "</table>\n",
       "</div>"
      ],
      "text/plain": [
       "                              param      error\n",
       "K,1                   3.1485667e+07  0.0000368\n",
       "dH,1                 -1.1877703e+04  0.1001139\n",
       "dilution_heat,0       8.6890891e+03  0.0000000\n",
       "dilution_heat,1      -6.2629748e+04  0.0054549\n",
       "dilution_intercept,0 -1.4284959e+00  0.0000000\n",
       "dilution_intercept,1  7.6742085e+00  1.4241088\n",
       "fx_competent,1        1.0165034e+00  0.2728380\n",
       "G                     7.6742085e+00  1.4241088"
      ]
     },
     "execution_count": 75,
     "metadata": {},
     "output_type": "execute_result"
    }
   ],
   "source": [
    "df1.append(df2)"
   ]
  },
  {
   "cell_type": "code",
   "execution_count": 67,
   "metadata": {
    "collapsed": false
   },
   "outputs": [
    {
     "data": {
      "text/html": [
       "<style>\n",
       ".output {\n",
       "    flex-direction: row;\n",
       "}\n",
       "\n",
       "</style>"
      ],
      "text/plain": [
       "<IPython.core.display.HTML object>"
      ]
     },
     "execution_count": 67,
     "metadata": {},
     "output_type": "execute_result"
    }
   ],
   "source": [
    "CSS = \"\"\"\n",
    ".output {\n",
    "    flex-direction: row;\n",
    "}\n",
    "\n",
    "\"\"\"\n",
    "\n",
    "HTML('<style>{}</style>'.format(CSS))"
   ]
  },
  {
   "cell_type": "code",
   "execution_count": 79,
   "metadata": {
    "collapsed": true
   },
   "outputs": [],
   "source": [
    "exp = f.experiments[0]"
   ]
  },
  {
   "cell_type": "code",
   "execution_count": 112,
   "metadata": {
    "collapsed": true
   },
   "outputs": [],
   "source": [
    "def int_test(fixed, guess, linked, global_var, bounds_min, bounds_max, fixed_int):\n",
    "    \n",
    "    f.fit()\n",
    "    f.plot()\n",
    "    \n",
    "    print(fixed, guess, linked, global_var, bounds_min, bounds_max, fixed_int)"
   ]
  },
  {
   "cell_type": "code",
   "execution_count": 113,
   "metadata": {
    "collapsed": false
   },
   "outputs": [],
   "source": [
    "blah = widgets.interactive(int_test, fixed = fixed, guess = val, linked = linked, global_var = global_var, bounds_min = bounds_min, bounds_max = bounds_max, fixed_int = fixed_int)"
   ]
  },
  {
   "cell_type": "code",
   "execution_count": 114,
   "metadata": {
    "collapsed": false
   },
   "outputs": [],
   "source": [
    "h_box = widgets.HBox(children = blah.children)"
   ]
  },
  {
   "cell_type": "code",
   "execution_count": 117,
   "metadata": {
    "collapsed": false
   },
   "outputs": [
    {
     "data": {
      "text/plain": [
       "({},\n",
       " [{'K': True,\n",
       "   'dH': True,\n",
       "   'dilution_heat': False,\n",
       "   'dilution_intercept': False,\n",
       "   'fx_competent': False}])"
      ]
     },
     "execution_count": 117,
     "metadata": {},
     "output_type": "execute_result"
    }
   ],
   "source": [
    "f.fixed_param"
   ]
  },
  {
   "cell_type": "code",
   "execution_count": 25,
   "metadata": {
    "collapsed": true
   },
   "outputs": [],
   "source": [
    "global_exp = []\n",
    "global_vars = {}\n",
    "gui = Interface(f, global_exp)"
   ]
  },
  {
   "cell_type": "code",
   "execution_count": 103,
   "metadata": {
    "collapsed": false
   },
   "outputs": [],
   "source": [
    "slider = LocalSliders(exp, f, gui, 'K', global_vars, global_exp)"
   ]
  },
  {
   "cell_type": "code",
   "execution_count": 104,
   "metadata": {
    "collapsed": true
   },
   "outputs": [],
   "source": [
    "slider.build_sliders()"
   ]
  },
  {
   "cell_type": "code",
   "execution_count": 9,
   "metadata": {
    "collapsed": true
   },
   "outputs": [],
   "source": [
    "def global_update(new_var):\n",
    "    \n",
    "    new_list = []\n",
    "    new_list.append(new_var)\n",
    "    \n",
    "    f.fit()\n",
    "    f.plot()"
   ]
  },
  {
   "cell_type": "code",
   "execution_count": 25,
   "metadata": {
    "collapsed": true
   },
   "outputs": [],
   "source": [
    "def update_event(val):\n",
    "    if val['new'] != val['old']:\n",
    "        #clear_output()\n",
    "        f.fit()\n",
    "        draw_interactive(f.plot())"
   ]
  },
  {
   "cell_type": "code",
   "execution_count": 118,
   "metadata": {
    "collapsed": false
   },
   "outputs": [],
   "source": [
    "returned = slider.slider_blah()"
   ]
  },
  {
   "cell_type": "code",
   "execution_count": 119,
   "metadata": {
    "collapsed": false
   },
   "outputs": [],
   "source": [
    "box_c = returned.children[1].children"
   ]
  },
  {
   "cell_type": "code",
   "execution_count": 107,
   "metadata": {
    "collapsed": true
   },
   "outputs": [],
   "source": [
    "fixed = box_c[0]\n",
    "val = box_c[1]\n",
    "linked = box_c[2].children[0]\n",
    "global_var = box_c[3].children[0]\n",
    "fixed_int = box_c[4]\n",
    "bounds_min = box_c[6].children[0]\n",
    "bounds_max = box_c[6].children[1]"
   ]
  },
  {
   "cell_type": "code",
   "execution_count": 20,
   "metadata": {
    "collapsed": false
   },
   "outputs": [],
   "source": [
    "blah_widget = widgets.Button(description = \"plot!\")\n",
    "\n",
    "def update_widget(b):\n",
    "    clear_output()\n",
    "    f.fit()\n",
    "    f.plot()\n",
    "    \n",
    "blah_widget.on_click(update_widget)\n",
    "display(blah_widget)"
   ]
  },
  {
   "cell_type": "code",
   "execution_count": 45,
   "metadata": {
    "collapsed": false
   },
   "outputs": [
    {
     "name": "stderr",
     "output_type": "stream",
     "text": [
      "/Users/hrnmy/Documents/Harms/pytc/pytc/experiments.py:90: FutureWarning:\n",
      "\n",
      "comparison to `None` will result in an elementwise object comparison in the future.\n",
      "\n"
     ]
    }
   ],
   "source": [
    "f.fit()"
   ]
  },
  {
   "cell_type": "code",
   "execution_count": 46,
   "metadata": {
    "collapsed": false
   },
   "outputs": [
    {
     "name": "stderr",
     "output_type": "stream",
     "text": [
      "/Users/hrnmy/Documents/Harms/pytc/pytc/experiments.py:90: FutureWarning:\n",
      "\n",
      "comparison to `None` will result in an elementwise object comparison in the future.\n",
      "\n",
      "/Users/hrnmy/Documents/Harms/pytc/pytc/fitting.py:287: FutureWarning:\n",
      "\n",
      "comparison to `None` will result in an elementwise object comparison in the future.\n",
      "\n"
     ]
    },
    {
     "data": {
      "application/javascript": [
       "/* Put everything inside the global mpl namespace */\n",
       "window.mpl = {};\n",
       "\n",
       "mpl.get_websocket_type = function() {\n",
       "    if (typeof(WebSocket) !== 'undefined') {\n",
       "        return WebSocket;\n",
       "    } else if (typeof(MozWebSocket) !== 'undefined') {\n",
       "        return MozWebSocket;\n",
       "    } else {\n",
       "        alert('Your browser does not have WebSocket support.' +\n",
       "              'Please try Chrome, Safari or Firefox ≥ 6. ' +\n",
       "              'Firefox 4 and 5 are also supported but you ' +\n",
       "              'have to enable WebSockets in about:config.');\n",
       "    };\n",
       "}\n",
       "\n",
       "mpl.figure = function(figure_id, websocket, ondownload, parent_element) {\n",
       "    this.id = figure_id;\n",
       "\n",
       "    this.ws = websocket;\n",
       "\n",
       "    this.supports_binary = (this.ws.binaryType != undefined);\n",
       "\n",
       "    if (!this.supports_binary) {\n",
       "        var warnings = document.getElementById(\"mpl-warnings\");\n",
       "        if (warnings) {\n",
       "            warnings.style.display = 'block';\n",
       "            warnings.textContent = (\n",
       "                \"This browser does not support binary websocket messages. \" +\n",
       "                    \"Performance may be slow.\");\n",
       "        }\n",
       "    }\n",
       "\n",
       "    this.imageObj = new Image();\n",
       "\n",
       "    this.context = undefined;\n",
       "    this.message = undefined;\n",
       "    this.canvas = undefined;\n",
       "    this.rubberband_canvas = undefined;\n",
       "    this.rubberband_context = undefined;\n",
       "    this.format_dropdown = undefined;\n",
       "\n",
       "    this.image_mode = 'full';\n",
       "\n",
       "    this.root = $('<div/>');\n",
       "    this._root_extra_style(this.root)\n",
       "    this.root.attr('style', 'display: inline-block');\n",
       "\n",
       "    $(parent_element).append(this.root);\n",
       "\n",
       "    this._init_header(this);\n",
       "    this._init_canvas(this);\n",
       "    this._init_toolbar(this);\n",
       "\n",
       "    var fig = this;\n",
       "\n",
       "    this.waiting = false;\n",
       "\n",
       "    this.ws.onopen =  function () {\n",
       "            fig.send_message(\"supports_binary\", {value: fig.supports_binary});\n",
       "            fig.send_message(\"send_image_mode\", {});\n",
       "            fig.send_message(\"refresh\", {});\n",
       "        }\n",
       "\n",
       "    this.imageObj.onload = function() {\n",
       "            if (fig.image_mode == 'full') {\n",
       "                // Full images could contain transparency (where diff images\n",
       "                // almost always do), so we need to clear the canvas so that\n",
       "                // there is no ghosting.\n",
       "                fig.context.clearRect(0, 0, fig.canvas.width, fig.canvas.height);\n",
       "            }\n",
       "            fig.context.drawImage(fig.imageObj, 0, 0);\n",
       "        };\n",
       "\n",
       "    this.imageObj.onunload = function() {\n",
       "        this.ws.close();\n",
       "    }\n",
       "\n",
       "    this.ws.onmessage = this._make_on_message_function(this);\n",
       "\n",
       "    this.ondownload = ondownload;\n",
       "}\n",
       "\n",
       "mpl.figure.prototype._init_header = function() {\n",
       "    var titlebar = $(\n",
       "        '<div class=\"ui-dialog-titlebar ui-widget-header ui-corner-all ' +\n",
       "        'ui-helper-clearfix\"/>');\n",
       "    var titletext = $(\n",
       "        '<div class=\"ui-dialog-title\" style=\"width: 100%; ' +\n",
       "        'text-align: center; padding: 3px;\"/>');\n",
       "    titlebar.append(titletext)\n",
       "    this.root.append(titlebar);\n",
       "    this.header = titletext[0];\n",
       "}\n",
       "\n",
       "\n",
       "\n",
       "mpl.figure.prototype._canvas_extra_style = function(canvas_div) {\n",
       "\n",
       "}\n",
       "\n",
       "\n",
       "mpl.figure.prototype._root_extra_style = function(canvas_div) {\n",
       "\n",
       "}\n",
       "\n",
       "mpl.figure.prototype._init_canvas = function() {\n",
       "    var fig = this;\n",
       "\n",
       "    var canvas_div = $('<div/>');\n",
       "\n",
       "    canvas_div.attr('style', 'position: relative; clear: both; outline: 0');\n",
       "\n",
       "    function canvas_keyboard_event(event) {\n",
       "        return fig.key_event(event, event['data']);\n",
       "    }\n",
       "\n",
       "    canvas_div.keydown('key_press', canvas_keyboard_event);\n",
       "    canvas_div.keyup('key_release', canvas_keyboard_event);\n",
       "    this.canvas_div = canvas_div\n",
       "    this._canvas_extra_style(canvas_div)\n",
       "    this.root.append(canvas_div);\n",
       "\n",
       "    var canvas = $('<canvas/>');\n",
       "    canvas.addClass('mpl-canvas');\n",
       "    canvas.attr('style', \"left: 0; top: 0; z-index: 0; outline: 0\")\n",
       "\n",
       "    this.canvas = canvas[0];\n",
       "    this.context = canvas[0].getContext(\"2d\");\n",
       "\n",
       "    var rubberband = $('<canvas/>');\n",
       "    rubberband.attr('style', \"position: absolute; left: 0; top: 0; z-index: 1;\")\n",
       "\n",
       "    var pass_mouse_events = true;\n",
       "\n",
       "    canvas_div.resizable({\n",
       "        start: function(event, ui) {\n",
       "            pass_mouse_events = false;\n",
       "        },\n",
       "        resize: function(event, ui) {\n",
       "            fig.request_resize(ui.size.width, ui.size.height);\n",
       "        },\n",
       "        stop: function(event, ui) {\n",
       "            pass_mouse_events = true;\n",
       "            fig.request_resize(ui.size.width, ui.size.height);\n",
       "        },\n",
       "    });\n",
       "\n",
       "    function mouse_event_fn(event) {\n",
       "        if (pass_mouse_events)\n",
       "            return fig.mouse_event(event, event['data']);\n",
       "    }\n",
       "\n",
       "    rubberband.mousedown('button_press', mouse_event_fn);\n",
       "    rubberband.mouseup('button_release', mouse_event_fn);\n",
       "    // Throttle sequential mouse events to 1 every 20ms.\n",
       "    rubberband.mousemove('motion_notify', mouse_event_fn);\n",
       "\n",
       "    rubberband.mouseenter('figure_enter', mouse_event_fn);\n",
       "    rubberband.mouseleave('figure_leave', mouse_event_fn);\n",
       "\n",
       "    canvas_div.on(\"wheel\", function (event) {\n",
       "        event = event.originalEvent;\n",
       "        event['data'] = 'scroll'\n",
       "        if (event.deltaY < 0) {\n",
       "            event.step = 1;\n",
       "        } else {\n",
       "            event.step = -1;\n",
       "        }\n",
       "        mouse_event_fn(event);\n",
       "    });\n",
       "\n",
       "    canvas_div.append(canvas);\n",
       "    canvas_div.append(rubberband);\n",
       "\n",
       "    this.rubberband = rubberband;\n",
       "    this.rubberband_canvas = rubberband[0];\n",
       "    this.rubberband_context = rubberband[0].getContext(\"2d\");\n",
       "    this.rubberband_context.strokeStyle = \"#000000\";\n",
       "\n",
       "    this._resize_canvas = function(width, height) {\n",
       "        // Keep the size of the canvas, canvas container, and rubber band\n",
       "        // canvas in synch.\n",
       "        canvas_div.css('width', width)\n",
       "        canvas_div.css('height', height)\n",
       "\n",
       "        canvas.attr('width', width);\n",
       "        canvas.attr('height', height);\n",
       "\n",
       "        rubberband.attr('width', width);\n",
       "        rubberband.attr('height', height);\n",
       "    }\n",
       "\n",
       "    // Set the figure to an initial 600x600px, this will subsequently be updated\n",
       "    // upon first draw.\n",
       "    this._resize_canvas(600, 600);\n",
       "\n",
       "    // Disable right mouse context menu.\n",
       "    $(this.rubberband_canvas).bind(\"contextmenu\",function(e){\n",
       "        return false;\n",
       "    });\n",
       "\n",
       "    function set_focus () {\n",
       "        canvas.focus();\n",
       "        canvas_div.focus();\n",
       "    }\n",
       "\n",
       "    window.setTimeout(set_focus, 100);\n",
       "}\n",
       "\n",
       "mpl.figure.prototype._init_toolbar = function() {\n",
       "    var fig = this;\n",
       "\n",
       "    var nav_element = $('<div/>')\n",
       "    nav_element.attr('style', 'width: 100%');\n",
       "    this.root.append(nav_element);\n",
       "\n",
       "    // Define a callback function for later on.\n",
       "    function toolbar_event(event) {\n",
       "        return fig.toolbar_button_onclick(event['data']);\n",
       "    }\n",
       "    function toolbar_mouse_event(event) {\n",
       "        return fig.toolbar_button_onmouseover(event['data']);\n",
       "    }\n",
       "\n",
       "    for(var toolbar_ind in mpl.toolbar_items) {\n",
       "        var name = mpl.toolbar_items[toolbar_ind][0];\n",
       "        var tooltip = mpl.toolbar_items[toolbar_ind][1];\n",
       "        var image = mpl.toolbar_items[toolbar_ind][2];\n",
       "        var method_name = mpl.toolbar_items[toolbar_ind][3];\n",
       "\n",
       "        if (!name) {\n",
       "            // put a spacer in here.\n",
       "            continue;\n",
       "        }\n",
       "        var button = $('<button/>');\n",
       "        button.addClass('ui-button ui-widget ui-state-default ui-corner-all ' +\n",
       "                        'ui-button-icon-only');\n",
       "        button.attr('role', 'button');\n",
       "        button.attr('aria-disabled', 'false');\n",
       "        button.click(method_name, toolbar_event);\n",
       "        button.mouseover(tooltip, toolbar_mouse_event);\n",
       "\n",
       "        var icon_img = $('<span/>');\n",
       "        icon_img.addClass('ui-button-icon-primary ui-icon');\n",
       "        icon_img.addClass(image);\n",
       "        icon_img.addClass('ui-corner-all');\n",
       "\n",
       "        var tooltip_span = $('<span/>');\n",
       "        tooltip_span.addClass('ui-button-text');\n",
       "        tooltip_span.html(tooltip);\n",
       "\n",
       "        button.append(icon_img);\n",
       "        button.append(tooltip_span);\n",
       "\n",
       "        nav_element.append(button);\n",
       "    }\n",
       "\n",
       "    var fmt_picker_span = $('<span/>');\n",
       "\n",
       "    var fmt_picker = $('<select/>');\n",
       "    fmt_picker.addClass('mpl-toolbar-option ui-widget ui-widget-content');\n",
       "    fmt_picker_span.append(fmt_picker);\n",
       "    nav_element.append(fmt_picker_span);\n",
       "    this.format_dropdown = fmt_picker[0];\n",
       "\n",
       "    for (var ind in mpl.extensions) {\n",
       "        var fmt = mpl.extensions[ind];\n",
       "        var option = $(\n",
       "            '<option/>', {selected: fmt === mpl.default_extension}).html(fmt);\n",
       "        fmt_picker.append(option)\n",
       "    }\n",
       "\n",
       "    // Add hover states to the ui-buttons\n",
       "    $( \".ui-button\" ).hover(\n",
       "        function() { $(this).addClass(\"ui-state-hover\");},\n",
       "        function() { $(this).removeClass(\"ui-state-hover\");}\n",
       "    );\n",
       "\n",
       "    var status_bar = $('<span class=\"mpl-message\"/>');\n",
       "    nav_element.append(status_bar);\n",
       "    this.message = status_bar[0];\n",
       "}\n",
       "\n",
       "mpl.figure.prototype.request_resize = function(x_pixels, y_pixels) {\n",
       "    // Request matplotlib to resize the figure. Matplotlib will then trigger a resize in the client,\n",
       "    // which will in turn request a refresh of the image.\n",
       "    this.send_message('resize', {'width': x_pixels, 'height': y_pixels});\n",
       "}\n",
       "\n",
       "mpl.figure.prototype.send_message = function(type, properties) {\n",
       "    properties['type'] = type;\n",
       "    properties['figure_id'] = this.id;\n",
       "    this.ws.send(JSON.stringify(properties));\n",
       "}\n",
       "\n",
       "mpl.figure.prototype.send_draw_message = function() {\n",
       "    if (!this.waiting) {\n",
       "        this.waiting = true;\n",
       "        this.ws.send(JSON.stringify({type: \"draw\", figure_id: this.id}));\n",
       "    }\n",
       "}\n",
       "\n",
       "\n",
       "mpl.figure.prototype.handle_save = function(fig, msg) {\n",
       "    var format_dropdown = fig.format_dropdown;\n",
       "    var format = format_dropdown.options[format_dropdown.selectedIndex].value;\n",
       "    fig.ondownload(fig, format);\n",
       "}\n",
       "\n",
       "\n",
       "mpl.figure.prototype.handle_resize = function(fig, msg) {\n",
       "    var size = msg['size'];\n",
       "    if (size[0] != fig.canvas.width || size[1] != fig.canvas.height) {\n",
       "        fig._resize_canvas(size[0], size[1]);\n",
       "        fig.send_message(\"refresh\", {});\n",
       "    };\n",
       "}\n",
       "\n",
       "mpl.figure.prototype.handle_rubberband = function(fig, msg) {\n",
       "    var x0 = msg['x0'];\n",
       "    var y0 = fig.canvas.height - msg['y0'];\n",
       "    var x1 = msg['x1'];\n",
       "    var y1 = fig.canvas.height - msg['y1'];\n",
       "    x0 = Math.floor(x0) + 0.5;\n",
       "    y0 = Math.floor(y0) + 0.5;\n",
       "    x1 = Math.floor(x1) + 0.5;\n",
       "    y1 = Math.floor(y1) + 0.5;\n",
       "    var min_x = Math.min(x0, x1);\n",
       "    var min_y = Math.min(y0, y1);\n",
       "    var width = Math.abs(x1 - x0);\n",
       "    var height = Math.abs(y1 - y0);\n",
       "\n",
       "    fig.rubberband_context.clearRect(\n",
       "        0, 0, fig.canvas.width, fig.canvas.height);\n",
       "\n",
       "    fig.rubberband_context.strokeRect(min_x, min_y, width, height);\n",
       "}\n",
       "\n",
       "mpl.figure.prototype.handle_figure_label = function(fig, msg) {\n",
       "    // Updates the figure title.\n",
       "    fig.header.textContent = msg['label'];\n",
       "}\n",
       "\n",
       "mpl.figure.prototype.handle_cursor = function(fig, msg) {\n",
       "    var cursor = msg['cursor'];\n",
       "    switch(cursor)\n",
       "    {\n",
       "    case 0:\n",
       "        cursor = 'pointer';\n",
       "        break;\n",
       "    case 1:\n",
       "        cursor = 'default';\n",
       "        break;\n",
       "    case 2:\n",
       "        cursor = 'crosshair';\n",
       "        break;\n",
       "    case 3:\n",
       "        cursor = 'move';\n",
       "        break;\n",
       "    }\n",
       "    fig.rubberband_canvas.style.cursor = cursor;\n",
       "}\n",
       "\n",
       "mpl.figure.prototype.handle_message = function(fig, msg) {\n",
       "    fig.message.textContent = msg['message'];\n",
       "}\n",
       "\n",
       "mpl.figure.prototype.handle_draw = function(fig, msg) {\n",
       "    // Request the server to send over a new figure.\n",
       "    fig.send_draw_message();\n",
       "}\n",
       "\n",
       "mpl.figure.prototype.handle_image_mode = function(fig, msg) {\n",
       "    fig.image_mode = msg['mode'];\n",
       "}\n",
       "\n",
       "mpl.figure.prototype.updated_canvas_event = function() {\n",
       "    // Called whenever the canvas gets updated.\n",
       "    this.send_message(\"ack\", {});\n",
       "}\n",
       "\n",
       "// A function to construct a web socket function for onmessage handling.\n",
       "// Called in the figure constructor.\n",
       "mpl.figure.prototype._make_on_message_function = function(fig) {\n",
       "    return function socket_on_message(evt) {\n",
       "        if (evt.data instanceof Blob) {\n",
       "            /* FIXME: We get \"Resource interpreted as Image but\n",
       "             * transferred with MIME type text/plain:\" errors on\n",
       "             * Chrome.  But how to set the MIME type?  It doesn't seem\n",
       "             * to be part of the websocket stream */\n",
       "            evt.data.type = \"image/png\";\n",
       "\n",
       "            /* Free the memory for the previous frames */\n",
       "            if (fig.imageObj.src) {\n",
       "                (window.URL || window.webkitURL).revokeObjectURL(\n",
       "                    fig.imageObj.src);\n",
       "            }\n",
       "\n",
       "            fig.imageObj.src = (window.URL || window.webkitURL).createObjectURL(\n",
       "                evt.data);\n",
       "            fig.updated_canvas_event();\n",
       "            fig.waiting = false;\n",
       "            return;\n",
       "        }\n",
       "        else if (typeof evt.data === 'string' && evt.data.slice(0, 21) == \"data:image/png;base64\") {\n",
       "            fig.imageObj.src = evt.data;\n",
       "            fig.updated_canvas_event();\n",
       "            fig.waiting = false;\n",
       "            return;\n",
       "        }\n",
       "\n",
       "        var msg = JSON.parse(evt.data);\n",
       "        var msg_type = msg['type'];\n",
       "\n",
       "        // Call the  \"handle_{type}\" callback, which takes\n",
       "        // the figure and JSON message as its only arguments.\n",
       "        try {\n",
       "            var callback = fig[\"handle_\" + msg_type];\n",
       "        } catch (e) {\n",
       "            console.log(\"No handler for the '\" + msg_type + \"' message type: \", msg);\n",
       "            return;\n",
       "        }\n",
       "\n",
       "        if (callback) {\n",
       "            try {\n",
       "                // console.log(\"Handling '\" + msg_type + \"' message: \", msg);\n",
       "                callback(fig, msg);\n",
       "            } catch (e) {\n",
       "                console.log(\"Exception inside the 'handler_\" + msg_type + \"' callback:\", e, e.stack, msg);\n",
       "            }\n",
       "        }\n",
       "    };\n",
       "}\n",
       "\n",
       "// from http://stackoverflow.com/questions/1114465/getting-mouse-location-in-canvas\n",
       "mpl.findpos = function(e) {\n",
       "    //this section is from http://www.quirksmode.org/js/events_properties.html\n",
       "    var targ;\n",
       "    if (!e)\n",
       "        e = window.event;\n",
       "    if (e.target)\n",
       "        targ = e.target;\n",
       "    else if (e.srcElement)\n",
       "        targ = e.srcElement;\n",
       "    if (targ.nodeType == 3) // defeat Safari bug\n",
       "        targ = targ.parentNode;\n",
       "\n",
       "    // jQuery normalizes the pageX and pageY\n",
       "    // pageX,Y are the mouse positions relative to the document\n",
       "    // offset() returns the position of the element relative to the document\n",
       "    var x = e.pageX - $(targ).offset().left;\n",
       "    var y = e.pageY - $(targ).offset().top;\n",
       "\n",
       "    return {\"x\": x, \"y\": y};\n",
       "};\n",
       "\n",
       "/*\n",
       " * return a copy of an object with only non-object keys\n",
       " * we need this to avoid circular references\n",
       " * http://stackoverflow.com/a/24161582/3208463\n",
       " */\n",
       "function simpleKeys (original) {\n",
       "  return Object.keys(original).reduce(function (obj, key) {\n",
       "    if (typeof original[key] !== 'object')\n",
       "        obj[key] = original[key]\n",
       "    return obj;\n",
       "  }, {});\n",
       "}\n",
       "\n",
       "mpl.figure.prototype.mouse_event = function(event, name) {\n",
       "    var canvas_pos = mpl.findpos(event)\n",
       "\n",
       "    if (name === 'button_press')\n",
       "    {\n",
       "        this.canvas.focus();\n",
       "        this.canvas_div.focus();\n",
       "    }\n",
       "\n",
       "    var x = canvas_pos.x;\n",
       "    var y = canvas_pos.y;\n",
       "\n",
       "    this.send_message(name, {x: x, y: y, button: event.button,\n",
       "                             step: event.step,\n",
       "                             guiEvent: simpleKeys(event)});\n",
       "\n",
       "    /* This prevents the web browser from automatically changing to\n",
       "     * the text insertion cursor when the button is pressed.  We want\n",
       "     * to control all of the cursor setting manually through the\n",
       "     * 'cursor' event from matplotlib */\n",
       "    event.preventDefault();\n",
       "    return false;\n",
       "}\n",
       "\n",
       "mpl.figure.prototype._key_event_extra = function(event, name) {\n",
       "    // Handle any extra behaviour associated with a key event\n",
       "}\n",
       "\n",
       "mpl.figure.prototype.key_event = function(event, name) {\n",
       "\n",
       "    // Prevent repeat events\n",
       "    if (name == 'key_press')\n",
       "    {\n",
       "        if (event.which === this._key)\n",
       "            return;\n",
       "        else\n",
       "            this._key = event.which;\n",
       "    }\n",
       "    if (name == 'key_release')\n",
       "        this._key = null;\n",
       "\n",
       "    var value = '';\n",
       "    if (event.ctrlKey && event.which != 17)\n",
       "        value += \"ctrl+\";\n",
       "    if (event.altKey && event.which != 18)\n",
       "        value += \"alt+\";\n",
       "    if (event.shiftKey && event.which != 16)\n",
       "        value += \"shift+\";\n",
       "\n",
       "    value += 'k';\n",
       "    value += event.which.toString();\n",
       "\n",
       "    this._key_event_extra(event, name);\n",
       "\n",
       "    this.send_message(name, {key: value,\n",
       "                             guiEvent: simpleKeys(event)});\n",
       "    return false;\n",
       "}\n",
       "\n",
       "mpl.figure.prototype.toolbar_button_onclick = function(name) {\n",
       "    if (name == 'download') {\n",
       "        this.handle_save(this, null);\n",
       "    } else {\n",
       "        this.send_message(\"toolbar_button\", {name: name});\n",
       "    }\n",
       "};\n",
       "\n",
       "mpl.figure.prototype.toolbar_button_onmouseover = function(tooltip) {\n",
       "    this.message.textContent = tooltip;\n",
       "};\n",
       "mpl.toolbar_items = [[\"Home\", \"Reset original view\", \"fa fa-home icon-home\", \"home\"], [\"Back\", \"Back to  previous view\", \"fa fa-arrow-left icon-arrow-left\", \"back\"], [\"Forward\", \"Forward to next view\", \"fa fa-arrow-right icon-arrow-right\", \"forward\"], [\"\", \"\", \"\", \"\"], [\"Pan\", \"Pan axes with left mouse, zoom with right\", \"fa fa-arrows icon-move\", \"pan\"], [\"Zoom\", \"Zoom to rectangle\", \"fa fa-square-o icon-check-empty\", \"zoom\"], [\"\", \"\", \"\", \"\"], [\"Download\", \"Download plot\", \"fa fa-floppy-o icon-save\", \"download\"]];\n",
       "\n",
       "mpl.extensions = [\"eps\", \"jpeg\", \"pdf\", \"png\", \"ps\", \"raw\", \"svg\", \"tif\"];\n",
       "\n",
       "mpl.default_extension = \"png\";var comm_websocket_adapter = function(comm) {\n",
       "    // Create a \"websocket\"-like object which calls the given IPython comm\n",
       "    // object with the appropriate methods. Currently this is a non binary\n",
       "    // socket, so there is still some room for performance tuning.\n",
       "    var ws = {};\n",
       "\n",
       "    ws.close = function() {\n",
       "        comm.close()\n",
       "    };\n",
       "    ws.send = function(m) {\n",
       "        //console.log('sending', m);\n",
       "        comm.send(m);\n",
       "    };\n",
       "    // Register the callback with on_msg.\n",
       "    comm.on_msg(function(msg) {\n",
       "        //console.log('receiving', msg['content']['data'], msg);\n",
       "        // Pass the mpl event to the overriden (by mpl) onmessage function.\n",
       "        ws.onmessage(msg['content']['data'])\n",
       "    });\n",
       "    return ws;\n",
       "}\n",
       "\n",
       "mpl.mpl_figure_comm = function(comm, msg) {\n",
       "    // This is the function which gets called when the mpl process\n",
       "    // starts-up an IPython Comm through the \"matplotlib\" channel.\n",
       "\n",
       "    var id = msg.content.data.id;\n",
       "    // Get hold of the div created by the display call when the Comm\n",
       "    // socket was opened in Python.\n",
       "    var element = $(\"#\" + id);\n",
       "    var ws_proxy = comm_websocket_adapter(comm)\n",
       "\n",
       "    function ondownload(figure, format) {\n",
       "        window.open(figure.imageObj.src);\n",
       "    }\n",
       "\n",
       "    var fig = new mpl.figure(id, ws_proxy,\n",
       "                           ondownload,\n",
       "                           element.get(0));\n",
       "\n",
       "    // Call onopen now - mpl needs it, as it is assuming we've passed it a real\n",
       "    // web socket which is closed, not our websocket->open comm proxy.\n",
       "    ws_proxy.onopen();\n",
       "\n",
       "    fig.parent_element = element.get(0);\n",
       "    fig.cell_info = mpl.find_output_cell(\"<div id='\" + id + \"'></div>\");\n",
       "    if (!fig.cell_info) {\n",
       "        console.error(\"Failed to find cell for figure\", id, fig);\n",
       "        return;\n",
       "    }\n",
       "\n",
       "    var output_index = fig.cell_info[2]\n",
       "    var cell = fig.cell_info[0];\n",
       "\n",
       "};\n",
       "\n",
       "mpl.figure.prototype.handle_close = function(fig, msg) {\n",
       "    fig.root.unbind('remove')\n",
       "\n",
       "    // Update the output cell to use the data from the current canvas.\n",
       "    fig.push_to_output();\n",
       "    var dataURL = fig.canvas.toDataURL();\n",
       "    // Re-enable the keyboard manager in IPython - without this line, in FF,\n",
       "    // the notebook keyboard shortcuts fail.\n",
       "    IPython.keyboard_manager.enable()\n",
       "    $(fig.parent_element).html('<img src=\"' + dataURL + '\">');\n",
       "    fig.close_ws(fig, msg);\n",
       "}\n",
       "\n",
       "mpl.figure.prototype.close_ws = function(fig, msg){\n",
       "    fig.send_message('closing', msg);\n",
       "    // fig.ws.close()\n",
       "}\n",
       "\n",
       "mpl.figure.prototype.push_to_output = function(remove_interactive) {\n",
       "    // Turn the data on the canvas into data in the output cell.\n",
       "    var dataURL = this.canvas.toDataURL();\n",
       "    this.cell_info[1]['text/html'] = '<img src=\"' + dataURL + '\">';\n",
       "}\n",
       "\n",
       "mpl.figure.prototype.updated_canvas_event = function() {\n",
       "    // Tell IPython that the notebook contents must change.\n",
       "    IPython.notebook.set_dirty(true);\n",
       "    this.send_message(\"ack\", {});\n",
       "    var fig = this;\n",
       "    // Wait a second, then push the new image to the DOM so\n",
       "    // that it is saved nicely (might be nice to debounce this).\n",
       "    setTimeout(function () { fig.push_to_output() }, 1000);\n",
       "}\n",
       "\n",
       "mpl.figure.prototype._init_toolbar = function() {\n",
       "    var fig = this;\n",
       "\n",
       "    var nav_element = $('<div/>')\n",
       "    nav_element.attr('style', 'width: 100%');\n",
       "    this.root.append(nav_element);\n",
       "\n",
       "    // Define a callback function for later on.\n",
       "    function toolbar_event(event) {\n",
       "        return fig.toolbar_button_onclick(event['data']);\n",
       "    }\n",
       "    function toolbar_mouse_event(event) {\n",
       "        return fig.toolbar_button_onmouseover(event['data']);\n",
       "    }\n",
       "\n",
       "    for(var toolbar_ind in mpl.toolbar_items){\n",
       "        var name = mpl.toolbar_items[toolbar_ind][0];\n",
       "        var tooltip = mpl.toolbar_items[toolbar_ind][1];\n",
       "        var image = mpl.toolbar_items[toolbar_ind][2];\n",
       "        var method_name = mpl.toolbar_items[toolbar_ind][3];\n",
       "\n",
       "        if (!name) { continue; };\n",
       "\n",
       "        var button = $('<button class=\"btn btn-default\" href=\"#\" title=\"' + name + '\"><i class=\"fa ' + image + ' fa-lg\"></i></button>');\n",
       "        button.click(method_name, toolbar_event);\n",
       "        button.mouseover(tooltip, toolbar_mouse_event);\n",
       "        nav_element.append(button);\n",
       "    }\n",
       "\n",
       "    // Add the status bar.\n",
       "    var status_bar = $('<span class=\"mpl-message\" style=\"text-align:right; float: right;\"/>');\n",
       "    nav_element.append(status_bar);\n",
       "    this.message = status_bar[0];\n",
       "\n",
       "    // Add the close button to the window.\n",
       "    var buttongrp = $('<div class=\"btn-group inline pull-right\"></div>');\n",
       "    var button = $('<button class=\"btn btn-mini btn-primary\" href=\"#\" title=\"Stop Interaction\"><i class=\"fa fa-power-off icon-remove icon-large\"></i></button>');\n",
       "    button.click(function (evt) { fig.handle_close(fig, {}); } );\n",
       "    button.mouseover('Stop Interaction', toolbar_mouse_event);\n",
       "    buttongrp.append(button);\n",
       "    var titlebar = this.root.find($('.ui-dialog-titlebar'));\n",
       "    titlebar.prepend(buttongrp);\n",
       "}\n",
       "\n",
       "mpl.figure.prototype._root_extra_style = function(el){\n",
       "    var fig = this\n",
       "    el.on(\"remove\", function(){\n",
       "\tfig.close_ws(fig, {});\n",
       "    });\n",
       "}\n",
       "\n",
       "mpl.figure.prototype._canvas_extra_style = function(el){\n",
       "    // this is important to make the div 'focusable\n",
       "    el.attr('tabindex', 0)\n",
       "    // reach out to IPython and tell the keyboard manager to turn it's self\n",
       "    // off when our div gets focus\n",
       "\n",
       "    // location in version 3\n",
       "    if (IPython.notebook.keyboard_manager) {\n",
       "        IPython.notebook.keyboard_manager.register_events(el);\n",
       "    }\n",
       "    else {\n",
       "        // location in version 2\n",
       "        IPython.keyboard_manager.register_events(el);\n",
       "    }\n",
       "\n",
       "}\n",
       "\n",
       "mpl.figure.prototype._key_event_extra = function(event, name) {\n",
       "    var manager = IPython.notebook.keyboard_manager;\n",
       "    if (!manager)\n",
       "        manager = IPython.keyboard_manager;\n",
       "\n",
       "    // Check for shift+enter\n",
       "    if (event.shiftKey && event.which == 13) {\n",
       "        this.canvas_div.blur();\n",
       "        event.shiftKey = false;\n",
       "        // Send a \"J\" for go to next cell\n",
       "        event.which = 74;\n",
       "        event.keyCode = 74;\n",
       "        manager.command_mode();\n",
       "        manager.handle_keydown(event);\n",
       "    }\n",
       "}\n",
       "\n",
       "mpl.figure.prototype.handle_save = function(fig, msg) {\n",
       "    fig.ondownload(fig, null);\n",
       "}\n",
       "\n",
       "\n",
       "mpl.find_output_cell = function(html_output) {\n",
       "    // Return the cell and output element which can be found *uniquely* in the notebook.\n",
       "    // Note - this is a bit hacky, but it is done because the \"notebook_saving.Notebook\"\n",
       "    // IPython event is triggered only after the cells have been serialised, which for\n",
       "    // our purposes (turning an active figure into a static one), is too late.\n",
       "    var cells = IPython.notebook.get_cells();\n",
       "    var ncells = cells.length;\n",
       "    for (var i=0; i<ncells; i++) {\n",
       "        var cell = cells[i];\n",
       "        if (cell.cell_type === 'code'){\n",
       "            for (var j=0; j<cell.output_area.outputs.length; j++) {\n",
       "                var data = cell.output_area.outputs[j];\n",
       "                if (data.data) {\n",
       "                    // IPython >= 3 moved mimebundle to data attribute of output\n",
       "                    data = data.data;\n",
       "                }\n",
       "                if (data['text/html'] == html_output) {\n",
       "                    return [cell, data, j];\n",
       "                }\n",
       "            }\n",
       "        }\n",
       "    }\n",
       "}\n",
       "\n",
       "// Register the function which deals with the matplotlib target/channel.\n",
       "// The kernel may be null if the page has been refreshed.\n",
       "if (IPython.notebook.kernel != null) {\n",
       "    IPython.notebook.kernel.comm_manager.register_target('matplotlib', mpl.mpl_figure_comm);\n",
       "}\n"
      ],
      "text/plain": [
       "<IPython.core.display.Javascript object>"
      ]
     },
     "metadata": {},
     "output_type": "display_data"
    },
    {
     "data": {
      "text/html": [
       "<img src=\"data:image/png;base64,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\">"
      ],
      "text/plain": [
       "<IPython.core.display.HTML object>"
      ]
     },
     "metadata": {},
     "output_type": "display_data"
    }
   ],
   "source": [
    "draw_interactive(f.plot())"
   ]
  },
  {
   "cell_type": "code",
   "execution_count": 20,
   "metadata": {
    "collapsed": true
   },
   "outputs": [],
   "source": [
    "trace0 = Scatter(x = mr, y = heats)\n",
    "data = Data([trace0])"
   ]
  },
  {
   "cell_type": "code",
   "execution_count": 25,
   "metadata": {
    "collapsed": false
   },
   "outputs": [
    {
     "data": {
      "text/plain": [
       "['blank', 'global_heat']"
      ]
     },
     "execution_count": 25,
     "metadata": {},
     "output_type": "execute_result"
    }
   ],
   "source": [
    "global_var"
   ]
  },
  {
   "cell_type": "code",
   "execution_count": 51,
   "metadata": {
    "collapsed": false
   },
   "outputs": [
    {
     "data": {
      "text/plain": [
       "({}, [])"
      ]
     },
     "execution_count": 51,
     "metadata": {},
     "output_type": "execute_result"
    }
   ],
   "source": [
    "glob_exp, exp_w"
   ]
  },
  {
   "cell_type": "code",
   "execution_count": 26,
   "metadata": {
    "collapsed": false,
    "scrolled": false
   },
   "outputs": [
    {
     "data": {
      "text/plain": [
       "({}, [{'dilution_heat': 0.0, 'dilution_intercept': 0.0}])"
      ]
     },
     "execution_count": 26,
     "metadata": {},
     "output_type": "execute_result"
    }
   ],
   "source": [
    "f.param_guesses"
   ]
  },
  {
   "cell_type": "code",
   "execution_count": 22,
   "metadata": {
    "collapsed": false
   },
   "outputs": [],
   "source": [
    "glob_test = glob_exp['global_heat']"
   ]
  },
  {
   "cell_type": "code",
   "execution_count": 23,
   "metadata": {
    "collapsed": false
   },
   "outputs": [],
   "source": [
    "glob_test.remove_exp()"
   ]
  },
  {
   "cell_type": "code",
   "execution_count": 128,
   "metadata": {
    "collapsed": false
   },
   "outputs": [
    {
     "name": "stdout",
     "output_type": "stream",
     "text": [
      "dH,0 :  2179.4 0.123439080702\n",
      "fx_competent,0 :  1.01650347751 0.335816775955\n",
      "dilution_intercept,0 :  7.67414710493 1.75280011595\n",
      "K,0 :  31486172.0624 4.36286960563e-05\n",
      "dilution_heat,0 :  -62629.3234509 0.00587066072782\n"
     ]
    }
   ],
   "source": [
    "global_param, local_param = f.fit_param\n",
    "global_error, local_error = f.fit_error\n",
    "n = 0\n",
    "\n",
    "for param, error in zip(local_param, local_error):\n",
    "    for p, e in zip(param, error):\n",
    "        print(\"{},{}\".format(p, n), ': ', param[p], error[e])\n",
    "    n+=1"
   ]
  },
  {
   "cell_type": "code",
   "execution_count": 129,
   "metadata": {
    "collapsed": false
   },
   "outputs": [
    {
     "data": {
      "text/plain": [
       "{}"
      ]
     },
     "execution_count": 129,
     "metadata": {},
     "output_type": "execute_result"
    }
   ],
   "source": [
    "global_param"
   ]
  },
  {
   "cell_type": "code",
   "execution_count": 143,
   "metadata": {
    "collapsed": true
   },
   "outputs": [],
   "source": [
    "global_param, local_param = f.param_names\n",
    "global_guesses, local_guesses = f.param_guesses\n",
    "global_ranges, local_ranges = f.param_ranges\n",
    "global_fixed, local_fixed = f.fixed_param "
   ]
  },
  {
   "cell_type": "code",
   "execution_count": 78,
   "metadata": {
    "collapsed": true
   },
   "outputs": [],
   "source": [
    "exp = f.experiments[0]"
   ]
  },
  {
   "cell_type": "code",
   "execution_count": 80,
   "metadata": {
    "collapsed": false
   },
   "outputs": [
    {
     "data": {
      "text/plain": [
       "({},\n",
       " [{'K': (-inf, inf),\n",
       "   'dH': (-10000.0, 500.0),\n",
       "   'dilution_heat': (-inf, inf),\n",
       "   'dilution_intercept': (-inf, inf),\n",
       "   'fx_competent': (-inf, inf)}])"
      ]
     },
     "execution_count": 80,
     "metadata": {},
     "output_type": "execute_result"
    }
   ],
   "source": [
    "f.param_bounds"
   ]
  },
  {
   "cell_type": "code",
   "execution_count": 77,
   "metadata": {
    "collapsed": false
   },
   "outputs": [],
   "source": [
    "exp_2 = exp_w[0][0]"
   ]
  },
  {
   "cell_type": "code",
   "execution_count": 60,
   "metadata": {
    "collapsed": false
   },
   "outputs": [],
   "source": [
    "exp_sliders = exp_2.gen_sliders()"
   ]
  },
  {
   "cell_type": "code",
   "execution_count": 61,
   "metadata": {
    "collapsed": false,
    "scrolled": true
   },
   "outputs": [
    {
     "data": {
      "text/plain": [
       "[<__main__.LocalSliders at 0x1140ce278>,\n",
       " <__main__.LocalSliders at 0x113e92320>,\n",
       " <__main__.LocalSliders at 0x114ab4e10>,\n",
       " <__main__.LocalSliders at 0x1044b8780>,\n",
       " <__main__.LocalSliders at 0x113e852e8>]"
      ]
     },
     "execution_count": 61,
     "metadata": {},
     "output_type": "execute_result"
    }
   ],
   "source": [
    "exp_sliders"
   ]
  },
  {
   "cell_type": "code",
   "execution_count": 18,
   "metadata": {
    "collapsed": false
   },
   "outputs": [
    {
     "ename": "TypeError",
     "evalue": "'tuple' object is not callable",
     "output_type": "error",
     "traceback": [
      "\u001b[0;31m---------------------------------------------------------------------------\u001b[0m",
      "\u001b[0;31mTypeError\u001b[0m                                 Traceback (most recent call last)",
      "\u001b[0;32m<ipython-input-18-7fc751371358>\u001b[0m in \u001b[0;36m<module>\u001b[0;34m()\u001b[0m\n\u001b[1;32m      1\u001b[0m \u001b[0;32mfor\u001b[0m \u001b[0ms\u001b[0m \u001b[0;32min\u001b[0m \u001b[0mexp_sliders\u001b[0m\u001b[0;34m:\u001b[0m\u001b[0;34m\u001b[0m\u001b[0m\n\u001b[0;32m----> 2\u001b[0;31m     \u001b[0ms\u001b[0m\u001b[0;34m.\u001b[0m\u001b[0mbuild_sliders\u001b[0m\u001b[0;34m(\u001b[0m\u001b[0;34m)\u001b[0m\u001b[0;34m\u001b[0m\u001b[0m\n\u001b[0m",
      "\u001b[0;32m<ipython-input-4-32b338231203>\u001b[0m in \u001b[0;36mbuild_sliders\u001b[0;34m(self)\u001b[0m\n\u001b[1;32m    137\u001b[0m     \u001b[0;34m@\u001b[0m\u001b[0mproperty\u001b[0m\u001b[0;34m\u001b[0m\u001b[0m\n\u001b[1;32m    138\u001b[0m     \u001b[0;32mdef\u001b[0m \u001b[0mbuild_sliders\u001b[0m\u001b[0;34m(\u001b[0m\u001b[0mself\u001b[0m\u001b[0;34m)\u001b[0m\u001b[0;34m:\u001b[0m\u001b[0;34m\u001b[0m\u001b[0m\n\u001b[0;32m--> 139\u001b[0;31m         \u001b[0msuper\u001b[0m\u001b[0;34m(\u001b[0m\u001b[0;34m)\u001b[0m\u001b[0;34m.\u001b[0m\u001b[0mbuild_sliders\u001b[0m\u001b[0;34m(\u001b[0m\u001b[0;34m)\u001b[0m\u001b[0;34m\u001b[0m\u001b[0m\n\u001b[0m\u001b[1;32m    140\u001b[0m \u001b[0;34m\u001b[0m\u001b[0m\n\u001b[1;32m    141\u001b[0m         \u001b[0mexp_range\u001b[0m \u001b[0;34m=\u001b[0m \u001b[0mself\u001b[0m\u001b[0;34m.\u001b[0m\u001b[0m_exp\u001b[0m\u001b[0;34m.\u001b[0m\u001b[0mmodel\u001b[0m\u001b[0;34m.\u001b[0m\u001b[0mparam_guess_ranges\u001b[0m\u001b[0;34m[\u001b[0m\u001b[0mself\u001b[0m\u001b[0;34m.\u001b[0m\u001b[0m_param_name\u001b[0m\u001b[0;34m]\u001b[0m\u001b[0;34m\u001b[0m\u001b[0m\n",
      "\u001b[0;31mTypeError\u001b[0m: 'tuple' object is not callable"
     ]
    }
   ],
   "source": [
    "for s in exp_sliders:\n",
    "    s.build_sliders()"
   ]
  },
  {
   "cell_type": "code",
   "execution_count": 97,
   "metadata": {
    "collapsed": false
   },
   "outputs": [
    {
     "data": {
      "text/plain": [
       "({'F': [-10000.0, 10000.0]},\n",
       " [{'K': [1.0, 100000000.0],\n",
       "   'dilution_heat': [-10000.0, 10000.0],\n",
       "   'dilution_intercept': [-10000.0, 10000.0],\n",
       "   'fx_competent': [0.0, 2.0]},\n",
       "  {'dilution_heat': [-10000.0, 10000.0],\n",
       "   'dilution_intercept': [-10000.0, 10000.0]}])"
      ]
     },
     "execution_count": 97,
     "metadata": {},
     "output_type": "execute_result"
    }
   ],
   "source": [
    "f.param_ranges"
   ]
  },
  {
   "cell_type": "code",
   "execution_count": null,
   "metadata": {
    "collapsed": true
   },
   "outputs": [],
   "source": [
    "path = \"t\""
   ]
  },
  {
   "cell_type": "code",
   "execution_count": 273,
   "metadata": {
    "collapsed": false
   },
   "outputs": [
    {
     "name": "stdout",
     "output_type": "stream",
     "text": [
      "how are you doing???\n"
     ]
    }
   ],
   "source": [
    "test_text = widgets.Text()\n",
    "display(test_text)\n",
    "\n",
    "def text_fire(sender):\n",
    "    print(test_text.value)\n",
    "    test_text.disabled = True\n",
    "    \n",
    "test_text.on_submit(text_fire)"
   ]
  },
  {
   "cell_type": "code",
   "execution_count": 264,
   "metadata": {
    "collapsed": false
   },
   "outputs": [],
   "source": [
    "test_text.disabled = True"
   ]
  },
  {
   "cell_type": "code",
   "execution_count": 56,
   "metadata": {
    "collapsed": true
   },
   "outputs": [],
   "source": [
    "file_dropdown.options = file_dict"
   ]
  },
  {
   "cell_type": "code",
   "execution_count": 51,
   "metadata": {
    "collapsed": true
   },
   "outputs": [],
   "source": [
    "exp_path = widgets.Text(description = \"Folder Path: \")\n",
    "file_dropdown = widgets.Dropdown()\n",
    "    \n",
    "def pop_files(file_list):\n",
    "    path_loc = exp_path.value\n",
    "    path_name = \"{}/**/*.DH\".format(path_loc)\n",
    "    \n",
    "    file_list = glob.glob(path_name)\n",
    "    file_dropdown.options = file_list\n",
    "    \n",
    "#file_inter = widgets.interactive(pop_files, file_list = file_dropdown)"
   ]
  },
  {
   "cell_type": "code",
   "execution_count": 277,
   "metadata": {
    "collapsed": true
   },
   "outputs": [],
   "source": [
    "file_dropdown.disabled = True"
   ]
  },
  {
   "cell_type": "code",
   "execution_count": 276,
   "metadata": {
    "collapsed": true
   },
   "outputs": [],
   "source": [
    "file_dropdown"
   ]
  },
  {
   "cell_type": "code",
   "execution_count": 124,
   "metadata": {
    "collapsed": false
   },
   "outputs": [],
   "source": [
    "file_list = glob.glob(\"./**/*.DH\")\n",
    "file_dict = {fname.split('/')[-1]: fname for fname in file_list}"
   ]
  },
  {
   "cell_type": "code",
   "execution_count": 125,
   "metadata": {
    "collapsed": false
   },
   "outputs": [
    {
     "data": {
      "text/plain": [
       "{'blank.DH': './test-data/blank.DH',\n",
       " 'hA5A5conTESCaTCEP.DH': './test-data/hA5A5conTESCaTCEP.DH',\n",
       " 'hA5NCX1TESCaTCEP.DH': './test-data/hA5NCX1TESCaTCEP.DH',\n",
       " 'real-blank-match.DH': './test-data/real-blank-match.DH'}"
      ]
     },
     "execution_count": 125,
     "metadata": {},
     "output_type": "execute_result"
    }
   ],
   "source": [
    "file_dict"
   ]
  },
  {
   "cell_type": "code",
   "execution_count": 463,
   "metadata": {
    "collapsed": false
   },
   "outputs": [],
   "source": [
    "class Sliders():\n",
    "    def __init__(self, exp, fitter, gui, param_name, global_vars, global_exp):\n",
    "        \"\"\"\n",
    "        \"\"\"\n",
    "        self._var_opt = {'link': ['blank'], 'unlink': ['unlink']}\n",
    "        \n",
    "        self._loc_link = widgets.Dropdown(value = self._var_opt['unlink'], options = self._var_opt)\n",
    "        self._glob_link = widgets.Dropdown(value = self._loc_link.value[0], options = self._loc_link.value)\n",
    "        self._fixed_check = widgets.Checkbox(value = False)\n",
    "        self._slider = widgets.FloatSlider()\n",
    "        self._fixed_int = widgets.FloatText(display = 'none')\n",
    "        self._s_min = widgets.FloatText()\n",
    "        self._s_max = widgets.FloatText()\n",
    "        \n",
    "        self._exp = exp\n",
    "        self._fitter = fitter\n",
    "        self._gui = gui\n",
    "        self._param_name = param_name\n",
    "        self._global_vars = global_vars\n",
    "        self._global_exp = global_exp\n",
    "        \n",
    "        self._s_min.layout.width = '50px'\n",
    "        self._s_max.layout.width = '50px'\n",
    "        self._fixed_int.layout.width = '50px'\n",
    "        self._fixed_int.layout.display = 'none'\n",
    "    \n",
    "    def logic(self):\n",
    "    \n",
    "        self._fixed_check.observe(self.check_change, 'value')\n",
    "        self._loc_link.observe(self.link_change, 'value')\n",
    "        self._s_min.observe(self.min_change, 'value')\n",
    "        self._s_max.observe(self.max_change, 'value')\n",
    "        self._slider.observe(self.param_change, 'value')\n",
    "\n",
    "    #bound not range, but update range\n",
    "    def min_change(self, min_val):\n",
    "\n",
    "        self._slider.min = min_val['new']\n",
    "        self.update_bounds(self._slider.min, self._slider.max)\n",
    "\n",
    "    def max_change(self, max_val):\n",
    "\n",
    "        self._slider.max = max_val['new']\n",
    "        self.update_bounds(self._slider.min, self._slider.max)\n",
    "        \n",
    "    def update_bounds(self, s_min, s_max):\n",
    "        \n",
    "        bounds = [s_min, s_max]\n",
    "        self._fitter.update_bounds(self._param_name, bounds, self._exp)\n",
    "        \n",
    "        # check if bounds are smaller than range, then update.\n",
    "        curr_range = self._exp.model.param_guess_ranges[self._param_name]\n",
    "        curr_bounds = self._exp.model.bounds[self._param_name]\n",
    "        \n",
    "        if curr_range[0] < curr_bounds[0] or curr_range[1] > curr_bounds[1]:\n",
    "            self._fitter.update_range(self._param_name, bounds, self._exp)\n",
    "\n",
    "    def check_change(self, val):\n",
    "\n",
    "        if val['new']:\n",
    "            self._slider.layout.display = 'none'\n",
    "            self._fixed_int.layout.display = ''\n",
    "            self._fitter.update_fixed(self._param_name, self._fixed_int.value, self._exp)\n",
    "        elif val['new'] == False and self._loc_link.value[0] == 'link':\n",
    "            self._slider.layout.display = 'none'\n",
    "            self._fixed_int.layout.display = 'none'\n",
    "        elif val['new'] == False and self._loc_link.value[0] == 'unlink': \n",
    "            self._slider.layout.display = ''\n",
    "            self._fixed_int.layout.display = 'none'\n",
    "\n",
    "\n",
    "    def link_change(self, select):\n",
    "\n",
    "        if select['new'][0] == 'unlink' and self._fixed_check.value == False:\n",
    "            self._slider.layout.display = ''\n",
    "            self._fixed_int.layout.display = 'none'\n",
    "        elif select['new'][0] == 'unlink' and self._fixed_check.value:\n",
    "            self._slider.layout.display = 'none'\n",
    "            self._fixed_int.layout.display = ''\n",
    "        else:\n",
    "            self._slider.layout.display = 'none'\n",
    "            self._fixed_int.layout.display = 'none'\n",
    "\n",
    "    def create_global(self, glob_var):\n",
    "\n",
    "        if glob_var != 'unlink' and glob_var != 'blank':\n",
    "            try:\n",
    "                self._fitter.link_to_global(self._exp, self._param_name, glob_var)\n",
    "                new_global = GlobalExp(self._gui, self._global_exp, self._fitter, glob_var)\n",
    "                self._global_exp[glob_var] = new_global\n",
    "            except:\n",
    "                pass\n",
    "\n",
    "    def create_local(self, loc_var):\n",
    "\n",
    "        self._var_opt['link'] = self._global_vars\n",
    "        self._loc_link.options = self._var_opt\n",
    "        \n",
    "        if loc_var[0] == 'unlink':\n",
    "            try:\n",
    "                self._fitter.unlink_from_global(self._exp, self._param_name)\n",
    "            except: \n",
    "                pass\n",
    "        else:\n",
    "             self._glob_link.options = loc_var\n",
    "                \n",
    "    def param_change(self, param_val):\n",
    "        \n",
    "        guess = param_val['new']\n",
    "        \n",
    "        self._fitter.update_guess(self._param_name, guess, self._exp)\n",
    "    \n",
    "    def build_sliders(self):\n",
    "        \"\"\"\n",
    "        build sliders!\n",
    "        \"\"\"\n",
    "        \n",
    "        self.logic()\n",
    "        \n",
    "        exp_range = self._exp.model.param_guess_ranges[self._param_name]\n",
    "        self._slider.min = exp_range[0]\n",
    "        self._slider.max = exp_range[1]\n",
    "        \n",
    "        bounds_label = widgets.Label(value = \"bounds: \")\n",
    "        name_label = widgets.Label(value = \"{}: \".format(self._param_name))\n",
    "        loc_inter = widgets.interactive(self.create_local, loc_var = self._loc_link)\n",
    "        #loc_inter.layout.width = '200px'\n",
    "        glob_inter = widgets.interactive(self.create_global, glob_var =  self._glob_link)\n",
    "        #glob_inter.layout.width = '200px'\n",
    "\n",
    "        min_max = widgets.HBox(children = [bounds_label, self._s_min, self._s_max])\n",
    "        \n",
    "        main = widgets.HBox(children = [self._fixed_check, self._slider, loc_inter, glob_inter, self._fixed_int, min_max])\n",
    "        \n",
    "        all_widgets = widgets.VBox(children = [name_label, main])\n",
    "        all_widgets.layout.width = '80%'\n",
    "\n",
    "        return all_widgets"
   ]
  },
  {
   "cell_type": "code",
   "execution_count": 475,
   "metadata": {
    "collapsed": true
   },
   "outputs": [],
   "source": [
    "glob_list = {}"
   ]
  },
  {
   "cell_type": "code",
   "execution_count": 476,
   "metadata": {
    "collapsed": true
   },
   "outputs": [],
   "source": [
    "exp = f.experiments[0]"
   ]
  },
  {
   "cell_type": "code",
   "execution_count": 485,
   "metadata": {
    "collapsed": false
   },
   "outputs": [],
   "source": [
    "slider = Sliders(exp, f, gui, 'dH', global_var, glob_exp)\n",
    "dilution = Sliders(exp, f, gui, 'dilution_heat', global_var, glob_exp)"
   ]
  },
  {
   "cell_type": "code",
   "execution_count": 486,
   "metadata": {
    "collapsed": false
   },
   "outputs": [
    {
     "data": {
      "text/plain": [
       "({},\n",
       " [{'K': 1.0,\n",
       "   'dH': -4000.0,\n",
       "   'dilution_heat': 0.0,\n",
       "   'dilution_intercept': 0.0,\n",
       "   'fx_competent': 1.0}])"
      ]
     },
     "execution_count": 486,
     "metadata": {},
     "output_type": "execute_result"
    }
   ],
   "source": [
    "f.fit_param"
   ]
  },
  {
   "cell_type": "code",
   "execution_count": 487,
   "metadata": {
    "collapsed": false
   },
   "outputs": [],
   "source": [
    "box = slider.build_sliders()\n",
    "dilution_box = dilution.build_sliders()"
   ]
  },
  {
   "cell_type": "code",
   "execution_count": 53,
   "metadata": {
    "collapsed": true
   },
   "outputs": [],
   "source": [
    "def update_plot(children):\n",
    "    \n",
    "    if children['new'] != children['old']:\n",
    "        f.fit()\n",
    "        f.plot()\n",
    "        \n",
    "    print(children)"
   ]
  },
  {
   "cell_type": "code",
   "execution_count": 54,
   "metadata": {
    "collapsed": true
   },
   "outputs": [],
   "source": [
    "box.observe(update_plot, 'children')"
   ]
  },
  {
   "cell_type": "code",
   "execution_count": 259,
   "metadata": {
    "collapsed": false
   },
   "outputs": [],
   "source": [
    "box.layout.visibility = ''"
   ]
  },
  {
   "cell_type": "code",
   "execution_count": 488,
   "metadata": {
    "collapsed": true
   },
   "outputs": [],
   "source": [
    "box"
   ]
  },
  {
   "cell_type": "code",
   "execution_count": 489,
   "metadata": {
    "collapsed": true
   },
   "outputs": [],
   "source": [
    "dilution_box"
   ]
  },
  {
   "cell_type": "code",
   "execution_count": 490,
   "metadata": {
    "collapsed": false
   },
   "outputs": [
    {
     "data": {
      "text/plain": [
       "{'S': <__main__.GlobalExp at 0x118046080>}"
      ]
     },
     "execution_count": 490,
     "metadata": {},
     "output_type": "execute_result"
    }
   ],
   "source": [
    "glob_exp"
   ]
  },
  {
   "cell_type": "code",
   "execution_count": 319,
   "metadata": {
    "collapsed": false
   },
   "outputs": [
    {
     "name": "stderr",
     "output_type": "stream",
     "text": [
      "/Users/hrnmy/Documents/Harms/pytc/pytc/experiments.py:88: FutureWarning:\n",
      "\n",
      "comparison to `None` will result in an elementwise object comparison in the future.\n",
      "\n",
      "/Users/hrnmy/Documents/Harms/pytc/pytc/fitting.py:286: FutureWarning:\n",
      "\n",
      "comparison to `None` will result in an elementwise object comparison in the future.\n",
      "\n",
      "/Users/hrnmy/Documents/Harms/pytc/pytc/fitting.py:301: FutureWarning:\n",
      "\n",
      "comparison to `None` will result in an elementwise object comparison in the future.\n",
      "\n"
     ]
    },
    {
     "data": {
      "image/png": "[encoded data removed]",
      "text/plain": [
       "<matplotlib.figure.Figure at 0x1150de780>"
      ]
     },
     "metadata": {},
     "output_type": "display_data"
    }
   ],
   "source": [
    "f.fit()\n",
    "f.plot()"
   ]
  },
  {
   "cell_type": "code",
   "execution_count": 70,
   "metadata": {
    "collapsed": false
   },
   "outputs": [
    {
     "data": {
      "text/plain": [
       "'dWnwqHQhTavPRcurrbda'"
      ]
     },
     "execution_count": 70,
     "metadata": {},
     "output_type": "execute_result"
    }
   ],
   "source": [
    "f.experiments[1].experiment_id"
   ]
  },
  {
   "cell_type": "code",
   "execution_count": 21,
   "metadata": {
    "collapsed": false,
    "scrolled": true
   },
   "outputs": [
    {
     "data": {
      "text/plain": [
       "{'_cross_validation_lock': False,\n",
       " '_model_id': '5a93da7299104cc68cb299e50de80750',\n",
       " '_trait_notifiers': {'background_color': {'change': [<function ipywidgets.widgets.domwidget.DOMWidget._deprecate_traits.<locals>.traitWarn>]},\n",
       "  'color': {'change': [<function ipywidgets.widgets.domwidget.DOMWidget._deprecate_traits.<locals>.traitWarn>]},\n",
       "  'comm': {'change': [<traitlets.traitlets.ObserveHandler at 0x1038ff550>]},\n",
       "  'config': {'change': [<traitlets.traitlets.ObserveHandler at 0x1026668d0>]},\n",
       "  'font_family': {'change': [<function ipywidgets.widgets.domwidget.DOMWidget._deprecate_traits.<locals>.traitWarn>]},\n",
       "  'font_size': {'change': [<function ipywidgets.widgets.domwidget.DOMWidget._deprecate_traits.<locals>.traitWarn>]},\n",
       "  'font_style': {'change': [<function ipywidgets.widgets.domwidget.DOMWidget._deprecate_traits.<locals>.traitWarn>]},\n",
       "  'font_weight': {'change': [<function ipywidgets.widgets.domwidget.DOMWidget._deprecate_traits.<locals>.traitWarn>]},\n",
       "  'value': {'change': [<function __main__.update_plot>,\n",
       "    <function __main__.update_plot>,\n",
       "    <function __main__.update_plot>]}},\n",
       " '_trait_validators': {},\n",
       " '_trait_values': {'_display_callbacks': <ipywidgets.widgets.widget.CallbackDispatcher at 0x1139eef98>,\n",
       "  '_dom_classes': (),\n",
       "  '_model_module': 'jupyter-js-widgets',\n",
       "  '_model_name': 'BoxModel',\n",
       "  '_view_module': 'jupyter-js-widgets',\n",
       "  '_view_name': 'BoxView',\n",
       "  'background_color': None,\n",
       "  'box_style': '',\n",
       "  'children': (<ipywidgets.widgets.widget_string.Label at 0x113c9feb8>,\n",
       "   <ipywidgets.widgets.widget_bool.Checkbox at 0x113a200f0>,\n",
       "   <ipywidgets.widgets.widget_float.FloatSlider at 0x113a20390>,\n",
       "   <ipywidgets.widgets.widget_box.Box at 0x1139ee8d0>,\n",
       "   <ipywidgets.widgets.widget_box.Box at 0x1139eea58>,\n",
       "   <ipywidgets.widgets.widget_float.FloatText at 0x113a1bef0>),\n",
       "  'color': None,\n",
       "  'comm': <ipykernel.comm.comm.Comm at 0x1139ee2b0>,\n",
       "  'config': {},\n",
       "  'font_family': '',\n",
       "  'font_size': '',\n",
       "  'font_style': '',\n",
       "  'font_weight': '',\n",
       "  'keys': ['msg_throttle',\n",
       "   'overflow_x',\n",
       "   'font_weight',\n",
       "   'overflow_y',\n",
       "   '_view_module',\n",
       "   '_view_name',\n",
       "   '_dom_classes',\n",
       "   'font_style',\n",
       "   '_model_name',\n",
       "   'layout',\n",
       "   'color',\n",
       "   'children',\n",
       "   'font_family',\n",
       "   '_model_module',\n",
       "   'visible',\n",
       "   'background_color',\n",
       "   'font_size',\n",
       "   'box_style'],\n",
       "  'layout': <ipywidgets.widgets.widget_layout.Layout at 0x1139ee198>,\n",
       "  'msg_throttle': 3,\n",
       "  'overflow_x': '',\n",
       "  'overflow_y': '',\n",
       "  'parent': None,\n",
       "  'visible': True}}"
      ]
     },
     "execution_count": 21,
     "metadata": {},
     "output_type": "execute_result"
    }
   ],
   "source": [
    "box.__dict__"
   ]
  },
  {
   "cell_type": "code",
   "execution_count": 63,
   "metadata": {
    "collapsed": false
   },
   "outputs": [
    {
     "data": {
      "text/plain": [
       "[-10000.0, 10000.0]"
      ]
     },
     "execution_count": 63,
     "metadata": {},
     "output_type": "execute_result"
    }
   ],
   "source": [
    "exp.model.param_guess_ranges['dH']"
   ]
  },
  {
   "cell_type": "code",
   "execution_count": 60,
   "metadata": {
    "collapsed": true
   },
   "outputs": [],
   "source": [
    "bounds = [3000, 100000]"
   ]
  },
  {
   "cell_type": "code",
   "execution_count": 63,
   "metadata": {
    "collapsed": false
   },
   "outputs": [
    {
     "ename": "TypeError",
     "evalue": "'dict' object is not callable",
     "output_type": "error",
     "traceback": [
      "\u001b[0;31m---------------------------------------------------------------------------\u001b[0m",
      "\u001b[0;31mTypeError\u001b[0m                                 Traceback (most recent call last)",
      "\u001b[0;32m<ipython-input-63-57c055cb5597>\u001b[0m in \u001b[0;36m<module>\u001b[0;34m()\u001b[0m\n\u001b[0;32m----> 1\u001b[0;31m \u001b[0mf\u001b[0m\u001b[0;34m.\u001b[0m\u001b[0mupdate_bounds\u001b[0m\u001b[0;34m(\u001b[0m\u001b[0;34m'dH'\u001b[0m\u001b[0;34m,\u001b[0m \u001b[0;34m[\u001b[0m\u001b[0;34m-\u001b[0m\u001b[0;36m10000\u001b[0m\u001b[0;34m,\u001b[0m \u001b[0;36m600\u001b[0m\u001b[0;34m]\u001b[0m\u001b[0;34m,\u001b[0m \u001b[0mexp\u001b[0m\u001b[0;34m)\u001b[0m\u001b[0;34m\u001b[0m\u001b[0m\n\u001b[0m",
      "\u001b[0;32m/Users/hrnmy/Documents/Harms/pytc/pytc/fitting.py\u001b[0m in \u001b[0;36mupdate_bounds\u001b[0;34m(self, param_name, param_bounds, expt)\u001b[0m\n\u001b[1;32m    550\u001b[0m             \u001b[0mself\u001b[0m\u001b[0;34m.\u001b[0m\u001b[0m_global_params\u001b[0m\u001b[0;34m[\u001b[0m\u001b[0mparam_name\u001b[0m\u001b[0;34m]\u001b[0m\u001b[0;34m.\u001b[0m\u001b[0mbounds\u001b[0m \u001b[0;34m=\u001b[0m \u001b[0mparam_bounds\u001b[0m\u001b[0;34m\u001b[0m\u001b[0m\n\u001b[1;32m    551\u001b[0m         \u001b[0;32melse\u001b[0m\u001b[0;34m:\u001b[0m\u001b[0;34m\u001b[0m\u001b[0m\n\u001b[0;32m--> 552\u001b[0;31m             \u001b[0mself\u001b[0m\u001b[0;34m.\u001b[0m\u001b[0m_expt_dict\u001b[0m\u001b[0;34m[\u001b[0m\u001b[0mexpt\u001b[0m\u001b[0;34m.\u001b[0m\u001b[0mexperiment_id\u001b[0m\u001b[0;34m]\u001b[0m\u001b[0;34m.\u001b[0m\u001b[0mmodel\u001b[0m\u001b[0;34m.\u001b[0m\u001b[0mbounds\u001b[0m\u001b[0;34m(\u001b[0m\u001b[0;34m{\u001b[0m\u001b[0mparam_name\u001b[0m\u001b[0;34m:\u001b[0m\u001b[0mparam_bounds\u001b[0m\u001b[0;34m}\u001b[0m\u001b[0;34m)\u001b[0m\u001b[0;34m\u001b[0m\u001b[0m\n\u001b[0m\u001b[1;32m    553\u001b[0m \u001b[0;34m\u001b[0m\u001b[0m\n\u001b[1;32m    554\u001b[0m     \u001b[0;31m#--------------------------------------------------------------------------\u001b[0m\u001b[0;34m\u001b[0m\u001b[0;34m\u001b[0m\u001b[0m\n",
      "\u001b[0;31mTypeError\u001b[0m: 'dict' object is not callable"
     ]
    }
   ],
   "source": [
    "f.update_bounds('dH', [-10000, 600], exp)"
   ]
  },
  {
   "cell_type": "code",
   "execution_count": 52,
   "metadata": {
    "collapsed": false
   },
   "outputs": [
    {
     "data": {
      "text/plain": [
       "[<pytc.experiments.ITCExperiment at 0x110e86da0>,\n",
       " <pytc.experiments.ITCExperiment at 0x110e86f98>]"
      ]
     },
     "execution_count": 52,
     "metadata": {},
     "output_type": "execute_result"
    }
   ],
   "source": [
    "f.experiments"
   ]
  },
  {
   "cell_type": "code",
   "execution_count": 59,
   "metadata": {
    "collapsed": false
   },
   "outputs": [],
   "source": [
    "parameters = exp.param_values"
   ]
  },
  {
   "cell_type": "code",
   "execution_count": 60,
   "metadata": {
    "collapsed": false
   },
   "outputs": [
    {
     "data": {
      "text/plain": [
       "{'K': 1000000.0,\n",
       " 'dH': 10000.0,\n",
       " 'dilution_heat': 0.0,\n",
       " 'dilution_intercept': 0.0,\n",
       " 'fx_competent': 1.0}"
      ]
     },
     "execution_count": 60,
     "metadata": {},
     "output_type": "execute_result"
    }
   ],
   "source": [
    "parameters"
   ]
  },
  {
   "cell_type": "code",
   "execution_count": 34,
   "metadata": {
    "collapsed": false
   },
   "outputs": [],
   "source": [
    "slider = Sliders(exp, f)\n",
    "opt = slider.link(global_var)"
   ]
  },
  {
   "cell_type": "code",
   "execution_count": 35,
   "metadata": {
    "collapsed": false
   },
   "outputs": [],
   "source": [
    "def opt_one(glob_var):\n",
    "    \n",
    "    print(glob_var)\n",
    "\n",
    "def opt_two(loc_var):\n",
    "    \n",
    "    drop_2.options = loc_var"
   ]
  },
  {
   "cell_type": "code",
   "execution_count": 36,
   "metadata": {
    "collapsed": false
   },
   "outputs": [],
   "source": [
    "drop_1 = widgets.Dropdown(options = opt)\n",
    "val = drop_1.value\n",
    "drop_2 = widgets.Dropdown(options = val)\n",
    "\n",
    "i = widgets.interactive(opt_two, loc_var = drop_1)\n",
    "j = widgets.interactive(opt_one, glob_var = drop_2)"
   ]
  },
  {
   "cell_type": "code",
   "execution_count": 98,
   "metadata": {
    "collapsed": false
   },
   "outputs": [],
   "source": [
    "dropdown = widgets.Dropdown(value = opt['unlink'], options = opt)\n",
    "checkbox = widgets.Checkbox(value = False)\n",
    "slider_w = widgets.FloatSlider()\n",
    "float_text = widgets.FloatText()\n",
    "float_min = widgets.FloatText()\n",
    "float_max = widgets.FloatText()\n",
    "float_min.layout.width = '100px'\n",
    "float_max.layout.width = '100px'\n",
    "float_text.layout.width = '50px'\n",
    "float_text.layout.display = 'none'\n",
    "\n",
    "glob_list = dropdown.value\n",
    "glob_dropdown = widgets.Dropdown(options = glob_list)"
   ]
  },
  {
   "cell_type": "code",
   "execution_count": 110,
   "metadata": {
    "collapsed": false
   },
   "outputs": [],
   "source": [
    "def glob_change(glob_var):\n",
    "    \n",
    "    new_var = glob_var['new']\n",
    "    \n",
    "    if new_var and new_var not in global_var:\n",
    "        global_var.append(new_var)\n",
    "        opt_update = slider.link(global_var)\n",
    "        dropdown.options = opt_update\n",
    "        #global_field.value = ''\n",
    "    else:\n",
    "        pass\n",
    "    \n",
    "def glob_interact(glob_var):\n",
    "    \n",
    "    if glob_var and glob_var not in global_var:\n",
    "        global_var.append(glob_var)\n",
    "        opt_update = slider.link(global_var)\n",
    "        dropdown.options = opt_update\n",
    "        #global_field.value = ''\n",
    "    else:\n",
    "        pass\n",
    "    \n",
    "#bound not range, but update range\n",
    "def min_change(min_val):\n",
    "\n",
    "    slider_w.min = min_val['new']\n",
    "    \n",
    "def max_change(max_val):\n",
    "\n",
    "    slider_w.max = max_val['new']\n",
    "\n",
    "    \n",
    "def check_change(val):\n",
    "    \n",
    "    if val['new']:\n",
    "        slider_w.layout.display = 'none'\n",
    "        float_text.layout.display = ''\n",
    "    elif val['new'] == False and dropdown.value[0] == 'link':\n",
    "        slider_w.layout.display = 'none'\n",
    "        float_text.layout.display = 'none'\n",
    "    elif val['new'] == False and dropdown.value[0] == 'unlink': \n",
    "        slider_w.layout.display = ''\n",
    "        float_text.layout.display = 'none'\n",
    "        #clear_output()\n",
    "        \n",
    "    #fixed and update fixed\n",
    "        \n",
    "def link_change(select):\n",
    "    \n",
    "    if select['new'][0] == 'unlink' and checkbox.value == False:\n",
    "        slider_w.layout.display = ''\n",
    "        float_text.layout.display = 'none'\n",
    "    elif select['new'][0] == 'unlink' and checkbox.value:\n",
    "        slider_w.layout.display = 'none'\n",
    "        float_text.layout.display = ''\n",
    "    elif select['new'][0] == 'link':\n",
    "        slider_w.layout.display = 'none'\n",
    "        float_text.layout.display = 'none'\n",
    "    else: \n",
    "        clear_output()\n",
    "        print(select['new'])\n",
    "        \n",
    "def opt_one(glob_var):\n",
    "    \n",
    "    # link variables here.\n",
    "    \n",
    "    pass\n",
    "\n",
    "def opt_two(loc_var):\n",
    "    \n",
    "    opt_update = slider.link(global_var)\n",
    "    dropdown.options = opt_update\n",
    "    if loc_var[0] == 'unlink' or loc_var[0] == 'link':\n",
    "        glob_dropdown.options = []\n",
    "    else:\n",
    "        glob_dropdown.options = loc_var\n",
    "        \n",
    "\n",
    "checkbox.observe(check_change, 'value')\n",
    "dropdown.observe(link_change, 'value')\n",
    "global_field.observe(glob_change, 'value')\n",
    "float_min.observe(min_change, 'value')\n",
    "float_max.observe(max_change, 'value')"
   ]
  },
  {
   "cell_type": "code",
   "execution_count": 88,
   "metadata": {
    "collapsed": false
   },
   "outputs": [],
   "source": [
    "widgets.interactive(glob_interact, glob_var = global_field)"
   ]
  },
  {
   "cell_type": "code",
   "execution_count": 111,
   "metadata": {
    "collapsed": false,
    "scrolled": true
   },
   "outputs": [
    {
     "name": "stdout",
     "output_type": "stream",
     "text": [
      "link\n"
     ]
    }
   ],
   "source": [
    "label = widgets.Label(value = \"bounds: \")\n",
    "loc_inter = widgets.interactive(opt_two, loc_var = dropdown)\n",
    "glob_inter = widgets.interactive(opt_one, glob_var = glob_dropdown)\n",
    "\n",
    "box = widgets.HBox(children = [checkbox, slider_w, loc_inter, glob_inter, float_text])\n",
    "box.layout.width = '90%'\n",
    "\n",
    "min_max = widgets.HBox(children = [label, float_min, float_max])\n",
    "\n",
    "display(min_max, box)"
   ]
  },
  {
   "cell_type": "code",
   "execution_count": 105,
   "metadata": {
    "collapsed": false
   },
   "outputs": [
    {
     "data": {
      "text/plain": [
       "{'dilution_heat': ['J', 'L', 'V', 'M', 'Z'],\n",
       " 'dilution_intercept': ['J', 'L', 'V', 'M', 'Z'],\n",
       " 'link': ['link'],\n",
       " 'unlink': ['unlink']}"
      ]
     },
     "execution_count": 105,
     "metadata": {},
     "output_type": "execute_result"
    }
   ],
   "source": [
    "opt"
   ]
  },
  {
   "cell_type": "code",
   "execution_count": 80,
   "metadata": {
    "collapsed": false
   },
   "outputs": [
    {
     "name": "stdout",
     "output_type": "stream",
     "text": [
      "M\n"
     ]
    }
   ],
   "source": [
    "display(i, j)"
   ]
  },
  {
   "cell_type": "code",
   "execution_count": 47,
   "metadata": {
    "collapsed": false
   },
   "outputs": [
    {
     "data": {
      "text/plain": [
       "{'K': None,\n",
       " 'dH': None,\n",
       " 'dilution_heat': None,\n",
       " 'dilution_intercept': None,\n",
       " 'fx_competent': None}"
      ]
     },
     "execution_count": 47,
     "metadata": {},
     "output_type": "execute_result"
    }
   ],
   "source": [
    "slider.link()"
   ]
  },
  {
   "cell_type": "code",
   "execution_count": 162,
   "metadata": {
    "collapsed": true
   },
   "outputs": [],
   "source": [
    "slider.layout.display = ''"
   ]
  },
  {
   "cell_type": "code",
   "execution_count": 161,
   "metadata": {
    "collapsed": true
   },
   "outputs": [],
   "source": [
    "slider.layout.visibility = 'visible'"
   ]
  },
  {
   "cell_type": "code",
   "execution_count": 27,
   "metadata": {
    "collapsed": false
   },
   "outputs": [],
   "source": [
    "s_test = sliders.gen_sliders()"
   ]
  },
  {
   "cell_type": "code",
   "execution_count": 28,
   "metadata": {
    "collapsed": false
   },
   "outputs": [
    {
     "data": {
      "text/plain": [
       "{'fixed': <ipywidgets.widgets.widget_bool.Checkbox at 0x10af42710>,\n",
       " 'int': <ipywidgets.widgets.widget_float.FloatText at 0x110f249e8>,\n",
       " 'link': <ipywidgets.widgets.widget_selection.Dropdown at 0x10af427b8>}"
      ]
     },
     "execution_count": 28,
     "metadata": {},
     "output_type": "execute_result"
    }
   ],
   "source": [
    "s_test"
   ]
  },
  {
   "cell_type": "code",
   "execution_count": 57,
   "metadata": {
    "collapsed": false
   },
   "outputs": [],
   "source": [
    "blurp = widgets.interactive(logic, **s_test)"
   ]
  },
  {
   "cell_type": "code",
   "execution_count": 65,
   "metadata": {
    "collapsed": false
   },
   "outputs": [],
   "source": [
    "blurp.layout.flex_flow = 'row'\n",
    "blurp.layout.flex = '1 1 1'"
   ]
  },
  {
   "cell_type": "code",
   "execution_count": 69,
   "metadata": {
    "collapsed": true
   },
   "outputs": [],
   "source": [
    "blurp.layout.width = '20%'"
   ]
  },
  {
   "cell_type": "code",
   "execution_count": 74,
   "metadata": {
    "collapsed": false
   },
   "outputs": [],
   "source": [
    "blurp.visible = True"
   ]
  },
  {
   "cell_type": "code",
   "execution_count": 104,
   "metadata": {
    "collapsed": true
   },
   "outputs": [],
   "source": [
    "blurp"
   ]
  },
  {
   "cell_type": "code",
   "execution_count": 138,
   "metadata": {
    "collapsed": false
   },
   "outputs": [],
   "source": [
    "#slider_b = widgets.Box(children = s_test.values())"
   ]
  },
  {
   "cell_type": "code",
   "execution_count": 54,
   "metadata": {
    "collapsed": false
   },
   "outputs": [],
   "source": [
    "update = widgets.Button(description = 'Update')\n",
    "update.on_click(update_s)"
   ]
  },
  {
   "cell_type": "code",
   "execution_count": 55,
   "metadata": {
    "collapsed": false
   },
   "outputs": [
    {
     "name": "stdout",
     "output_type": "stream",
     "text": [
      "False\n"
     ]
    }
   ],
   "source": [
    "display(update)"
   ]
  },
  {
   "cell_type": "code",
   "execution_count": 56,
   "metadata": {
    "collapsed": true
   },
   "outputs": [],
   "source": [
    "display?"
   ]
  },
  {
   "cell_type": "code",
   "execution_count": 67,
   "metadata": {
    "collapsed": true
   },
   "outputs": [],
   "source": [
    "update.close()"
   ]
  },
  {
   "cell_type": "code",
   "execution_count": 57,
   "metadata": {
    "collapsed": false
   },
   "outputs": [
    {
     "data": {
      "text/plain": [
       "<ipywidgets.widgets.widget_button.Button at 0x110f9bb38>"
      ]
     },
     "metadata": {},
     "output_type": "display_data"
    }
   ],
   "source": [
    "X = display(update)"
   ]
  },
  {
   "cell_type": "code",
   "execution_count": 59,
   "metadata": {
    "collapsed": true
   },
   "outputs": [],
   "source": [
    "update.open()"
   ]
  },
  {
   "cell_type": "code",
   "execution_count": 60,
   "metadata": {
    "collapsed": false
   },
   "outputs": [
    {
     "data": {
      "text/plain": [
       "<ipywidgets.widgets.widget_button.Button at 0x110f9bb38>"
      ]
     },
     "metadata": {},
     "output_type": "display_data"
    }
   ],
   "source": [
    "display(update)"
   ]
  },
  {
   "cell_type": "code",
   "execution_count": null,
   "metadata": {
    "collapsed": true
   },
   "outputs": [],
   "source": []
  }
 ],
 "metadata": {
  "kernelspec": {
   "display_name": "Python 3",
   "language": "python",
   "name": "python3"
  },
  "language_info": {
   "codemirror_mode": {
    "name": "ipython",
    "version": 3
   },
   "file_extension": ".py",
   "mimetype": "text/x-python",
   "name": "python",
   "nbconvert_exporter": "python",
   "pygments_lexer": "ipython3",
   "version": "3.4.5"
  },
  "widgets": {
   "state": {
    "00f169ba335d47ce8d94905030389e27": {
     "views": [
      {
       "cell_index": 6
      }
     ]
    },
    "023afc32480545c3ae58346727ce014d": {
     "views": [
      {
       "cell_index": 7
      }
     ]
    },
    "0955fda8a5624921b430f09fd3d47465": {
     "views": [
      {
       "cell_index": 7
      }
     ]
    },
    "09a63d70960b4e32bf9b5b22a9b7afe0": {
     "views": [
      {
       "cell_index": 6
      }
     ]
    },
    "1114c405ce5c4b6a8a679c473a37e280": {
     "views": [
      {
       "cell_index": 7
      }
     ]
    },
    "1150a6bb1acc46e8b347c0896418bd25": {
     "views": [
      {
       "cell_index": 7
      }
     ]
    },
    "13411c4873d24832a4798338f2a24718": {
     "views": [
      {
       "cell_index": 6
      }
     ]
    },
    "152c541df43144749a6065e3d762bf91": {
     "views": [
      {
       "cell_index": 6
      }
     ]
    },
    "16027f77723e49ada731d542dc4f8a30": {
     "views": [
      {
       "cell_index": 7
      }
     ]
    },
    "16f3a9bb431145b58238ea32650af2f1": {
     "views": [
      {
       "cell_index": 6
      }
     ]
    },
    "17a9a109a167438080463ab839fec499": {
     "views": [
      {
       "cell_index": 7
      }
     ]
    },
    "1a22228d008e451f9580c8ccd2d7475f": {
     "views": [
      {
       "cell_index": 7
      }
     ]
    },
    "1da6b8896f4c4a65ab0cc56c6fa3db05": {
     "views": [
      {
       "cell_index": 7
      }
     ]
    },
    "1e7c885b930a4b69bd5f0b327b51079a": {
     "views": [
      {
       "cell_index": 6
      }
     ]
    },
    "239bc5ed388f4bc59b8452925dd6662b": {
     "views": [
      {
       "cell_index": 7
      }
     ]
    },
    "2618134e47494e8493bc33aa563bd7a6": {
     "views": [
      {
       "cell_index": 6
      }
     ]
    },
    "26ce50e4ec164aea9c1bf0e7d8e45519": {
     "views": [
      {
       "cell_index": 6
      }
     ]
    },
    "2e6acf4fb9b54694a9c34e65b9a1d589": {
     "views": [
      {
       "cell_index": 6
      }
     ]
    },
    "30ee62a9c90547c5a92275506690969b": {
     "views": [
      {
       "cell_index": 6
      }
     ]
    },
    "32ba2bedf8684875984edfd1e9a2e647": {
     "views": [
      {
       "cell_index": 6
      }
     ]
    },
    "37fcd562773345f3aa561b8d51be9597": {
     "views": [
      {
       "cell_index": 7
      }
     ]
    },
    "38bb607e2f4f4b97aadeb1f6cd6968d5": {
     "views": [
      {
       "cell_index": 6
      }
     ]
    },
    "3a56c73a83e7414a837d021526b5202b": {
     "views": [
      {
       "cell_index": 7
      }
     ]
    },
    "3ae6f0cbf54e475c8f8113ca5c0727d5": {
     "views": [
      {
       "cell_index": 7
      }
     ]
    },
    "3c54602cd50647ce83e2a001a7a890dd": {
     "views": [
      {
       "cell_index": 6
      }
     ]
    },
    "3c63452b9a4a47c5a5045e25c19e73e2": {
     "views": [
      {
       "cell_index": 6
      }
     ]
    },
    "3c95b62e0e3b4f4ab8987a81a8ddc406": {
     "views": [
      {
       "cell_index": 17
      }
     ]
    },
    "4321d986265148b2a808e95d811101ea": {
     "views": [
      {
       "cell_index": 7
      }
     ]
    },
    "43ca8a4694534ae5a5a61ae25585742c": {
     "views": [
      {
       "cell_index": 7
      }
     ]
    },
    "4433affb5bff42419087a0da94738413": {
     "views": [
      {
       "cell_index": 6
      }
     ]
    },
    "457cb0581a0d43b4a4266ca9482da95b": {
     "views": [
      {
       "cell_index": 6
      }
     ]
    },
    "4715714a8c1e47a187c401e9ba766cd0": {
     "views": [
      {
       "cell_index": 6
      }
     ]
    },
    "47bb94576ea44400963a160a436072ec": {
     "views": [
      {
       "cell_index": 7
      }
     ]
    },
    "48603bbc90914b50a10f89458e8182c9": {
     "views": [
      {
       "cell_index": 7
      }
     ]
    },
    "49b23fd16b3c469aa698cf76afab1a0b": {
     "views": [
      {
       "cell_index": 6
      }
     ]
    },
    "50298b82a8ee4dc0bfae75befe5a051b": {
     "views": [
      {
       "cell_index": 6
      }
     ]
    },
    "510b8f42cb9441b2a99e143fa94fd7ea": {
     "views": [
      {
       "cell_index": 7
      }
     ]
    },
    "5555926f20ad4c279ea51ec0ee3e4f16": {
     "views": [
      {
       "cell_index": 6
      }
     ]
    },
    "562022ad0cd2419f8d318e5f77877386": {
     "views": [
      {
       "cell_index": 6
      }
     ]
    },
    "592c5778e5824b8295626682b7a489f1": {
     "views": [
      {
       "cell_index": 7
      }
     ]
    },
    "5c9efd082fa446d5afa7bb261985ff86": {
     "views": [
      {
       "cell_index": 7
      }
     ]
    },
    "645a3863cb9842cc90e69dc8be4f06a1": {
     "views": [
      {
       "cell_index": 7
      }
     ]
    },
    "647d594105f44a59b32383360c20e392": {
     "views": [
      {
       "cell_index": 7
      }
     ]
    },
    "69c053efd8a64970a009b1362a271027": {
     "views": [
      {
       "cell_index": 7
      }
     ]
    },
    "70c4574f18f74bf6af7c3acd402b85aa": {
     "views": [
      {
       "cell_index": 6
      }
     ]
    },
    "70e0f45e634d48f5807f0f5a45ca02d9": {
     "views": [
      {
       "cell_index": 6
      }
     ]
    },
    "72d55ef6a05c4c88849cd6a15391a256": {
     "views": [
      {
       "cell_index": 7
      }
     ]
    },
    "74a0803d2e684b4582410b7c580789dc": {
     "views": [
      {
       "cell_index": 7
      }
     ]
    },
    "76205d00f5764d61b97a16a0e9315c09": {
     "views": [
      {
       "cell_index": 7
      }
     ]
    },
    "7c9bb6820b514d4e854543ff23266734": {
     "views": [
      {
       "cell_index": 6
      }
     ]
    },
    "86155e794b2c4315acf777f9693c6bbe": {
     "views": [
      {
       "cell_index": 7
      }
     ]
    },
    "8946007954de45fe88e6f1113094ed1a": {
     "views": [
      {
       "cell_index": 6
      }
     ]
    },
    "8b9deb80a83a4b5b846737dbbc0f2cd5": {
     "views": [
      {
       "cell_index": 7
      }
     ]
    },
    "90d510da13de4ffba3e8a35078a9bd86": {
     "views": [
      {
       "cell_index": 6
      }
     ]
    },
    "9680890e2daa460aa2de72a3de256825": {
     "views": [
      {
       "cell_index": 6
      }
     ]
    },
    "9ca010d448e448558e5bb7d90c22dc3d": {
     "views": [
      {
       "cell_index": 7
      }
     ]
    },
    "9cb385bfb15f48acb03cc75af9e7e209": {
     "views": [
      {
       "cell_index": 7
      }
     ]
    },
    "a09c93e5b0c74d0e82ab67b4dc29b2aa": {
     "views": [
      {
       "cell_index": 7
      }
     ]
    },
    "a48b3e31b5244123ac34a0c2fa34e6ff": {
     "views": [
      {
       "cell_index": 7
      }
     ]
    },
    "a68bae8bfb3b4dbd8da892e434ad3b83": {
     "views": [
      {
       "cell_index": 7
      }
     ]
    },
    "ab3b1fabfc1e4afd92c72913f6ce3fe1": {
     "views": [
      {
       "cell_index": 6
      }
     ]
    },
    "abbe259f85484437bdf632472b93c130": {
     "views": [
      {
       "cell_index": 6
      }
     ]
    },
    "ade1059ba26d42289b375ed862ee4bc0": {
     "views": [
      {
       "cell_index": 7
      }
     ]
    },
    "af22d8c875874309b8f9de645fa3b58f": {
     "views": [
      {
       "cell_index": 6
      }
     ]
    },
    "b5c3d069a70a41b4aaa408ce3d191b45": {
     "views": [
      {
       "cell_index": 7
      }
     ]
    },
    "b67f84be2c8a435fbe0b0590b6625a9a": {
     "views": [
      {
       "cell_index": 7
      }
     ]
    },
    "b769cd25354b411a8afe3f499422befc": {
     "views": [
      {
       "cell_index": 6
      }
     ]
    },
    "b8bafce70c2547adbc8470531a9b1d48": {
     "views": [
      {
       "cell_index": 6
      }
     ]
    },
    "bb99b6e8b61144769e75ebb8eb3bded2": {
     "views": [
      {
       "cell_index": 6
      }
     ]
    },
    "bcc978eb20c4458785dba86566b39a23": {
     "views": [
      {
       "cell_index": 6
      }
     ]
    },
    "bef84c23fb9248b1abcb8d9de227d7ba": {
     "views": [
      {
       "cell_index": 6
      }
     ]
    },
    "c1cf7c25365f48e8b98568e8a65bc25d": {
     "views": [
      {
       "cell_index": 7
      }
     ]
    },
    "c3770cb854fd47e7b451c4163ff3571d": {
     "views": [
      {
       "cell_index": 7
      }
     ]
    },
    "cb1b1da3d9a0434780c4a0d1fd766733": {
     "views": [
      {
       "cell_index": 6
      }
     ]
    },
    "d0d2265ba44b4c2eac4b07800eeccdb5": {
     "views": [
      {
       "cell_index": 7
      }
     ]
    },
    "d2acb726b46a41a9be42dd853fe79d25": {
     "views": [
      {
       "cell_index": 6
      }
     ]
    },
    "d65598c68ab04748ab694e795ad6e7c5": {
     "views": [
      {
       "cell_index": 7
      }
     ]
    },
    "db822cf870204e1fa9d0a0d0af175ec6": {
     "views": [
      {
       "cell_index": 6
      }
     ]
    },
    "dd0b74ea0dfb4f3694b2c208b2b39f80": {
     "views": [
      {
       "cell_index": 6
      }
     ]
    },
    "e0326cbc09314089b2408d46f8b90372": {
     "views": [
      {
       "cell_index": 7
      }
     ]
    },
    "e3c5292a574e43aeb22e65204e5dbab2": {
     "views": [
      {
       "cell_index": 7
      }
     ]
    },
    "ecd07df5774e426581a69ad63a139b9a": {
     "views": [
      {
       "cell_index": 6
      }
     ]
    },
    "f18d395c154447f3a37ad829abffe515": {
     "views": [
      {
       "cell_index": 7
      }
     ]
    },
    "f9ae4e3ffb334b549200722cae01930c": {
     "views": [
      {
       "cell_index": 7
      }
     ]
    },
    "fee10763a8ea48479e39b19cb3f1a3d8": {
     "views": [
      {
       "cell_index": 6
      }
     ]
    }
   },
   "version": "1.2.0"
  }
 },
 "nbformat": 4,
 "nbformat_minor": 0
}

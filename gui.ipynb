{
 "cells": [
  {
   "cell_type": "code",
   "execution_count": 2,
   "metadata": {
    "collapsed": false
   },
   "outputs": [],
   "source": [
    "import pytc\n",
    "import plotly.plotly as py\n",
    "import ipywidgets as widgets\n",
    "\n",
    "from IPython.display import display, clear_output\n",
    "from IPython.html.widgets import interact, interactive\n",
    "from plotly.widgets import GraphWidget\n",
    "import seaborn as sns\n",
    "import glob"
   ]
  },
  {
   "cell_type": "code",
   "execution_count": 8,
   "metadata": {
    "collapsed": false
   },
   "outputs": [],
   "source": [
    "class Sliders():\n",
    "    def __init__(self, exp, fitter, gui, param_name):\n",
    "        \"\"\"\n",
    "        \"\"\"\n",
    "        self._var_opt = {'link': ['blank'], 'unlink': ['unlink']}\n",
    "        \n",
    "        self._loc_link = widgets.Dropdown(value = self._var_opt['unlink'], options = self._var_opt)\n",
    "        self._glob_link = widgets.Dropdown(value = self._loc_link.value[0], options = self._loc_link.value)\n",
    "        self._fixed_check = widgets.Checkbox(description = 'Fixed? ', value = False)\n",
    "        self._slider = widgets.FloatSlider()\n",
    "        self._fixed_int = widgets.FloatText(display = 'none')\n",
    "        self._s_min = widgets.FloatText()\n",
    "        self._s_max = widgets.FloatText()\n",
    "        self._all_widgets = widgets.VBox()\n",
    "        self._min_max = widgets.VBox()\n",
    "        self._bounds = widgets.Label(value = 'Bounds: ')\n",
    "        \n",
    "        self._exp = exp\n",
    "        self._fitter = fitter\n",
    "        self._gui = gui\n",
    "        self._param_name = param_name\n",
    "        \n",
    "        self._loc_link.layout.width = '200px'\n",
    "        self._glob_link.layout.width = '200px'\n",
    "        self._slider.layout.width = '300px'\n",
    "        self._s_min.layout.width = '50px'\n",
    "        self._s_max.layout.width = '50px'\n",
    "        self._fixed_int.layout.width = '50px'\n",
    "        self._fixed_int.layout.display = 'none'\n",
    "    \n",
    "    def logic(self):\n",
    "        \"\"\"\n",
    "        handle trait changes for each widget and link to the fitter.\n",
    "        \"\"\"\n",
    "    \n",
    "        self._fixed_check.observe(self.check_change, 'value')\n",
    "        self._loc_link.observe(self.link_change, 'value')\n",
    "        self._s_min.observe(self.min_change, 'value')\n",
    "        self._s_max.observe(self.max_change, 'value')\n",
    "        self._slider.observe(self.param_change, 'value')\n",
    "        \n",
    "    def close_sliders(self):\n",
    "        \"\"\"\n",
    "        \"\"\"\n",
    "        self._all_widgets.close()\n",
    "\n",
    "    def min_change(self, min_val):\n",
    "        \"\"\"\n",
    "        change minimum for fixed integer and slider widgets, update bounds and range for parameter.\n",
    "        \"\"\"\n",
    "        self._slider.min = min_val['new']\n",
    "        #self._fixed_int.min = min_val['new']\n",
    "        self.update_bounds(self._slider.min, self._slider.max)\n",
    "\n",
    "    def max_change(self, max_val):\n",
    "        \"\"\"\n",
    "        change maximum for fixed integer and slider widgets, update bounds and range for parameter.\n",
    "        \"\"\"\n",
    "        self._slider.max = max_val['new']\n",
    "        #self._fixed_int.max = max_val['new']\n",
    "        self.update_bounds(self._slider.min, self._slider.max)\n",
    "        \n",
    "    def update_bounds(self, s_min, s_max):\n",
    "        \"\"\"\n",
    "        \"\"\"\n",
    "        pass\n",
    "\n",
    "    def check_change(self, val):\n",
    "        \"\"\"\n",
    "        update if parameter is fixed and change widget view\n",
    "        \"\"\"\n",
    "        if val['new']:\n",
    "            self._slider.layout.display = 'none'\n",
    "            self._fixed_int.layout.display = ''\n",
    "            self._fitter.update_fixed(self._param_name, self._fixed_int.value, self._exp)\n",
    "        elif val['new'] == False and self._loc_link.value[0] == 'link':\n",
    "            self._slider.layout.display = 'none'\n",
    "            self._fixed_int.layout.display = 'none'\n",
    "            self._min_max.layout.display = 'none'\n",
    "            self._bounds.layout.display = 'none'\n",
    "        elif val['new'] == False and self._loc_link.value[0] == 'unlink': \n",
    "            self._slider.layout.display = ''\n",
    "            self._fixed_int.layout.display = 'none'\n",
    "            self._min_max.layout.display = ''\n",
    "            self._bounds.layout.display = ''\n",
    "\n",
    "        #fixed and update fixed\n",
    "\n",
    "    def link_change(self, select):\n",
    "        \"\"\"\n",
    "        update if parameter is linked or unlinked from a global parameter and update widget view\n",
    "        \"\"\"\n",
    "        if select['new'][0] == 'unlink' and self._fixed_check.value == False:\n",
    "            self._slider.layout.display = ''\n",
    "            self._fixed_int.layout.display = 'none'\n",
    "            self._min_max.layout.display = ''\n",
    "            self._bounds.layout.display = ''\n",
    "        elif select['new'][0] == 'unlink' and self._fixed_check.value:\n",
    "            self._slider.layout.display = 'none'\n",
    "            self._fixed_int.layout.display = ''\n",
    "            self._min_max.layout.display = ''\n",
    "            self._bounds.layout.display = ''\n",
    "        else:\n",
    "            self._slider.layout.display = 'none'\n",
    "            self._fixed_int.layout.display = 'none'\n",
    "            self._min_max.layout.display = 'none'\n",
    "            self._bounds.layout.display = 'none'\n",
    "                \n",
    "    def param_change(self, param_val):\n",
    "        \"\"\"\n",
    "        update parameter value guess based on slider value\n",
    "        \"\"\"\n",
    "        guess = param_val['new']\n",
    "        \n",
    "        self._fitter.update_guess(self._param_name, guess, self._exp)\n",
    "    \n",
    "    def build_sliders(self):\n",
    "        \"\"\"\n",
    "        build sliders!\n",
    "        \"\"\"\n",
    "        pass\n",
    "        \n",
    "class LocalSliders(Sliders):\n",
    "    def __init__(self, exp, fitter, gui, param_name, global_vars, global_exp):\n",
    "        super().__init__(exp, fitter, gui, param_name)\n",
    "        \n",
    "        self._global_vars = global_vars\n",
    "        self._global_exp = global_exp\n",
    "        \n",
    "    def update_bounds(self, s_min, s_max):\n",
    "        \"\"\"\n",
    "        update bound and range for the parameter\n",
    "        \"\"\"\n",
    "        bounds = [s_min, s_max]\n",
    "        self._fitter.update_bounds(self._param_name, bounds, self._exp)\n",
    "        \n",
    "        # check if bounds are smaller than range, then update.\n",
    "        curr_range = self._exp.model.param_guess_ranges[self._param_name]\n",
    "        curr_bounds = self._exp.model.bounds[self._param_name]\n",
    "        \n",
    "        if curr_range[0] < curr_bounds[0] or curr_range[1] > curr_bounds[1]:\n",
    "            self._fitter.update_range(self._param_name, bounds, self._exp)\n",
    "            \n",
    "    def create_global(self, g):\n",
    "        \"\"\"\n",
    "        link local parameter to global parameter, create new global experiment object, and generate new sliders.\n",
    "        \"\"\"\n",
    "        if g != 'unlink' and g != 'blank':\n",
    "            try:\n",
    "                self._fitter.link_to_global(self._exp, self._param_name, g)\n",
    "                new_global = GlobalExp(self._gui, self._global_exp, self._fitter, g)\n",
    "                self._global_exp[g] = new_global\n",
    "                new_global.gen_exp()\n",
    "            except:\n",
    "                pass\n",
    "\n",
    "    def create_local(self, l):\n",
    "        \"\"\"\n",
    "        update list of global variables and choose to link or unlink local parameter\n",
    "        \"\"\"\n",
    "\n",
    "        self._var_opt['link'] = self._global_vars\n",
    "        self._loc_link.options = self._var_opt\n",
    "        \n",
    "        if l[0] == 'unlink':\n",
    "            try:\n",
    "                self._fitter.unlink_from_global(self._exp, self._param_name)\n",
    "            except: \n",
    "                pass\n",
    "        else:\n",
    "             self._glob_link.options = l\n",
    "                \n",
    "    def build_sliders(self):\n",
    "        \"\"\"\n",
    "        \"\"\"\n",
    "        self.logic()\n",
    "        \n",
    "        exp_range = self._exp.model.param_guess_ranges[self._param_name]\n",
    "        self._slider.min = exp_range[0]\n",
    "        self._slider.max = exp_range[1]\n",
    "        self._slider.value = self._exp.model.param_guesses[self._param_name]\n",
    "        \n",
    "        #self._fixed_int = exp_range[0]\n",
    "        #self._fixed_int = exp_range[1]\n",
    "        \n",
    "        loc_inter = widgets.interactive(self.create_local, l = self._loc_link)\n",
    "        glob_inter = widgets.interactive(self.create_global, g =  self._glob_link)\n",
    "        \n",
    "        self._min_max.children = [self._s_min, self._s_max]\n",
    "        \n",
    "        main = widgets.HBox(children = [self._fixed_check, self._slider, loc_inter, glob_inter, self._fixed_int, self._bounds, self._min_max])\n",
    "        \n",
    "        name_label = widgets.Label(value = \"{}: \".format(self._param_name))\n",
    "        \n",
    "        self._all_widgets.children = [name_label, main]\n",
    "        #self._all_widgets.layout.width = '90%'\n",
    "        self._all_widgets.layout.margin = '0px 0px 20px 0px'\n",
    "\n",
    "        display(self._all_widgets)\n",
    "        \n",
    "class GlobalSliders(Sliders):\n",
    "    def __init__(self, exp, fitter, gui, param_name):\n",
    "        super().__init__(exp, fitter, gui, param_name)\n",
    "        \n",
    "    def update_bounds(self, s_min, s_max):\n",
    "        \"\"\"\n",
    "        update bound and range for global parameter\n",
    "        \"\"\"\n",
    "        bounds = [s_min, s_max]\n",
    "        self._fitter.update_bounds(self._param_name, bounds, self._exp)\n",
    "        \n",
    "        # check if bounds are smaller than range, then update.\n",
    "        curr_range = self._fitter.param_ranges[0][self._param_name]\n",
    "        curr_bounds = self._fitter.param_bounds[0][self._param_name]\n",
    "        \n",
    "        if curr_range[0] < curr_bounds[0] or curr_range[1] > curr_bounds[1]:\n",
    "            self._fitter.update_range(self._param_name, bounds, self._exp)\n",
    "               \n",
    "    def build_sliders(self):\n",
    "        \"\"\"\n",
    "        \"\"\"\n",
    "        self.logic()\n",
    "\n",
    "        exp_range = self._fitter.param_ranges[0][self._param_name]\n",
    "        self._slider.min = exp_range[0]\n",
    "        self._slider.max = exp_range[1]\n",
    "        self._slider.value = self._fitter.param_guesses[0][self._param_name]\n",
    "        \n",
    "        #self._fixed_int = exp_range[0]\n",
    "        #self._fixed_int = exp_range[1]\n",
    "        \n",
    "        self._min_max.children = [self._s_min, self._s_max]\n",
    "        \n",
    "        name_label = widgets.Label(value = \"{}: \".format(self._param_name))\n",
    "        \n",
    "        main = widgets.HBox(children = [self._fixed_check, self._slider, self._fixed_int, self._bounds, self._min_max])\n",
    "        \n",
    "        self._all_widgets.children = [main]\n",
    "        #self._all_widgets.layout.width = '90%'\n",
    "        self._all_widgets.layout.margin = '0px 0px 20px 0px'\n",
    "\n",
    "        display(self._all_widgets)"
   ]
  },
  {
   "cell_type": "code",
   "execution_count": 9,
   "metadata": {
    "collapsed": false
   },
   "outputs": [],
   "source": [
    "class ParamCollect():\n",
    "    def __init__(self, gui, container, fitter):\n",
    "        \"\"\"\n",
    "        \"\"\"\n",
    "        self._gui = gui\n",
    "        self._exp_id = ''\n",
    "        self._exp_val = ''\n",
    "        self._widgets = []\n",
    "        self._fitter = fitter\n",
    "        self._container = container\n",
    "        self._parameters = {}\n",
    "        self._models = {\"blank\" : pytc.models.Blank,\n",
    "          \"single site\" : pytc.models.SingleSite,  \n",
    "          \"single site competitor\" : pytc.models.SingleSiteCompetitor, \n",
    "          \"binding polynomial\" : pytc.models.BindingPolynomial}\n",
    "        self._current_model = ''\n",
    "        \n",
    "        self._exp_box = widgets.HBox()\n",
    "        \n",
    "        self._sliders = []\n",
    "        \n",
    "    def remove_button(self, b):\n",
    "        \"\"\"\n",
    "        remove exp from fitter and lists\n",
    "        \"\"\"\n",
    "        pass\n",
    "    \n",
    "    def parameters(self):\n",
    "        \"\"\"\n",
    "        get parameters for experiment\n",
    "        \"\"\"\n",
    "        pass\n",
    "        \n",
    "    def create_exp(self):\n",
    "        \"\"\"\n",
    "        create a new pytc experiment\n",
    "        \"\"\"\n",
    "        pass\n",
    "        \n",
    "    @property        \n",
    "    def exp_id(self):\n",
    "        \"\"\"\n",
    "        return experiment id\n",
    "        \"\"\"\n",
    "        \n",
    "        return self._exp_id\n",
    "    \n",
    "    \n",
    "    def gen_sliders(self):\n",
    "        \"\"\"\n",
    "        generate sliders for each experiment, give option to link to global.\n",
    "        \"\"\"\n",
    "        \n",
    "        pass\n",
    "    \n",
    "    def gen_exp(self):\n",
    "        \"\"\"\n",
    "        generate widgets for experiment.\n",
    "        \"\"\"\n",
    "        pass\n",
    "    \n",
    "class LocalExp(ParamCollect):\n",
    "    \"\"\"\n",
    "    create experiment object and generate widgets\n",
    "    \"\"\"\n",
    "    def __init__(self, gui, container, fitter, global_vars, global_exp):\n",
    "        super().__init__(gui, container, fitter)\n",
    "\n",
    "        self._global_vars = global_vars\n",
    "        self._global_exp = global_exp\n",
    "        \n",
    "        self._exp_field = widgets.Text(description = \"exp: \")\n",
    "        self._model_drop = widgets.Dropdown(options = self._models, value = self._models[\"blank\"])\n",
    "        self._rm_exp = widgets.Button(description = \"remove experiment\")\n",
    "        \n",
    "    def remove_button(self, b):\n",
    "        \"\"\"\n",
    "        remove experiment from analysis and close widgets. for use with button widget.\n",
    "        \"\"\"\n",
    "        try:\n",
    "            self._gui.remove_experiment(self._exp_id)\n",
    "        except:\n",
    "            clear_output()\n",
    "            print(\"no experiment linked\")\n",
    "            \n",
    "        for i in self._container:\n",
    "            if self._exp_id == i[0]._exp_id:\n",
    "                self._container.remove(i)\n",
    "        \n",
    "        self._exp_box.close()\n",
    "                \n",
    "        if self._sliders:\n",
    "            for s in self._sliders:\n",
    "                s.close_sliders()\n",
    "                \n",
    "    def remove_exp(self):\n",
    "        \"\"\"\n",
    "        remove experiment and sliders, for use without button widget.\n",
    "        \"\"\"\n",
    "        self.remove_button(b)\n",
    "        \n",
    "    def create_exp(self):\n",
    "        \"\"\"\n",
    "        create new pytc exp\n",
    "        \"\"\"\n",
    "        \n",
    "        self._exp_val = self._exp_field.value\n",
    "        if self._exp_val != 'none':\n",
    "            self._current_model = self._model_drop.value\n",
    "            self._exp_id = pytc.ITCExperiment(self._exp_val, self._current_model)\n",
    "        else:\n",
    "            clear_output()\n",
    "            print(\"no exp data given\")\n",
    "    \n",
    "    @property\n",
    "    def parameters(self):\n",
    "        \"\"\"\n",
    "        generate local parameters for experiment.\n",
    "        \"\"\"\n",
    "        \n",
    "        param = self._exp_id.model.param_values\n",
    "        \n",
    "        return param\n",
    "    \n",
    "    def gen_sliders(self):\n",
    "        \"\"\"\n",
    "        generate sliders for each experiment, give option to link to global.\n",
    "        \"\"\"\n",
    "        parameters = self.exp_id.param_values\n",
    "        \n",
    "        for p in parameters.keys():\n",
    "            s = LocalSliders(self._exp_id, self._fitter, self._gui, p, self._global_vars, self._global_exp)\n",
    "            self._sliders.append(s)\n",
    "            \n",
    "     \n",
    "    def add_exp(self, sender):\n",
    "        \"\"\"\n",
    "        generate sliders for experiment based on added data.\n",
    "        \"\"\"\n",
    "        #self._exp_val = sender['new']\n",
    "        self.create_exp()\n",
    "        \n",
    "        self._gui.add_experiment(self._exp_id)\n",
    "        self.gen_sliders()\n",
    "        \n",
    "        self._exp_field.disabled = True\n",
    "        self._model_drop.disabled = True\n",
    "        \n",
    "        for s in self._sliders:\n",
    "            d = s.build_sliders()\n",
    "            display(d)\n",
    "            \n",
    "    \n",
    "    def gen_exp(self):\n",
    "        \"\"\"\n",
    "        generate widgets for experiment.\n",
    "        \"\"\"\n",
    "        \n",
    "        self._exp_field.on_submit(self.add_exp)\n",
    "        \n",
    "        file_list = glob.glob(\"./**/*.DH\")\n",
    "        file_dict = {fname.split('/')[-1]: fname for fname in file_list}\n",
    "        \n",
    "        #exp_drop = widgets.Dropdown(options = file_dict, value = 'none')\n",
    "        #exp_drop.observe(add_exp, 'value')\n",
    "\n",
    "        self._rm_exp.on_click(self.remove_exp)\n",
    "\n",
    "        self._exp_box.children = [self._exp_field, self._model_drop, self._rm_exp]\n",
    "        self._widgets.extend([self._exp_field, self._model_drop, self._rm_exp, self._exp_box])\n",
    "        \n",
    "        return self._exp_box\n",
    "    \n",
    "class GlobalExp(ParamCollect):\n",
    "    \"\"\"\n",
    "    create experiment object and generate widgets\n",
    "    \"\"\"\n",
    "    def __init__(self, gui, container, fitter, v_name):\n",
    "        \n",
    "        super().__init__(gui, container, fitter)\n",
    "        self._exp_id = v_name\n",
    "        \n",
    "        self._rm_exp = widgets.Button(description = \"remove experiment\")\n",
    "        self._name_label = widgets.Label(value = \"{}:  \".format(self._exp_id))\n",
    "    \n",
    "    @property\n",
    "    def parameters(self):\n",
    "        \"\"\"\n",
    "        generate local parameters for experiment.\n",
    "        \"\"\"\n",
    "        \n",
    "        param = self._fitter.fit_param[0][self._exp_id]\n",
    "        \n",
    "        return param\n",
    "    \n",
    "    def remove_button(self, b):\n",
    "        \"\"\"\n",
    "        remove global parameter and unlink from all linked local parameters, for use with button widget\n",
    "        \"\"\"\n",
    "        self._fitter.remove_global(self._exp_id)\n",
    "        self._exp_box.close()\n",
    "        self._container.pop(self._exp_id, None)\n",
    "        self._sliders.close_sliders()\n",
    "    \n",
    "    def remove_exp(self):\n",
    "        \"\"\"\n",
    "        remove and unlink global parameter\n",
    "        \"\"\"\n",
    "        self.remove_button(b)\n",
    "    \n",
    "    def gen_sliders(self):\n",
    "        \"\"\"\n",
    "        generate sliders for each experiment, give option to link to global.\n",
    "        \"\"\"\n",
    "        s = GlobalSliders(None, self._fitter, self._gui, self._exp_id)\n",
    "        self._sliders.append(s)\n",
    "        \n",
    "        s.build_sliders()\n",
    "    \n",
    "    def gen_exp(self):\n",
    "        \"\"\"\n",
    "        generate widgets for experiment.\n",
    "        \"\"\"\n",
    "\n",
    "        self._rm_exp.on_click(self.remove_exp)\n",
    "\n",
    "        self._exp_box.children = [self._name_label, self._rm_exp]\n",
    "        \n",
    "        s = GlobalSliders(None, self._fitter, self._gui, self._exp_id)\n",
    "        self._sliders = s\n",
    "\n",
    "        display(self._exp_box)\n",
    "        s.build_sliders()"
   ]
  },
  {
   "cell_type": "code",
   "execution_count": 13,
   "metadata": {
    "collapsed": true
   },
   "outputs": [],
   "source": [
    "widgets.BoundedFloatText()"
   ]
  },
  {
   "cell_type": "code",
   "execution_count": 10,
   "metadata": {
    "collapsed": true
   },
   "outputs": [],
   "source": [
    "class FitGUI:\n",
    "    \n",
    "    def __init__(self, fitter):\n",
    "        self._loc_exp = []\n",
    "        self._glob_exp = {}\n",
    "        self._global_var = ['blank']\n",
    "        self._fitter = fitter\n",
    "        self._gui = Interface(self._fitter, self._glob_exp)\n",
    "        \n",
    "        ENTRY_W = '200px'\n",
    "\n",
    "        self._global_field = widgets.Text()\n",
    "        self._global_add = widgets.Button(description = \"Add Global Variable\")\n",
    "        self._global_remove = widgets.Button(description = \"Remove Global Variable\")\n",
    "        self._add_exp_field = widgets.Button(description = \"Add an Experiment\")\n",
    "        self._rmv_last_field = widgets.Button(description = \"Remove Last Experiment\")\n",
    "        self._clear_widget = widgets.Button(description = \"Clear\")\n",
    "        self._update_widget = widgets.Button(description = \"Update Fit\")\n",
    "        \n",
    "        self._global_field.layout.width = '100px'\n",
    "        self._global_add.layout.width = '160px'\n",
    "        self._global_remove.layout.width = '160px'\n",
    "        self._add_exp_field_b.layout.width = ENTRY_W\n",
    "        self._rmv_last_field.layout.width = ENTRY_W\n",
    "        \n",
    "    def rm_last(self, b):\n",
    "\n",
    "        if self._loc_exp:\n",
    "            last_exp = self._loc_exp[-1]\n",
    "            last_exp[1].close()\n",
    "            try:\n",
    "                self._gui.remove_experiment(last_exp[0].exp_id)\n",
    "            except:\n",
    "                pass\n",
    "\n",
    "            self._loc_exp.remove(last_exp)  \n",
    "\n",
    "    def clear_exp(self, b):\n",
    "\n",
    "        for i in self._loc_exp:\n",
    "            try:\n",
    "                i[1].close()\n",
    "                self._gui.remove_experiment(i[0].exp_id)\n",
    "            except:\n",
    "                pass\n",
    "\n",
    "            self._loc_exp.remove(i)\n",
    "\n",
    "        clear_output()\n",
    "\n",
    "    def add_field(self, b):\n",
    "\n",
    "        clear_output()\n",
    "        exp_object = LocalExp(self._gui, self._loc_exp, self._fitter, self._global_var, self._glob_exp)\n",
    "        show = exp_object.gen_exp()\n",
    "        show.layout.margin = '30px 10px 0px 0px'\n",
    "\n",
    "        self._loc_exp.append([exp_object, show])\n",
    "\n",
    "        display(show)\n",
    "\n",
    "    def create_global(self, b):\n",
    "\n",
    "        glob_var = self._global_field.value\n",
    "\n",
    "        if glob_var not in global_var and glob_var:\n",
    "            self._global_var.append(glob_var)\n",
    "            self._global_field.value = ''\n",
    "        else:\n",
    "            pass\n",
    "\n",
    "    def remove_global(self, b):\n",
    "\n",
    "        self._fitter.remove_global(self._global_field.value)\n",
    "        global_var.remove(self._global_field.value)\n",
    "\n",
    "    def update_fit(self, b):\n",
    "\n",
    "        clear_output()\n",
    "        self._fitter.fit()\n",
    "        self._fitter.plot()\n",
    "    \n",
    "    def build(self):\n",
    "        \"\"\"\n",
    "        \"\"\"\n",
    "        self._global_add.on_click(self.create_global)\n",
    "        self._global_remove.on_click(self.remove_global)\n",
    "        self._add_exp_field.on_click(self.add_field)\n",
    "        self._rmv_last_field.on_click(self.rm_last)\n",
    "        self._clear_widget.on_click(self.clear_exp)\n",
    "        self._update_widget.on_click(self.update_fit)\n",
    "        \n",
    "        # make this a separate function.\n",
    "        \n",
    "        #exp_object = LocalExp(self._gui, exp_w, f, global_var, glob_exp)\n",
    "        #show = exp_object.gen_exp()\n",
    "        #self._loc_exp.append([exp_object, show])\n",
    "\n",
    "        experiments_layout = widgets.Layout(display = \"flex\", \n",
    "                              flex_flow = \"row\", \n",
    "                              align_items = \"stretch\",\n",
    "                              margin = \"0px 0px 30px 0px\")\n",
    "\n",
    "        glob_box = widgets.Box(children = [self._global_field, self._global_add, self._global_remove],\n",
    "                               layout = experiments_layout)\n",
    "        #glob_box.layout.margin = \"0px 0px 30px 0px\"\n",
    "\n",
    "        experiments = widgets.Box(children = [self._add_exp_field, self._rmv_last_field], \n",
    "                                              layout = experiments_layout)\n",
    "        parent = widgets.Box(children = [glob_box, self._clear_widget, self._update_widget, experiments])\n",
    "\n",
    "        display(parent)"
   ]
  },
  {
   "cell_type": "code",
   "execution_count": 11,
   "metadata": {
    "collapsed": false
   },
   "outputs": [],
   "source": [
    "%matplotlib inline\n",
    "\n",
    "class Interface:\n",
    "    \n",
    "    def __init__(self, fitter, global_exp):\n",
    "        \"\"\"\n",
    "        \"\"\"\n",
    "        \n",
    "        self._fitter = fitter\n",
    "        self._experiments = []\n",
    "        self._global_exp = global_exp\n",
    "        self._param = []\n",
    "        \n",
    "    def view_exp(self):\n",
    "        \n",
    "        return self._experiments\n",
    "\n",
    "    \n",
    "    def add_experiment(self,expt):\n",
    "        \"\"\"\n",
    "        add experiment to fitter\n",
    "        \"\"\"\n",
    "        self._fitter.add_experiment(expt)\n",
    "        self._experiments.append(expt)\n",
    "        expt.initialize_param()\n",
    "        \n",
    "    def remove_experiment(self, expt):\n",
    "        \"\"\"\n",
    "        remove experiment from fitter\n",
    "        \"\"\"\n",
    "        self._fitter.remove_experiment(expt)\n",
    "        self._experiments.remove(expt)\n",
    "        \n",
    "    \n",
    "    def build_interface(self):\n",
    "        \"\"\"\n",
    "        \"\"\"\n",
    "        for l in self._experiments:\n",
    "            pass\n",
    "        \n",
    "        for g in self._global_exp:\n",
    "            pass\n",
    "    \n",
    "        \n",
    "    def update_fit(self, val_change):\n",
    "        \"\"\"\n",
    "        \"\"\"\n",
    "\n",
    "        if val_change['new'] != val_change['old']:\n",
    "            self._fitter.fit()\n",
    "            self._fitter.plot()\n",
    "\n",
    "    def _update(self):\n",
    "        \"\"\"\n",
    "        \"\"\"\n",
    "                \n",
    "        global_param, local_param = self._fitter.fit_param\n",
    "        global_error, local_error = self._fitter.fit_error\n",
    "        n=0\n",
    "\n",
    "        for param, error in zip(local_param, local_error):\n",
    "            for p, e in zip(param, error):\n",
    "                print(\"{},{}\".format(p, n), ': ', param[p], error[e])\n",
    "            n+=1\n",
    "    \n",
    "        for param, error in zip(global_param, global_error):\n",
    "            print(param, ': ', param[param], error[error])\n",
    "            \n",
    "        self._fitter.fit()\n",
    "        self._fitter.plot()"
   ]
  },
  {
   "cell_type": "code",
   "execution_count": 12,
   "metadata": {
    "collapsed": false,
    "scrolled": false
   },
   "outputs": [],
   "source": [
    "exp_w = []\n",
    "glob_exp = {}\n",
    "global_var = ['blank']\n",
    "f = pytc.GlobalFit()\n",
    "gui = Interface(f, glob_exp)\n",
    "\n",
    "def rm_last(b):\n",
    "\n",
    "    if exp_w:\n",
    "        last_exp = exp_w[-1]\n",
    "        last_exp[1].close()\n",
    "        try:\n",
    "            gui.remove_experiment(last_exp[0].exp_id)\n",
    "        except:\n",
    "            pass\n",
    "\n",
    "        exp_w.remove(last_exp)  \n",
    "    \n",
    "def clear_exp(b):\n",
    "\n",
    "    for i in exp_w:\n",
    "        try:\n",
    "            i[1].close()\n",
    "            gui.remove_experiment(i[0].exp_id)\n",
    "        except:\n",
    "            pass\n",
    "        \n",
    "        exp_w.remove(i)\n",
    "        \n",
    "    clear_output()\n",
    "\n",
    "def add_field(b):\n",
    "    \n",
    "    clear_output()\n",
    "    exp_object = LocalExp(gui, exp_w, f, global_var, glob_exp)\n",
    "    show = exp_object.gen_exp()\n",
    "    show.layout.margin = '30px 10px 0px 0px'\n",
    "\n",
    "    exp_w.append([exp_object, show])\n",
    "\n",
    "    display(show)\n",
    "    \n",
    "def create_global(b):\n",
    "    \n",
    "    glob_var = global_field.value\n",
    "    \n",
    "    if glob_var not in global_var and glob_var:\n",
    "        global_var.append(glob_var)\n",
    "        global_field.value = ''\n",
    "    else:\n",
    "        pass\n",
    "\n",
    "def remove_global(b):\n",
    "    \n",
    "    f.remove_global(global_field.value)\n",
    "    global_var.remove(global_field.value)\n",
    "    \n",
    "def update_fit(b):\n",
    "    \n",
    "    clear_output()\n",
    "    f.fit()\n",
    "    f.plot()\n",
    "        \n",
    "ENTRY_W = '200px'\n",
    "\n",
    "global_field = widgets.Text()\n",
    "global_field.layout.width = '100px'\n",
    "\n",
    "global_add = widgets.Button(description = \"Add Global Variable\")\n",
    "global_add.layout.width = '160px'\n",
    "global_add.on_click(create_global)\n",
    "\n",
    "global_remove = widgets.Button(description = \"Remove Global Variable\")\n",
    "global_remove.layout.width = '160px'\n",
    "global_remove.on_click(remove_global)\n",
    "\n",
    "add_exp_field_b = widgets.Button(description = \"Add an Experiment\")\n",
    "add_exp_field_b.layout.width = ENTRY_W\n",
    "add_exp_field_b.on_click(add_field)\n",
    "\n",
    "rmv_last_field = widgets.Button(description = \"Remove Last Experiment\")\n",
    "rmv_last_field.layout.width = ENTRY_W\n",
    "rmv_last_field.on_click(rm_last)\n",
    "\n",
    "exp_object = LocalExp(gui, exp_w, f, global_var, glob_exp)\n",
    "show = exp_object.gen_exp()\n",
    "\n",
    "exp_w.append([exp_object, show])\n",
    "\n",
    "#analyze_widget = widgets.Button(description = \"Analyze\")\n",
    "#analyze_widget.on_click(gen_exp)\n",
    "\n",
    "clear_widget = widgets.Button(description = \"Clear\")\n",
    "clear_widget.on_click(clear_exp)\n",
    "\n",
    "update_widget = widgets.Button(description = \"Update Fit\")\n",
    "update_widget.on_click(update_fit)\n",
    "\n",
    "experiments_layout = widgets.Layout(display = \"flex\", \n",
    "                      flex_flow = \"row\", \n",
    "                      align_items = \"stretch\")\n",
    "\n",
    "glob_box = widgets.Box(children = [global_field, global_add, global_remove], layout = experiments_layout)\n",
    "glob_box.layout.margin = '0px 0px 30px 0px'\n",
    "\n",
    "experiments = widgets.Box(children = [add_exp_field_b, rmv_last_field], \n",
    "                                      layout = experiments_layout)\n",
    "parent = widgets.Box(children = [glob_box, clear_widget, update_widget, experiments, show])\n",
    "\n",
    "display(parent)\n",
    "\n",
    "# inspect.argspec for experiment class and widgets generated"
   ]
  },
  {
   "cell_type": "markdown",
   "metadata": {},
   "source": [
    "test-data/real-blank-match.DH\n",
    "\n",
    "test-data/blank.DH\n",
    "\n",
    "test-data/Tris/CaEDTATris01.DH"
   ]
  },
  {
   "cell_type": "code",
   "execution_count": 541,
   "metadata": {
    "collapsed": false
   },
   "outputs": [
    {
     "data": {
      "text/plain": [
       "['blank', 'F', 'M']"
      ]
     },
     "execution_count": 541,
     "metadata": {},
     "output_type": "execute_result"
    }
   ],
   "source": [
    "global_var"
   ]
  },
  {
   "cell_type": "code",
   "execution_count": 542,
   "metadata": {
    "collapsed": false
   },
   "outputs": [
    {
     "data": {
      "text/plain": [
       "{}"
      ]
     },
     "execution_count": 542,
     "metadata": {},
     "output_type": "execute_result"
    }
   ],
   "source": [
    "glob_exp"
   ]
  },
  {
   "cell_type": "code",
   "execution_count": 543,
   "metadata": {
    "collapsed": false,
    "scrolled": true
   },
   "outputs": [
    {
     "data": {
      "text/plain": [
       "({}, [{'dilution_heat': 0.0, 'dilution_intercept': 0.0}])"
      ]
     },
     "execution_count": 543,
     "metadata": {},
     "output_type": "execute_result"
    }
   ],
   "source": [
    "f.param_guesses"
   ]
  },
  {
   "cell_type": "code",
   "execution_count": 525,
   "metadata": {
    "collapsed": false
   },
   "outputs": [],
   "source": [
    "glob_test = glob_exp['F']"
   ]
  },
  {
   "cell_type": "code",
   "execution_count": 515,
   "metadata": {
    "collapsed": false,
    "scrolled": false
   },
   "outputs": [],
   "source": [
    "glob_test.gen_sliders()"
   ]
  },
  {
   "cell_type": "code",
   "execution_count": 128,
   "metadata": {
    "collapsed": false
   },
   "outputs": [
    {
     "name": "stdout",
     "output_type": "stream",
     "text": [
      "dH,0 :  2179.4 0.123439080702\n",
      "fx_competent,0 :  1.01650347751 0.335816775955\n",
      "dilution_intercept,0 :  7.67414710493 1.75280011595\n",
      "K,0 :  31486172.0624 4.36286960563e-05\n",
      "dilution_heat,0 :  -62629.3234509 0.00587066072782\n"
     ]
    }
   ],
   "source": [
    "global_param, local_param = f.fit_param\n",
    "global_error, local_error = f.fit_error\n",
    "n = 0\n",
    "\n",
    "for param, error in zip(local_param, local_error):\n",
    "    for p, e in zip(param, error):\n",
    "        print(\"{},{}\".format(p, n), ': ', param[p], error[e])\n",
    "    n+=1"
   ]
  },
  {
   "cell_type": "code",
   "execution_count": 129,
   "metadata": {
    "collapsed": false
   },
   "outputs": [
    {
     "data": {
      "text/plain": [
       "{}"
      ]
     },
     "execution_count": 129,
     "metadata": {},
     "output_type": "execute_result"
    }
   ],
   "source": [
    "global_param"
   ]
  },
  {
   "cell_type": "code",
   "execution_count": 143,
   "metadata": {
    "collapsed": true
   },
   "outputs": [],
   "source": [
    "global_param, local_param = f.param_names\n",
    "global_guesses, local_guesses = f.param_guesses\n",
    "global_ranges, local_ranges = f.param_ranges\n",
    "global_fixed, local_fixed = f.fixed_param "
   ]
  },
  {
   "cell_type": "code",
   "execution_count": 78,
   "metadata": {
    "collapsed": true
   },
   "outputs": [],
   "source": [
    "exp = f.experiments[0]"
   ]
  },
  {
   "cell_type": "code",
   "execution_count": 80,
   "metadata": {
    "collapsed": false
   },
   "outputs": [
    {
     "data": {
      "text/plain": [
       "({},\n",
       " [{'K': (-inf, inf),\n",
       "   'dH': (-10000.0, 500.0),\n",
       "   'dilution_heat': (-inf, inf),\n",
       "   'dilution_intercept': (-inf, inf),\n",
       "   'fx_competent': (-inf, inf)}])"
      ]
     },
     "execution_count": 80,
     "metadata": {},
     "output_type": "execute_result"
    }
   ],
   "source": [
    "f.param_bounds"
   ]
  },
  {
   "cell_type": "code",
   "execution_count": 77,
   "metadata": {
    "collapsed": false
   },
   "outputs": [],
   "source": [
    "exp_2 = exp_w[0][0]"
   ]
  },
  {
   "cell_type": "code",
   "execution_count": 60,
   "metadata": {
    "collapsed": false
   },
   "outputs": [],
   "source": [
    "exp_sliders = exp_2.gen_sliders()"
   ]
  },
  {
   "cell_type": "code",
   "execution_count": 61,
   "metadata": {
    "collapsed": false,
    "scrolled": true
   },
   "outputs": [
    {
     "data": {
      "text/plain": [
       "[<__main__.LocalSliders at 0x1140ce278>,\n",
       " <__main__.LocalSliders at 0x113e92320>,\n",
       " <__main__.LocalSliders at 0x114ab4e10>,\n",
       " <__main__.LocalSliders at 0x1044b8780>,\n",
       " <__main__.LocalSliders at 0x113e852e8>]"
      ]
     },
     "execution_count": 61,
     "metadata": {},
     "output_type": "execute_result"
    }
   ],
   "source": [
    "exp_sliders"
   ]
  },
  {
   "cell_type": "code",
   "execution_count": 18,
   "metadata": {
    "collapsed": false
   },
   "outputs": [
    {
     "ename": "TypeError",
     "evalue": "'tuple' object is not callable",
     "output_type": "error",
     "traceback": [
      "\u001b[0;31m---------------------------------------------------------------------------\u001b[0m",
      "\u001b[0;31mTypeError\u001b[0m                                 Traceback (most recent call last)",
      "\u001b[0;32m<ipython-input-18-7fc751371358>\u001b[0m in \u001b[0;36m<module>\u001b[0;34m()\u001b[0m\n\u001b[1;32m      1\u001b[0m \u001b[0;32mfor\u001b[0m \u001b[0ms\u001b[0m \u001b[0;32min\u001b[0m \u001b[0mexp_sliders\u001b[0m\u001b[0;34m:\u001b[0m\u001b[0;34m\u001b[0m\u001b[0m\n\u001b[0;32m----> 2\u001b[0;31m     \u001b[0ms\u001b[0m\u001b[0;34m.\u001b[0m\u001b[0mbuild_sliders\u001b[0m\u001b[0;34m(\u001b[0m\u001b[0;34m)\u001b[0m\u001b[0;34m\u001b[0m\u001b[0m\n\u001b[0m",
      "\u001b[0;32m<ipython-input-4-32b338231203>\u001b[0m in \u001b[0;36mbuild_sliders\u001b[0;34m(self)\u001b[0m\n\u001b[1;32m    137\u001b[0m     \u001b[0;34m@\u001b[0m\u001b[0mproperty\u001b[0m\u001b[0;34m\u001b[0m\u001b[0m\n\u001b[1;32m    138\u001b[0m     \u001b[0;32mdef\u001b[0m \u001b[0mbuild_sliders\u001b[0m\u001b[0;34m(\u001b[0m\u001b[0mself\u001b[0m\u001b[0;34m)\u001b[0m\u001b[0;34m:\u001b[0m\u001b[0;34m\u001b[0m\u001b[0m\n\u001b[0;32m--> 139\u001b[0;31m         \u001b[0msuper\u001b[0m\u001b[0;34m(\u001b[0m\u001b[0;34m)\u001b[0m\u001b[0;34m.\u001b[0m\u001b[0mbuild_sliders\u001b[0m\u001b[0;34m(\u001b[0m\u001b[0;34m)\u001b[0m\u001b[0;34m\u001b[0m\u001b[0m\n\u001b[0m\u001b[1;32m    140\u001b[0m \u001b[0;34m\u001b[0m\u001b[0m\n\u001b[1;32m    141\u001b[0m         \u001b[0mexp_range\u001b[0m \u001b[0;34m=\u001b[0m \u001b[0mself\u001b[0m\u001b[0;34m.\u001b[0m\u001b[0m_exp\u001b[0m\u001b[0;34m.\u001b[0m\u001b[0mmodel\u001b[0m\u001b[0;34m.\u001b[0m\u001b[0mparam_guess_ranges\u001b[0m\u001b[0;34m[\u001b[0m\u001b[0mself\u001b[0m\u001b[0;34m.\u001b[0m\u001b[0m_param_name\u001b[0m\u001b[0;34m]\u001b[0m\u001b[0;34m\u001b[0m\u001b[0m\n",
      "\u001b[0;31mTypeError\u001b[0m: 'tuple' object is not callable"
     ]
    }
   ],
   "source": [
    "for s in exp_sliders:\n",
    "    s.build_sliders()"
   ]
  },
  {
   "cell_type": "code",
   "execution_count": 97,
   "metadata": {
    "collapsed": false
   },
   "outputs": [
    {
     "data": {
      "text/plain": [
       "({'F': [-10000.0, 10000.0]},\n",
       " [{'K': [1.0, 100000000.0],\n",
       "   'dilution_heat': [-10000.0, 10000.0],\n",
       "   'dilution_intercept': [-10000.0, 10000.0],\n",
       "   'fx_competent': [0.0, 2.0]},\n",
       "  {'dilution_heat': [-10000.0, 10000.0],\n",
       "   'dilution_intercept': [-10000.0, 10000.0]}])"
      ]
     },
     "execution_count": 97,
     "metadata": {},
     "output_type": "execute_result"
    }
   ],
   "source": [
    "f.param_ranges"
   ]
  },
  {
   "cell_type": "code",
   "execution_count": null,
   "metadata": {
    "collapsed": true
   },
   "outputs": [],
   "source": [
    "path = \"t\""
   ]
  },
  {
   "cell_type": "code",
   "execution_count": 273,
   "metadata": {
    "collapsed": false
   },
   "outputs": [
    {
     "name": "stdout",
     "output_type": "stream",
     "text": [
      "how are you doing???\n"
     ]
    }
   ],
   "source": [
    "test_text = widgets.Text()\n",
    "display(test_text)\n",
    "\n",
    "def text_fire(sender):\n",
    "    print(test_text.value)\n",
    "    test_text.disabled = True\n",
    "    \n",
    "test_text.on_submit(text_fire)"
   ]
  },
  {
   "cell_type": "code",
   "execution_count": 264,
   "metadata": {
    "collapsed": false
   },
   "outputs": [],
   "source": [
    "test_text.disabled = True"
   ]
  },
  {
   "cell_type": "code",
   "execution_count": 56,
   "metadata": {
    "collapsed": true
   },
   "outputs": [],
   "source": [
    "file_dropdown.options = file_dict"
   ]
  },
  {
   "cell_type": "code",
   "execution_count": 51,
   "metadata": {
    "collapsed": true
   },
   "outputs": [],
   "source": [
    "exp_path = widgets.Text(description = \"Folder Path: \")\n",
    "file_dropdown = widgets.Dropdown()\n",
    "    \n",
    "def pop_files(file_list):\n",
    "    path_loc = exp_path.value\n",
    "    path_name = \"{}/**/*.DH\".format(path_loc)\n",
    "    \n",
    "    file_list = glob.glob(path_name)\n",
    "    file_dropdown.options = file_list\n",
    "    \n",
    "#file_inter = widgets.interactive(pop_files, file_list = file_dropdown)"
   ]
  },
  {
   "cell_type": "code",
   "execution_count": 277,
   "metadata": {
    "collapsed": true
   },
   "outputs": [],
   "source": [
    "file_dropdown.disabled = True"
   ]
  },
  {
   "cell_type": "code",
   "execution_count": 276,
   "metadata": {
    "collapsed": true
   },
   "outputs": [],
   "source": [
    "file_dropdown"
   ]
  },
  {
   "cell_type": "code",
   "execution_count": 124,
   "metadata": {
    "collapsed": false
   },
   "outputs": [],
   "source": [
    "file_list = glob.glob(\"./**/*.DH\")\n",
    "file_dict = {fname.split('/')[-1]: fname for fname in file_list}"
   ]
  },
  {
   "cell_type": "code",
   "execution_count": 125,
   "metadata": {
    "collapsed": false
   },
   "outputs": [
    {
     "data": {
      "text/plain": [
       "{'blank.DH': './test-data/blank.DH',\n",
       " 'hA5A5conTESCaTCEP.DH': './test-data/hA5A5conTESCaTCEP.DH',\n",
       " 'hA5NCX1TESCaTCEP.DH': './test-data/hA5NCX1TESCaTCEP.DH',\n",
       " 'real-blank-match.DH': './test-data/real-blank-match.DH'}"
      ]
     },
     "execution_count": 125,
     "metadata": {},
     "output_type": "execute_result"
    }
   ],
   "source": [
    "file_dict"
   ]
  },
  {
   "cell_type": "code",
   "execution_count": 463,
   "metadata": {
    "collapsed": false
   },
   "outputs": [],
   "source": [
    "class Sliders():\n",
    "    def __init__(self, exp, fitter, gui, param_name, global_vars, global_exp):\n",
    "        \"\"\"\n",
    "        \"\"\"\n",
    "        self._var_opt = {'link': ['blank'], 'unlink': ['unlink']}\n",
    "        \n",
    "        self._loc_link = widgets.Dropdown(value = self._var_opt['unlink'], options = self._var_opt)\n",
    "        self._glob_link = widgets.Dropdown(value = self._loc_link.value[0], options = self._loc_link.value)\n",
    "        self._fixed_check = widgets.Checkbox(value = False)\n",
    "        self._slider = widgets.FloatSlider()\n",
    "        self._fixed_int = widgets.FloatText(display = 'none')\n",
    "        self._s_min = widgets.FloatText()\n",
    "        self._s_max = widgets.FloatText()\n",
    "        \n",
    "        self._exp = exp\n",
    "        self._fitter = fitter\n",
    "        self._gui = gui\n",
    "        self._param_name = param_name\n",
    "        self._global_vars = global_vars\n",
    "        self._global_exp = global_exp\n",
    "        \n",
    "        self._s_min.layout.width = '50px'\n",
    "        self._s_max.layout.width = '50px'\n",
    "        self._fixed_int.layout.width = '50px'\n",
    "        self._fixed_int.layout.display = 'none'\n",
    "    \n",
    "    def logic(self):\n",
    "    \n",
    "        self._fixed_check.observe(self.check_change, 'value')\n",
    "        self._loc_link.observe(self.link_change, 'value')\n",
    "        self._s_min.observe(self.min_change, 'value')\n",
    "        self._s_max.observe(self.max_change, 'value')\n",
    "        self._slider.observe(self.param_change, 'value')\n",
    "\n",
    "    #bound not range, but update range\n",
    "    def min_change(self, min_val):\n",
    "\n",
    "        self._slider.min = min_val['new']\n",
    "        self.update_bounds(self._slider.min, self._slider.max)\n",
    "\n",
    "    def max_change(self, max_val):\n",
    "\n",
    "        self._slider.max = max_val['new']\n",
    "        self.update_bounds(self._slider.min, self._slider.max)\n",
    "        \n",
    "    def update_bounds(self, s_min, s_max):\n",
    "        \n",
    "        bounds = [s_min, s_max]\n",
    "        self._fitter.update_bounds(self._param_name, bounds, self._exp)\n",
    "        \n",
    "        # check if bounds are smaller than range, then update.\n",
    "        curr_range = self._exp.model.param_guess_ranges[self._param_name]\n",
    "        curr_bounds = self._exp.model.bounds[self._param_name]\n",
    "        \n",
    "        if curr_range[0] < curr_bounds[0] or curr_range[1] > curr_bounds[1]:\n",
    "            self._fitter.update_range(self._param_name, bounds, self._exp)\n",
    "\n",
    "    def check_change(self, val):\n",
    "\n",
    "        if val['new']:\n",
    "            self._slider.layout.display = 'none'\n",
    "            self._fixed_int.layout.display = ''\n",
    "            self._fitter.update_fixed(self._param_name, self._fixed_int.value, self._exp)\n",
    "        elif val['new'] == False and self._loc_link.value[0] == 'link':\n",
    "            self._slider.layout.display = 'none'\n",
    "            self._fixed_int.layout.display = 'none'\n",
    "        elif val['new'] == False and self._loc_link.value[0] == 'unlink': \n",
    "            self._slider.layout.display = ''\n",
    "            self._fixed_int.layout.display = 'none'\n",
    "\n",
    "\n",
    "    def link_change(self, select):\n",
    "\n",
    "        if select['new'][0] == 'unlink' and self._fixed_check.value == False:\n",
    "            self._slider.layout.display = ''\n",
    "            self._fixed_int.layout.display = 'none'\n",
    "        elif select['new'][0] == 'unlink' and self._fixed_check.value:\n",
    "            self._slider.layout.display = 'none'\n",
    "            self._fixed_int.layout.display = ''\n",
    "        else:\n",
    "            self._slider.layout.display = 'none'\n",
    "            self._fixed_int.layout.display = 'none'\n",
    "\n",
    "    def create_global(self, glob_var):\n",
    "\n",
    "        if glob_var != 'unlink' and glob_var != 'blank':\n",
    "            try:\n",
    "                self._fitter.link_to_global(self._exp, self._param_name, glob_var)\n",
    "                new_global = GlobalExp(self._gui, self._global_exp, self._fitter, glob_var)\n",
    "                self._global_exp[glob_var] = new_global\n",
    "            except:\n",
    "                pass\n",
    "\n",
    "    def create_local(self, loc_var):\n",
    "\n",
    "        self._var_opt['link'] = self._global_vars\n",
    "        self._loc_link.options = self._var_opt\n",
    "        \n",
    "        if loc_var[0] == 'unlink':\n",
    "            try:\n",
    "                self._fitter.unlink_from_global(self._exp, self._param_name)\n",
    "            except: \n",
    "                pass\n",
    "        else:\n",
    "             self._glob_link.options = loc_var\n",
    "                \n",
    "    def param_change(self, param_val):\n",
    "        \n",
    "        guess = param_val['new']\n",
    "        \n",
    "        self._fitter.update_guess(self._param_name, guess, self._exp)\n",
    "    \n",
    "    def build_sliders(self):\n",
    "        \"\"\"\n",
    "        build sliders!\n",
    "        \"\"\"\n",
    "        \n",
    "        self.logic()\n",
    "        \n",
    "        exp_range = self._exp.model.param_guess_ranges[self._param_name]\n",
    "        self._slider.min = exp_range[0]\n",
    "        self._slider.max = exp_range[1]\n",
    "        \n",
    "        bounds_label = widgets.Label(value = \"bounds: \")\n",
    "        name_label = widgets.Label(value = \"{}: \".format(self._param_name))\n",
    "        loc_inter = widgets.interactive(self.create_local, loc_var = self._loc_link)\n",
    "        #loc_inter.layout.width = '200px'\n",
    "        glob_inter = widgets.interactive(self.create_global, glob_var =  self._glob_link)\n",
    "        #glob_inter.layout.width = '200px'\n",
    "\n",
    "        min_max = widgets.HBox(children = [bounds_label, self._s_min, self._s_max])\n",
    "        \n",
    "        main = widgets.HBox(children = [self._fixed_check, self._slider, loc_inter, glob_inter, self._fixed_int, min_max])\n",
    "        \n",
    "        all_widgets = widgets.VBox(children = [name_label, main])\n",
    "        all_widgets.layout.width = '80%'\n",
    "\n",
    "        return all_widgets"
   ]
  },
  {
   "cell_type": "code",
   "execution_count": 475,
   "metadata": {
    "collapsed": true
   },
   "outputs": [],
   "source": [
    "glob_list = {}"
   ]
  },
  {
   "cell_type": "code",
   "execution_count": 476,
   "metadata": {
    "collapsed": true
   },
   "outputs": [],
   "source": [
    "exp = f.experiments[0]"
   ]
  },
  {
   "cell_type": "code",
   "execution_count": 485,
   "metadata": {
    "collapsed": false
   },
   "outputs": [],
   "source": [
    "slider = Sliders(exp, f, gui, 'dH', global_var, glob_exp)\n",
    "dilution = Sliders(exp, f, gui, 'dilution_heat', global_var, glob_exp)"
   ]
  },
  {
   "cell_type": "code",
   "execution_count": 486,
   "metadata": {
    "collapsed": false
   },
   "outputs": [
    {
     "data": {
      "text/plain": [
       "({},\n",
       " [{'K': 1.0,\n",
       "   'dH': -4000.0,\n",
       "   'dilution_heat': 0.0,\n",
       "   'dilution_intercept': 0.0,\n",
       "   'fx_competent': 1.0}])"
      ]
     },
     "execution_count": 486,
     "metadata": {},
     "output_type": "execute_result"
    }
   ],
   "source": [
    "f.fit_param"
   ]
  },
  {
   "cell_type": "code",
   "execution_count": 487,
   "metadata": {
    "collapsed": false
   },
   "outputs": [],
   "source": [
    "box = slider.build_sliders()\n",
    "dilution_box = dilution.build_sliders()"
   ]
  },
  {
   "cell_type": "code",
   "execution_count": 53,
   "metadata": {
    "collapsed": true
   },
   "outputs": [],
   "source": [
    "def update_plot(children):\n",
    "    \n",
    "    if children['new'] != children['old']:\n",
    "        f.fit()\n",
    "        f.plot()\n",
    "        \n",
    "    print(children)"
   ]
  },
  {
   "cell_type": "code",
   "execution_count": 54,
   "metadata": {
    "collapsed": true
   },
   "outputs": [],
   "source": [
    "box.observe(update_plot, 'children')"
   ]
  },
  {
   "cell_type": "code",
   "execution_count": 259,
   "metadata": {
    "collapsed": false
   },
   "outputs": [],
   "source": [
    "box.layout.visibility = ''"
   ]
  },
  {
   "cell_type": "code",
   "execution_count": 488,
   "metadata": {
    "collapsed": true
   },
   "outputs": [],
   "source": [
    "box"
   ]
  },
  {
   "cell_type": "code",
   "execution_count": 489,
   "metadata": {
    "collapsed": true
   },
   "outputs": [],
   "source": [
    "dilution_box"
   ]
  },
  {
   "cell_type": "code",
   "execution_count": 490,
   "metadata": {
    "collapsed": false
   },
   "outputs": [
    {
     "data": {
      "text/plain": [
       "{'S': <__main__.GlobalExp at 0x118046080>}"
      ]
     },
     "execution_count": 490,
     "metadata": {},
     "output_type": "execute_result"
    }
   ],
   "source": [
    "glob_exp"
   ]
  },
  {
   "cell_type": "code",
   "execution_count": 319,
   "metadata": {
    "collapsed": false
   },
   "outputs": [
    {
     "name": "stderr",
     "output_type": "stream",
     "text": [
      "/Users/hrnmy/Documents/Harms/pytc/pytc/experiments.py:88: FutureWarning:\n",
      "\n",
      "comparison to `None` will result in an elementwise object comparison in the future.\n",
      "\n",
      "/Users/hrnmy/Documents/Harms/pytc/pytc/fitting.py:286: FutureWarning:\n",
      "\n",
      "comparison to `None` will result in an elementwise object comparison in the future.\n",
      "\n",
      "/Users/hrnmy/Documents/Harms/pytc/pytc/fitting.py:301: FutureWarning:\n",
      "\n",
      "comparison to `None` will result in an elementwise object comparison in the future.\n",
      "\n"
     ]
    },
    {
     "data": {
      "image/png": "[encoded data removed]",
      "text/plain": [
       "<matplotlib.figure.Figure at 0x1150de780>"
      ]
     },
     "metadata": {},
     "output_type": "display_data"
    }
   ],
   "source": [
    "f.fit()\n",
    "f.plot()"
   ]
  },
  {
   "cell_type": "code",
   "execution_count": 70,
   "metadata": {
    "collapsed": false
   },
   "outputs": [
    {
     "data": {
      "text/plain": [
       "'dWnwqHQhTavPRcurrbda'"
      ]
     },
     "execution_count": 70,
     "metadata": {},
     "output_type": "execute_result"
    }
   ],
   "source": [
    "f.experiments[1].experiment_id"
   ]
  },
  {
   "cell_type": "code",
   "execution_count": 21,
   "metadata": {
    "collapsed": false,
    "scrolled": true
   },
   "outputs": [
    {
     "data": {
      "text/plain": [
       "{'_cross_validation_lock': False,\n",
       " '_model_id': '5a93da7299104cc68cb299e50de80750',\n",
       " '_trait_notifiers': {'background_color': {'change': [<function ipywidgets.widgets.domwidget.DOMWidget._deprecate_traits.<locals>.traitWarn>]},\n",
       "  'color': {'change': [<function ipywidgets.widgets.domwidget.DOMWidget._deprecate_traits.<locals>.traitWarn>]},\n",
       "  'comm': {'change': [<traitlets.traitlets.ObserveHandler at 0x1038ff550>]},\n",
       "  'config': {'change': [<traitlets.traitlets.ObserveHandler at 0x1026668d0>]},\n",
       "  'font_family': {'change': [<function ipywidgets.widgets.domwidget.DOMWidget._deprecate_traits.<locals>.traitWarn>]},\n",
       "  'font_size': {'change': [<function ipywidgets.widgets.domwidget.DOMWidget._deprecate_traits.<locals>.traitWarn>]},\n",
       "  'font_style': {'change': [<function ipywidgets.widgets.domwidget.DOMWidget._deprecate_traits.<locals>.traitWarn>]},\n",
       "  'font_weight': {'change': [<function ipywidgets.widgets.domwidget.DOMWidget._deprecate_traits.<locals>.traitWarn>]},\n",
       "  'value': {'change': [<function __main__.update_plot>,\n",
       "    <function __main__.update_plot>,\n",
       "    <function __main__.update_plot>]}},\n",
       " '_trait_validators': {},\n",
       " '_trait_values': {'_display_callbacks': <ipywidgets.widgets.widget.CallbackDispatcher at 0x1139eef98>,\n",
       "  '_dom_classes': (),\n",
       "  '_model_module': 'jupyter-js-widgets',\n",
       "  '_model_name': 'BoxModel',\n",
       "  '_view_module': 'jupyter-js-widgets',\n",
       "  '_view_name': 'BoxView',\n",
       "  'background_color': None,\n",
       "  'box_style': '',\n",
       "  'children': (<ipywidgets.widgets.widget_string.Label at 0x113c9feb8>,\n",
       "   <ipywidgets.widgets.widget_bool.Checkbox at 0x113a200f0>,\n",
       "   <ipywidgets.widgets.widget_float.FloatSlider at 0x113a20390>,\n",
       "   <ipywidgets.widgets.widget_box.Box at 0x1139ee8d0>,\n",
       "   <ipywidgets.widgets.widget_box.Box at 0x1139eea58>,\n",
       "   <ipywidgets.widgets.widget_float.FloatText at 0x113a1bef0>),\n",
       "  'color': None,\n",
       "  'comm': <ipykernel.comm.comm.Comm at 0x1139ee2b0>,\n",
       "  'config': {},\n",
       "  'font_family': '',\n",
       "  'font_size': '',\n",
       "  'font_style': '',\n",
       "  'font_weight': '',\n",
       "  'keys': ['msg_throttle',\n",
       "   'overflow_x',\n",
       "   'font_weight',\n",
       "   'overflow_y',\n",
       "   '_view_module',\n",
       "   '_view_name',\n",
       "   '_dom_classes',\n",
       "   'font_style',\n",
       "   '_model_name',\n",
       "   'layout',\n",
       "   'color',\n",
       "   'children',\n",
       "   'font_family',\n",
       "   '_model_module',\n",
       "   'visible',\n",
       "   'background_color',\n",
       "   'font_size',\n",
       "   'box_style'],\n",
       "  'layout': <ipywidgets.widgets.widget_layout.Layout at 0x1139ee198>,\n",
       "  'msg_throttle': 3,\n",
       "  'overflow_x': '',\n",
       "  'overflow_y': '',\n",
       "  'parent': None,\n",
       "  'visible': True}}"
      ]
     },
     "execution_count": 21,
     "metadata": {},
     "output_type": "execute_result"
    }
   ],
   "source": [
    "box.__dict__"
   ]
  },
  {
   "cell_type": "code",
   "execution_count": 63,
   "metadata": {
    "collapsed": false
   },
   "outputs": [
    {
     "data": {
      "text/plain": [
       "[-10000.0, 10000.0]"
      ]
     },
     "execution_count": 63,
     "metadata": {},
     "output_type": "execute_result"
    }
   ],
   "source": [
    "exp.model.param_guess_ranges['dH']"
   ]
  },
  {
   "cell_type": "code",
   "execution_count": 60,
   "metadata": {
    "collapsed": true
   },
   "outputs": [],
   "source": [
    "bounds = [3000, 100000]"
   ]
  },
  {
   "cell_type": "code",
   "execution_count": 63,
   "metadata": {
    "collapsed": false
   },
   "outputs": [
    {
     "ename": "TypeError",
     "evalue": "'dict' object is not callable",
     "output_type": "error",
     "traceback": [
      "\u001b[0;31m---------------------------------------------------------------------------\u001b[0m",
      "\u001b[0;31mTypeError\u001b[0m                                 Traceback (most recent call last)",
      "\u001b[0;32m<ipython-input-63-57c055cb5597>\u001b[0m in \u001b[0;36m<module>\u001b[0;34m()\u001b[0m\n\u001b[0;32m----> 1\u001b[0;31m \u001b[0mf\u001b[0m\u001b[0;34m.\u001b[0m\u001b[0mupdate_bounds\u001b[0m\u001b[0;34m(\u001b[0m\u001b[0;34m'dH'\u001b[0m\u001b[0;34m,\u001b[0m \u001b[0;34m[\u001b[0m\u001b[0;34m-\u001b[0m\u001b[0;36m10000\u001b[0m\u001b[0;34m,\u001b[0m \u001b[0;36m600\u001b[0m\u001b[0;34m]\u001b[0m\u001b[0;34m,\u001b[0m \u001b[0mexp\u001b[0m\u001b[0;34m)\u001b[0m\u001b[0;34m\u001b[0m\u001b[0m\n\u001b[0m",
      "\u001b[0;32m/Users/hrnmy/Documents/Harms/pytc/pytc/fitting.py\u001b[0m in \u001b[0;36mupdate_bounds\u001b[0;34m(self, param_name, param_bounds, expt)\u001b[0m\n\u001b[1;32m    550\u001b[0m             \u001b[0mself\u001b[0m\u001b[0;34m.\u001b[0m\u001b[0m_global_params\u001b[0m\u001b[0;34m[\u001b[0m\u001b[0mparam_name\u001b[0m\u001b[0;34m]\u001b[0m\u001b[0;34m.\u001b[0m\u001b[0mbounds\u001b[0m \u001b[0;34m=\u001b[0m \u001b[0mparam_bounds\u001b[0m\u001b[0;34m\u001b[0m\u001b[0m\n\u001b[1;32m    551\u001b[0m         \u001b[0;32melse\u001b[0m\u001b[0;34m:\u001b[0m\u001b[0;34m\u001b[0m\u001b[0m\n\u001b[0;32m--> 552\u001b[0;31m             \u001b[0mself\u001b[0m\u001b[0;34m.\u001b[0m\u001b[0m_expt_dict\u001b[0m\u001b[0;34m[\u001b[0m\u001b[0mexpt\u001b[0m\u001b[0;34m.\u001b[0m\u001b[0mexperiment_id\u001b[0m\u001b[0;34m]\u001b[0m\u001b[0;34m.\u001b[0m\u001b[0mmodel\u001b[0m\u001b[0;34m.\u001b[0m\u001b[0mbounds\u001b[0m\u001b[0;34m(\u001b[0m\u001b[0;34m{\u001b[0m\u001b[0mparam_name\u001b[0m\u001b[0;34m:\u001b[0m\u001b[0mparam_bounds\u001b[0m\u001b[0;34m}\u001b[0m\u001b[0;34m)\u001b[0m\u001b[0;34m\u001b[0m\u001b[0m\n\u001b[0m\u001b[1;32m    553\u001b[0m \u001b[0;34m\u001b[0m\u001b[0m\n\u001b[1;32m    554\u001b[0m     \u001b[0;31m#--------------------------------------------------------------------------\u001b[0m\u001b[0;34m\u001b[0m\u001b[0;34m\u001b[0m\u001b[0m\n",
      "\u001b[0;31mTypeError\u001b[0m: 'dict' object is not callable"
     ]
    }
   ],
   "source": [
    "f.update_bounds('dH', [-10000, 600], exp)"
   ]
  },
  {
   "cell_type": "code",
   "execution_count": 52,
   "metadata": {
    "collapsed": false
   },
   "outputs": [
    {
     "data": {
      "text/plain": [
       "[<pytc.experiments.ITCExperiment at 0x110e86da0>,\n",
       " <pytc.experiments.ITCExperiment at 0x110e86f98>]"
      ]
     },
     "execution_count": 52,
     "metadata": {},
     "output_type": "execute_result"
    }
   ],
   "source": [
    "f.experiments"
   ]
  },
  {
   "cell_type": "code",
   "execution_count": 59,
   "metadata": {
    "collapsed": false
   },
   "outputs": [],
   "source": [
    "parameters = exp.param_values"
   ]
  },
  {
   "cell_type": "code",
   "execution_count": 60,
   "metadata": {
    "collapsed": false
   },
   "outputs": [
    {
     "data": {
      "text/plain": [
       "{'K': 1000000.0,\n",
       " 'dH': 10000.0,\n",
       " 'dilution_heat': 0.0,\n",
       " 'dilution_intercept': 0.0,\n",
       " 'fx_competent': 1.0}"
      ]
     },
     "execution_count": 60,
     "metadata": {},
     "output_type": "execute_result"
    }
   ],
   "source": [
    "parameters"
   ]
  },
  {
   "cell_type": "code",
   "execution_count": 34,
   "metadata": {
    "collapsed": false
   },
   "outputs": [],
   "source": [
    "slider = Sliders(exp, f)\n",
    "opt = slider.link(global_var)"
   ]
  },
  {
   "cell_type": "code",
   "execution_count": 35,
   "metadata": {
    "collapsed": false
   },
   "outputs": [],
   "source": [
    "def opt_one(glob_var):\n",
    "    \n",
    "    print(glob_var)\n",
    "\n",
    "def opt_two(loc_var):\n",
    "    \n",
    "    drop_2.options = loc_var"
   ]
  },
  {
   "cell_type": "code",
   "execution_count": 36,
   "metadata": {
    "collapsed": false
   },
   "outputs": [],
   "source": [
    "drop_1 = widgets.Dropdown(options = opt)\n",
    "val = drop_1.value\n",
    "drop_2 = widgets.Dropdown(options = val)\n",
    "\n",
    "i = widgets.interactive(opt_two, loc_var = drop_1)\n",
    "j = widgets.interactive(opt_one, glob_var = drop_2)"
   ]
  },
  {
   "cell_type": "code",
   "execution_count": 98,
   "metadata": {
    "collapsed": false
   },
   "outputs": [],
   "source": [
    "dropdown = widgets.Dropdown(value = opt['unlink'], options = opt)\n",
    "checkbox = widgets.Checkbox(value = False)\n",
    "slider_w = widgets.FloatSlider()\n",
    "float_text = widgets.FloatText()\n",
    "float_min = widgets.FloatText()\n",
    "float_max = widgets.FloatText()\n",
    "float_min.layout.width = '100px'\n",
    "float_max.layout.width = '100px'\n",
    "float_text.layout.width = '50px'\n",
    "float_text.layout.display = 'none'\n",
    "\n",
    "glob_list = dropdown.value\n",
    "glob_dropdown = widgets.Dropdown(options = glob_list)"
   ]
  },
  {
   "cell_type": "code",
   "execution_count": 110,
   "metadata": {
    "collapsed": false
   },
   "outputs": [],
   "source": [
    "def glob_change(glob_var):\n",
    "    \n",
    "    new_var = glob_var['new']\n",
    "    \n",
    "    if new_var and new_var not in global_var:\n",
    "        global_var.append(new_var)\n",
    "        opt_update = slider.link(global_var)\n",
    "        dropdown.options = opt_update\n",
    "        #global_field.value = ''\n",
    "    else:\n",
    "        pass\n",
    "    \n",
    "def glob_interact(glob_var):\n",
    "    \n",
    "    if glob_var and glob_var not in global_var:\n",
    "        global_var.append(glob_var)\n",
    "        opt_update = slider.link(global_var)\n",
    "        dropdown.options = opt_update\n",
    "        #global_field.value = ''\n",
    "    else:\n",
    "        pass\n",
    "    \n",
    "#bound not range, but update range\n",
    "def min_change(min_val):\n",
    "\n",
    "    slider_w.min = min_val['new']\n",
    "    \n",
    "def max_change(max_val):\n",
    "\n",
    "    slider_w.max = max_val['new']\n",
    "\n",
    "    \n",
    "def check_change(val):\n",
    "    \n",
    "    if val['new']:\n",
    "        slider_w.layout.display = 'none'\n",
    "        float_text.layout.display = ''\n",
    "    elif val['new'] == False and dropdown.value[0] == 'link':\n",
    "        slider_w.layout.display = 'none'\n",
    "        float_text.layout.display = 'none'\n",
    "    elif val['new'] == False and dropdown.value[0] == 'unlink': \n",
    "        slider_w.layout.display = ''\n",
    "        float_text.layout.display = 'none'\n",
    "        #clear_output()\n",
    "        \n",
    "    #fixed and update fixed\n",
    "        \n",
    "def link_change(select):\n",
    "    \n",
    "    if select['new'][0] == 'unlink' and checkbox.value == False:\n",
    "        slider_w.layout.display = ''\n",
    "        float_text.layout.display = 'none'\n",
    "    elif select['new'][0] == 'unlink' and checkbox.value:\n",
    "        slider_w.layout.display = 'none'\n",
    "        float_text.layout.display = ''\n",
    "    elif select['new'][0] == 'link':\n",
    "        slider_w.layout.display = 'none'\n",
    "        float_text.layout.display = 'none'\n",
    "    else: \n",
    "        clear_output()\n",
    "        print(select['new'])\n",
    "        \n",
    "def opt_one(glob_var):\n",
    "    \n",
    "    # link variables here.\n",
    "    \n",
    "    pass\n",
    "\n",
    "def opt_two(loc_var):\n",
    "    \n",
    "    opt_update = slider.link(global_var)\n",
    "    dropdown.options = opt_update\n",
    "    if loc_var[0] == 'unlink' or loc_var[0] == 'link':\n",
    "        glob_dropdown.options = []\n",
    "    else:\n",
    "        glob_dropdown.options = loc_var\n",
    "        \n",
    "\n",
    "checkbox.observe(check_change, 'value')\n",
    "dropdown.observe(link_change, 'value')\n",
    "global_field.observe(glob_change, 'value')\n",
    "float_min.observe(min_change, 'value')\n",
    "float_max.observe(max_change, 'value')"
   ]
  },
  {
   "cell_type": "code",
   "execution_count": 88,
   "metadata": {
    "collapsed": false
   },
   "outputs": [],
   "source": [
    "widgets.interactive(glob_interact, glob_var = global_field)"
   ]
  },
  {
   "cell_type": "code",
   "execution_count": 111,
   "metadata": {
    "collapsed": false,
    "scrolled": true
   },
   "outputs": [
    {
     "name": "stdout",
     "output_type": "stream",
     "text": [
      "link\n"
     ]
    }
   ],
   "source": [
    "label = widgets.Label(value = \"bounds: \")\n",
    "loc_inter = widgets.interactive(opt_two, loc_var = dropdown)\n",
    "glob_inter = widgets.interactive(opt_one, glob_var = glob_dropdown)\n",
    "\n",
    "box = widgets.HBox(children = [checkbox, slider_w, loc_inter, glob_inter, float_text])\n",
    "box.layout.width = '90%'\n",
    "\n",
    "min_max = widgets.HBox(children = [label, float_min, float_max])\n",
    "\n",
    "display(min_max, box)"
   ]
  },
  {
   "cell_type": "code",
   "execution_count": 105,
   "metadata": {
    "collapsed": false
   },
   "outputs": [
    {
     "data": {
      "text/plain": [
       "{'dilution_heat': ['J', 'L', 'V', 'M', 'Z'],\n",
       " 'dilution_intercept': ['J', 'L', 'V', 'M', 'Z'],\n",
       " 'link': ['link'],\n",
       " 'unlink': ['unlink']}"
      ]
     },
     "execution_count": 105,
     "metadata": {},
     "output_type": "execute_result"
    }
   ],
   "source": [
    "opt"
   ]
  },
  {
   "cell_type": "code",
   "execution_count": 80,
   "metadata": {
    "collapsed": false
   },
   "outputs": [
    {
     "name": "stdout",
     "output_type": "stream",
     "text": [
      "M\n"
     ]
    }
   ],
   "source": [
    "display(i, j)"
   ]
  },
  {
   "cell_type": "code",
   "execution_count": 47,
   "metadata": {
    "collapsed": false
   },
   "outputs": [
    {
     "data": {
      "text/plain": [
       "{'K': None,\n",
       " 'dH': None,\n",
       " 'dilution_heat': None,\n",
       " 'dilution_intercept': None,\n",
       " 'fx_competent': None}"
      ]
     },
     "execution_count": 47,
     "metadata": {},
     "output_type": "execute_result"
    }
   ],
   "source": [
    "slider.link()"
   ]
  },
  {
   "cell_type": "code",
   "execution_count": 162,
   "metadata": {
    "collapsed": true
   },
   "outputs": [],
   "source": [
    "slider.layout.display = ''"
   ]
  },
  {
   "cell_type": "code",
   "execution_count": 161,
   "metadata": {
    "collapsed": true
   },
   "outputs": [],
   "source": [
    "slider.layout.visibility = 'visible'"
   ]
  },
  {
   "cell_type": "code",
   "execution_count": 27,
   "metadata": {
    "collapsed": false
   },
   "outputs": [],
   "source": [
    "s_test = sliders.gen_sliders()"
   ]
  },
  {
   "cell_type": "code",
   "execution_count": 28,
   "metadata": {
    "collapsed": false
   },
   "outputs": [
    {
     "data": {
      "text/plain": [
       "{'fixed': <ipywidgets.widgets.widget_bool.Checkbox at 0x10af42710>,\n",
       " 'int': <ipywidgets.widgets.widget_float.FloatText at 0x110f249e8>,\n",
       " 'link': <ipywidgets.widgets.widget_selection.Dropdown at 0x10af427b8>}"
      ]
     },
     "execution_count": 28,
     "metadata": {},
     "output_type": "execute_result"
    }
   ],
   "source": [
    "s_test"
   ]
  },
  {
   "cell_type": "code",
   "execution_count": 57,
   "metadata": {
    "collapsed": false
   },
   "outputs": [],
   "source": [
    "blurp = widgets.interactive(logic, **s_test)"
   ]
  },
  {
   "cell_type": "code",
   "execution_count": 65,
   "metadata": {
    "collapsed": false
   },
   "outputs": [],
   "source": [
    "blurp.layout.flex_flow = 'row'\n",
    "blurp.layout.flex = '1 1 1'"
   ]
  },
  {
   "cell_type": "code",
   "execution_count": 69,
   "metadata": {
    "collapsed": true
   },
   "outputs": [],
   "source": [
    "blurp.layout.width = '20%'"
   ]
  },
  {
   "cell_type": "code",
   "execution_count": 74,
   "metadata": {
    "collapsed": false
   },
   "outputs": [],
   "source": [
    "blurp.visible = True"
   ]
  },
  {
   "cell_type": "code",
   "execution_count": 104,
   "metadata": {
    "collapsed": true
   },
   "outputs": [],
   "source": [
    "blurp"
   ]
  },
  {
   "cell_type": "code",
   "execution_count": 138,
   "metadata": {
    "collapsed": false
   },
   "outputs": [],
   "source": [
    "#slider_b = widgets.Box(children = s_test.values())"
   ]
  },
  {
   "cell_type": "code",
   "execution_count": 54,
   "metadata": {
    "collapsed": false
   },
   "outputs": [],
   "source": [
    "update = widgets.Button(description = 'Update')\n",
    "update.on_click(update_s)"
   ]
  },
  {
   "cell_type": "code",
   "execution_count": 55,
   "metadata": {
    "collapsed": false
   },
   "outputs": [
    {
     "name": "stdout",
     "output_type": "stream",
     "text": [
      "False\n"
     ]
    }
   ],
   "source": [
    "display(update)"
   ]
  },
  {
   "cell_type": "code",
   "execution_count": 56,
   "metadata": {
    "collapsed": true
   },
   "outputs": [],
   "source": [
    "display?"
   ]
  },
  {
   "cell_type": "code",
   "execution_count": 67,
   "metadata": {
    "collapsed": true
   },
   "outputs": [],
   "source": [
    "update.close()"
   ]
  },
  {
   "cell_type": "code",
   "execution_count": 57,
   "metadata": {
    "collapsed": false
   },
   "outputs": [
    {
     "data": {
      "text/plain": [
       "<ipywidgets.widgets.widget_button.Button at 0x110f9bb38>"
      ]
     },
     "metadata": {},
     "output_type": "display_data"
    }
   ],
   "source": [
    "X = display(update)"
   ]
  },
  {
   "cell_type": "code",
   "execution_count": 59,
   "metadata": {
    "collapsed": true
   },
   "outputs": [],
   "source": [
    "update.open()"
   ]
  },
  {
   "cell_type": "code",
   "execution_count": 60,
   "metadata": {
    "collapsed": false
   },
   "outputs": [
    {
     "data": {
      "text/plain": [
       "<ipywidgets.widgets.widget_button.Button at 0x110f9bb38>"
      ]
     },
     "metadata": {},
     "output_type": "display_data"
    }
   ],
   "source": [
    "display(update)"
   ]
  },
  {
   "cell_type": "code",
   "execution_count": null,
   "metadata": {
    "collapsed": true
   },
   "outputs": [],
   "source": []
  }
 ],
 "metadata": {
  "kernelspec": {
   "display_name": "Python 3",
   "language": "python",
   "name": "python3"
  },
  "language_info": {
   "codemirror_mode": {
    "name": "ipython",
    "version": 3
   },
   "file_extension": ".py",
   "mimetype": "text/x-python",
   "name": "python",
   "nbconvert_exporter": "python",
   "pygments_lexer": "ipython3",
   "version": "3.4.5"
  },
  "widgets": {
   "state": {
    "03152533668b415cb1362b8d4cee7d52": {
     "views": [
      {
       "cell_index": 4
      }
     ]
    },
    "0645c08c72604bedba118408b9393f33": {
     "views": [
      {
       "cell_index": 4
      }
     ]
    },
    "06c81e2fc8814c93b2cf713df0b57b07": {
     "views": [
      {
       "cell_index": 5
      }
     ]
    },
    "08232eaff5db443482f523d6be3e9300": {
     "views": [
      {
       "cell_index": 5
      }
     ]
    },
    "09a2f3598cff4daaba44df41173fb486": {
     "views": [
      {
       "cell_index": 4
      }
     ]
    },
    "0a3e34b1378e4bc7ad700158c4db37d1": {
     "views": [
      {
       "cell_index": 4
      }
     ]
    },
    "0a87d6b1292f4188bc53c05f01ddbb65": {
     "views": [
      {
       "cell_index": 4
      }
     ]
    },
    "0b94f07278624dd3ac623dc0394d7a6a": {
     "views": [
      {
       "cell_index": 10
      }
     ]
    },
    "0bfc2b8fbbc94112a4ddcfde8e06b2a7": {
     "views": [
      {
       "cell_index": 39
      }
     ]
    },
    "0ccb638fa7e34b179f22f8a2c5155e3b": {
     "views": [
      {
       "cell_index": 4
      }
     ]
    },
    "0d335ee9b57c48b39a57850d82d95280": {
     "views": [
      {
       "cell_index": 5
      }
     ]
    },
    "0d7577be33d84e78a31837f8f5359e88": {
     "views": [
      {
       "cell_index": 5
      }
     ]
    },
    "0dc4487084db41f9a6567427f9cd2187": {
     "views": [
      {
       "cell_index": 4
      }
     ]
    },
    "0eebcdc36c3247e9a814f125f55563bf": {
     "views": [
      {
       "cell_index": 4
      }
     ]
    },
    "103ef2204878476bba01e0241cc8fe90": {
     "views": [
      {
       "cell_index": 5
      }
     ]
    },
    "13124b20fbba47baa1a3f2d0f2b8605d": {
     "views": [
      {
       "cell_index": 4
      }
     ]
    },
    "13e87cd8a3c34aee916cfc478a78ad90": {
     "views": [
      {
       "cell_index": 5
      }
     ]
    },
    "14f1c1f815024fbd9e6992773be0f00a": {
     "views": [
      {
       "cell_index": 4
      }
     ]
    },
    "169ee38e95d0484ead62521b541c23e1": {
     "views": [
      {
       "cell_index": 4
      }
     ]
    },
    "180866e4c8324aab96c6622b8df367a4": {
     "views": [
      {
       "cell_index": 4
      }
     ]
    },
    "19e4db2b06fa4e68ae6cb298236e87f9": {
     "views": [
      {
       "cell_index": 4
      }
     ]
    },
    "1cb043b25c5e4747bc4ea926eba77f3f": {
     "views": [
      {
       "cell_index": 5
      }
     ]
    },
    "1e4ac8c77d2942538394b9e714de0953": {
     "views": [
      {
       "cell_index": 4
      }
     ]
    },
    "1f11d1a5ba4243c49a054d3fa773f4a6": {
     "views": [
      {
       "cell_index": 5
      }
     ]
    },
    "2011242c337c4448bb8be3de212f1a04": {
     "views": [
      {
       "cell_index": 5
      }
     ]
    },
    "2083d7f3adcf4cae980632af55ec6d76": {
     "views": [
      {
       "cell_index": 4
      }
     ]
    },
    "20d04ba0050f4bb284f92b627ca4423e": {
     "views": [
      {
       "cell_index": 4
      }
     ]
    },
    "20e957a4020b4bd5bb9acb14e433b2e5": {
     "views": [
      {
       "cell_index": 4
      }
     ]
    },
    "23b78ccde87c4657b424bbcc4554d1a7": {
     "views": [
      {
       "cell_index": 17
      }
     ]
    },
    "24f55701db6d4bc5bf59db7da6acd68c": {
     "views": [
      {
       "cell_index": 4
      }
     ]
    },
    "25577bb9fd9443a185b18f0a80dbd8f5": {
     "views": [
      {
       "cell_index": 5
      }
     ]
    },
    "28e077bce4d34ed18be2975401292465": {
     "views": [
      {
       "cell_index": 4
      }
     ]
    },
    "2a46efe2fab840c797b331a2e5c709d6": {
     "views": [
      {
       "cell_index": 5
      }
     ]
    },
    "2bed98ddd1384236a8b31b6f03922922": {
     "views": [
      {
       "cell_index": 4
      }
     ]
    },
    "2fd5c7e676704106ace0e0b6ddeeebbb": {
     "views": [
      {
       "cell_index": 4
      }
     ]
    },
    "32cba18993ae4583a4a6317d44b29bfc": {
     "views": [
      {
       "cell_index": 4
      }
     ]
    },
    "33dfa1eef93e4f7a89d1fd58f3bad7c8": {
     "views": [
      {
       "cell_index": 4
      }
     ]
    },
    "380001fc8a09469aa64febbaa0fe64a1": {
     "views": [
      {
       "cell_index": 4
      }
     ]
    },
    "39783354c472442aa5070517a9dffbc0": {
     "views": [
      {
       "cell_index": 4
      }
     ]
    },
    "3aa89c31e8e54e448e51d9f800e27647": {
     "views": [
      {
       "cell_index": 4
      }
     ]
    },
    "4159668260ac43019ef9fea03ef13522": {
     "views": [
      {
       "cell_index": 5
      }
     ]
    },
    "41de70e9737847968d618ff73d785f0d": {
     "views": [
      {
       "cell_index": 40
      }
     ]
    },
    "4365d6e600474399a8e2ff756110935b": {
     "views": [
      {
       "cell_index": 20
      }
     ]
    },
    "4c2fcd0f8a824c729f001405aba48e7f": {
     "views": [
      {
       "cell_index": 4
      }
     ]
    },
    "4deaa332628340d4a8fd3c4183af9f3c": {
     "views": [
      {
       "cell_index": 4
      }
     ]
    },
    "4e71204d82b648aaba67d110c55e9bfa": {
     "views": [
      {
       "cell_index": 4
      }
     ]
    },
    "50336588664d457295074358732ecc86": {
     "views": [
      {
       "cell_index": 4
      }
     ]
    },
    "52064900409c4816ab6d00787ce85e4a": {
     "views": [
      {
       "cell_index": 5
      }
     ]
    },
    "52ef69ed50f24be88597d3fd7388e585": {
     "views": [
      {
       "cell_index": 4
      }
     ]
    },
    "52f17ef51a074575a705738600aadff7": {
     "views": [
      {
       "cell_index": 18
      }
     ]
    },
    "53f86d45cf3a4749b50a131b79e49dbd": {
     "views": [
      {
       "cell_index": 4
      }
     ]
    },
    "56403bbd16bb4e888af53e48509b9241": {
     "views": [
      {
       "cell_index": 4
      }
     ]
    },
    "5729fe43e9364bbfb27e6686949ec160": {
     "views": [
      {
       "cell_index": 5
      }
     ]
    },
    "58b0c1b5e5ac4faf96f405b593118a2b": {
     "views": [
      {
       "cell_index": 4
      }
     ]
    },
    "5957c3356be64be3805544851d668508": {
     "views": [
      {
       "cell_index": 4
      }
     ]
    },
    "5cf675d255b54a9896d7a4e35cde6236": {
     "views": [
      {
       "cell_index": 4
      }
     ]
    },
    "5d0138af7c114aa0be5e96ae40b36290": {
     "views": [
      {
       "cell_index": 20
      }
     ]
    },
    "5d64518667184dfdad5ed77b3087e2ee": {
     "views": [
      {
       "cell_index": 4
      }
     ]
    },
    "5fc21097f1a5449b8b3abf781dc122ba": {
     "views": [
      {
       "cell_index": 5
      }
     ]
    },
    "60cae3876f0f4463bdbabbb59525ae62": {
     "views": [
      {
       "cell_index": 4
      }
     ]
    },
    "631723e385214885a478b747a7ac78ce": {
     "views": [
      {
       "cell_index": 4
      }
     ]
    },
    "63f99d1d3afa49f1b646fb194c928314": {
     "views": [
      {
       "cell_index": 4
      }
     ]
    },
    "649ef3543ba4470e900814795a089a9c": {
     "views": [
      {
       "cell_index": 4
      }
     ]
    },
    "654ed23f6aa641b2aeecd22d05af3cfe": {
     "views": [
      {
       "cell_index": 4
      }
     ]
    },
    "65f028f464c74f62a28639e3bf717d47": {
     "views": [
      {
       "cell_index": 5
      }
     ]
    },
    "6b31444c041847e5981ec2a0e8d9e02d": {
     "views": [
      {
       "cell_index": 4
      }
     ]
    },
    "6b3e364ec1a346e58b8b4d0e9ce40d45": {
     "views": [
      {
       "cell_index": 23
      }
     ]
    },
    "6d30fb451aa74363b791649ba21bc854": {
     "views": [
      {
       "cell_index": 4
      }
     ]
    },
    "6de03202c3a34214b6b49bf953dd5054": {
     "views": [
      {
       "cell_index": 4
      }
     ]
    },
    "75489b7c9c414fc980c3e25d1cc56dfa": {
     "views": [
      {
       "cell_index": 5
      }
     ]
    },
    "7595c3dbd0c24ad3bcf7f55b3126b15d": {
     "views": [
      {
       "cell_index": 4
      }
     ]
    },
    "792a14abcf704b949eea24596c75410a": {
     "views": [
      {
       "cell_index": 4
      }
     ]
    },
    "79fa6ea75a6a4015bd8cb6c8ebec190d": {
     "views": [
      {
       "cell_index": 19
      }
     ]
    },
    "7bd5b7c74ba6465997bb708300b2a86a": {
     "views": [
      {
       "cell_index": 4
      }
     ]
    },
    "7d29c7fdd15246ee914fdf160fd8f964": {
     "views": [
      {
       "cell_index": 5
      }
     ]
    },
    "7d4f7787055d4c7c9c0f678c7eabdc85": {
     "views": [
      {
       "cell_index": 5
      }
     ]
    },
    "7fbdfed3c4aa425bb2f4e5f138982eb3": {
     "views": [
      {
       "cell_index": 5
      }
     ]
    },
    "7fe2cfbde31d4864a725818891e08634": {
     "views": [
      {
       "cell_index": 4
      }
     ]
    },
    "87184a65f41140c794e8dda682447fe9": {
     "views": [
      {
       "cell_index": 4
      }
     ]
    },
    "88f029971baa40a898b2412aaf85f003": {
     "views": [
      {
       "cell_index": 4
      }
     ]
    },
    "8ba6b8633a4d4695a2ecec936e618d8c": {
     "views": [
      {
       "cell_index": 5
      }
     ]
    },
    "8decb3b989d044399edcaf3119057a6b": {
     "views": [
      {
       "cell_index": 4
      }
     ]
    },
    "8e8b0cb47ca448ce9e886d0c0ff75607": {
     "views": [
      {
       "cell_index": 4
      }
     ]
    },
    "9103cfe080bb49f7b52b10d8c3088106": {
     "views": [
      {
       "cell_index": 18
      }
     ]
    },
    "92042d8b785c4d2ab1b9da3f96f1aa52": {
     "views": [
      {
       "cell_index": 4
      }
     ]
    },
    "9887932602f047bb93701a2c37243e11": {
     "views": [
      {
       "cell_index": 5
      }
     ]
    },
    "993032ace41a4deebb3382b171037a74": {
     "views": [
      {
       "cell_index": 4
      }
     ]
    },
    "9a97a3acfeac4113959c86ab60404965": {
     "views": [
      {
       "cell_index": 18
      }
     ]
    },
    "9d5cd78181494ae0b6ff011cbee35845": {
     "views": [
      {
       "cell_index": 4
      }
     ]
    },
    "9eed0f8ec5d14c1e87247bcd75fa6aad": {
     "views": [
      {
       "cell_index": 19
      }
     ]
    },
    "a40e4479f4754274a4ffc91ea81e01d1": {
     "views": [
      {
       "cell_index": 5
      }
     ]
    },
    "ac6a87f901bb44f0a116bb1ddae2a8cf": {
     "views": [
      {
       "cell_index": 17
      }
     ]
    },
    "ae87f4bb8741499aa855773be9ca1a62": {
     "views": [
      {
       "cell_index": 4
      }
     ]
    },
    "b1f1bfe14b294986b454a3ea85436a51": {
     "views": [
      {
       "cell_index": 17
      }
     ]
    },
    "b1f241caef424ccfa7a56b3b9a83b723": {
     "views": [
      {
       "cell_index": 19
      },
      {
       "cell_index": 20
      },
      {
       "cell_index": 20
      }
     ]
    },
    "b2627fab97a0495886d7622940c8979b": {
     "views": [
      {
       "cell_index": 4
      }
     ]
    },
    "b43fba6da08741a3affcb9ecb783208c": {
     "views": [
      {
       "cell_index": 5
      }
     ]
    },
    "b56955224dc549409e2396ec8c2d2d41": {
     "views": [
      {
       "cell_index": 5
      }
     ]
    },
    "b841f3b00f454446b104c1f6fb4140c8": {
     "views": [
      {
       "cell_index": 5
      }
     ]
    },
    "b871ac04f0f149f4b2744610c980ffb5": {
     "views": [
      {
       "cell_index": 5
      }
     ]
    },
    "bb1775a9e1cd46cd916685f8429bfc95": {
     "views": [
      {
       "cell_index": 4
      }
     ]
    },
    "bce6932b79464c679d956f6c05ce945c": {
     "views": [
      {
       "cell_index": 4
      }
     ]
    },
    "c08d013cdfea4e4f810bd344f2947591": {
     "views": [
      {
       "cell_index": 4
      }
     ]
    },
    "c1253b4cac014a738928b0cf5ddc2c6b": {
     "views": [
      {
       "cell_index": 4
      }
     ]
    },
    "c1bac76e2d2841ebab84d83e998b738f": {
     "views": [
      {
       "cell_index": 4
      }
     ]
    },
    "c1dad38315304352ad953358f2004c82": {
     "views": [
      {
       "cell_index": 5
      }
     ]
    },
    "c2034ee316eb482996cad16409d32dcf": {
     "views": [
      {
       "cell_index": 4
      }
     ]
    },
    "c43aff0cbb2d46859412f3f0a7f043d8": {
     "views": [
      {
       "cell_index": 18
      }
     ]
    },
    "c7a92862bb5f4c56a9868aa4d2c15806": {
     "views": [
      {
       "cell_index": 4
      }
     ]
    },
    "c8753cb85c074b7189ea51583e0dc6ed": {
     "views": [
      {
       "cell_index": 4
      }
     ]
    },
    "c9cd11eefa2a43ac8f25604723159f77": {
     "views": [
      {
       "cell_index": 4
      }
     ]
    },
    "ce0465102fda42b5abf5d561dc8c2eae": {
     "views": [
      {
       "cell_index": 4
      }
     ]
    },
    "cfcd21b624554996b21a2ea576646427": {
     "views": [
      {
       "cell_index": 4
      }
     ]
    },
    "d230afea50ef4863b44b800072503a69": {
     "views": [
      {
       "cell_index": 5
      }
     ]
    },
    "d632805cf16540e5b0762f1a0904e82e": {
     "views": [
      {
       "cell_index": 5
      }
     ]
    },
    "d6b2e2febccd4311a2380b3fc03575f1": {
     "views": [
      {
       "cell_index": 4
      }
     ]
    },
    "d7f6695b9ed84a628a033657e6b0a49f": {
     "views": [
      {
       "cell_index": 4
      }
     ]
    },
    "d8019e4a3e1e4edea501962775d60ac6": {
     "views": [
      {
       "cell_index": 4
      }
     ]
    },
    "d95fa71398a54484943b3321e7d69764": {
     "views": [
      {
       "cell_index": 4
      }
     ]
    },
    "ddd997978532426c907d60faa7906408": {
     "views": [
      {
       "cell_index": 4
      }
     ]
    },
    "dde40161395c498382b43a5284fcb4d6": {
     "views": [
      {
       "cell_index": 5
      }
     ]
    },
    "df39b1b640774c088520e7ab96b8cb68": {
     "views": [
      {
       "cell_index": 4
      }
     ]
    },
    "df430116bf6d4f5baf4bdbaa35ee2ba0": {
     "views": [
      {
       "cell_index": 18
      }
     ]
    },
    "dfe6683cfb3e4897a810329679c15b20": {
     "views": [
      {
       "cell_index": 4
      }
     ]
    },
    "e28d98dd23f2476fb390a6e3dbba2870": {
     "views": [
      {
       "cell_index": 5
      }
     ]
    },
    "e4318c77b74148bda8acbd65a5c04f4d": {
     "views": [
      {
       "cell_index": 5
      }
     ]
    },
    "e5120543fc5f4c4bb4ec8298616be52c": {
     "views": [
      {
       "cell_index": 4
      }
     ]
    },
    "e6d5c2a0c59042d08dccf3a284cad296": {
     "views": [
      {
       "cell_index": 4
      }
     ]
    },
    "efda1670e61c47a5808ff5533ddb4112": {
     "views": [
      {
       "cell_index": 17
      }
     ]
    },
    "f2bfd57340d34d2cb778363fd63d1da2": {
     "views": [
      {
       "cell_index": 17
      }
     ]
    },
    "f4320c16ddcf454cad1123449d302978": {
     "views": [
      {
       "cell_index": 4
      }
     ]
    },
    "f5ab5a377c864d23b7557b4b95dbcf84": {
     "views": [
      {
       "cell_index": 4
      }
     ]
    },
    "f765da6de10142e7b74ea9f08476360c": {
     "views": [
      {
       "cell_index": 5
      }
     ]
    },
    "faa90c56fdf84acbaa9ed8a2b05b4593": {
     "views": [
      {
       "cell_index": 4
      }
     ]
    },
    "fd999904b1ed4028bfafa9609b00250a": {
     "views": [
      {
       "cell_index": 4
      }
     ]
    },
    "fdaa1c93f1724fffad43deced0331b4e": {
     "views": [
      {
       "cell_index": 4
      }
     ]
    },
    "fe71c5f43a474727a74d4f8163ca57e7": {
     "views": [
      {
       "cell_index": 4
      }
     ]
    },
    "ff076bc0558e4505b8dac814fae9b1b1": {
     "views": [
      {
       "cell_index": 4
      }
     ]
    },
    "ff5328fb20bd47bcb4399c71972e1ebb": {
     "views": [
      {
       "cell_index": 5
      }
     ]
    },
    "ff8acea00873405a81c1a653ae841944": {
     "views": [
      {
       "cell_index": 4
      }
     ]
    }
   },
   "version": "1.2.0"
  }
 },
 "nbformat": 4,
 "nbformat_minor": 0
}

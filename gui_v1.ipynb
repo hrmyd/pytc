{
 "cells": [
  {
   "cell_type": "code",
   "execution_count": 1,
   "metadata": {
    "collapsed": false
   },
   "outputs": [
    {
     "data": {
      "text/html": [
       "\n",
       "\n",
       "<script>\n",
       "    code_show=true; \n",
       "    \n",
       "    function code_toggle() {\n",
       "     if (code_show){\n",
       "         $('div.input').hide();\n",
       "     } else {\n",
       "         $('div.input').show();\n",
       "     }\n",
       "     code_show = !code_show\n",
       "    } \n",
       "    \n",
       "    $( document ).ready(code_toggle);\n",
       "</script>\n",
       "\n",
       "<form action=\"javascript:code_toggle()\">\n",
       "    <input type=\"submit\" value=\"Toggle raw code\">\n",
       "</form>\n",
       "\n"
      ],
      "text/plain": [
       "<IPython.core.display.HTML object>"
      ]
     },
     "execution_count": 1,
     "metadata": {},
     "output_type": "execute_result"
    }
   ],
   "source": [
    "# -----------------------------------------------------------------------------------\n",
    "# Javascript that gives us a cool hide-the-code button \n",
    "\n",
    "from IPython.display import HTML\n",
    "\n",
    "HTML('''\n",
    "\n",
    "<script>\n",
    "    code_show=true; \n",
    "    \n",
    "    function code_toggle() {\n",
    "     if (code_show){\n",
    "         $('div.input').hide();\n",
    "     } else {\n",
    "         $('div.input').show();\n",
    "     }\n",
    "     code_show = !code_show\n",
    "    } \n",
    "    \n",
    "    $( document ).ready(code_toggle);\n",
    "</script>\n",
    "\n",
    "<form action=\"javascript:code_toggle()\">\n",
    "    <input type=\"submit\" value=\"Toggle raw code\">\n",
    "</form>\n",
    "\n",
    "''')\n",
    "\n",
    "# ------------------------------------------------------------------------------------"
   ]
  },
  {
   "cell_type": "code",
   "execution_count": 104,
   "metadata": {
    "collapsed": false
   },
   "outputs": [
    {
     "data": {
      "text/html": [
       "<style>\n",
       ".output {\n",
       "    flex-direction: column;\n",
       "}\n",
       "\n",
       "</style>"
      ],
      "text/plain": [
       "<IPython.core.display.HTML object>"
      ]
     },
     "execution_count": 104,
     "metadata": {},
     "output_type": "execute_result"
    }
   ],
   "source": [
    "CSS = \"\"\"\n",
    ".output {\n",
    "    flex-direction: column;\n",
    "}\n",
    "\n",
    "\"\"\"\n",
    "\n",
    "HTML('<style>{}</style>'.format(CSS))"
   ]
  },
  {
   "cell_type": "code",
   "execution_count": 2,
   "metadata": {
    "collapsed": false
   },
   "outputs": [],
   "source": [
    "import pytc\n",
    "import ipywidgets as widgets\n",
    "from IPython.display import display, clear_output, HTML\n",
    "import seaborn as sns\n",
    "import glob\n",
    "import pandas as pd\n",
    "from inspect import signature\n",
    "from PyQt4 import QtGui\n",
    "import time\n",
    "\n",
    "%matplotlib inline"
   ]
  },
  {
   "cell_type": "code",
   "execution_count": 3,
   "metadata": {
    "collapsed": true
   },
   "outputs": [],
   "source": [
    "class Sliders():\n",
    "    def __init__(self, exp, fitter, gui, param_name):\n",
    "        \"\"\"\n",
    "        \"\"\"\n",
    "        self._var_opt = {'link': ['choose...'],\n",
    "                         'unlink': ['unlink']}\n",
    "        \n",
    "        # widget set-up\n",
    "        self._loc_link = widgets.Dropdown(value = self._var_opt['unlink'],\n",
    "                                          options = self._var_opt)\n",
    "        self._glob_link = widgets.Dropdown(value = self._loc_link.value[0],\n",
    "                                           options = self._loc_link.value)\n",
    "        self._fixed_check = widgets.Checkbox(description = '? ',\n",
    "                                             value = False)\n",
    "        self._slider = widgets.FloatSlider(description = 'G',\n",
    "                                           continuous_update = False)\n",
    "        self._fixed_int = widgets.BoundedFloatText(description = 'F',\n",
    "                                                   display = 'none')\n",
    "        self._s_min = widgets.FloatText(description = '∧')\n",
    "        self._s_max = widgets.FloatText(description = '∨')\n",
    "        self._all_widgets = widgets.VBox()\n",
    "        \n",
    "        # widget layout\n",
    "        self._fixed_check.layout.width = '80px'\n",
    "        self._loc_link.layout.width = '200px'\n",
    "        self._glob_link.layout.width = '200px'\n",
    "        self._slider.layout.width = '300px'\n",
    "        self._s_min.layout.width = '130px'\n",
    "        self._s_max.layout.width = '130px'\n",
    "        self._fixed_int.layout.width = '150px'\n",
    "        self._fixed_int.layout.display = 'none'\n",
    "        \n",
    "        self._exp = exp\n",
    "        self._fitter = fitter\n",
    "        self._gui = gui\n",
    "        self._param_name = param_name\n",
    "        \n",
    "        #self._update = True\n",
    "\n",
    "    @property\n",
    "    def param_name(self):\n",
    "        \"\"\"\n",
    "        \"\"\"\n",
    "        return self._param_name\n",
    "    \n",
    "    def logic(self):\n",
    "        \"\"\"\n",
    "        handle trait changes for each widget and link to the fitter.\n",
    "        \"\"\"\n",
    "    \n",
    "        self._fixed_check.observe(self.check_change, 'value')\n",
    "        self._loc_link.observe(self.link_change, 'value')\n",
    "        self._s_min.observe(self.min_change, 'value')\n",
    "        self._s_max.observe(self.max_change, 'value')\n",
    "        self._slider.observe(self.param_change, 'value')\n",
    "        \n",
    "    def update_all_val(self):\n",
    "        \"\"\"\n",
    "        \"\"\"\n",
    "        pass\n",
    "        \n",
    "    def update_fit(self, fixed, guess, bounds_min, bounds_max, fixed_int):\n",
    "        \"\"\"\n",
    "        \"\"\"\n",
    "        global_param, local_param = self._fitter.fit_param\n",
    "        global_error, local_error = self._fitter.fit_error\n",
    "        \n",
    "        local_var = {}\n",
    "        global_var = {}\n",
    "\n",
    "        n=0\n",
    "        for param, error in zip(local_param, local_error):\n",
    "            for p, e in zip(param, error):\n",
    "                local_var[\"{},{}\".format(p, n)] = {'param': param[p], 'error': error[e]}\n",
    "            n+=1\n",
    "\n",
    "        for param, error in zip(global_param.keys(), global_error.keys()):\n",
    "            global_var[param] = {'param': global_param[param], 'error': global_error[error]}\n",
    "            \n",
    "        df1 = pd.DataFrame.from_dict(local_var, 'index')\n",
    "        df2 = pd.DataFrame.from_dict(global_var, 'index')\n",
    "        \n",
    "        display(df1.append(df2))\n",
    "            \n",
    "        self._fitter.fit()\n",
    "        self._fitter.plot()\n",
    "        \n",
    "    def close_sliders(self):\n",
    "        \"\"\"\n",
    "        \"\"\"\n",
    "        self._all_widgets.close()\n",
    "\n",
    "    def min_change(self, min_val):\n",
    "        \"\"\"\n",
    "        change minimum for fixed integer and slider widgets, update bounds and range for parameter.\n",
    "        \"\"\"\n",
    "        self._slider.min = min_val['new']\n",
    "        self._fixed_int.min = min_val['new']\n",
    "        self.update_bounds(self._slider.min, self._slider.max)\n",
    "\n",
    "    def max_change(self, max_val):\n",
    "        \"\"\"\n",
    "        change maximum for fixed integer and slider widgets, update bounds and range for parameter.\n",
    "        \"\"\"\n",
    "        self._slider.max = max_val['new']\n",
    "        self._fixed_int.max = max_val['new']\n",
    "        self.update_bounds(self._slider.min, self._slider.max)\n",
    "        \n",
    "    def update_bounds(self, s_min, s_max):\n",
    "        \"\"\"\n",
    "        \"\"\"\n",
    "        pass\n",
    "\n",
    "    def check_change(self, val):\n",
    "        \"\"\"\n",
    "        update if parameter is fixed and change widget view\n",
    "        \"\"\"\n",
    "        if val['new']:\n",
    "            self._slider.layout.display = 'none'\n",
    "            self._fixed_int.layout.display = ''\n",
    "            self._fixed_int.value = self._slider.value\n",
    "            self._fitter.fix(self._exp, **{self._param_name: int(self._fixed_int.value)})\n",
    "        elif val['new'] == False and self._loc_link.value == ['link']:\n",
    "            self._slider.layout.display = 'none'\n",
    "            self._fixed_int.layout.display = 'none'\n",
    "            self._s_min.layout.display = 'none'\n",
    "            self._s_max.layout.display = 'none'\n",
    "            self._fitter.unfix(*[self._param_name], expt = self._exp)\n",
    "        elif val['new'] == False and self._loc_link.value == ['unlink']: \n",
    "            self._slider.layout.display = ''\n",
    "            self._fixed_int.layout.display = 'none'\n",
    "            self._s_min.layout.display = ''\n",
    "            self._s_max.layout.display = ''\n",
    "            self._fitter.unfix(*[self._param_name], expt = self._exp)\n",
    "\n",
    "    def link_change(self, select):\n",
    "        \"\"\"\n",
    "        update if parameter is linked or unlinked from a global parameter and update widget view\n",
    "        \"\"\"\n",
    "        if select['new'] == ['unlink'] and self._fixed_check.value == False:\n",
    "            self._slider.layout.display = ''\n",
    "            self._fixed_int.layout.display = 'none'\n",
    "            self._s_min.layout.display = ''\n",
    "            self._s_max.layout.display = ''\n",
    "            self._fixed_check.layout.display = ''\n",
    "        elif select['new'] == ['unlink'] and self._fixed_check.value:\n",
    "            self._slider.layout.display = 'none'\n",
    "            self._fixed_int.layout.display = ''\n",
    "            self._s_min.layout.display = ''\n",
    "            self._s_max.layout.display = ''\n",
    "            self._fixed_check.layout.display = ''\n",
    "        else:\n",
    "            self._slider.layout.display = 'none'\n",
    "            self._fixed_int.layout.display = 'none'\n",
    "            self._s_min.layout.display = 'none'\n",
    "            self._s_max.layout.display = 'none'\n",
    "            self._fixed_check.layout.display = 'none'\n",
    "                \n",
    "    def param_change(self, param_val):\n",
    "        \"\"\"\n",
    "        update parameter value guess based on slider value\n",
    "        \"\"\"\n",
    "        guess = param_val['new']\n",
    "        \n",
    "        self._fitter.update_guess(self._param_name, guess, self._exp)\n",
    "    \n",
    "    def build_sliders(self):\n",
    "        \"\"\"\n",
    "        build sliders!\n",
    "        \"\"\"\n",
    "        pass\n",
    "        \n",
    "class LocalSliders(Sliders):\n",
    "    def __init__(self, exp, fitter, gui, param_name, global_vars, global_exp):\n",
    "        super().__init__(exp, fitter, gui, param_name)\n",
    "        \n",
    "        self._global_vars = global_vars\n",
    "        self._global_exp = global_exp\n",
    "        \n",
    "    def reset_local(self):\n",
    "        \"\"\"\n",
    "        if global experiment is deleted, make sure local is unlinked and set sliders back to unlinked state.\n",
    "        \"\"\"\n",
    "        self._slider.layout.display = ''\n",
    "        self._fixed_int.layout.display = 'none'\n",
    "        self._s_min.layout.display = ''\n",
    "        self._s_max.layout.display = ''\n",
    "        self._fixed_check.layout.display = ''\n",
    "        \n",
    "        self._loc_link.value = self._var_opt['unlink']\n",
    "        self._glob_link.options = self._loc_link.value\n",
    "        \n",
    "    def update_all_val(self):\n",
    "        \"\"\"\n",
    "        when self._fitter.fit() run, update all slider values in exp to fit values.\n",
    "        \"\"\"\n",
    "        \n",
    "        # update to paramater guess not parameter value\n",
    "        local_fit = self._fitter.fit_param[1][0]\n",
    "        new_fit = local_fit[self._param_name]\n",
    "        local_range = self._fitter.param_ranges[1][0]\n",
    "        new_range = local_range[self._param_name]\n",
    "        \n",
    "        self._slider.value = new_fit\n",
    "        self._slider.max = new_range[1]\n",
    "        self._slider.min = new_range[0]\n",
    "        \n",
    "    def update_bounds(self, s_min, s_max):\n",
    "        \"\"\"\n",
    "        update bound and range for the parameter\n",
    "        \"\"\"\n",
    "        bounds = [s_min, s_max]\n",
    "        self._fitter.update_bounds(self._param_name, bounds, self._exp)\n",
    "        \n",
    "        # check if bounds are smaller than range, then update.\n",
    "        curr_range = self._exp.model.param_guess_ranges[self._param_name]\n",
    "        curr_bounds = self._exp.model.bounds[self._param_name]\n",
    "        \n",
    "        if curr_range[0] < curr_bounds[0] or curr_range[1] > curr_bounds[1]:\n",
    "            self._fitter.update_range(self._param_name, bounds, self._exp)\n",
    "            \n",
    "    def return_global(self):\n",
    "        \"\"\"\n",
    "        return list of global experiments\n",
    "        \"\"\"\n",
    "        \n",
    "        return self._global_exp\n",
    "            \n",
    "    def create_global(self, g):\n",
    "        \"\"\"\n",
    "        link local parameter to global parameter, create new global experiment object, and generate new sliders.\n",
    "        \"\"\"\n",
    "        if g != 'unlink' and g != 'choose...':\n",
    "            try:\n",
    "                self._fitter.link_to_global(self._exp, self._param_name, g)\n",
    "                if g not in self._global_exp:\n",
    "                    new_global = GlobalExp(self._gui, self._global_exp, self._fitter, g)\n",
    "                    new_global.add_linked(self)\n",
    "                    self._global_exp[g] = new_global\n",
    "                    new_global.gen_exp()\n",
    "                else: \n",
    "                    self._global_exp[g].add_linked(self)\n",
    "            except:\n",
    "                pass\n",
    "            \n",
    "            self._fitter.fit()\n",
    "            self._fitter.plot()\n",
    "\n",
    "    def create_local(self, l):\n",
    "        \"\"\"\n",
    "        update list of global variables and choose to link or unlink local parameter\n",
    "        \"\"\"\n",
    "\n",
    "        self._var_opt['link'] = self._global_vars\n",
    "        self._loc_link.options = self._var_opt\n",
    "        \n",
    "        if l[0] == 'unlink':\n",
    "            try:\n",
    "                self._fitter.unlink_from_global(self._exp, self._param_name)\n",
    "            except: \n",
    "                pass\n",
    "        else:\n",
    "             self._glob_link.options = l\n",
    "        \n",
    "                \n",
    "    def build_sliders(self):\n",
    "        \"\"\"\n",
    "        \"\"\"\n",
    "        self.logic()\n",
    "        \n",
    "        exp_range = self._exp.model.param_guess_ranges[self._param_name]\n",
    "        self._slider.min = exp_range[0]\n",
    "        self._slider.max = exp_range[1]\n",
    "        self._slider.value = self._exp.model.param_guesses[self._param_name]\n",
    "        \n",
    "        self._fixed_int.min = exp_range[0]\n",
    "        self._fixed_int.max = exp_range[1]\n",
    "        \n",
    "        self._s_min.value = exp_range[0]\n",
    "        self._s_max.value = exp_range[1]\n",
    "        \n",
    "        loc_inter = widgets.interactive(self.create_local, l = self._loc_link)\n",
    "        glob_inter = widgets.interactive(self.create_global, g =  self._glob_link)\n",
    "        \n",
    "        main_interactive = widgets.interactive(self.update_fit,\n",
    "                                               fixed = self._fixed_check,\n",
    "                                               guess = self._slider,\n",
    "                                               bounds_min = self._s_min,\n",
    "                                               bounds_max = self._s_max,\n",
    "                                               fixed_int = self._fixed_int)\n",
    "        \n",
    "        children = main_interactive.children + (loc_inter, glob_inter)\n",
    "        main = widgets.HBox(children = children)\n",
    "        \n",
    "        name_label = widgets.Label(value = \"{}: \".format(self._param_name))\n",
    "        \n",
    "        self._all_widgets.children = [name_label, main]\n",
    "        #self._all_widgets.layout.width = '90%'\n",
    "        self._all_widgets.layout.margin = '0px 0px 20px 0px'\n",
    "\n",
    "        display(self._all_widgets)\n",
    "        \n",
    "class GlobalSliders(Sliders):\n",
    "    def __init__(self, exp, fitter, gui, param_name):\n",
    "        super().__init__(exp, fitter, gui, param_name)\n",
    "        \n",
    "    def update_bounds(self, s_min, s_max):\n",
    "        \"\"\"\n",
    "        update bound and range for global parameter\n",
    "        \"\"\"\n",
    "        bounds = [s_min, s_max]\n",
    "        self._fitter.update_bounds(self._param_name, bounds, self._exp)\n",
    "        \n",
    "        # check if bounds are smaller than range, then update.\n",
    "        curr_range = self._fitter.param_ranges[0][self._param_name]\n",
    "        curr_bounds = self._fitter.param_bounds[0][self._param_name]\n",
    "        \n",
    "        if curr_range[0] < curr_bounds[0] or curr_range[1] > curr_bounds[1]:\n",
    "            self._fitter.update_range(self._param_name, bounds, self._exp)\n",
    "               \n",
    "    def build_sliders(self):\n",
    "        \"\"\"\n",
    "        \"\"\"\n",
    "        self.logic()\n",
    "\n",
    "        exp_range = self._fitter.param_ranges[0][self._param_name]\n",
    "        self._slider.min = exp_range[0]\n",
    "        self._slider.max = exp_range[1]\n",
    "        self._slider.value = self._fitter.param_guesses[0][self._param_name]\n",
    "        \n",
    "        self._fixed_int.min = exp_range[0]\n",
    "        self._fixed_int.max = exp_range[1]\n",
    "        \n",
    "        self._s_min.value = exp_range[0]\n",
    "        self._s_max.value = exp_range[1]\n",
    "        \n",
    "        name_label = widgets.Label(value = \"{}: \".format(self._param_name))\n",
    "        \n",
    "        main_interactive = widgets.interactive(self.update_fit,\n",
    "                                               fixed = self._fixed_check,\n",
    "                                               guess = self._slider,\n",
    "                                               bounds_min = self._s_min,\n",
    "                                               bounds_max = self._s_max,\n",
    "                                               fixed_int = self._fixed_int,)\n",
    "        \n",
    "        main = widgets.HBox(children = main_interactive.children)\n",
    "        \n",
    "        self._all_widgets.children = [main]\n",
    "        #self._all_widgets.layout.width = '90%'\n",
    "        self._all_widgets.layout.margin = '0px 0px 20px 0px'\n",
    "\n",
    "        display(self._all_widgets)"
   ]
  },
  {
   "cell_type": "code",
   "execution_count": 4,
   "metadata": {
    "collapsed": false,
    "scrolled": true
   },
   "outputs": [],
   "source": [
    "class ParamCollect():\n",
    "    def __init__(self, gui, container, fitter):\n",
    "        \"\"\"\n",
    "        \"\"\"\n",
    "        \n",
    "        # widget set-up\n",
    "        self._gui = gui\n",
    "        self._exp_id = ''\n",
    "        self._exp_val = ''\n",
    "        self._widgets = []\n",
    "        self._fitter = fitter\n",
    "        self._container = container\n",
    "        self._parameters = {}\n",
    "        self._models = {\"blank\" : pytc.models.Blank,\n",
    "                        \"single site\" : pytc.models.SingleSite,\n",
    "                        \"single site competitor\" : pytc.models.SingleSiteCompetitor,\n",
    "                        \"binding polynomial\" : pytc.models.BindingPolynomial}\n",
    "        self._current_model = ''\n",
    "        self._exp_box = widgets.HBox()\n",
    "        \n",
    "        # header labels\n",
    "        self._fix = widgets.Label(value = \"Fix?\")\n",
    "        self._guess = widgets.Label(value = \"Param Guess\")\n",
    "        self._upper = widgets.Label(value = \"Upper Bound\")\n",
    "        self._lower = widgets.Label(value = \"Lower Bound\")\n",
    "        self._link = widgets.Label(value = \"Link?\")\n",
    "        self._var = widgets.Label(value = \"Var\")\n",
    "        self._header = widgets.HBox()\n",
    "        \n",
    "        # widget layout\n",
    "        self._fix.layout.margin = '0px 140px 0px 10px'\n",
    "        self._guess.layout.margin = '0px 165px 0px 0px'\n",
    "        self._upper.layout.margin = '0px 40px 0px 0px'\n",
    "        self._lower.layout.margin = '0px 100px 0px 0px'\n",
    "        self._link.layout.margin = '0px 170px 0px 0px'\n",
    "        self._var.layout.margin = '0px 0px 0px 0px'\n",
    "        self._header.layout.margin = '30px 0px 40px 10px'\n",
    "        \n",
    "        self._sliders = []\n",
    "        \n",
    "    def remove_button(self, b):\n",
    "        \"\"\"\n",
    "        remove exp from fitter and lists\n",
    "        \"\"\"\n",
    "        pass\n",
    "    \n",
    "    def parameters(self):\n",
    "        \"\"\"\n",
    "        get parameters for experiment\n",
    "        \"\"\"\n",
    "        pass\n",
    "        \n",
    "    def create_exp(self):\n",
    "        \"\"\"\n",
    "        create a new pytc experiment\n",
    "        \"\"\"\n",
    "        pass\n",
    "    \n",
    "    def return_sliders(self):\n",
    "        \"\"\"\n",
    "        return list of sliders for experiment.\n",
    "        \"\"\"\n",
    "        pass\n",
    "        \n",
    "    @property        \n",
    "    def exp_id(self):\n",
    "        \"\"\"\n",
    "        return experiment id\n",
    "        \"\"\"\n",
    "        \n",
    "        return self._exp_id\n",
    "    \n",
    "    \n",
    "    def gen_sliders(self):\n",
    "        \"\"\"\n",
    "        generate sliders for each experiment, give option to link to global.\n",
    "        \"\"\"\n",
    "        \n",
    "        pass\n",
    "    \n",
    "    def gen_exp(self):\n",
    "        \"\"\"\n",
    "        generate widgets for experiment.\n",
    "        \"\"\"\n",
    "        pass\n",
    "    \n",
    "class LocalExp(ParamCollect):\n",
    "    \"\"\"\n",
    "    create experiment object and generate widgets\n",
    "    \"\"\"\n",
    "    def __init__(self, gui, container, fitter, global_vars, global_exp):\n",
    "        super().__init__(gui, container, fitter)\n",
    "        \n",
    "        # local paramater widgets\n",
    "        self._model_drop = widgets.Dropdown(options = self._models,\n",
    "                                            value = self._models[\"blank\"])\n",
    "        self._rm_exp = widgets.Button(description = \"remove\",\n",
    "                                      button_style = 'warning')\n",
    "        self._load_exp = widgets.Button(description = \"load exp\")\n",
    "        self._ionization = widgets.Text()\n",
    "        self._shot_start = widgets.Text(value = \"shot start\")\n",
    "        \n",
    "        self._shot_start.layout.width = \"70px\"\n",
    "\n",
    "        self._global_vars = global_vars\n",
    "        self._global_exp = global_exp\n",
    "        self._exp_args = {}\n",
    "        self._gen_widgets = {}\n",
    "        \n",
    "        sig = signature(self._fitter.add_experiment)\n",
    "        param = sig.parameters\n",
    "        \n",
    "        WIDTH = ''\n",
    "\n",
    "        for i in param:\n",
    "            if \"=\" not in str(param[i]):\n",
    "                self._gen_widgets[str(param[i])] = widgets.Text(value = str(param[i]))\n",
    "                WIDTH = '80px' if str(param[i]) != 'experiment' else '220px'\n",
    "                self._gen_widgets[str(param[i])].layout.width = WIDTH\n",
    "            else:\n",
    "                pass\n",
    "        \n",
    "    def load_file(self, b):\n",
    "        \"\"\"\n",
    "        https://gist.github.com/tritemio/8c79686ec07a1524ef9c\n",
    "        \"\"\"\n",
    "        app = QtGui.QApplication([dir])\n",
    "        fname = QtGui.QFileDialog.getOpenFileName(None, \"Select a file...\", '.', filter=\"All files (*)\")\n",
    "        self._gen_widgets['experiment'].value = str(fname)\n",
    "        self.add_exp()\n",
    "        \n",
    "    def remove_button(self, b):\n",
    "        \"\"\"\n",
    "        remove experiment from analysis and close widgets. for use with button widget.\n",
    "        \"\"\"\n",
    "        try:\n",
    "            self._gui.remove_experiment(self._exp_id)\n",
    "        except:\n",
    "            clear_output()\n",
    "            print(\"no experiment linked\")\n",
    "            \n",
    "        for i in self._container:\n",
    "            if self._exp_id == i._exp_id:\n",
    "                self._container.remove(i)\n",
    "        \n",
    "        self._exp_box.close()\n",
    "        self._header.close()\n",
    "                \n",
    "        if self._sliders:\n",
    "            for s in self._sliders:\n",
    "                s.close_sliders()\n",
    "                \n",
    "    def remove_exp(self):\n",
    "        \"\"\"\n",
    "        remove experiment and sliders, for use without button widget.\n",
    "        \"\"\"\n",
    "        self.remove_button(None)\n",
    "        \n",
    "    def create_exp(self):\n",
    "        \"\"\"\n",
    "        create new pytc exp\n",
    "        \"\"\"\n",
    "        self._exp_val = self._gen_widgets['experiment'].value\n",
    "        if self._exp_val != 'none':\n",
    "            self._current_model = self._model_drop.value\n",
    "            self._exp_id = pytc.ITCExperiment(self._exp_val, self._current_model, int(self._shot_start.value))\n",
    "        else:\n",
    "            clear_output()\n",
    "            print(\"no exp data given\")\n",
    "            \n",
    "    def return_sliders(self):\n",
    "        \"\"\"\n",
    "        return local sliders\n",
    "        \"\"\"\n",
    "        \n",
    "        return self._sliders\n",
    "    \n",
    "    @property\n",
    "    def parameters(self):\n",
    "        \"\"\"\n",
    "        generate local parameters for experiment.\n",
    "        \"\"\"\n",
    "        \n",
    "        param = self._exp_id.model.param_values\n",
    "        \n",
    "        return param\n",
    "    \n",
    "    def gen_sliders(self):\n",
    "        \"\"\"\n",
    "        generate sliders for each experiment, give option to link to global.\n",
    "        \"\"\"\n",
    "        parameters = self.exp_id.param_values\n",
    "        \n",
    "        for p in parameters.keys():\n",
    "            s = LocalSliders(self._exp_id, self._fitter, self._gui, p, self._global_vars, self._global_exp)\n",
    "            self._sliders.append(s)\n",
    "     \n",
    "    def add_exp(self):\n",
    "        \"\"\"\n",
    "        generate sliders for experiment based on added data.\n",
    "        \"\"\"\n",
    "        self.create_exp()\n",
    "        \n",
    "        for k, v in self._gen_widgets.items():\n",
    "            if k != 'experiment': \n",
    "                val = v.value\n",
    "                if val.isdigit():\n",
    "                    self._exp_args[k] = float(val)\n",
    "                else: \n",
    "                    self._exp_args[k] = val\n",
    "            else:\n",
    "                self._exp_args[k] = self._exp_id\n",
    "        \n",
    "        self._gui.add_experiment(**self._exp_args)\n",
    "        self.gen_sliders()\n",
    "        \n",
    "        for i in self._gen_widgets.values():\n",
    "            i.disabled = True\n",
    "            \n",
    "        self._load_exp.disabled = True\n",
    "        self._model_drop.disabled = True\n",
    "        self._shot_start.disabled = True\n",
    "        \n",
    "        self._header.children = [self._fix, self._guess, self._upper, self._lower, self._link, self._var]\n",
    "        \n",
    "        display(self._header)\n",
    "        \n",
    "        for s in self._sliders:\n",
    "            #time.sleep(1)\n",
    "            s.build_sliders()\n",
    "    \n",
    "    def gen_exp(self):\n",
    "        \"\"\"\n",
    "        generate widgets for experiment.\n",
    "        \"\"\"\n",
    "        self._rm_exp.on_click(self.remove_button)\n",
    "        self._load_exp.on_click(self.load_file)\n",
    "        \n",
    "        children = [self._load_exp, self._model_drop, self._shot_start, self._rm_exp]\n",
    "        \n",
    "        for i in self._gen_widgets.values():\n",
    "            children.insert(1, i)\n",
    "            \n",
    "        self._exp_box.children = children\n",
    "        \n",
    "        # layout\n",
    "        self._exp_box.layout.margin = '30px 10px 0px 0px'\n",
    "        self._exp_box.layout.border = '2px dotted #006784'\n",
    "        self._exp_box.layout.padding = '5px 5px 5px 5px'\n",
    "        self._exp_box.layout.justify_content = 'center'\n",
    "        \n",
    "        time.sleep(0.5)\n",
    "        display(self._exp_box)\n",
    "    \n",
    "class GlobalExp(ParamCollect):\n",
    "    \"\"\"\n",
    "    create experiment object and generate widgets\n",
    "    \"\"\"\n",
    "    def __init__(self, gui, container, fitter, v_name):\n",
    "        \n",
    "        super().__init__(gui, container, fitter)\n",
    "        self._exp_id = v_name\n",
    "        \n",
    "        self._rm_exp = widgets.Button(description = \"remove experiment\",\n",
    "                                      button_style = 'warning')\n",
    "        self._name_label = widgets.Label(value = \"{}:  \".format(self._exp_id))\n",
    "        \n",
    "        self._rm_exp.layout.margin = '0px 0px 0px 200px'\n",
    "        self._name_label.layout.margin = '0px 200px 0px 0px'\n",
    "        \n",
    "        self._linked_list = []\n",
    "    \n",
    "    @property\n",
    "    def parameters(self):\n",
    "        \"\"\"\n",
    "        generate local parameters for experiment.\n",
    "        \"\"\"\n",
    "        \n",
    "        param = self._fitter.fit_param[0][self._exp_id]\n",
    "        \n",
    "        return param\n",
    "    \n",
    "    def add_linked(self, loc_sliders):\n",
    "        \"\"\"\n",
    "        list of local experiments linked to the global experiment.\n",
    "        \"\"\"\n",
    "        \n",
    "        self._linked_list.append(loc_sliders)\n",
    "    \n",
    "    def remove_button(self, b):\n",
    "        \"\"\"\n",
    "        remove global parameter and unlink from all linked local parameters, for use with button widget\n",
    "        \"\"\"\n",
    "        try:\n",
    "            self._fitter.remove_global(self._exp_id)\n",
    "        except:\n",
    "            pass\n",
    "        \n",
    "        self._exp_box.close()\n",
    "        self._header.close()\n",
    "        self._sliders.close_sliders()\n",
    "        self._container.pop(self._exp_id, None)\n",
    "        \n",
    "        # set local param slider back to standard\n",
    "        for s in self._linked_list:\n",
    "            s.reset_local()\n",
    "    \n",
    "    def remove_exp(self):\n",
    "        \"\"\"\n",
    "        remove and unlink global parameter\n",
    "        \"\"\"\n",
    "        self.remove_button(None)\n",
    "    \n",
    "    def gen_exp(self):\n",
    "        \"\"\"\n",
    "        generate widgets for experiment.\n",
    "        \"\"\"\n",
    "\n",
    "        self._rm_exp.on_click(self.remove_button)\n",
    "\n",
    "        self._exp_box.children = [self._name_label, self._rm_exp]\n",
    "        \n",
    "        s = GlobalSliders(None, self._fitter, self._gui, self._exp_id)\n",
    "        self._sliders = s\n",
    "        \n",
    "        self._exp_box.layout.margin = '30px 10px 0px 0px'\n",
    "        self._exp_box.layout.border = '2px dotted #006784'\n",
    "        self._exp_box.layout.padding = '5px 5px 5px 5px'\n",
    "        self._exp_box.layout.justify_content = 'space-between'\n",
    "                                 \n",
    "        self._header.children = [self._fix, self._guess, self._upper, self._lower]\n",
    "\n",
    "        display(self._exp_box, self._header)\n",
    "        s.build_sliders()"
   ]
  },
  {
   "cell_type": "code",
   "execution_count": 5,
   "metadata": {
    "collapsed": true
   },
   "outputs": [],
   "source": [
    "class Interface:\n",
    "    \n",
    "    def __init__(self, fitter, global_exp):\n",
    "        \"\"\"\n",
    "        \"\"\"\n",
    "        \n",
    "        self._fitter = fitter\n",
    "        self._experiments = []\n",
    "        self._global_exp = global_exp\n",
    "        self._param = []\n",
    "        \n",
    "    def view_exp(self):\n",
    "        \n",
    "        return self._experiments\n",
    "    \n",
    "    def add_experiment(self, **kwargs):\n",
    "        \"\"\"\n",
    "        add experiment to fitter\n",
    "        \"\"\"\n",
    "        self._fitter.add_experiment(**kwargs)\n",
    "        self._experiments.append(kwargs['experiment'])\n",
    "        \n",
    "    def remove_experiment(self, exp):\n",
    "        \"\"\"\n",
    "        remove experiment from fitter\n",
    "        \"\"\"\n",
    "        self._fitter.remove_experiment(exp)\n",
    "        self._experiments.remove(exp)"
   ]
  },
  {
   "cell_type": "code",
   "execution_count": 6,
   "metadata": {
    "collapsed": true
   },
   "outputs": [],
   "source": [
    "class FitGUI:\n",
    "    \n",
    "    def __init__(self):\n",
    "        \"\"\"\n",
    "        \"\"\"\n",
    "        self._loc_exp = []\n",
    "        self._glob_exp = {}\n",
    "        self._global_var = ['choose...']\n",
    "        self._fitter = None\n",
    "        self._gui = None\n",
    "        \n",
    "        # widget set-up\n",
    "        self._global_field = widgets.Text()\n",
    "        self._global_add = widgets.Button(description = \"Add Global Variable\")\n",
    "        self._global_remove = widgets.Button(description = \"Remove Global Variable\",\n",
    "                                             button_style = 'warning')\n",
    "        self._add_exp_field = widgets.Button(description = \"Add an Experiment\")\n",
    "        self._rmv_last_field = widgets.Button(description = \"Remove Last Experiment\",\n",
    "                                              button_style = 'warning')\n",
    "        self._clear_widget = widgets.Button(description = \"Clear\",\n",
    "                                            button_style = 'info')\n",
    "        self._fit_drop = widgets.Dropdown(description = \"Choose Fitter: \",\n",
    "                                          options = {'global': pytc.GlobalFit(),\n",
    "                                                     'proton-linked': pytc.ProtonLinked(),\n",
    "                                                     'choose': 0},\n",
    "                                          value = 0)\n",
    "        self._global_drop = widgets.Dropdown()\n",
    "        \n",
    "        # widget layout\n",
    "        ENTRY_W = '200px'\n",
    "        \n",
    "        self._global_field.layout.width = '100px'\n",
    "        self._global_drop.layout.width = '110px'\n",
    "        self._global_add.layout.width = '160px'\n",
    "        self._global_remove.layout.width = '160px'\n",
    "        self._add_exp_field.layout.width = ENTRY_W\n",
    "        self._rmv_last_field.layout.width = ENTRY_W\n",
    "        \n",
    "        # initial choose fitter\n",
    "        fitter_inter = widgets.interactive(self.choose_fitter, drop = self._fit_drop)\n",
    "        display(fitter_inter)\n",
    "        \n",
    "    def choose_fitter(self, drop):\n",
    "        \"\"\"\n",
    "        choose global fit or proton-linked fit\n",
    "        \"\"\"\n",
    "        \n",
    "        if drop != 0:\n",
    "            self._fitter = drop\n",
    "            self._gui = Interface(self._fitter, self._glob_exp)\n",
    "            self._fit_drop.disabled = True\n",
    "            #self._fit_drop.display = 'none'\n",
    "            self.build_gui()\n",
    "        else:\n",
    "            pass\n",
    "        \n",
    "        #print(self._fitter.experiments)\n",
    "        \n",
    "    def return_fitter(self):\n",
    "        \n",
    "        return self._fitter\n",
    "        \n",
    "    def rm_last(self, b):\n",
    "        \"\"\"\n",
    "        remove the last experiment added\n",
    "        \"\"\"\n",
    "        if self._loc_exp:\n",
    "            last_exp = self._loc_exp[-1]\n",
    "            last_exp.remove_exp()\n",
    "\n",
    "    def clear_exp(self, b):\n",
    "        \"\"\"\n",
    "        clear all experiments, reset\n",
    "        \"\"\"\n",
    "        clear_output()\n",
    "        for i in self._loc_exp:\n",
    "            i.remove_exp()\n",
    "\n",
    "        for i in self._glob_exp.values():\n",
    "            i.remove_exp()\n",
    "\n",
    "    def add_field(self, b):\n",
    "        \"\"\"\n",
    "        add new experiment field\n",
    "        \"\"\"\n",
    "        clear_output()\n",
    "        exp = LocalExp(self._gui, self._loc_exp, self._fitter, self._global_var, self._glob_exp)\n",
    "        exp.gen_exp()\n",
    "\n",
    "        self._loc_exp.append(exp)\n",
    "\n",
    "    def create_global(self, b):\n",
    "        \"\"\"\n",
    "        add a potential global parameter name\n",
    "        \"\"\"\n",
    "\n",
    "        glob_var = self._global_field.value\n",
    "\n",
    "        if glob_var not in self._global_var and glob_var:\n",
    "            self._global_var.append(glob_var)\n",
    "            self._global_field.value = ''\n",
    "        else:\n",
    "            pass\n",
    "        \n",
    "        self._global_drop.options = self._global_var\n",
    "\n",
    "    def remove_global(self, b):\n",
    "        \"\"\"\n",
    "        remove a global parameter and unlink all linked local parameters\n",
    "        \"\"\"\n",
    "        self._fitter.remove_global(self._global_drop.value)\n",
    "        self._global_var.remove(self._global_drop.value)\n",
    "        self._global_drop.options = self._global_var\n",
    "    \n",
    "    def build_gui(self):\n",
    "        \"\"\"\n",
    "        \"\"\"\n",
    "        self._global_add.on_click(self.create_global)\n",
    "        self._global_remove.on_click(self.remove_global)\n",
    "        self._add_exp_field.on_click(self.add_field)\n",
    "        self._rmv_last_field.on_click(self.rm_last)\n",
    "        self._clear_widget.on_click(self.clear_exp)\n",
    "\n",
    "        experiments_layout = widgets.Layout(display = \"flex\", \n",
    "                              flex_flow = \"row\", \n",
    "                              align_items = \"stretch\",\n",
    "                              margin = \"0px 0px 30px 0px\")\n",
    "\n",
    "        glob_box = widgets.Box(children = [self._global_field,\n",
    "                                           self._global_drop,\n",
    "                                           self._global_add],\n",
    "                               layout = experiments_layout)\n",
    "\n",
    "        experiments = widgets.Box(children = [self._add_exp_field,\n",
    "                                              self._rmv_last_field,\n",
    "                                              self._clear_widget],\n",
    "                                  layout = experiments_layout)\n",
    "        parent = widgets.Box(children = [experiments,\n",
    "                                         glob_box])\n",
    "        \n",
    "        display(parent)\n",
    "        time.sleep(0.5)\n",
    "        self.add_field(None)"
   ]
  },
  {
   "cell_type": "code",
   "execution_count": 62,
   "metadata": {
    "collapsed": false
   },
   "outputs": [],
   "source": [
    "class TestModule:\n",
    "    \"\"\"\n",
    "    test each component\n",
    "    \"\"\"\n",
    "    \n",
    "    def __init__(self):\n",
    "        self._global_exp = []\n",
    "        self._fitter = pytc.GlobalFit()\n",
    "        self._gui = Interface(self._fitter, self._global_exp)\n",
    "    \n",
    "    @property\n",
    "    def global_exp(self):\n",
    "        new_global = GlobalExp(self._gui, self._global_exp, self._fitter, 'test_global')\n",
    "        \n",
    "        return new_global\n",
    "    \n",
    "    def local_exp(self):\n",
    "        new_local = LocalExp()\n",
    "        \n",
    "        return new_local\n",
    "    \n",
    "    def local_sliders(self):\n",
    "        \n",
    "        pass"
   ]
  },
  {
   "cell_type": "code",
   "execution_count": 26,
   "metadata": {
    "collapsed": false
   },
   "outputs": [],
   "source": [
    "test = TestModule()"
   ]
  },
  {
   "cell_type": "code",
   "execution_count": 27,
   "metadata": {
    "collapsed": false
   },
   "outputs": [],
   "source": [
    "global_exp = test.global_exp"
   ]
  },
  {
   "cell_type": "code",
   "execution_count": null,
   "metadata": {
    "collapsed": false
   },
   "outputs": [],
   "source": [
    "global_exp.gen_exp()"
   ]
  },
  {
   "cell_type": "code",
   "execution_count": 7,
   "metadata": {
    "collapsed": false,
    "scrolled": false
   },
   "outputs": [
    {
     "data": {
      "text/html": [
       "<div>\n",
       "<table border=\"1\" class=\"dataframe\">\n",
       "  <thead>\n",
       "    <tr style=\"text-align: right;\">\n",
       "      <th></th>\n",
       "      <th>error</th>\n",
       "      <th>param</th>\n",
       "    </tr>\n",
       "  </thead>\n",
       "  <tbody>\n",
       "    <tr>\n",
       "      <th>K,1</th>\n",
       "      <td>0.000000</td>\n",
       "      <td>1.412597e+05</td>\n",
       "    </tr>\n",
       "    <tr>\n",
       "      <th>K,2</th>\n",
       "      <td>0.000000</td>\n",
       "      <td>1.871481e+07</td>\n",
       "    </tr>\n",
       "    <tr>\n",
       "      <th>dH,1</th>\n",
       "      <td>0.000000</td>\n",
       "      <td>-4.953546e+03</td>\n",
       "    </tr>\n",
       "    <tr>\n",
       "      <th>dH,2</th>\n",
       "      <td>0.000000</td>\n",
       "      <td>-5.068798e+03</td>\n",
       "    </tr>\n",
       "    <tr>\n",
       "      <th>dilution_heat,0</th>\n",
       "      <td>0.045108</td>\n",
       "      <td>9.160084e+01</td>\n",
       "    </tr>\n",
       "    <tr>\n",
       "      <th>dilution_heat,1</th>\n",
       "      <td>0.000000</td>\n",
       "      <td>8.277772e+03</td>\n",
       "    </tr>\n",
       "    <tr>\n",
       "      <th>dilution_heat,2</th>\n",
       "      <td>0.000000</td>\n",
       "      <td>-6.788163e+02</td>\n",
       "    </tr>\n",
       "    <tr>\n",
       "      <th>dilution_intercept,0</th>\n",
       "      <td>16.214533</td>\n",
       "      <td>-3.246185e-01</td>\n",
       "    </tr>\n",
       "    <tr>\n",
       "      <th>dilution_intercept,1</th>\n",
       "      <td>0.000000</td>\n",
       "      <td>-1.815835e+01</td>\n",
       "    </tr>\n",
       "    <tr>\n",
       "      <th>dilution_intercept,2</th>\n",
       "      <td>0.000000</td>\n",
       "      <td>3.953800e+03</td>\n",
       "    </tr>\n",
       "    <tr>\n",
       "      <th>fx_competent,1</th>\n",
       "      <td>0.000000</td>\n",
       "      <td>9.910982e-01</td>\n",
       "    </tr>\n",
       "    <tr>\n",
       "      <th>fx_competent,2</th>\n",
       "      <td>0.000000</td>\n",
       "      <td>9.292462e-01</td>\n",
       "    </tr>\n",
       "  </tbody>\n",
       "</table>\n",
       "</div>"
      ],
      "text/plain": [
       "                          error         param\n",
       "K,1                    0.000000  1.412597e+05\n",
       "K,2                    0.000000  1.871481e+07\n",
       "dH,1                   0.000000 -4.953546e+03\n",
       "dH,2                   0.000000 -5.068798e+03\n",
       "dilution_heat,0        0.045108  9.160084e+01\n",
       "dilution_heat,1        0.000000  8.277772e+03\n",
       "dilution_heat,2        0.000000 -6.788163e+02\n",
       "dilution_intercept,0  16.214533 -3.246185e-01\n",
       "dilution_intercept,1   0.000000 -1.815835e+01\n",
       "dilution_intercept,2   0.000000  3.953800e+03\n",
       "fx_competent,1         0.000000  9.910982e-01\n",
       "fx_competent,2         0.000000  9.292462e-01"
      ]
     },
     "metadata": {},
     "output_type": "display_data"
    },
    {
     "data": {
      "image/png": "[encoded data removed]",
      "text/plain": [
       "<matplotlib.figure.Figure at 0x11b83cf28>"
      ]
     },
     "metadata": {},
     "output_type": "display_data"
    }
   ],
   "source": [
    "gui_test = FitGUI()"
   ]
  },
  {
   "cell_type": "code",
   "execution_count": 42,
   "metadata": {
    "collapsed": false
   },
   "outputs": [],
   "source": [
    "fit = gui_test.return_fitter()"
   ]
  },
  {
   "cell_type": "code",
   "execution_count": 43,
   "metadata": {
    "collapsed": false,
    "scrolled": true
   },
   "outputs": [
    {
     "data": {
      "text/plain": [
       "({},\n",
       " [{'K': False,\n",
       "   'dH': True,\n",
       "   'dilution_heat': False,\n",
       "   'dilution_intercept': False,\n",
       "   'fx_competent': False}])"
      ]
     },
     "execution_count": 43,
     "metadata": {},
     "output_type": "execute_result"
    }
   ],
   "source": [
    "fit.fixed_param"
   ]
  },
  {
   "cell_type": "code",
   "execution_count": 85,
   "metadata": {
    "collapsed": false
   },
   "outputs": [],
   "source": [
    "widge = {}\n",
    "sig = signature(pl_fit.add_experiment)\n",
    "param = sig.parameters\n",
    "\n",
    "for i in param:\n",
    "    if \"=\" not in str(param[i]):\n",
    "        widge[str(param[i])] = widgets.Text()"
   ]
  },
  {
   "cell_type": "code",
   "execution_count": 157,
   "metadata": {
    "collapsed": true
   },
   "outputs": [],
   "source": [
    "for i in widge.values():\n",
    "    display(i)"
   ]
  },
  {
   "cell_type": "code",
   "execution_count": 167,
   "metadata": {
    "collapsed": false
   },
   "outputs": [],
   "source": [
    "values = {}\n",
    "\n",
    "for k, v in widge.items():\n",
    "    if k != 'experiment': \n",
    "        val = v.value\n",
    "        if val.isdigit():\n",
    "            values[k] = float(v.value)\n",
    "        else: \n",
    "            values[k] = v.value\n",
    "    else:\n",
    "        values[k] = 'name'"
   ]
  },
  {
   "cell_type": "code",
   "execution_count": 168,
   "metadata": {
    "collapsed": false
   },
   "outputs": [
    {
     "data": {
      "text/plain": [
       "{'experiment': 'name', 'ionization_enthalpy': 10.0}"
      ]
     },
     "execution_count": 168,
     "metadata": {},
     "output_type": "execute_result"
    }
   ],
   "source": [
    "values"
   ]
  },
  {
   "cell_type": "markdown",
   "metadata": {},
   "source": [
    "Write GUI documentation. Figure out Sphinx.\n",
    "\n",
    "Look into PyQT\n",
    "\n",
    "set shot_start to 1\n",
    "\n",
    "make a fit button.\n",
    "\n",
    "hide button??? or default to widgets being hidden.\n",
    "\n",
    "0.1v"
   ]
  },
  {
   "cell_type": "code",
   "execution_count": null,
   "metadata": {
    "collapsed": true
   },
   "outputs": [],
   "source": []
  }
 ],
 "metadata": {
  "kernelspec": {
   "display_name": "Python 3",
   "language": "python",
   "name": "python3"
  },
  "language_info": {
   "codemirror_mode": {
    "name": "ipython",
    "version": 3
   },
   "file_extension": ".py",
   "mimetype": "text/x-python",
   "name": "python",
   "nbconvert_exporter": "python",
   "pygments_lexer": "ipython3",
   "version": "3.4.5"
  },
  "widgets": {
   "state": {
    "08841fa45c444db597aac0040ca4c1fa": {
     "views": [
      {
       "cell_index": 11
      }
     ]
    },
    "09869325c72a4322a55c90e7ee2ff687": {
     "views": [
      {
       "cell_index": 11
      }
     ]
    },
    "0f484b0da2b846439ad501afbfc55f8d": {
     "views": [
      {
       "cell_index": 11
      }
     ]
    },
    "1cb1d662bced4cef9683eee4c1fb55cc": {
     "views": [
      {
       "cell_index": 11
      }
     ]
    },
    "1d3a0162c0b9457aa611a22806012c2c": {
     "views": [
      {
       "cell_index": 11
      }
     ]
    },
    "2378a29c7388429fbd46ab14fdba89b1": {
     "views": [
      {
       "cell_index": 11
      }
     ]
    },
    "27a7ee90f32b405d98cd344b1e956daf": {
     "views": [
      {
       "cell_index": 11
      }
     ]
    },
    "27f41fd6f851436ea2023fe16e7310e6": {
     "views": [
      {
       "cell_index": 11
      }
     ]
    },
    "2daf4f3e6d66434399e2e08ef1e30ee7": {
     "views": [
      {
       "cell_index": 11
      }
     ]
    },
    "3738178044374cf995747cb2a2c2f175": {
     "views": [
      {
       "cell_index": 11
      }
     ]
    },
    "37e485c9181e4a589b9273771ddca198": {
     "views": [
      {
       "cell_index": 11
      }
     ]
    },
    "41ac188c28af49e7b8f0bd8f337daae6": {
     "views": [
      {
       "cell_index": 11
      }
     ]
    },
    "441e59140db0471aa8c90f2a20b417e5": {
     "views": [
      {
       "cell_index": 11
      }
     ]
    },
    "46dd5bf69ae64cbe94acadcf1ca3125b": {
     "views": [
      {
       "cell_index": 11
      }
     ]
    },
    "4846f7b5f1144f78a1c95ec9af140103": {
     "views": [
      {
       "cell_index": 11
      }
     ]
    },
    "4f120b65cda8441fac147f0adaa4f32e": {
     "views": [
      {
       "cell_index": 11
      }
     ]
    },
    "54d7e430230549ceaac8efb15ac6fa20": {
     "views": [
      {
       "cell_index": 11
      }
     ]
    },
    "59a195cf5c554c02a3d3f5da59d4259d": {
     "views": [
      {
       "cell_index": 11
      }
     ]
    },
    "5c473293bd564c75835ede1ac90c9b86": {
     "views": [
      {
       "cell_index": 11
      }
     ]
    },
    "63fee4b7d055496784a635cb80940dec": {
     "views": [
      {
       "cell_index": 11
      }
     ]
    },
    "666ce4c525d24318b80942c9702ab9d2": {
     "views": [
      {
       "cell_index": 11
      }
     ]
    },
    "6796f18840794425bf7b594ecc6457ba": {
     "views": [
      {
       "cell_index": 11
      }
     ]
    },
    "77afac7223b341d6be4c912127014a91": {
     "views": [
      {
       "cell_index": 11
      }
     ]
    },
    "7f0362a299f64e15a60f0557af5e4c42": {
     "views": [
      {
       "cell_index": 11
      }
     ]
    },
    "87623bbd74fc46c6a62c42df24ec03ba": {
     "views": [
      {
       "cell_index": 11
      }
     ]
    },
    "882361c893d74038809d1eb8c54f0103": {
     "views": [
      {
       "cell_index": 11
      }
     ]
    },
    "8c5147328e9448bb95f040bdf402f261": {
     "views": [
      {
       "cell_index": 11
      }
     ]
    },
    "9d17e337d0b44897b85a3360326c71bf": {
     "views": [
      {
       "cell_index": 11
      }
     ]
    },
    "a9307919e98b4af5ac77e21c5af5f93e": {
     "views": [
      {
       "cell_index": 11
      }
     ]
    },
    "ad107b9075b4448282b4b355d904b395": {
     "views": [
      {
       "cell_index": 11
      }
     ]
    },
    "adf30e5b1c2c427d89bbc431f817f199": {
     "views": [
      {
       "cell_index": 11
      }
     ]
    },
    "d38a6dbc1a2243fb916faa9877ddc65a": {
     "views": [
      {
       "cell_index": 11
      }
     ]
    },
    "d4eef7a5246c460799f2fd398ba854a9": {
     "views": [
      {
       "cell_index": 11
      }
     ]
    },
    "d85cacd0de904fbd8b955b0e156ef3aa": {
     "views": [
      {
       "cell_index": 11
      }
     ]
    },
    "e051654aa9784174add065c086205644": {
     "views": [
      {
       "cell_index": 11
      }
     ]
    },
    "e3bd3b2b43d44372adc0e44f916da5dc": {
     "views": [
      {
       "cell_index": 11
      }
     ]
    },
    "e65144a21096498e9b81a32db067cb39": {
     "views": [
      {
       "cell_index": 11
      }
     ]
    },
    "ee77a2d83a83438888912eb2987b9553": {
     "views": [
      {
       "cell_index": 11
      }
     ]
    },
    "f5d77d4e9f564ae5a1aa250e994508c4": {
     "views": [
      {
       "cell_index": 11
      }
     ]
    },
    "fa611045e3d246688ae5a7a1aa1da13b": {
     "views": [
      {
       "cell_index": 11
      }
     ]
    },
    "ff24564b23d54c2baf6a4667ac61786b": {
     "views": [
      {
       "cell_index": 11
      }
     ]
    }
   },
   "version": "1.2.0"
  }
 },
 "nbformat": 4,
 "nbformat_minor": 0
}

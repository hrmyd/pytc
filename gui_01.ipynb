{
 "cells": [
  {
   "cell_type": "code",
   "execution_count": 2,
   "metadata": {
    "collapsed": false
   },
   "outputs": [],
   "source": [
    "import pytc\n",
    "import plotly.plotly as py\n",
    "import ipywidgets as widgets\n",
    "\n",
    "from IPython.display import display, clear_output\n",
    "from IPython.html.widgets import interactive\n",
    "from plotly.widgets import GraphWidget\n",
    "import seaborn as sns\n",
    "\n",
    "%matplotlib inline"
   ]
  },
  {
   "cell_type": "code",
   "execution_count": 3,
   "metadata": {
    "collapsed": true
   },
   "outputs": [],
   "source": [
    "class ParamCollect():\n",
    "    def __init__(self, gui, container, fitter):\n",
    "        \n",
    "        self._gui = gui\n",
    "        self._exp_id = ''\n",
    "        self._exp_val = ''\n",
    "        self._widgets = []\n",
    "        self._fitter = fitter\n",
    "        self._container = container\n",
    "        self._parameters = {}\n",
    "        self._models = {\"blank\" : pytc.models.Blank,\n",
    "          \"single site\" : pytc.models.SingleSite,  \n",
    "          \"single site competitor\" : pytc.models.SingleSiteCompetitor, \n",
    "          \"binding polynomial\" : pytc.models.BindingPolynomial}\n",
    "        self._current_model = ''\n",
    "        \n",
    "    def remove_exp(self, b):\n",
    "        \"\"\"\n",
    "        remove experiment from analysis and close widgets\n",
    "        \"\"\"\n",
    "        try:\n",
    "            self._gui.remove_experiment(self._exp_id)\n",
    "        except:\n",
    "            clear_output()\n",
    "            print(\"no experiment linked\")\n",
    "        \n",
    "        self._widgets[3].close()\n",
    "        \n",
    "        for i in self._container:\n",
    "            if self._exp_id == i[0]._exp_id:\n",
    "                self._container.remove(i)\n",
    "    \n",
    "    def parameters(self):\n",
    "        \"\"\"\n",
    "        get parameters for experiment\n",
    "        \"\"\"\n",
    "        pass\n",
    "        \n",
    "    def create_exp(self):\n",
    "        \"\"\"\n",
    "        create a new pytc experiment\n",
    "        \"\"\"\n",
    "        self._exp_val = self._widgets[0].value\n",
    "        if self._exp_val:\n",
    "            self._current_model = self._widgets[1].value\n",
    "            self._exp_id = pytc.ITCExperiment(self._exp_val, self._current_model)\n",
    "            self.parameters()\n",
    "        else:\n",
    "            clear_output()\n",
    "            print(\"no exp data given\")\n",
    "            \n",
    "    def update_exp(self):\n",
    "        \"\"\"\n",
    "        update experiment if changed\n",
    "        \"\"\"\n",
    "        \n",
    "        if self._current_model != self._widgets[1].value:\n",
    "            self.create_exp()\n",
    "        else:\n",
    "            print(\"nothing to update\")\n",
    "        \n",
    "            \n",
    "    def exp_id(self):\n",
    "        \"\"\"\n",
    "        return experiment id\n",
    "        \"\"\"\n",
    "        \n",
    "        return self._exp_id\n",
    "    \n",
    "    \n",
    "    def gen_sliders(self):\n",
    "        \"\"\"\n",
    "        generate sliders for each experiment, give option to link to global.\n",
    "        \"\"\"\n",
    "        \n",
    "        pass\n",
    "    \n",
    "    def gen_exp(self):\n",
    "        \"\"\"\n",
    "        generate widgets for experiment.\n",
    "        \"\"\"\n",
    "        pass\n",
    "    \n",
    "class Experiments(ParamCollect):\n",
    "    \"\"\"\n",
    "    create experiment object and generate widgets\n",
    "    \"\"\"\n",
    "    def __init__(self, gui, container, fitter):\n",
    "        super().__init__(gui, container, fitter)\n",
    "    \n",
    "    def parameters(self):\n",
    "        \"\"\"\n",
    "        generate local parameters for experiment.\n",
    "        \"\"\"\n",
    "        \n",
    "        global_param, local_param = self._fitter.param_names\n",
    "        global_guesses, local_guesses = self._fitter.param_guesses\n",
    "        global_ranges, local_ranges = self._fitter.param_ranges\n",
    "        global_fixed, local_fixed = self._fitter.fixed_param \n",
    "        \n",
    "        self._parameters = {\"name\": local_param, \n",
    "                            \"value\": local_guesses, \n",
    "                            \"ranges\": local_ranges, \n",
    "                            \"fixed\": local_fixed}\n",
    "        \n",
    "        return self._parameters\n",
    "    \n",
    "    def gen_sliders(self):\n",
    "        \"\"\"\n",
    "        generate sliders for each experiment, give option to link to global.\n",
    "        \"\"\"\n",
    "        \n",
    "        pass\n",
    "    \n",
    "    def gen_exp(self):\n",
    "        \"\"\"\n",
    "        generate widgets for experiment.\n",
    "        \"\"\"\n",
    "        exp_field = widgets.Text(description = \"exp: \")\n",
    "        model_drop = widgets.Dropdown(options = self._models, value = self._models[\"blank\"])\n",
    "\n",
    "        rm_exp = widgets.Button(description = \"remove experiment\")\n",
    "        rm_exp.on_click(self.remove_exp)\n",
    "\n",
    "        exp_box = widgets.HBox(children = [exp_field, model_drop, rm_exp])\n",
    "        self._widgets.extend([exp_field, model_drop, rm_exp, exp_box])\n",
    "        \n",
    "        return exp_box\n",
    "\n",
    "\n",
    "class Interface:\n",
    "    \n",
    "    def __init__(self,fitter):\n",
    "        \"\"\"\n",
    "        \"\"\"\n",
    "        \n",
    "        self._global_sliders = {}\n",
    "        self._local_sliders = []\n",
    "        self._fitter = fitter\n",
    "        self._experiments = []\n",
    "        self._param = []\n",
    "        \n",
    "    def view_exp(self):\n",
    "        \n",
    "        return self._experiments\n",
    "    \n",
    "    def add_experiment(self,expt):\n",
    "        \n",
    "        self._fitter.add_experiment(expt)\n",
    "        self._experiments.append(expt)\n",
    "        \n",
    "    def remove_experiment(self, expt):\n",
    "        \n",
    "        self._fitter.remove_experiment(expt)\n",
    "        self._experiments.remove(expt)\n",
    "            \n",
    "    def reset_sliders(self):\n",
    "        \n",
    "        for i in self._local_sliders:\n",
    "            for slider in i:\n",
    "                i[slider].close()\n",
    "            i.clear()\n",
    "            \n",
    "        for p in self._param:\n",
    "            p.close()\n",
    "    \n",
    "    def build_interface(self):\n",
    "        \"\"\"\n",
    "        \"\"\"\n",
    "\n",
    "        global_param, local_param = self._fitter.param_names\n",
    "        global_guesses, local_guesses = self._fitter.param_guesses\n",
    "        global_ranges, local_ranges = self._fitter.param_ranges\n",
    "        global_fixed, local_fixed = self._fitter.fixed_param \n",
    "        \n",
    "        all_widgets = {}\n",
    "        \n",
    "        for p in global_param:\n",
    "        \n",
    "            g_min = global_ranges[p][0]\n",
    "            g_max = global_ranges[p][1]\n",
    "            g_val = global_guesses[p]\n",
    "            \n",
    "            self._global_sliders[p] = widgets.FloatSlider(min=g_min,max=g_max,value=g_val)\n",
    "            \n",
    "            all_widgets[\"{}\".format(p)] = self._global_sliders[p]\n",
    "    \n",
    "        for i in range(len(self._experiments)):            \n",
    "            \n",
    "            self._local_sliders.append({})\n",
    "        \n",
    "            for p in local_param[i]:\n",
    "            \n",
    "                g_min = local_ranges[i][p][0]\n",
    "                g_max = local_ranges[i][p][1]\n",
    "                g_val = local_guesses[i][p]\n",
    "                \n",
    "                self._local_sliders[-1][p] = widgets.FloatSlider(min=g_min,max=g_max,value=g_val)\n",
    "        \n",
    "                all_widgets[\"{},{}\".format(p,i)] = self._local_sliders[-1][p]\n",
    "    \n",
    "\n",
    "        w = widgets.interactive(self._update,**all_widgets)\n",
    "                        \n",
    "        display(w)\n",
    "\n",
    "    def _update(self,**kwargs):\n",
    "        \"\"\"\n",
    "        \"\"\"\n",
    "        \n",
    "        for k in kwargs.keys():\n",
    "            if len(k.split(\",\")) == 1:\n",
    "                self._fitter.update_guess(k,kwargs[k])\n",
    "            else:\n",
    "                param_name = k.split(\",\")[0]\n",
    "                expt = self._experiments[int(k.split(\",\")[1])]\n",
    "                self._fitter.update_guess(param_name,kwargs[k],expt)\n",
    "       \n",
    "        self._fitter.fit()\n",
    "        self._fitter.plot()\n",
    "        \n",
    "        global_param, local_param = self._fitter.fit_param\n",
    "        global_error, local_error = self._fitter.fit_error\n",
    "        \n",
    "        for k, v in global_param.items():\n",
    "            temp = widgets.FloatText(value = v, description = \"{}: \".format(k))\n",
    "            self._param.append(temp)\n",
    "            display(temp)\n",
    "                \n",
    "        for p, e in (local_param, local_error):\n",
    "            for k, v in p.items():\n",
    "                temp = widgets.FloatText(value = v, description = \"{}: \".format(k))\n",
    "                self._param.append(temp)\n",
    "                display(temp)\n",
    "        \n",
    "    def get_param(self):\n",
    "        \n",
    "        return self._fitter.fit_param, self._fitter.fit_error"
   ]
  },
  {
   "cell_type": "code",
   "execution_count": 4,
   "metadata": {
    "collapsed": false,
    "scrolled": true
   },
   "outputs": [
    {
     "name": "stdout",
     "output_type": "stream",
     "text": [
      "no data added.\n"
     ]
    },
    {
     "ename": "AttributeError",
     "evalue": "'SingleSite' object has no attribute '_param_names'",
     "output_type": "error",
     "traceback": [
      "\u001b[0;31m---------------------------------------------------------------------------\u001b[0m",
      "\u001b[0;31mAttributeError\u001b[0m                            Traceback (most recent call last)",
      "\u001b[0;32m<ipython-input-4-add71a316678>\u001b[0m in \u001b[0;36mgen_exp\u001b[0;34m(b)\u001b[0m\n\u001b[1;32m     42\u001b[0m         \u001b[0;31m#f.link_to_global(exp, \"dilution_intercept\", \"global_intercept\")\u001b[0m\u001b[0;34m\u001b[0m\u001b[0;34m\u001b[0m\u001b[0m\n\u001b[1;32m     43\u001b[0m \u001b[0;34m\u001b[0m\u001b[0m\n\u001b[0;32m---> 44\u001b[0;31m     \u001b[0mgui\u001b[0m\u001b[0;34m.\u001b[0m\u001b[0mbuild_interface\u001b[0m\u001b[0;34m(\u001b[0m\u001b[0;34m)\u001b[0m\u001b[0;34m\u001b[0m\u001b[0m\n\u001b[0m\u001b[1;32m     45\u001b[0m \u001b[0;34m\u001b[0m\u001b[0m\n\u001b[1;32m     46\u001b[0m \u001b[0;32mdef\u001b[0m \u001b[0mclear_exp\u001b[0m\u001b[0;34m(\u001b[0m\u001b[0mb\u001b[0m\u001b[0;34m)\u001b[0m\u001b[0;34m:\u001b[0m\u001b[0;34m\u001b[0m\u001b[0m\n",
      "\u001b[0;32m<ipython-input-3-0ab702e44117>\u001b[0m in \u001b[0;36mbuild_interface\u001b[0;34m(self)\u001b[0m\n\u001b[1;32m    169\u001b[0m         \"\"\"\n\u001b[1;32m    170\u001b[0m \u001b[0;34m\u001b[0m\u001b[0m\n\u001b[0;32m--> 171\u001b[0;31m         \u001b[0mglobal_param\u001b[0m\u001b[0;34m,\u001b[0m \u001b[0mlocal_param\u001b[0m \u001b[0;34m=\u001b[0m \u001b[0mself\u001b[0m\u001b[0;34m.\u001b[0m\u001b[0m_fitter\u001b[0m\u001b[0;34m.\u001b[0m\u001b[0mparam_names\u001b[0m\u001b[0;34m\u001b[0m\u001b[0m\n\u001b[0m\u001b[1;32m    172\u001b[0m         \u001b[0mglobal_guesses\u001b[0m\u001b[0;34m,\u001b[0m \u001b[0mlocal_guesses\u001b[0m \u001b[0;34m=\u001b[0m \u001b[0mself\u001b[0m\u001b[0;34m.\u001b[0m\u001b[0m_fitter\u001b[0m\u001b[0;34m.\u001b[0m\u001b[0mparam_guesses\u001b[0m\u001b[0;34m\u001b[0m\u001b[0m\n\u001b[1;32m    173\u001b[0m         \u001b[0mglobal_ranges\u001b[0m\u001b[0;34m,\u001b[0m \u001b[0mlocal_ranges\u001b[0m \u001b[0;34m=\u001b[0m \u001b[0mself\u001b[0m\u001b[0;34m.\u001b[0m\u001b[0m_fitter\u001b[0m\u001b[0;34m.\u001b[0m\u001b[0mparam_ranges\u001b[0m\u001b[0;34m\u001b[0m\u001b[0m\n",
      "\u001b[0;32m/Users/hrnmy/Documents/Harms/pytc/pytc/fitting.py\u001b[0m in \u001b[0;36mparam_names\u001b[0;34m(self)\u001b[0m\n\u001b[1;32m    356\u001b[0m             \u001b[0me\u001b[0m \u001b[0;34m=\u001b[0m \u001b[0mself\u001b[0m\u001b[0;34m.\u001b[0m\u001b[0m_expt_dict\u001b[0m\u001b[0;34m[\u001b[0m\u001b[0mexpt_name\u001b[0m\u001b[0;34m]\u001b[0m\u001b[0;34m\u001b[0m\u001b[0m\n\u001b[1;32m    357\u001b[0m \u001b[0;34m\u001b[0m\u001b[0m\n\u001b[0;32m--> 358\u001b[0;31m             \u001b[0mparam_names\u001b[0m \u001b[0;34m=\u001b[0m \u001b[0mcopy\u001b[0m\u001b[0;34m.\u001b[0m\u001b[0mdeepcopy\u001b[0m\u001b[0;34m(\u001b[0m\u001b[0me\u001b[0m\u001b[0;34m.\u001b[0m\u001b[0mmodel\u001b[0m\u001b[0;34m.\u001b[0m\u001b[0mparam_names\u001b[0m\u001b[0;34m)\u001b[0m\u001b[0;34m\u001b[0m\u001b[0m\n\u001b[0m\u001b[1;32m    359\u001b[0m \u001b[0;34m\u001b[0m\u001b[0m\n\u001b[1;32m    360\u001b[0m             \u001b[0;31m# Part of the global command names.\u001b[0m\u001b[0;34m\u001b[0m\u001b[0;34m\u001b[0m\u001b[0m\n",
      "\u001b[0;32m/Users/hrnmy/Documents/Harms/pytc/pytc/models/base.py\u001b[0m in \u001b[0;36mparam_names\u001b[0;34m(self)\u001b[0m\n\u001b[1;32m    109\u001b[0m         \"\"\"\n\u001b[1;32m    110\u001b[0m \u001b[0;34m\u001b[0m\u001b[0m\n\u001b[0;32m--> 111\u001b[0;31m         \u001b[0;32mreturn\u001b[0m \u001b[0mself\u001b[0m\u001b[0;34m.\u001b[0m\u001b[0m_param_names\u001b[0m\u001b[0;34m\u001b[0m\u001b[0m\n\u001b[0m\u001b[1;32m    112\u001b[0m \u001b[0;34m\u001b[0m\u001b[0m\n\u001b[1;32m    113\u001b[0m     \u001b[0;31m# -------------------------------------------------------------------------\u001b[0m\u001b[0;34m\u001b[0m\u001b[0;34m\u001b[0m\u001b[0m\n",
      "\u001b[0;31mAttributeError\u001b[0m: 'SingleSite' object has no attribute '_param_names'"
     ]
    }
   ],
   "source": [
    "exp_w = []\n",
    "f = pytc.GlobalFit()\n",
    "gui = Interface(f)\n",
    "\n",
    "def rm_last(b):\n",
    "\n",
    "    if exp_w:\n",
    "        last_exp = exp_w[-1]\n",
    "        last_exp[1].close()\n",
    "        try:\n",
    "            gui.remove_experiment(last_exp[0].exp_id())\n",
    "        except:\n",
    "            pass\n",
    "\n",
    "        exp_w.remove(last_exp)\n",
    "\n",
    "def gen_exp(b):\n",
    "    \n",
    "    gui.reset_sliders()\n",
    "    clear_output()\n",
    "    \n",
    "    for i in exp_w:\n",
    "        try:\n",
    "            exp = i[0]\n",
    "            \n",
    "            if not exp.exp_id():\n",
    "            \n",
    "                exp.create_exp()\n",
    "\n",
    "                gui.add_experiment(exp.exp_id())\n",
    "\n",
    "                param = i[0].parameters()\n",
    "                name = param[\"name\"]\n",
    "                \n",
    "            else:\n",
    "                pass\n",
    "        except:\n",
    "            print(\"no data added.\")\n",
    "\n",
    "\n",
    "        #f.link_to_global(exp, \"dilution_heat\", \"global_heat\")\n",
    "        #f.link_to_global(exp, \"dilution_intercept\", \"global_intercept\")\n",
    "\n",
    "    gui.build_interface()\n",
    "\n",
    "def clear_exp(b):\n",
    "\n",
    "    for i in exp_w:\n",
    "        try:\n",
    "            i[1].close()\n",
    "            gui.remove_experiment(i[0].exp_id())\n",
    "        except:\n",
    "            pass\n",
    "        \n",
    "        exp_w.remove(i)\n",
    "        \n",
    "    gui.reset_sliders()\n",
    "    clear_output()\n",
    "\n",
    "    \n",
    "def gen_exp_list(exp_list):\n",
    "    \n",
    "    for i in range(len(exp_w)):\n",
    "        exp = exp_w[i][0]\n",
    "        exp_list['exp {}'.format(i)] = exp.exp_id\n",
    "        \n",
    "    return exp_list\n",
    "\n",
    "\n",
    "def add_field(b):\n",
    "    \n",
    "    clear_output()\n",
    "    gui.reset_sliders()\n",
    "    exp_object = Experiments(gui, exp_w, f)\n",
    "    show = exp_object.gen_exp()\n",
    "\n",
    "    exp_w.append([exp_object, show])\n",
    "\n",
    "    display(show)\n",
    "        \n",
    "        \n",
    "ENTRY_W = '200px'\n",
    "\n",
    "add_exp_field_b = widgets.Button(description = \"Add an Experiment\")\n",
    "add_exp_field_b.layout.width = ENTRY_W\n",
    "add_exp_field_b.on_click(add_field)\n",
    "\n",
    "rmv_last_field = widgets.Button(description = \"Remove Last Experiment\")\n",
    "rmv_last_field.layout.width = ENTRY_W\n",
    "rmv_last_field.on_click(rm_last)\n",
    "\n",
    "exp_object = Experiments(gui, exp_w, f)\n",
    "show = exp_object.gen_exp()\n",
    "\n",
    "exp_w.append([exp_object, show])\n",
    "\n",
    "analyze_widget = widgets.Button(description = \"Analyze\")\n",
    "analyze_widget.on_click(gen_exp)\n",
    "\n",
    "clear_widget = widgets.Button(description = \"Clear\", value = False)\n",
    "clear_widget.on_click(clear_exp)\n",
    "\n",
    "experiments_layout = widgets.Layout(display = \"flex\", \n",
    "                      flex_flow = \"row\", \n",
    "                      align_items = \"stretch\")\n",
    "\n",
    "experiments = widgets.Box(children = [add_exp_field_b, rmv_last_field], \n",
    "                                      layout = experiments_layout)\n",
    "parent = widgets.Box(children = [analyze_widget, clear_widget, experiments, show])\n",
    "\n",
    "display(parent)"
   ]
  },
  {
   "cell_type": "markdown",
   "metadata": {},
   "source": [
    "test-data/real-blank-match.DH\n",
    "\n",
    "test-data/blank.DH\n",
    "\n",
    "test-data/CaEDTATris01.DH"
   ]
  },
  {
   "cell_type": "code",
   "execution_count": 156,
   "metadata": {
    "collapsed": false
   },
   "outputs": [
    {
     "ename": "AttributeError",
     "evalue": "'GlobalFit' object has no attribute 'fit_error'",
     "output_type": "error",
     "traceback": [
      "\u001b[0;31m---------------------------------------------------------------------------\u001b[0m",
      "\u001b[0;31mAttributeError\u001b[0m                            Traceback (most recent call last)",
      "\u001b[0;32m<ipython-input-156-dc9c3575d441>\u001b[0m in \u001b[0;36m<module>\u001b[0;34m()\u001b[0m\n\u001b[0;32m----> 1\u001b[0;31m \u001b[0mparam\u001b[0m\u001b[0;34m,\u001b[0m \u001b[0merror\u001b[0m \u001b[0;34m=\u001b[0m \u001b[0mgui\u001b[0m\u001b[0;34m.\u001b[0m\u001b[0mget_param\u001b[0m\u001b[0;34m(\u001b[0m\u001b[0;34m)\u001b[0m\u001b[0;34m\u001b[0m\u001b[0m\n\u001b[0m",
      "\u001b[0;32m<ipython-input-153-20cda14b46c8>\u001b[0m in \u001b[0;36mget_param\u001b[0;34m(self)\u001b[0m\n\u001b[1;32m    236\u001b[0m     \u001b[0;32mdef\u001b[0m \u001b[0mget_param\u001b[0m\u001b[0;34m(\u001b[0m\u001b[0mself\u001b[0m\u001b[0;34m)\u001b[0m\u001b[0;34m:\u001b[0m\u001b[0;34m\u001b[0m\u001b[0m\n\u001b[1;32m    237\u001b[0m \u001b[0;34m\u001b[0m\u001b[0m\n\u001b[0;32m--> 238\u001b[0;31m         \u001b[0;32mreturn\u001b[0m \u001b[0mself\u001b[0m\u001b[0;34m.\u001b[0m\u001b[0m_fitter\u001b[0m\u001b[0;34m.\u001b[0m\u001b[0mfit_param\u001b[0m\u001b[0;34m,\u001b[0m \u001b[0mself\u001b[0m\u001b[0;34m.\u001b[0m\u001b[0m_fitter\u001b[0m\u001b[0;34m.\u001b[0m\u001b[0mfit_error\u001b[0m\u001b[0;34m\u001b[0m\u001b[0m\n\u001b[0m",
      "\u001b[0;31mAttributeError\u001b[0m: 'GlobalFit' object has no attribute 'fit_error'"
     ]
    }
   ],
   "source": [
    "param, error = gui.get_param()"
   ]
  },
  {
   "cell_type": "code",
   "execution_count": 144,
   "metadata": {
    "collapsed": false
   },
   "outputs": [
    {
     "data": {
      "text/plain": [
       "({}, [])"
      ]
     },
     "execution_count": 144,
     "metadata": {},
     "output_type": "execute_result"
    }
   ],
   "source": [
    "param"
   ]
  }
 ],
 "metadata": {
  "kernelspec": {
   "display_name": "Python 3",
   "language": "python",
   "name": "python3"
  },
  "language_info": {
   "codemirror_mode": {
    "name": "ipython",
    "version": 3
   },
   "file_extension": ".py",
   "mimetype": "text/x-python",
   "name": "python",
   "nbconvert_exporter": "python",
   "pygments_lexer": "ipython3",
   "version": "3.4.5"
  },
  "widgets": {
   "state": {
    "0022f72e73154d97aaee75bcb3cc94a5": {
     "views": [
      {
       "cell_index": 2
      }
     ]
    },
    "00901a33a6b2482890a16e8ecb7da66f": {
     "views": [
      {
       "cell_index": 2
      }
     ]
    },
    "00a9a4981ab147c78146b6d2db40e667": {
     "views": [
      {
       "cell_index": 2
      }
     ]
    },
    "023874460a8f4a069d95c039ef89fdb6": {
     "views": [
      {
       "cell_index": 2
      }
     ]
    },
    "02a6c2378dd14deeb1398c46b841cd59": {
     "views": [
      {
       "cell_index": 2
      }
     ]
    },
    "034d5189476048e6af23813ef967fcaa": {
     "views": [
      {
       "cell_index": 2
      }
     ]
    },
    "0795fcb396e9445bb3bdc5dfc7ea6960": {
     "views": [
      {
       "cell_index": 2
      }
     ]
    },
    "07d0ca3c914b4a85976290a04c8bc5fb": {
     "views": [
      {
       "cell_index": 2
      }
     ]
    },
    "0faed5624c65493fae0a7a7180779a09": {
     "views": [
      {
       "cell_index": 2
      }
     ]
    },
    "146e1605aaf4480c99641a2b5ee1b67d": {
     "views": [
      {
       "cell_index": 2
      }
     ]
    },
    "158c358131c34546b61f3ae815d2605f": {
     "views": [
      {
       "cell_index": 2
      }
     ]
    },
    "1915b7b0c7b947b8a9edd7b34f66f518": {
     "views": [
      {
       "cell_index": 2
      }
     ]
    },
    "1d65107a054040e0aeea51e00fb8bcb9": {
     "views": [
      {
       "cell_index": 2
      }
     ]
    },
    "22de4093a6274d34b930c8689f23b947": {
     "views": [
      {
       "cell_index": 2
      }
     ]
    },
    "2497e9fef6a44981a5b90fc5df0a1382": {
     "views": [
      {
       "cell_index": 2
      }
     ]
    },
    "25fd752a391348cdb6f4736e21b0dbe5": {
     "views": [
      {
       "cell_index": 2
      }
     ]
    },
    "2a4c56ac83dc4520b4fb942d5668d29c": {
     "views": [
      {
       "cell_index": 2
      }
     ]
    },
    "2aca75ccf6c147a98c0a825ae63eaebb": {
     "views": [
      {
       "cell_index": 2
      }
     ]
    },
    "2b5b8b11d19047fcb8883d53cbc63db0": {
     "views": [
      {
       "cell_index": 2
      }
     ]
    },
    "2d8050f47706476682dffb92cab78c27": {
     "views": [
      {
       "cell_index": 2
      }
     ]
    },
    "2fd082fb06674b8a85346c264b7b85d2": {
     "views": [
      {
       "cell_index": 2
      }
     ]
    },
    "3184794c92de4dd1bc5f8e22379bdc87": {
     "views": [
      {
       "cell_index": 2
      }
     ]
    },
    "3349d12d3de24d60a914f833d9b25ee4": {
     "views": [
      {
       "cell_index": 2
      }
     ]
    },
    "398efabf4d1d419da241b8604afda37c": {
     "views": [
      {
       "cell_index": 2
      }
     ]
    },
    "3cf903e55fa04c448db976dbdadb8f09": {
     "views": [
      {
       "cell_index": 2
      }
     ]
    },
    "3f2ee09a3ab1450b8bad8c27eb271e88": {
     "views": [
      {
       "cell_index": 2
      }
     ]
    },
    "3fb52d6fe13d44fea9f8469ffd1c1e03": {
     "views": [
      {
       "cell_index": 2
      }
     ]
    },
    "425f30b83986417d8c0f0e43cb59e3cb": {
     "views": [
      {
       "cell_index": 2
      }
     ]
    },
    "4360ba9ea5cc47d39c2ae76307d1dd7f": {
     "views": [
      {
       "cell_index": 2
      }
     ]
    },
    "44a96ece0cc84f0c9dc2ff929fd13264": {
     "views": [
      {
       "cell_index": 2
      }
     ]
    },
    "493e3556af13425d9b15198e67682589": {
     "views": [
      {
       "cell_index": 2
      }
     ]
    },
    "49c51df0739c4dcb926f87cdd02cd68f": {
     "views": [
      {
       "cell_index": 2
      }
     ]
    },
    "4f93aaaef0604f1d8b99fd4c3f658c02": {
     "views": [
      {
       "cell_index": 2
      }
     ]
    },
    "5230d7c0f1ec4fccbb4fd475cca2d5c8": {
     "views": [
      {
       "cell_index": 2
      }
     ]
    },
    "534f6b4a702140f29bd725538f324bef": {
     "views": [
      {
       "cell_index": 2
      }
     ]
    },
    "5506c2d245fb4fe894833ca2f936cc80": {
     "views": [
      {
       "cell_index": 2
      }
     ]
    },
    "5a5c2563fc45433ab93f349953630053": {
     "views": [
      {
       "cell_index": 2
      }
     ]
    },
    "5de1a5b151674275b8e9b69678ccfa2e": {
     "views": [
      {
       "cell_index": 2
      }
     ]
    },
    "625ec451bb7844e796328646798024db": {
     "views": [
      {
       "cell_index": 2
      }
     ]
    },
    "63281b4b816f4ba18073c673d1325e97": {
     "views": [
      {
       "cell_index": 2
      }
     ]
    },
    "63b0e3d832b54e28ba95705d489b6d7a": {
     "views": [
      {
       "cell_index": 2
      }
     ]
    },
    "6ad3f736794d404f8037ebd69c2c3d7c": {
     "views": [
      {
       "cell_index": 2
      }
     ]
    },
    "6b29bcac2d6d4db687cdef277aff818c": {
     "views": [
      {
       "cell_index": 2
      }
     ]
    },
    "6dd671337c1a45149c868d3cea2edf98": {
     "views": [
      {
       "cell_index": 2
      }
     ]
    },
    "720c618edfbb40dbb245639318e00d70": {
     "views": [
      {
       "cell_index": 2
      }
     ]
    },
    "792e7fcd82214774a009177d25c955ce": {
     "views": [
      {
       "cell_index": 2
      }
     ]
    },
    "796bcbc82a1d4c5f8d0c07e316f3ed6e": {
     "views": [
      {
       "cell_index": 2
      }
     ]
    },
    "87ab725f3ab94476b5643d78359bb70c": {
     "views": [
      {
       "cell_index": 2
      }
     ]
    },
    "882497d664a2428ab773554c98b9a17c": {
     "views": [
      {
       "cell_index": 2
      }
     ]
    },
    "8c7572ba1e5a45c9a36da09eb674adef": {
     "views": [
      {
       "cell_index": 2
      }
     ]
    },
    "8de131f2e95c4ffeab23f136ce3c3515": {
     "views": [
      {
       "cell_index": 2
      }
     ]
    },
    "909aec3fc5fc4b2f89ac9987f476c14d": {
     "views": [
      {
       "cell_index": 2
      }
     ]
    },
    "9339c31f94e141fd8393618f22cf9503": {
     "views": [
      {
       "cell_index": 2
      }
     ]
    },
    "98b73eb9dd044f96bbc11b3330336ece": {
     "views": [
      {
       "cell_index": 2
      }
     ]
    },
    "9cc73202e39f4f808ddf802fe81abe83": {
     "views": [
      {
       "cell_index": 2
      }
     ]
    },
    "9fe5fbf9784b4397811277d7bb501bff": {
     "views": [
      {
       "cell_index": 2
      }
     ]
    },
    "a1f9f7257536459bab8fe74b322a3e67": {
     "views": [
      {
       "cell_index": 2
      }
     ]
    },
    "aa17090dfe884064b38b625576516066": {
     "views": [
      {
       "cell_index": 2
      }
     ]
    },
    "ac955b4750514a0e91eb325d0ae84472": {
     "views": [
      {
       "cell_index": 2
      }
     ]
    },
    "addfdf91c0fa4760b85dbcf70c1ccc59": {
     "views": [
      {
       "cell_index": 2
      }
     ]
    },
    "ae427a75b2db468cb54c6aa5a6ca6324": {
     "views": [
      {
       "cell_index": 2
      }
     ]
    },
    "af52e4cd5d9d434bae65ea5f89266105": {
     "views": [
      {
       "cell_index": 2
      }
     ]
    },
    "b1e50100cca845dfb82ef53c0cf7325a": {
     "views": [
      {
       "cell_index": 2
      }
     ]
    },
    "b36dc219277947249b2dbe33f4273778": {
     "views": [
      {
       "cell_index": 2
      }
     ]
    },
    "b46214711770440b9b1b43cacc3d0e25": {
     "views": [
      {
       "cell_index": 2
      }
     ]
    },
    "b7787032f512437d99cd313843de9b71": {
     "views": [
      {
       "cell_index": 2
      }
     ]
    },
    "b7a24445ff3c4f96923f617b44b5669e": {
     "views": [
      {
       "cell_index": 2
      }
     ]
    },
    "b8ca6ac03fe34dd09dd8d7b9fd22c480": {
     "views": [
      {
       "cell_index": 2
      }
     ]
    },
    "ba971518a8ab4a10b17d885bc31db335": {
     "views": [
      {
       "cell_index": 2
      }
     ]
    },
    "bc08e3d6713345efb006ba86ec6988d6": {
     "views": [
      {
       "cell_index": 2
      }
     ]
    },
    "bdf550699ff34d418ad7c60ae70e79b1": {
     "views": [
      {
       "cell_index": 2
      }
     ]
    },
    "c005f6c46abe45c6a8e9421abeb0147e": {
     "views": [
      {
       "cell_index": 2
      }
     ]
    },
    "c250dd86539c4a17b7a1084a147a50a3": {
     "views": [
      {
       "cell_index": 2
      }
     ]
    },
    "c2517ffe1eaf4090b88883adc0d50b64": {
     "views": [
      {
       "cell_index": 2
      }
     ]
    },
    "c2fd7cec7f3b4e939040c0bb292c2a0b": {
     "views": [
      {
       "cell_index": 2
      }
     ]
    },
    "c6b306307c5d4414b193ecb1c0bd54ce": {
     "views": [
      {
       "cell_index": 2
      }
     ]
    },
    "c8089fc2ae9e4c65a3697309cdaf49c5": {
     "views": [
      {
       "cell_index": 2
      }
     ]
    },
    "caa734aaf48a45e5887bba0041199a12": {
     "views": [
      {
       "cell_index": 2
      }
     ]
    },
    "cbaf576dae8344a9878efe6dbbe4a112": {
     "views": [
      {
       "cell_index": 2
      }
     ]
    },
    "cc5b874beb7245a88e30a05609672924": {
     "views": [
      {
       "cell_index": 2
      }
     ]
    },
    "cdfc2ac58fd74a65a043c4eb8daf1b74": {
     "views": [
      {
       "cell_index": 2
      }
     ]
    },
    "d055f88bd5224836adce2f7a90f5cb26": {
     "views": [
      {
       "cell_index": 2
      }
     ]
    },
    "d30dcdb0ba7b4c6fb5f892ce32a05b8d": {
     "views": [
      {
       "cell_index": 2
      }
     ]
    },
    "d46d49c490114efebe81ec830aa63cab": {
     "views": [
      {
       "cell_index": 2
      }
     ]
    },
    "dc372f5a7ec54a088178ba697ac42f0b": {
     "views": [
      {
       "cell_index": 2
      }
     ]
    },
    "ddd600a003474730ad3b835139e53279": {
     "views": [
      {
       "cell_index": 2
      }
     ]
    },
    "e251051a51b646d897bc02125910c651": {
     "views": [
      {
       "cell_index": 2
      }
     ]
    },
    "ec925ca27f7b4565a838a192c6f682ea": {
     "views": [
      {
       "cell_index": 2
      }
     ]
    },
    "eeb45dcbe75945a6bcc6223e49d922e4": {
     "views": [
      {
       "cell_index": 2
      }
     ]
    },
    "f646605bfee34bee834604be0da42b75": {
     "views": [
      {
       "cell_index": 2
      }
     ]
    },
    "f769c0909d0c460a8f7f48ff95035137": {
     "views": [
      {
       "cell_index": 2
      }
     ]
    },
    "fa42082b4d804e558743ce993e4be48e": {
     "views": [
      {
       "cell_index": 2
      }
     ]
    }
   },
   "version": "1.2.0"
  }
 },
 "nbformat": 4,
 "nbformat_minor": 0
}

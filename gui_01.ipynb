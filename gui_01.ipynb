{
 "cells": [
  {
   "cell_type": "code",
   "execution_count": 2,
   "metadata": {
    "collapsed": false
   },
   "outputs": [],
   "source": [
    "import pytc\n",
    "import plotly.plotly as py\n",
    "import ipywidgets as widgets\n",
    "\n",
    "from IPython.display import display, clear_output\n",
    "from IPython.html.widgets import interactive\n",
    "from plotly.widgets import GraphWidget\n",
    "import seaborn as sns\n",
    "\n",
    "%matplotlib inline"
   ]
  },
  {
   "cell_type": "code",
   "execution_count": 58,
   "metadata": {
    "collapsed": true
   },
   "outputs": [],
   "source": [
    "class ParamCollect():\n",
    "    def __init__(self, gui, container, fitter):\n",
    "        \n",
    "        self._gui = gui\n",
    "        self._exp_id = ''\n",
    "        self._exp_val = ''\n",
    "        self._widgets = []\n",
    "        self._fitter = fitter\n",
    "        self._container = container\n",
    "        self._parameters = {}\n",
    "        self._models = {\"blank\" : pytc.models.Blank,\n",
    "          \"single site\" : pytc.models.SingleSite,  \n",
    "          \"single site competitor\" : pytc.models.SingleSiteCompetitor, \n",
    "          \"binding polynomial\" : pytc.models.BindingPolynomial}\n",
    "        self._current_model = ''\n",
    "        \n",
    "    def remove_exp(self, b):\n",
    "        \"\"\"\n",
    "        remove experiment from analysis and close widgets\n",
    "        \"\"\"\n",
    "        try:\n",
    "            self._gui.remove_experiment(self._exp_id)\n",
    "        except:\n",
    "            clear_output()\n",
    "            print(\"no experiment linked\")\n",
    "        \n",
    "        self._widgets[3].close()\n",
    "        \n",
    "        for i in self._container:\n",
    "            if self._exp_id == i[0]._exp_id:\n",
    "                self._container.remove(i)\n",
    "    \n",
    "    def parameters(self):\n",
    "        \"\"\"\n",
    "        get parameters for experiment\n",
    "        \"\"\"\n",
    "        pass\n",
    "        \n",
    "    def create_exp(self):\n",
    "        \"\"\"\n",
    "        create a new pytc experiment\n",
    "        \"\"\"\n",
    "        self._exp_val = self._widgets[0].value\n",
    "        if self._exp_val:\n",
    "            self._current_model = self._widgets[1].value\n",
    "            self._exp_id = pytc.ITCExperiment(self._exp_val, self._current_model)\n",
    "            self.parameters()\n",
    "        else:\n",
    "            clear_output()\n",
    "            print(\"no exp data given\")\n",
    "        \n",
    "    @property        \n",
    "    def exp_id(self):\n",
    "        \"\"\"\n",
    "        return experiment id\n",
    "        \"\"\"\n",
    "        \n",
    "        return self._exp_id\n",
    "    \n",
    "    \n",
    "    def gen_sliders(self):\n",
    "        \"\"\"\n",
    "        generate sliders for each experiment, give option to link to global.\n",
    "        \"\"\"\n",
    "        \n",
    "        pass\n",
    "    \n",
    "    def gen_exp(self):\n",
    "        \"\"\"\n",
    "        generate widgets for experiment.\n",
    "        \"\"\"\n",
    "        pass\n",
    "    \n",
    "class Experiments(ParamCollect):\n",
    "    \"\"\"\n",
    "    create experiment object and generate widgets\n",
    "    \"\"\"\n",
    "    def __init__(self, gui, container, fitter):\n",
    "        super().__init__(gui, container, fitter)\n",
    "    \n",
    "    @property\n",
    "    def parameters(self):\n",
    "        \"\"\"\n",
    "        generate local parameters for experiment.\n",
    "        \"\"\"\n",
    "        \n",
    "        global_param, local_param = self._fitter.param_names\n",
    "        global_guesses, local_guesses = self._fitter.param_guesses\n",
    "        global_ranges, local_ranges = self._fitter.param_ranges\n",
    "        global_fixed, local_fixed = self._fitter.fixed_param \n",
    "        \n",
    "        self._parameters = {\"name\": local_param, \n",
    "                            \"value\": local_guesses, \n",
    "                            \"ranges\": local_ranges, \n",
    "                            \"fixed\": local_fixed}\n",
    "        \n",
    "        return self._parameters\n",
    "    \n",
    "    def gen_sliders(self):\n",
    "        \"\"\"\n",
    "        generate sliders for each experiment, give option to link to global.\n",
    "        \"\"\"\n",
    "        \n",
    "        pass\n",
    "    \n",
    "    def gen_exp(self):\n",
    "        \"\"\"\n",
    "        generate widgets for experiment.\n",
    "        \"\"\"\n",
    "        exp_field = widgets.Text(description = \"exp: \")\n",
    "        model_drop = widgets.Dropdown(options = self._models, value = self._models[\"blank\"])\n",
    "\n",
    "        rm_exp = widgets.Button(description = \"remove experiment\")\n",
    "        rm_exp.on_click(self.remove_exp)\n",
    "\n",
    "        exp_box = widgets.HBox(children = [exp_field, model_drop, rm_exp])\n",
    "        self._widgets.extend([exp_field, model_drop, rm_exp, exp_box])\n",
    "        \n",
    "        return exp_box\n",
    "\n",
    "\n",
    "class Interface:\n",
    "    \n",
    "    def __init__(self,fitter):\n",
    "        \"\"\"\n",
    "        \"\"\"\n",
    "        \n",
    "        self._global_sliders = {}\n",
    "        self._local_sliders = []\n",
    "        self._fitter = fitter\n",
    "        self._experiments = []\n",
    "        self._param = []\n",
    "        \n",
    "    def view_exp(self):\n",
    "        \n",
    "        return self._experiments\n",
    "    \n",
    "    def fit(self):\n",
    "        \n",
    "        self._fitter.fit()\n",
    "        \n",
    "    def name(self):\n",
    "        \n",
    "        return self._fitter.param_names\n",
    "    \n",
    "    def add_experiment(self,expt):\n",
    "        \n",
    "        self._fitter.add_experiment(expt)\n",
    "        self._experiments.append(expt)\n",
    "        expt.initialize_param()\n",
    "        \n",
    "    def remove_experiment(self, expt):\n",
    "        \n",
    "        self._fitter.remove_experiment(expt)\n",
    "        self._experiments.remove(expt)\n",
    "            \n",
    "    def reset_sliders(self):\n",
    "        \n",
    "        for s in self._local_sliders:\n",
    "            for slider in s:\n",
    "                s[slider].close()\n",
    "            s.clear()\n",
    "            \n",
    "        for p in self._param:\n",
    "            p.close()\n",
    "            self._param = []\n",
    "    \n",
    "    def build_interface(self):\n",
    "        \"\"\"\n",
    "        \"\"\"\n",
    "\n",
    "        global_param, local_param = self._fitter.param_names\n",
    "        global_guesses, local_guesses = self._fitter.param_guesses\n",
    "        global_ranges, local_ranges = self._fitter.param_ranges\n",
    "        global_fixed, local_fixed = self._fitter.fixed_param \n",
    "        \n",
    "        all_widgets = {}\n",
    "        \n",
    "        for p in global_param:\n",
    "        \n",
    "            g_min = global_ranges[p][0]\n",
    "            g_max = global_ranges[p][1]\n",
    "            g_val = global_guesses[p]\n",
    "            \n",
    "            self._global_sliders[p] = widgets.FloatSlider(min=g_min,max=g_max,value=g_val)\n",
    "            \n",
    "            all_widgets[\"{}\".format(p)] = self._global_sliders[p]\n",
    "    \n",
    "        for i in range(len(self._experiments)):            \n",
    "            \n",
    "            self._local_sliders.append({})\n",
    "        \n",
    "            for p in local_param[i]:\n",
    "            \n",
    "                g_min = local_ranges[i][p][0]\n",
    "                g_max = local_ranges[i][p][1]\n",
    "                g_val = local_guesses[i][p]\n",
    "                \n",
    "                self._local_sliders[-1][p] = widgets.FloatSlider(min=g_min,max=g_max,value=g_val)\n",
    "        \n",
    "                all_widgets[\"{},{}\".format(p,i)] = self._local_sliders[-1][p]\n",
    "    \n",
    "\n",
    "        w = widgets.interactive(self._update,**all_widgets)\n",
    "                        \n",
    "        display(w)\n",
    "\n",
    "\n",
    "    def _update(self,**kwargs):\n",
    "        \"\"\"\n",
    "        \"\"\"\n",
    "        \n",
    "        for k in kwargs.keys():\n",
    "            if len(k.split(\",\")) == 1:\n",
    "                self._fitter.update_guess(k,kwargs[k])\n",
    "            else:\n",
    "                param_name = k.split(\",\")[0]\n",
    "                expt = self._experiments[int(k.split(\",\")[1])]\n",
    "                self._fitter.update_guess(param_name,kwargs[k],expt)\n",
    "       \n",
    "        self._fitter.fit()\n",
    "        self._fitter.plot()\n",
    "        \n",
    "        global_param, local_param = self._fitter.fit_param\n",
    "        #global_error, local_error = self._fitter.fit_error\n",
    "        \n",
    "        for k, v in global_param.items():\n",
    "            temp = widgets.FloatText(value = v, description = \"{}: \".format(k))\n",
    "            self._param.append(temp)\n",
    "            display(temp)\n",
    "                \n",
    "        for p in local_param:\n",
    "            for k, v in p.items():\n",
    "                temp = widgets.FloatText(value = v, description = \"{}: \".format(k))\n",
    "                self._param.append(temp)\n",
    "                display(temp)\n",
    "        \n",
    "    def get_param(self):\n",
    "        \n",
    "        return self._fitter.fit_param, self._fitter.fit_error"
   ]
  },
  {
   "cell_type": "code",
   "execution_count": 60,
   "metadata": {
    "collapsed": false
   },
   "outputs": [
    {
     "ename": "ValueError",
     "evalue": "zero-size array to reduction operation maximum which has no identity",
     "output_type": "error",
     "traceback": [
      "\u001b[0;31m---------------------------------------------------------------------------\u001b[0m",
      "\u001b[0;31mValueError\u001b[0m                                Traceback (most recent call last)",
      "\u001b[0;32m<ipython-input-58-40e50dd46763>\u001b[0m in \u001b[0;36m_update\u001b[0;34m(self, **kwargs)\u001b[0m\n\u001b[1;32m    219\u001b[0m                 \u001b[0mself\u001b[0m\u001b[0;34m.\u001b[0m\u001b[0m_fitter\u001b[0m\u001b[0;34m.\u001b[0m\u001b[0mupdate_guess\u001b[0m\u001b[0;34m(\u001b[0m\u001b[0mparam_name\u001b[0m\u001b[0;34m,\u001b[0m\u001b[0mkwargs\u001b[0m\u001b[0;34m[\u001b[0m\u001b[0mk\u001b[0m\u001b[0;34m]\u001b[0m\u001b[0;34m,\u001b[0m\u001b[0mexpt\u001b[0m\u001b[0;34m)\u001b[0m\u001b[0;34m\u001b[0m\u001b[0m\n\u001b[1;32m    220\u001b[0m \u001b[0;34m\u001b[0m\u001b[0m\n\u001b[0;32m--> 221\u001b[0;31m         \u001b[0mself\u001b[0m\u001b[0;34m.\u001b[0m\u001b[0m_fitter\u001b[0m\u001b[0;34m.\u001b[0m\u001b[0mfit\u001b[0m\u001b[0;34m(\u001b[0m\u001b[0;34m)\u001b[0m\u001b[0;34m\u001b[0m\u001b[0m\n\u001b[0m\u001b[1;32m    222\u001b[0m         \u001b[0mself\u001b[0m\u001b[0;34m.\u001b[0m\u001b[0m_fitter\u001b[0m\u001b[0;34m.\u001b[0m\u001b[0mplot\u001b[0m\u001b[0;34m(\u001b[0m\u001b[0;34m)\u001b[0m\u001b[0;34m\u001b[0m\u001b[0m\n\u001b[1;32m    223\u001b[0m \u001b[0;34m\u001b[0m\u001b[0m\n",
      "\u001b[0;32m/Users/hrnmy/Documents/Harms/pytc/pytc/fitting.py\u001b[0m in \u001b[0;36mfit\u001b[0;34m(self)\u001b[0m\n\u001b[1;32m    240\u001b[0m \u001b[0;34m\u001b[0m\u001b[0m\n\u001b[1;32m    241\u001b[0m         \u001b[0;31m# Do the actual fit\u001b[0m\u001b[0;34m\u001b[0m\u001b[0;34m\u001b[0m\u001b[0m\n\u001b[0;32m--> 242\u001b[0;31m         \u001b[0mfit\u001b[0m \u001b[0;34m=\u001b[0m \u001b[0moptimize\u001b[0m\u001b[0;34m.\u001b[0m\u001b[0mleast_squares\u001b[0m\u001b[0;34m(\u001b[0m\u001b[0mself\u001b[0m\u001b[0;34m.\u001b[0m\u001b[0m_residuals\u001b[0m\u001b[0;34m,\u001b[0m \u001b[0mx0\u001b[0m\u001b[0;34m=\u001b[0m\u001b[0mself\u001b[0m\u001b[0;34m.\u001b[0m\u001b[0m_float_param\u001b[0m\u001b[0;34m,\u001b[0m\u001b[0mbounds\u001b[0m\u001b[0;34m=\u001b[0m\u001b[0mself\u001b[0m\u001b[0;34m.\u001b[0m\u001b[0m_float_bounds\u001b[0m\u001b[0;34m)\u001b[0m\u001b[0;34m\u001b[0m\u001b[0m\n\u001b[0m\u001b[1;32m    243\u001b[0m         \u001b[0mfit_param\u001b[0m \u001b[0;34m=\u001b[0m \u001b[0mfit\u001b[0m\u001b[0;34m.\u001b[0m\u001b[0mx\u001b[0m\u001b[0;34m\u001b[0m\u001b[0m\n\u001b[1;32m    244\u001b[0m \u001b[0;34m\u001b[0m\u001b[0m\n",
      "\u001b[0;32m/Users/hrnmy/anaconda3/lib/python3.4/site-packages/scipy/optimize/_lsq/least_squares.py\u001b[0m in \u001b[0;36mleast_squares\u001b[0;34m(fun, x0, jac, bounds, method, ftol, xtol, gtol, x_scale, loss, f_scale, diff_step, tr_solver, tr_options, jac_sparsity, max_nfev, verbose, args, kwargs)\u001b[0m\n\u001b[1;32m    876\u001b[0m         result = trf(fun_wrapped, jac_wrapped, x0, f0, J0, lb, ub, ftol, xtol,\n\u001b[1;32m    877\u001b[0m                      \u001b[0mgtol\u001b[0m\u001b[0;34m,\u001b[0m \u001b[0mmax_nfev\u001b[0m\u001b[0;34m,\u001b[0m \u001b[0mx_scale\u001b[0m\u001b[0;34m,\u001b[0m \u001b[0mloss_function\u001b[0m\u001b[0;34m,\u001b[0m \u001b[0mtr_solver\u001b[0m\u001b[0;34m,\u001b[0m\u001b[0;34m\u001b[0m\u001b[0m\n\u001b[0;32m--> 878\u001b[0;31m                      tr_options.copy(), verbose)\n\u001b[0m\u001b[1;32m    879\u001b[0m \u001b[0;34m\u001b[0m\u001b[0m\n\u001b[1;32m    880\u001b[0m     \u001b[0;32melif\u001b[0m \u001b[0mmethod\u001b[0m \u001b[0;34m==\u001b[0m \u001b[0;34m'dogbox'\u001b[0m\u001b[0;34m:\u001b[0m\u001b[0;34m\u001b[0m\u001b[0m\n",
      "\u001b[0;32m/Users/hrnmy/anaconda3/lib/python3.4/site-packages/scipy/optimize/_lsq/trf.py\u001b[0m in \u001b[0;36mtrf\u001b[0;34m(fun, jac, x0, f0, J0, lb, ub, ftol, xtol, gtol, max_nfev, x_scale, loss_function, tr_solver, tr_options, verbose)\u001b[0m\n\u001b[1;32m    120\u001b[0m         return trf_no_bounds(\n\u001b[1;32m    121\u001b[0m             \u001b[0mfun\u001b[0m\u001b[0;34m,\u001b[0m \u001b[0mjac\u001b[0m\u001b[0;34m,\u001b[0m \u001b[0mx0\u001b[0m\u001b[0;34m,\u001b[0m \u001b[0mf0\u001b[0m\u001b[0;34m,\u001b[0m \u001b[0mJ0\u001b[0m\u001b[0;34m,\u001b[0m \u001b[0mftol\u001b[0m\u001b[0;34m,\u001b[0m \u001b[0mxtol\u001b[0m\u001b[0;34m,\u001b[0m \u001b[0mgtol\u001b[0m\u001b[0;34m,\u001b[0m \u001b[0mmax_nfev\u001b[0m\u001b[0;34m,\u001b[0m \u001b[0mx_scale\u001b[0m\u001b[0;34m,\u001b[0m\u001b[0;34m\u001b[0m\u001b[0m\n\u001b[0;32m--> 122\u001b[0;31m             loss_function, tr_solver, tr_options, verbose)\n\u001b[0m\u001b[1;32m    123\u001b[0m     \u001b[0;32melse\u001b[0m\u001b[0;34m:\u001b[0m\u001b[0;34m\u001b[0m\u001b[0m\n\u001b[1;32m    124\u001b[0m         return trf_bounds(\n",
      "\u001b[0;32m/Users/hrnmy/anaconda3/lib/python3.4/site-packages/scipy/optimize/_lsq/trf.py\u001b[0m in \u001b[0;36mtrf_no_bounds\u001b[0;34m(fun, jac, x0, f0, J0, ftol, xtol, gtol, max_nfev, x_scale, loss_function, tr_solver, tr_options, verbose)\u001b[0m\n\u001b[1;32m    455\u001b[0m \u001b[0;34m\u001b[0m\u001b[0m\n\u001b[1;32m    456\u001b[0m     \u001b[0;32mwhile\u001b[0m \u001b[0;32mTrue\u001b[0m\u001b[0;34m:\u001b[0m\u001b[0;34m\u001b[0m\u001b[0m\n\u001b[0;32m--> 457\u001b[0;31m         \u001b[0mg_norm\u001b[0m \u001b[0;34m=\u001b[0m \u001b[0mnorm\u001b[0m\u001b[0;34m(\u001b[0m\u001b[0mg\u001b[0m\u001b[0;34m,\u001b[0m \u001b[0mord\u001b[0m\u001b[0;34m=\u001b[0m\u001b[0mnp\u001b[0m\u001b[0;34m.\u001b[0m\u001b[0minf\u001b[0m\u001b[0;34m)\u001b[0m\u001b[0;34m\u001b[0m\u001b[0m\n\u001b[0m\u001b[1;32m    458\u001b[0m         \u001b[0;32mif\u001b[0m \u001b[0mg_norm\u001b[0m \u001b[0;34m<\u001b[0m \u001b[0mgtol\u001b[0m\u001b[0;34m:\u001b[0m\u001b[0;34m\u001b[0m\u001b[0m\n\u001b[1;32m    459\u001b[0m             \u001b[0mtermination_status\u001b[0m \u001b[0;34m=\u001b[0m \u001b[0;36m1\u001b[0m\u001b[0;34m\u001b[0m\u001b[0m\n",
      "\u001b[0;32m/Users/hrnmy/anaconda3/lib/python3.4/site-packages/numpy/linalg/linalg.py\u001b[0m in \u001b[0;36mnorm\u001b[0;34m(x, ord, axis, keepdims)\u001b[0m\n\u001b[1;32m   2143\u001b[0m     \u001b[0;32mif\u001b[0m \u001b[0mlen\u001b[0m\u001b[0;34m(\u001b[0m\u001b[0maxis\u001b[0m\u001b[0;34m)\u001b[0m \u001b[0;34m==\u001b[0m \u001b[0;36m1\u001b[0m\u001b[0;34m:\u001b[0m\u001b[0;34m\u001b[0m\u001b[0m\n\u001b[1;32m   2144\u001b[0m         \u001b[0;32mif\u001b[0m \u001b[0mord\u001b[0m \u001b[0;34m==\u001b[0m \u001b[0mInf\u001b[0m\u001b[0;34m:\u001b[0m\u001b[0;34m\u001b[0m\u001b[0m\n\u001b[0;32m-> 2145\u001b[0;31m             \u001b[0;32mreturn\u001b[0m \u001b[0mabs\u001b[0m\u001b[0;34m(\u001b[0m\u001b[0mx\u001b[0m\u001b[0;34m)\u001b[0m\u001b[0;34m.\u001b[0m\u001b[0mmax\u001b[0m\u001b[0;34m(\u001b[0m\u001b[0maxis\u001b[0m\u001b[0;34m=\u001b[0m\u001b[0maxis\u001b[0m\u001b[0;34m,\u001b[0m \u001b[0mkeepdims\u001b[0m\u001b[0;34m=\u001b[0m\u001b[0mkeepdims\u001b[0m\u001b[0;34m)\u001b[0m\u001b[0;34m\u001b[0m\u001b[0m\n\u001b[0m\u001b[1;32m   2146\u001b[0m         \u001b[0;32melif\u001b[0m \u001b[0mord\u001b[0m \u001b[0;34m==\u001b[0m \u001b[0;34m-\u001b[0m\u001b[0mInf\u001b[0m\u001b[0;34m:\u001b[0m\u001b[0;34m\u001b[0m\u001b[0m\n\u001b[1;32m   2147\u001b[0m             \u001b[0;32mreturn\u001b[0m \u001b[0mabs\u001b[0m\u001b[0;34m(\u001b[0m\u001b[0mx\u001b[0m\u001b[0;34m)\u001b[0m\u001b[0;34m.\u001b[0m\u001b[0mmin\u001b[0m\u001b[0;34m(\u001b[0m\u001b[0maxis\u001b[0m\u001b[0;34m=\u001b[0m\u001b[0maxis\u001b[0m\u001b[0;34m,\u001b[0m \u001b[0mkeepdims\u001b[0m\u001b[0;34m=\u001b[0m\u001b[0mkeepdims\u001b[0m\u001b[0;34m)\u001b[0m\u001b[0;34m\u001b[0m\u001b[0m\n",
      "\u001b[0;32m/Users/hrnmy/anaconda3/lib/python3.4/site-packages/numpy/core/_methods.py\u001b[0m in \u001b[0;36m_amax\u001b[0;34m(a, axis, out, keepdims)\u001b[0m\n\u001b[1;32m     24\u001b[0m \u001b[0;31m# small reductions\u001b[0m\u001b[0;34m\u001b[0m\u001b[0;34m\u001b[0m\u001b[0m\n\u001b[1;32m     25\u001b[0m \u001b[0;32mdef\u001b[0m \u001b[0m_amax\u001b[0m\u001b[0;34m(\u001b[0m\u001b[0ma\u001b[0m\u001b[0;34m,\u001b[0m \u001b[0maxis\u001b[0m\u001b[0;34m=\u001b[0m\u001b[0;32mNone\u001b[0m\u001b[0;34m,\u001b[0m \u001b[0mout\u001b[0m\u001b[0;34m=\u001b[0m\u001b[0;32mNone\u001b[0m\u001b[0;34m,\u001b[0m \u001b[0mkeepdims\u001b[0m\u001b[0;34m=\u001b[0m\u001b[0;32mFalse\u001b[0m\u001b[0;34m)\u001b[0m\u001b[0;34m:\u001b[0m\u001b[0;34m\u001b[0m\u001b[0m\n\u001b[0;32m---> 26\u001b[0;31m     \u001b[0;32mreturn\u001b[0m \u001b[0mumr_maximum\u001b[0m\u001b[0;34m(\u001b[0m\u001b[0ma\u001b[0m\u001b[0;34m,\u001b[0m \u001b[0maxis\u001b[0m\u001b[0;34m,\u001b[0m \u001b[0;32mNone\u001b[0m\u001b[0;34m,\u001b[0m \u001b[0mout\u001b[0m\u001b[0;34m,\u001b[0m \u001b[0mkeepdims\u001b[0m\u001b[0;34m)\u001b[0m\u001b[0;34m\u001b[0m\u001b[0m\n\u001b[0m\u001b[1;32m     27\u001b[0m \u001b[0;34m\u001b[0m\u001b[0m\n\u001b[1;32m     28\u001b[0m \u001b[0;32mdef\u001b[0m \u001b[0m_amin\u001b[0m\u001b[0;34m(\u001b[0m\u001b[0ma\u001b[0m\u001b[0;34m,\u001b[0m \u001b[0maxis\u001b[0m\u001b[0;34m=\u001b[0m\u001b[0;32mNone\u001b[0m\u001b[0;34m,\u001b[0m \u001b[0mout\u001b[0m\u001b[0;34m=\u001b[0m\u001b[0;32mNone\u001b[0m\u001b[0;34m,\u001b[0m \u001b[0mkeepdims\u001b[0m\u001b[0;34m=\u001b[0m\u001b[0;32mFalse\u001b[0m\u001b[0;34m)\u001b[0m\u001b[0;34m:\u001b[0m\u001b[0;34m\u001b[0m\u001b[0m\n",
      "\u001b[0;31mValueError\u001b[0m: zero-size array to reduction operation maximum which has no identity"
     ]
    }
   ],
   "source": [
    "exp_w = []\n",
    "f = pytc.GlobalFit()\n",
    "gui = Interface(f)\n",
    "\n",
    "def rm_last(b):\n",
    "\n",
    "    if exp_w:\n",
    "        last_exp = exp_w[-1]\n",
    "        last_exp[1].close()\n",
    "        try:\n",
    "            gui.remove_experiment(last_exp[0].exp_id)\n",
    "        except:\n",
    "            pass\n",
    "\n",
    "        exp_w.remove(last_exp)\n",
    "\n",
    "def gen_exp(b):\n",
    "    \n",
    "    gui.reset_sliders()\n",
    "    clear_output()\n",
    "    \n",
    "    for i in exp_w:\n",
    "        try:\n",
    "            exp = i[0]\n",
    "            \n",
    "            if not exp.exp_id:\n",
    "            \n",
    "                exp.create_exp()\n",
    "                exp_add = exp.exp_id\n",
    "\n",
    "                gui.add_experiment(exp_add)\n",
    "                #exp_add.initialize_param()\n",
    "\n",
    "                param = i[0].parameters\n",
    "                name = param[\"name\"]\n",
    "                \n",
    "            else:\n",
    "                pass\n",
    "        except:\n",
    "            print(\"no data added.\")\n",
    "\n",
    "\n",
    "        #f.link_to_global(exp, \"dilution_heat\", \"global_heat\")\n",
    "        #f.link_to_global(exp, \"dilution_intercept\", \"global_intercept\")\n",
    "\n",
    "    gui.build_interface()\n",
    "\n",
    "def clear_exp(b):\n",
    "\n",
    "    for i in exp_w:\n",
    "        try:\n",
    "            i[1].close()\n",
    "            gui.remove_experiment(i[0].exp_id)\n",
    "        except:\n",
    "            pass\n",
    "        \n",
    "        exp_w.remove(i)\n",
    "        \n",
    "    gui.reset_sliders()\n",
    "    clear_output()\n",
    "\n",
    "    \n",
    "def gen_exp_list(exp_list):\n",
    "    \n",
    "    for i in range(len(exp_w)):\n",
    "        exp = exp_w[i][0]\n",
    "        exp_list['exp {}'.format(i)] = exp.exp_id\n",
    "        \n",
    "    return exp_list\n",
    "\n",
    "\n",
    "def add_field(b):\n",
    "    \n",
    "    clear_output()\n",
    "    gui.reset_sliders()\n",
    "    exp_object = Experiments(gui, exp_w, f)\n",
    "    show = exp_object.gen_exp()\n",
    "\n",
    "    exp_w.append([exp_object, show])\n",
    "\n",
    "    display(show)\n",
    "        \n",
    "        \n",
    "ENTRY_W = '200px'\n",
    "\n",
    "add_exp_field_b = widgets.Button(description = \"Add an Experiment\")\n",
    "add_exp_field_b.layout.width = ENTRY_W\n",
    "add_exp_field_b.on_click(add_field)\n",
    "\n",
    "rmv_last_field = widgets.Button(description = \"Remove Last Experiment\")\n",
    "rmv_last_field.layout.width = ENTRY_W\n",
    "rmv_last_field.on_click(rm_last)\n",
    "\n",
    "exp_object = Experiments(gui, exp_w, f)\n",
    "show = exp_object.gen_exp()\n",
    "\n",
    "exp_w.append([exp_object, show])\n",
    "\n",
    "analyze_widget = widgets.Button(description = \"Analyze\")\n",
    "analyze_widget.on_click(gen_exp)\n",
    "\n",
    "clear_widget = widgets.Button(description = \"Clear\", value = False)\n",
    "clear_widget.on_click(clear_exp)\n",
    "\n",
    "experiments_layout = widgets.Layout(display = \"flex\", \n",
    "                      flex_flow = \"row\", \n",
    "                      align_items = \"stretch\")\n",
    "\n",
    "experiments = widgets.Box(children = [add_exp_field_b, rmv_last_field], \n",
    "                                      layout = experiments_layout)\n",
    "parent = widgets.Box(children = [analyze_widget, clear_widget, experiments, show])\n",
    "\n",
    "display(parent)"
   ]
  },
  {
   "cell_type": "markdown",
   "metadata": {},
   "source": [
    "test-data/real-blank-match.DH\n",
    "\n",
    "test-data/blank.DH\n",
    "\n",
    "test-data/CaEDTATris01.DH"
   ]
  },
  {
   "cell_type": "code",
   "execution_count": 61,
   "metadata": {
    "collapsed": false
   },
   "outputs": [
    {
     "data": {
      "text/plain": [
       "[[<__main__.Experiments at 0x113866c88>,\n",
       "  <ipywidgets.widgets.widget_box.Box at 0x1138668d0>]]"
      ]
     },
     "execution_count": 61,
     "metadata": {},
     "output_type": "execute_result"
    }
   ],
   "source": [
    "exp_w"
   ]
  },
  {
   "cell_type": "code",
   "execution_count": 62,
   "metadata": {
    "collapsed": false
   },
   "outputs": [],
   "source": [
    "for i in exp_w:\n",
    "    f.add_experiment(i[0].exp_id)"
   ]
  },
  {
   "cell_type": "code",
   "execution_count": 63,
   "metadata": {
    "collapsed": true
   },
   "outputs": [],
   "source": [
    "for i in f.experiments:\n",
    "    i.initialize_param()"
   ]
  },
  {
   "cell_type": "code",
   "execution_count": 30,
   "metadata": {
    "collapsed": false
   },
   "outputs": [],
   "source": [
    "itc_test = exp_test[0].exp_id"
   ]
  },
  {
   "cell_type": "code",
   "execution_count": 31,
   "metadata": {
    "collapsed": true
   },
   "outputs": [],
   "source": [
    "itc_test.initialize_param()"
   ]
  },
  {
   "cell_type": "code",
   "execution_count": 64,
   "metadata": {
    "collapsed": false
   },
   "outputs": [
    {
     "name": "stderr",
     "output_type": "stream",
     "text": [
      "/Users/hrnmy/Documents/Harms/pytc/pytc/experiments.py:88: FutureWarning:\n",
      "\n",
      "comparison to `None` will result in an elementwise object comparison in the future.\n",
      "\n"
     ]
    },
    {
     "data": {
      "text/plain": [
       "array([ -5.17085384e+01,  -5.17183508e+01,  -5.17279058e+01,\n",
       "        -5.17371754e+01,  -5.17461255e+01,  -5.17547144e+01,\n",
       "        -5.17628904e+01,  -5.17705890e+01,  -5.17777292e+01,\n",
       "        -5.17842081e+01,  -5.17898931e+01,  -5.17946116e+01,\n",
       "        -5.17981354e+01,  -5.18001580e+01,  -5.18002598e+01,\n",
       "        -5.17978550e+01,  -5.17921047e+01,  -5.17817751e+01,\n",
       "        -5.17649915e+01,  -5.17387932e+01,  -5.16982853e+01,\n",
       "        -5.16349033e+01,  -5.15325652e+01,  -5.13581942e+01,\n",
       "        -5.10350036e+01,  -5.03523215e+01,  -4.85800541e+01,\n",
       "        -4.24910189e+01,  -2.41909809e+01,  -6.99970684e+00,\n",
       "        -1.71629072e+00,  -2.72425307e-01,   1.90862495e-01,\n",
       "         3.25318200e-01,   3.22631274e-01,   2.53625035e-01,\n",
       "         1.49088086e-01,   2.40828465e-02,  -1.13336618e-01,\n",
       "        -2.58555539e-01,  -4.08779950e-01,  -5.62240662e-01,\n",
       "        -7.17775061e-01,  -8.74595051e-01,  -1.03215221e+00,\n",
       "        -1.19005634e+00,  -1.34802445e+00,  -1.50584803e+00,\n",
       "        -1.66337130e+00,  -1.82047656e+00,  -1.97707407e+00,\n",
       "        -2.13309487e+00,  -2.28848573e+00,  -2.44320541e+00,\n",
       "        -2.59722193e+00])"
      ]
     },
     "execution_count": 64,
     "metadata": {},
     "output_type": "execute_result"
    }
   ],
   "source": [
    "itc_test.dQ"
   ]
  },
  {
   "cell_type": "code",
   "execution_count": 33,
   "metadata": {
    "collapsed": true
   },
   "outputs": [],
   "source": [
    "f.add_experiment(exp_test[0].exp_id)"
   ]
  },
  {
   "cell_type": "code",
   "execution_count": 65,
   "metadata": {
    "collapsed": false
   },
   "outputs": [
    {
     "data": {
      "text/plain": [
       "[<pytc.experiments.ITCExperiment at 0x1138bd2b0>]"
      ]
     },
     "execution_count": 65,
     "metadata": {},
     "output_type": "execute_result"
    }
   ],
   "source": [
    "f.experiments"
   ]
  },
  {
   "cell_type": "code",
   "execution_count": 70,
   "metadata": {
    "collapsed": false
   },
   "outputs": [
    {
     "name": "stderr",
     "output_type": "stream",
     "text": [
      "/Users/hrnmy/Documents/Harms/pytc/pytc/experiments.py:88: FutureWarning:\n",
      "\n",
      "comparison to `None` will result in an elementwise object comparison in the future.\n",
      "\n"
     ]
    }
   ],
   "source": [
    "f.fit()"
   ]
  },
  {
   "cell_type": "code",
   "execution_count": 66,
   "metadata": {
    "collapsed": false
   },
   "outputs": [
    {
     "data": {
      "text/plain": [
       "([], [['K', 'dH', 'dilution_heat', 'dilution_intercept', 'fx_competent']])"
      ]
     },
     "execution_count": 66,
     "metadata": {},
     "output_type": "execute_result"
    }
   ],
   "source": [
    "f.param_names"
   ]
  },
  {
   "cell_type": "code",
   "execution_count": 71,
   "metadata": {
    "collapsed": false
   },
   "outputs": [],
   "source": [
    "param, error = gui.get_param()"
   ]
  },
  {
   "cell_type": "code",
   "execution_count": 72,
   "metadata": {
    "collapsed": false
   },
   "outputs": [
    {
     "data": {
      "text/plain": [
       "({},\n",
       " [{'K': 31486172.062360886,\n",
       "   'dH': -11877.692905244445,\n",
       "   'dilution_heat': -62629.323450873118,\n",
       "   'dilution_intercept': 7.6741471049338035,\n",
       "   'fx_competent': 1.016503477506042}])"
      ]
     },
     "execution_count": 72,
     "metadata": {},
     "output_type": "execute_result"
    }
   ],
   "source": [
    "param"
   ]
  },
  {
   "cell_type": "code",
   "execution_count": 73,
   "metadata": {
    "collapsed": false
   },
   "outputs": [
    {
     "data": {
      "text/plain": [
       "({},\n",
       " [{'K': 4.3628696056252915e-05,\n",
       "   'dH': 0.12343908070247894,\n",
       "   'dilution_heat': 0.0058706607278184208,\n",
       "   'dilution_intercept': 1.7528001159510771,\n",
       "   'fx_competent': 0.3358167759549972}])"
      ]
     },
     "execution_count": 73,
     "metadata": {},
     "output_type": "execute_result"
    }
   ],
   "source": [
    "error"
   ]
  },
  {
   "cell_type": "code",
   "execution_count": null,
   "metadata": {
    "collapsed": true
   },
   "outputs": [],
   "source": []
  }
 ],
 "metadata": {
  "celltoolbar": "Raw Cell Format",
  "kernelspec": {
   "display_name": "Python 3",
   "language": "python",
   "name": "python3"
  },
  "language_info": {
   "codemirror_mode": {
    "name": "ipython",
    "version": 3
   },
   "file_extension": ".py",
   "mimetype": "text/x-python",
   "name": "python",
   "nbconvert_exporter": "python",
   "pygments_lexer": "ipython3",
   "version": "3.4.5"
  },
  "widgets": {
   "state": {
    "4ea953a26cf34e24963132f09e15a21c": {
     "views": [
      {
       "cell_index": 2
      }
     ]
    },
    "8158468302e146a1a13099e1cf50f987": {
     "views": [
      {
       "cell_index": 2
      }
     ]
    },
    "891c33aaf5914f19a0e50a3f08765efb": {
     "views": [
      {
       "cell_index": 2
      }
     ]
    },
    "981cce2f8a64480a99b52e95b3a68737": {
     "views": [
      {
       "cell_index": 2
      }
     ]
    },
    "b3a739c4b20c45968a3ca2c17c05859b": {
     "views": [
      {
       "cell_index": 2
      }
     ]
    },
    "d7bf4cf50ab74142bdf2f854cfab9c87": {
     "views": [
      {
       "cell_index": 2
      }
     ]
    }
   },
   "version": "1.2.0"
  }
 },
 "nbformat": 4,
 "nbformat_minor": 0
}

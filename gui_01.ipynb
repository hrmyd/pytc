{
 "cells": [
  {
   "cell_type": "code",
   "execution_count": 2,
   "metadata": {
    "collapsed": false
   },
   "outputs": [],
   "source": [
    "import pytc\n",
    "import plotly.plotly as py\n",
    "import ipywidgets as widgets\n",
    "\n",
    "from IPython.display import display, clear_output\n",
    "from IPython.html.widgets import interactive\n",
    "from plotly.widgets import GraphWidget\n",
    "import seaborn as sns\n",
    "\n",
    "%matplotlib inline"
   ]
  },
  {
   "cell_type": "code",
   "execution_count": 99,
   "metadata": {
    "collapsed": true
   },
   "outputs": [],
   "source": [
    "class ParamCollect():\n",
    "    def __init__(self, gui, container, fitter):\n",
    "        \n",
    "        self._gui = gui\n",
    "        self._exp_id = ''\n",
    "        self._exp_val = ''\n",
    "        self._widgets = []\n",
    "        self._fitter = fitter\n",
    "        self._container = container\n",
    "        self._parameters = {}\n",
    "        self._models = {\"blank\" : pytc.models.Blank,\n",
    "          \"single site\" : pytc.models.SingleSite,  \n",
    "          \"single site competitor\" : pytc.models.SingleSiteCompetitor, \n",
    "          \"binding polynomial\" : pytc.models.BindingPolynomial}\n",
    "        self._current_model = ''\n",
    "        \n",
    "    def remove_exp(self, b):\n",
    "        \"\"\"\n",
    "        remove experiment from analysis and close widgets\n",
    "        \"\"\"\n",
    "        try:\n",
    "            self._gui.remove_experiment(self._exp_id)\n",
    "        except:\n",
    "            clear_output()\n",
    "            print(\"no experiment linked\")\n",
    "        \n",
    "        self._widgets[3].close()\n",
    "        \n",
    "        for i in self._container:\n",
    "            if self._exp_id == i[0]._exp_id:\n",
    "                self._container.remove(i)\n",
    "    \n",
    "    def parameters(self):\n",
    "        \"\"\"\n",
    "        get parameters for experiment\n",
    "        \"\"\"\n",
    "        pass\n",
    "        \n",
    "    def create_exp(self):\n",
    "        \"\"\"\n",
    "        create a new pytc experiment\n",
    "        \"\"\"\n",
    "        self._exp_val = self._widgets[0].value\n",
    "        if self._exp_val:\n",
    "            self._current_model = self._widgets[1].value\n",
    "            self._exp_id = pytc.ITCExperiment(self._exp_val, self._current_model)\n",
    "            self.parameters()\n",
    "        else:\n",
    "            clear_output()\n",
    "            print(\"no exp data given\")\n",
    "            \n",
    "    def update_exp(self):\n",
    "        \"\"\"\n",
    "        update experiment if changed\n",
    "        \"\"\"\n",
    "        \n",
    "        if self._current_model != self._widgets[1].value:\n",
    "            self.create_exp()\n",
    "        else:\n",
    "            print(\"nothing to update\")\n",
    "        \n",
    "            \n",
    "    def exp_id(self):\n",
    "        \"\"\"\n",
    "        return experiment id\n",
    "        \"\"\"\n",
    "        \n",
    "        return self._exp_id\n",
    "    \n",
    "    \n",
    "    def gen_sliders(self):\n",
    "        \"\"\"\n",
    "        generate sliders for each experiment, give option to link to global.\n",
    "        \"\"\"\n",
    "        \n",
    "        pass\n",
    "    \n",
    "    def gen_exp(self):\n",
    "        \"\"\"\n",
    "        generate widgets for experiment.\n",
    "        \"\"\"\n",
    "        pass\n",
    "    \n",
    "class Experiments(ParamCollect):\n",
    "    \"\"\"\n",
    "    create experiment object and generate widgets\n",
    "    \"\"\"\n",
    "    def __init__(self, gui, container, fitter):\n",
    "        super().__init__(gui, container, fitter)\n",
    "    \n",
    "    def parameters(self):\n",
    "        \"\"\"\n",
    "        generate local parameters for experiment.\n",
    "        \"\"\"\n",
    "        \n",
    "        global_param, local_param = self._fitter.param_names\n",
    "        global_guesses, local_guesses = self._fitter.param_guesses\n",
    "        global_ranges, local_ranges = self._fitter.param_ranges\n",
    "        global_fixed, local_fixed = self._fitter.fixed_param \n",
    "        \n",
    "        self._parameters = {\"name\": local_param, \n",
    "                            \"value\": local_guesses, \n",
    "                            \"ranges\": local_ranges, \n",
    "                            \"fixed\": local_fixed}\n",
    "        \n",
    "        return self._parameters\n",
    "    \n",
    "    def gen_sliders(self):\n",
    "        \"\"\"\n",
    "        generate sliders for each experiment, give option to link to global.\n",
    "        \"\"\"\n",
    "        \n",
    "        pass\n",
    "    \n",
    "    def gen_exp(self):\n",
    "        \"\"\"\n",
    "        generate widgets for experiment.\n",
    "        \"\"\"\n",
    "        exp_field = widgets.Text(description = \"exp: \")\n",
    "        model_drop = widgets.Dropdown(options = self._models, value = self._models[\"blank\"])\n",
    "\n",
    "        rm_exp = widgets.Button(description = \"remove experiment\")\n",
    "        rm_exp.on_click(self.remove_exp)\n",
    "\n",
    "        exp_box = widgets.HBox(children = [exp_field, model_drop, rm_exp])\n",
    "        self._widgets.extend([exp_field, model_drop, rm_exp, exp_box])\n",
    "        \n",
    "        return exp_box\n",
    "\n",
    "\n",
    "class Interface:\n",
    "    \n",
    "    def __init__(self,fitter):\n",
    "        \"\"\"\n",
    "        \"\"\"\n",
    "        \n",
    "        self._global_sliders = {}\n",
    "        self._local_sliders = []\n",
    "        self._fitter = fitter\n",
    "        self._experiments = []\n",
    "        self._param_button = widgets.Button(description = 'Return Paramaters')\n",
    "        \n",
    "    def view_exp(self):\n",
    "        \n",
    "        return self._experiments\n",
    "    \n",
    "    def add_experiment(self,expt):\n",
    "        \n",
    "        self._fitter.add_experiment(expt)\n",
    "        self._experiments.append(expt)\n",
    "        \n",
    "    def remove_experiment(self, expt):\n",
    "        \n",
    "        self._fitter.remove_experiment(expt)\n",
    "        self._experiments.remove(expt)\n",
    "            \n",
    "    def reset_sliders(self):\n",
    "        \n",
    "        for i in self._local_sliders:\n",
    "            for slider in i:\n",
    "                i[slider].close()\n",
    "            i.clear()\n",
    "        self._param_button.close()\n",
    "    \n",
    "    def build_interface(self):\n",
    "        \"\"\"\n",
    "        \"\"\"\n",
    "\n",
    "        global_param, local_param = self._fitter.param_names\n",
    "        global_guesses, local_guesses = self._fitter.param_guesses\n",
    "        global_ranges, local_ranges = self._fitter.param_ranges\n",
    "        global_fixed, local_fixed = self._fitter.fixed_param \n",
    "        \n",
    "        all_widgets = {}\n",
    "        \n",
    "        for p in global_param:\n",
    "        \n",
    "            g_min = global_ranges[p][0]\n",
    "            g_max = global_ranges[p][1]\n",
    "            g_val = global_guesses[p]\n",
    "            \n",
    "            self._global_sliders[p] = widgets.FloatSlider(min=g_min,max=g_max,value=g_val)\n",
    "            \n",
    "            all_widgets[\"{}\".format(p)] = self._global_sliders[p]\n",
    "    \n",
    "        for i in range(len(self._experiments)):            \n",
    "            \n",
    "            self._local_sliders.append({})\n",
    "        \n",
    "            for p in local_param[i]:\n",
    "            \n",
    "                g_min = local_ranges[i][p][0]\n",
    "                g_max = local_ranges[i][p][1]\n",
    "                g_val = local_guesses[i][p]\n",
    "                \n",
    "                self._local_sliders[-1][p] = widgets.FloatSlider(min=g_min,max=g_max,value=g_val)\n",
    "        \n",
    "                all_widgets[\"{},{}\".format(p,i)] = self._local_sliders[-1][p]\n",
    "\n",
    "        w = widgets.interactive(self._update,**all_widgets)\n",
    "        \n",
    "        #self._param_button = widgets.Button(description = 'Return Paramaters')\n",
    "        self._param_button.on_click(self.get_param)\n",
    "                        \n",
    "        display(w, self._param_button)\n",
    "\n",
    "    def _update(self,**kwargs):\n",
    "        \"\"\"\n",
    "        \"\"\"\n",
    "        \n",
    "        for k in kwargs.keys():\n",
    "            if len(k.split(\",\")) == 1:\n",
    "                self._fitter.update_guess(k,kwargs[k])\n",
    "            else:\n",
    "                \n",
    "                param_name = k.split(\",\")[0]\n",
    "                expt = self._experiments[int(k.split(\",\")[1])]\n",
    "                self._fitter.update_guess(param_name,kwargs[k],expt)\n",
    "       \n",
    "        self._fitter.fit()\n",
    "        self._fitter.plot()\n",
    "        #self.get_param()\n",
    "        \n",
    "    def get_param(self, b):\n",
    "        \n",
    "        #clear_output()\n",
    "        display(self._fitter.fit_param[1])\n",
    "        \n",
    "        #fit error"
   ]
  },
  {
   "cell_type": "code",
   "execution_count": 100,
   "metadata": {
    "collapsed": false,
    "scrolled": true
   },
   "outputs": [
    {
     "data": {
      "text/plain": [
       "<ipywidgets.widgets.widget_button.Button at 0x113bdc898>"
      ]
     },
     "metadata": {},
     "output_type": "display_data"
    },
    {
     "data": {
      "image/png": "[encoded data removed]",
      "text/plain": [
       "<matplotlib.figure.Figure at 0x110fb9b70>"
      ]
     },
     "metadata": {},
     "output_type": "display_data"
    }
   ],
   "source": [
    "exp_w = []\n",
    "f = pytc.GlobalFit()\n",
    "gui = Interface(f)\n",
    "\n",
    "def rm_last(b):\n",
    "\n",
    "    if exp_w:\n",
    "        last_exp = exp_w[-1]\n",
    "        last_exp[1].close()\n",
    "        try:\n",
    "            gui.remove_experiment(last_exp[0].exp_id())\n",
    "        except:\n",
    "            pass\n",
    "\n",
    "        exp_w.remove(last_exp)\n",
    "\n",
    "def gen_exp(b):\n",
    "    \n",
    "    gui.reset_sliders()\n",
    "    clear_output()\n",
    "    \n",
    "    for i in exp_w:\n",
    "        try:\n",
    "            exp = i[0]\n",
    "            \n",
    "            if not exp.exp_id():\n",
    "            \n",
    "                exp.create_exp()\n",
    "\n",
    "                gui.add_experiment(exp.exp_id())\n",
    "\n",
    "                param = i[0].parameters()\n",
    "                name = param[\"name\"]\n",
    "                \n",
    "            else:\n",
    "                #exp.update_exp()\n",
    "                pass\n",
    "        except:\n",
    "            print(\"no data added.\")\n",
    "\n",
    "\n",
    "        #f.link_to_global(exp, \"dilution_heat\", \"global_heat\")\n",
    "        #f.link_to_global(exp, \"dilution_intercept\", \"global_intercept\")\n",
    "\n",
    "    gui.build_interface()\n",
    "    #gui.get_param()\n",
    "\n",
    "def clear_exp(b):\n",
    "\n",
    "    for i in exp_w:\n",
    "        try:\n",
    "            i[1].close()\n",
    "            gui.remove_experiment(i[0].exp_id())\n",
    "        except:\n",
    "            pass\n",
    "        \n",
    "        exp_w.remove(i)\n",
    "        \n",
    "    gui.reset_sliders()\n",
    "    clear_output()\n",
    "\n",
    "    \n",
    "def gen_exp_list(exp_list):\n",
    "    \n",
    "    for i in range(len(exp_w)):\n",
    "        exp = exp_w[i][0]\n",
    "        exp_list['exp {}'.format(i)] = exp.exp_id\n",
    "        \n",
    "    return exp_list\n",
    "\n",
    "def print_param(b):\n",
    "    \n",
    "    param = gui.get_param()\n",
    "    \n",
    "    display(param[1])\n",
    "\n",
    "def add_field(b):\n",
    "    \n",
    "    clear_output()\n",
    "    gui.reset_sliders()\n",
    "    exp_object = Experiments(gui, exp_w, f)\n",
    "    show = exp_object.gen_exp()\n",
    "\n",
    "    exp_w.append([exp_object, show])\n",
    "\n",
    "    display(show)\n",
    "        \n",
    "    # true false??? each time add_field clicked set true, each time analyze clicked set false.\n",
    "        \n",
    "ENTRY_W = '200px'\n",
    "\n",
    "add_exp_field_b = widgets.Button(description = \"Add an Experiment\")\n",
    "add_exp_field_b.layout.width = ENTRY_W\n",
    "add_exp_field_b.on_click(add_field)\n",
    "\n",
    "rmv_last_field = widgets.Button(description = \"Remove Last Experiment\")\n",
    "rmv_last_field.layout.width = ENTRY_W\n",
    "rmv_last_field.on_click(rm_last)\n",
    "\n",
    "exp_object = Experiments(gui, exp_w, f)\n",
    "show = exp_object.gen_exp()\n",
    "\n",
    "exp_w.append([exp_object, show])\n",
    "\n",
    "analyze_widget = widgets.Button(description = \"Analyze\")\n",
    "analyze_widget.on_click(gen_exp)\n",
    "\n",
    "clear_widget = widgets.Button(description = \"Clear\", value = False)\n",
    "clear_widget.on_click(clear_exp)\n",
    "\n",
    "experiments_layout = widgets.Layout(display = \"flex\", \n",
    "                      flex_flow = \"row\", \n",
    "                      align_items = \"stretch\")\n",
    "\n",
    "experiments = widgets.Box(children = [add_exp_field_b, rmv_last_field], \n",
    "                                      layout = experiments_layout)\n",
    "parent = widgets.Box(children = [analyze_widget, clear_widget, experiments, show])\n",
    "\n",
    "display(parent)"
   ]
  },
  {
   "cell_type": "markdown",
   "metadata": {},
   "source": [
    "test-data/real-blank-match.DH\n",
    "\n",
    "test-data/blank.DH"
   ]
  },
  {
   "cell_type": "code",
   "execution_count": 82,
   "metadata": {
    "collapsed": false
   },
   "outputs": [
    {
     "data": {
      "text/plain": [
       "[[<__main__.Experiments at 0x114136048>,\n",
       "  <ipywidgets.widgets.widget_box.Box at 0x114136978>]]"
      ]
     },
     "execution_count": 82,
     "metadata": {},
     "output_type": "execute_result"
    }
   ],
   "source": [
    "exp_w"
   ]
  },
  {
   "cell_type": "code",
   "execution_count": 84,
   "metadata": {
    "collapsed": false
   },
   "outputs": [],
   "source": [
    "exp = exp_w[0][1]"
   ]
  },
  {
   "cell_type": "code",
   "execution_count": 85,
   "metadata": {
    "collapsed": true
   },
   "outputs": [],
   "source": [
    "exp"
   ]
  }
 ],
 "metadata": {
  "kernelspec": {
   "display_name": "Python 3",
   "language": "python",
   "name": "python3"
  },
  "language_info": {
   "codemirror_mode": {
    "name": "ipython",
    "version": 3
   },
   "file_extension": ".py",
   "mimetype": "text/x-python",
   "name": "python",
   "nbconvert_exporter": "python",
   "pygments_lexer": "ipython3",
   "version": "3.4.5"
  },
  "widgets": {
   "state": {
    "023874460a8f4a069d95c039ef89fdb6": {
     "views": [
      {
       "cell_index": 2
      }
     ]
    },
    "02a6c2378dd14deeb1398c46b841cd59": {
     "views": [
      {
       "cell_index": 2
      }
     ]
    },
    "0ad5c7604de84b6c9a4e7585e08e74e4": {
     "views": [
      {
       "cell_index": 2
      }
     ]
    },
    "158c358131c34546b61f3ae815d2605f": {
     "views": [
      {
       "cell_index": 2
      }
     ]
    },
    "17cf3bca1152410ca0a6d55985df57d7": {
     "views": [
      {
       "cell_index": 2
      }
     ]
    },
    "1915b7b0c7b947b8a9edd7b34f66f518": {
     "views": [
      {
       "cell_index": 2
      }
     ]
    },
    "1af1b78c41454d6a9132c9765e9bc05a": {
     "views": [
      {
       "cell_index": 2
      }
     ]
    },
    "2aca75ccf6c147a98c0a825ae63eaebb": {
     "views": [
      {
       "cell_index": 2
      }
     ]
    },
    "2b5b8b11d19047fcb8883d53cbc63db0": {
     "views": [
      {
       "cell_index": 2
      }
     ]
    },
    "2d8050f47706476682dffb92cab78c27": {
     "views": [
      {
       "cell_index": 2
      }
     ]
    },
    "3184794c92de4dd1bc5f8e22379bdc87": {
     "views": [
      {
       "cell_index": 2
      }
     ]
    },
    "398efabf4d1d419da241b8604afda37c": {
     "views": [
      {
       "cell_index": 2
      }
     ]
    },
    "3fb52d6fe13d44fea9f8469ffd1c1e03": {
     "views": [
      {
       "cell_index": 2
      }
     ]
    },
    "425f30b83986417d8c0f0e43cb59e3cb": {
     "views": [
      {
       "cell_index": 2
      }
     ]
    },
    "4f93aaaef0604f1d8b99fd4c3f658c02": {
     "views": [
      {
       "cell_index": 2
      }
     ]
    },
    "5230d7c0f1ec4fccbb4fd475cca2d5c8": {
     "views": [
      {
       "cell_index": 2
      }
     ]
    },
    "5a5c2563fc45433ab93f349953630053": {
     "views": [
      {
       "cell_index": 2
      }
     ]
    },
    "5de1a5b151674275b8e9b69678ccfa2e": {
     "views": [
      {
       "cell_index": 2
      }
     ]
    },
    "625ec451bb7844e796328646798024db": {
     "views": [
      {
       "cell_index": 2
      }
     ]
    },
    "720c618edfbb40dbb245639318e00d70": {
     "views": [
      {
       "cell_index": 2
      }
     ]
    },
    "792e7fcd82214774a009177d25c955ce": {
     "views": [
      {
       "cell_index": 2
      }
     ]
    },
    "882497d664a2428ab773554c98b9a17c": {
     "views": [
      {
       "cell_index": 2
      }
     ]
    },
    "8c7572ba1e5a45c9a36da09eb674adef": {
     "views": [
      {
       "cell_index": 2
      }
     ]
    },
    "8de131f2e95c4ffeab23f136ce3c3515": {
     "views": [
      {
       "cell_index": 2
      }
     ]
    },
    "909aec3fc5fc4b2f89ac9987f476c14d": {
     "views": [
      {
       "cell_index": 2
      }
     ]
    },
    "a1f9f7257536459bab8fe74b322a3e67": {
     "views": [
      {
       "cell_index": 2
      }
     ]
    },
    "a6760231d58446a782bf1bfa361114cd": {
     "views": [
      {
       "cell_index": 6
      }
     ]
    },
    "aa17090dfe884064b38b625576516066": {
     "views": [
      {
       "cell_index": 2
      }
     ]
    },
    "ac955b4750514a0e91eb325d0ae84472": {
     "views": [
      {
       "cell_index": 2
      }
     ]
    },
    "addfdf91c0fa4760b85dbcf70c1ccc59": {
     "views": [
      {
       "cell_index": 2
      }
     ]
    },
    "b1e50100cca845dfb82ef53c0cf7325a": {
     "views": [
      {
       "cell_index": 2
      }
     ]
    },
    "b7787032f512437d99cd313843de9b71": {
     "views": [
      {
       "cell_index": 2
      }
     ]
    },
    "b7a24445ff3c4f96923f617b44b5669e": {
     "views": [
      {
       "cell_index": 2
      }
     ]
    },
    "bdf550699ff34d418ad7c60ae70e79b1": {
     "views": [
      {
       "cell_index": 2
      }
     ]
    },
    "c005f6c46abe45c6a8e9421abeb0147e": {
     "views": [
      {
       "cell_index": 2
      }
     ]
    },
    "c2517ffe1eaf4090b88883adc0d50b64": {
     "views": [
      {
       "cell_index": 2
      }
     ]
    },
    "c2fd7cec7f3b4e939040c0bb292c2a0b": {
     "views": [
      {
       "cell_index": 2
      }
     ]
    },
    "c8089fc2ae9e4c65a3697309cdaf49c5": {
     "views": [
      {
       "cell_index": 2
      }
     ]
    },
    "d055f88bd5224836adce2f7a90f5cb26": {
     "views": [
      {
       "cell_index": 2
      }
     ]
    },
    "d30dcdb0ba7b4c6fb5f892ce32a05b8d": {
     "views": [
      {
       "cell_index": 2
      }
     ]
    },
    "d46d49c490114efebe81ec830aa63cab": {
     "views": [
      {
       "cell_index": 2
      }
     ]
    },
    "e251051a51b646d897bc02125910c651": {
     "views": [
      {
       "cell_index": 2
      }
     ]
    },
    "ec925ca27f7b4565a838a192c6f682ea": {
     "views": [
      {
       "cell_index": 2
      }
     ]
    },
    "f769c0909d0c460a8f7f48ff95035137": {
     "views": [
      {
       "cell_index": 2
      }
     ]
    }
   },
   "version": "1.2.0"
  }
 },
 "nbformat": 4,
 "nbformat_minor": 0
}

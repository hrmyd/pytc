{
 "cells": [
  {
   "cell_type": "code",
   "execution_count": 2,
   "metadata": {
    "collapsed": false
   },
   "outputs": [],
   "source": [
    "import pytc\n",
    "%matplotlib inline\n",
    "\n",
    "# libraries for making pretty sliders\n",
    "from IPython.html import widgets\n",
    "from IPython.html.widgets import interactive\n",
    "from IPython.display import display\n",
    "\n",
    "\n",
    "class Interface:\n",
    "    \n",
    "    def __init__(self,fitter):\n",
    "        \"\"\"\n",
    "        \"\"\"\n",
    "        \n",
    "        self._global_sliders = {}\n",
    "        self._local_sliders = []\n",
    "        self._fitter = fitter\n",
    "        self._experiments = [] \n",
    "    \n",
    "    def add_experiment(self,expt):\n",
    "        \n",
    "        self._fitter.add_experiment(expt)\n",
    "        self._experiments.append(expt)\n",
    "        \n",
    "    \n",
    "    def build_interface(self):\n",
    "        \"\"\"\n",
    "        \"\"\"\n",
    "    \n",
    "        global_param, local_param = self._fitter.param_names\n",
    "        global_guesses, local_guesses = self._fitter.param_guesses\n",
    "        global_ranges, local_ranges = self._fitter.param_ranges\n",
    "        global_fixed, local_fixed = self._fitter.fixed_param \n",
    "        \n",
    "        all_widgets = {}\n",
    "        for p in global_param:\n",
    "        \n",
    "            g_min = global_ranges[p][0]\n",
    "            g_max = global_ranges[p][1]\n",
    "            g_val = global_guesses[p]\n",
    "            \n",
    "            self._global_sliders[p] = widgets.FloatSlider(min=g_min,max=g_max,value=g_val)\n",
    "            \n",
    "            all_widgets[\"{}\".format(p)] = self._global_sliders[p]\n",
    "    \n",
    "        for i in range(len(self._experiments)):            \n",
    "            \n",
    "            self._local_sliders.append({})\n",
    "        \n",
    "            for p in local_param[i]:\n",
    "            \n",
    "                g_min = local_ranges[i][p][0]\n",
    "                g_max = local_ranges[i][p][1]\n",
    "                g_val = local_guesses[i][p]\n",
    "                \n",
    "                self._local_sliders[-1][p] = widgets.FloatSlider(min=g_min,max=g_max,value=g_val)\n",
    "        \n",
    "                all_widgets[\"{},{}\".format(p,i)] = self._local_sliders[-1][p]\n",
    "            \n",
    "        w = widgets.interactive(self._update,**all_widgets)\n",
    "                        \n",
    "        display(w)\n",
    "        \n",
    "        btn = widgets.Button(description=\"Show Fit\")\n",
    "        btn.on_click(self.get_param)\n",
    "        display(btn)\n",
    "\n",
    "    def _update(self,**kwargs):\n",
    "        \"\"\"\n",
    "        \"\"\"\n",
    "        \n",
    "        for k in kwargs.keys():\n",
    "            if len(k.split(\",\")) == 1:\n",
    "                self._fitter.update_guess(k,kwargs[k])\n",
    "            else:\n",
    "                \n",
    "                param_name = k.split(\",\")[0]\n",
    "                expt = self._experiments[int(k.split(\",\")[1])]\n",
    "                self._fitter.update_guess(param_name,kwargs[k],expt)\n",
    "       \n",
    "        self._fitter.fit()\n",
    "        self._fitter.plot()\n",
    "        \n",
    "    def get_param(self):\n",
    "        \n",
    "        \n",
    "        print(self._fitter.fit_param)\n",
    "\n",
    "    \n"
   ]
  },
  {
   "cell_type": "code",
   "execution_count": 3,
   "metadata": {
    "collapsed": false,
    "scrolled": true
   },
   "outputs": [
    {
     "data": {
      "image/png": "[encoded data removed]",
      "text/plain": [
       "<matplotlib.figure.Figure at 0x110a438d0>"
      ]
     },
     "metadata": {},
     "output_type": "display_data"
    }
   ],
   "source": [
    "        \n",
    "f = pytc.GlobalFit()\n",
    "gui = Interface(f)\n",
    "\n",
    "e1 = pytc.ITCExperiment(\"test-data/blank.DH\",pytc.models.Blank)\n",
    "e2 = pytc.ITCExperiment(\"test-data/real-blank-match.DH\",pytc.models.SingleSite)\n",
    "\n",
    "gui.add_experiment(e1)\n",
    "gui.add_experiment(e2)    \n",
    "\n",
    "f.link_to_global(e1,\"dilution_heat\",\"global_heat\")\n",
    "f.link_to_global(e2,\"dilution_heat\",\"global_heat\")\n",
    "\n",
    "f.link_to_global(e1,\"dilution_intercept\",\"global_intercept\")\n",
    "f.link_to_global(e2,\"dilution_intercept\",\"global_intercept\")\n",
    "\n",
    "gui.build_interface()\n",
    "\n",
    "print(f.fit_param)\n"
   ]
  },
  {
   "cell_type": "code",
   "execution_count": null,
   "metadata": {
    "collapsed": true
   },
   "outputs": [],
   "source": []
  }
 ],
 "metadata": {
  "kernelspec": {
   "display_name": "Python 3",
   "language": "python",
   "name": "python3"
  },
  "language_info": {
   "codemirror_mode": {
    "name": "ipython",
    "version": 3
   },
   "file_extension": ".py",
   "mimetype": "text/x-python",
   "name": "python",
   "nbconvert_exporter": "python",
   "pygments_lexer": "ipython3",
   "version": "3.4.5"
  },
  "widgets": {
   "state": {
    "30f0a011724f47d2926bded76b503ae2": {
     "views": [
      {
       "cell_index": 1
      }
     ]
    },
    "c21f41b724b941aa9a8d0d3e90dee906": {
     "views": [
      {
       "cell_index": 1
      }
     ]
    }
   },
   "version": "1.2.0"
  }
 },
 "nbformat": 4,
 "nbformat_minor": 0
}
